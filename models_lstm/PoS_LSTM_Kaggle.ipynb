{
  "cells": [
    {
      "cell_type": "markdown",
      "metadata": {
        "id": "ezzKLPtx8S6C"
      },
      "source": [
        "# **Part-of-Speech Tagging with the Kaggle NER Dataset**"
      ]
    },
    {
      "cell_type": "markdown",
      "metadata": {
        "id": "Q2zgcLmK7_i7"
      },
      "source": [
        "This notebook demonstrates the implementation of a token classification model using an LSTM network for the Part-of-Speech (PoS) tagging task, utilizing the [Kaggle NER Dataset](https://www.kaggle.com/datasets/namanj27/ner-dataset)."
      ]
    },
    {
      "cell_type": "markdown",
      "metadata": {
        "id": "ohI0LZ0I8qQs"
      },
      "source": [
        "### **Imports**"
      ]
    },
    {
      "cell_type": "code",
      "execution_count": 1,
      "metadata": {
        "id": "D1M4u0Ah5kZH"
      },
      "outputs": [],
      "source": [
        "import tensorflow as tf\n",
        "from sklearn.model_selection import train_test_split\n",
        "import numpy as np\n",
        "import pandas as pd\n",
        "import plotly.graph_objects as go\n",
        "from IPython.core.display import HTML\n",
        "from google.colab import drive"
      ]
    },
    {
      "cell_type": "markdown",
      "metadata": {
        "id": "piIYd5Nl-8SX"
      },
      "source": [
        "### **Parameters**"
      ]
    },
    {
      "cell_type": "code",
      "execution_count": 4,
      "metadata": {
        "colab": {
          "base_uri": "https://localhost:8080/"
        },
        "id": "igp7rfLERUpe",
        "outputId": "5c8def29-a23b-4b4d-dba3-b44e8794a266"
      },
      "outputs": [
        {
          "name": "stdout",
          "output_type": "stream",
          "text": [
            "Mounted at /content/drive/\n"
          ]
        }
      ],
      "source": [
        "drive.mount(\"/content/drive/\")"
      ]
    },
    {
      "cell_type": "code",
      "execution_count": 5,
      "metadata": {
        "id": "mFvpDxgx85Yt"
      },
      "outputs": [],
      "source": [
        "epochs = 10\n",
        "batch_size = 64\n",
        "buffer_size = 1024\n",
        "AUTOTUNE = tf.data.AUTOTUNE\n",
        "SEED= 123\n",
        "vocab_size = None #Include the entire vocabulary, encompassing the padding and unknown tokens\n",
        "embedding_dim = 128"
      ]
    },
    {
      "cell_type": "markdown",
      "metadata": {
        "id": "2Jb1Tnf8-6m3"
      },
      "source": [
        "### **Load and Preprocess the Dataset**"
      ]
    },
    {
      "cell_type": "markdown",
      "metadata": {
        "id": "KROnPM3gw-xw"
      },
      "source": [
        "The dataset was downloaded from the provided link on the official Kaggle website and then uploaded to my personal Google Drive. It comprises four columns: ``# Sentence``, ``Word``, ``POS``, and ``Tag``. For the PoS tagging task, we will utilize all columns except for ``Tag``, as it is used for another token classification task, namely [Named Entity Recognition (NER)](https://github.com/JersonGB22/TokenClassification-TensorFlow/blob/main/models_lstm/NER_LSTM_Kaggle.ipynb).\n",
        "\n",
        "**Guide to PoS Tags**\n",
        "\n",
        "- **NN**: Singular Common Noun (e.g., \"dog\", \"car\")\n",
        "- **NNP**: Singular Proper Noun (e.g., \"John\", \"London\")\n",
        "- **IN**: Preposition or Subordinating Conjunction (e.g., \"in\", \"of\", \"like\")\n",
        "- **DT**: Determiner (e.g., \"the\", \"a\", \"this\")\n",
        "- **JJ**: Adjective (e.g., \"big\", \"green\", \"first\")\n",
        "- **NNS**: Plural Common Noun (e.g., \"dogs\", \"cars\")\n",
        "- **.**: Period or End-of-Sentence Punctuation\n",
        "- **VBD**: Past Tense Verb (e.g., \"was\", \"went\")\n",
        "- **,**: Comma\n",
        "- **VBN**: Past Participle Verb (e.g., \"eaten\", \"seen\")\n",
        "- **VBZ**: Third Person Singular Present Tense Verb (e.g., \"runs\", \"likes\")\n",
        "- **CD**: Cardinal Number (e.g., \"one\", \"two\", \"100\")\n",
        "- **VB**: Base Form Verb (e.g., \"run\", \"eat\")\n",
        "- **CC**: Coordinating Conjunction (e.g., \"and\", \"but\", \"or\")\n",
        "- **TO**: \"to\" as Preposition or Infinitive Marker (e.g., \"to go\", \"to eat\")\n",
        "- **RB**: Adverb (e.g., \"quickly\", \"very\", \"well\")\n",
        "- **VBG**: Gerund or Present Participle Verb (e.g., \"running\", \"eating\")\n",
        "- **VBP**: Present Tense Verb (non-third person singular) (e.g., \"run\", \"eat\")\n",
        "- **PRP**: Personal Pronoun (e.g., \"he\", \"she\", \"it\")\n",
        "- **POS**: Possessive Ending (e.g., \"'s\")\n",
        "- **PRP\\$**: Possessive Pronoun (e.g., \"his\", \"her\", \"their\")\n",
        "- **MD**: Modal Verb (e.g., \"can\", \"will\", \"should\")\n",
        "- **``**: Opening Quotation Mark\n",
        "- **WDT**: Wh-determiner (e.g., \"which\", \"that\")\n",
        "- **JJS**: Superlative Adjective (e.g., \"biggest\", \"best\")\n",
        "- **JJR**: Comparative Adjective (e.g., \"bigger\", \"better\")\n",
        "- **WP**: Wh-pronoun (e.g., \"who\", \"what\")\n",
        "- **NNPS**: Plural Proper Noun (e.g., \"Americans\", \"Smiths\")\n",
        "- **RP**: Particle (e.g., \"up\" in \"give up\")\n",
        "- **WRB**: Wh-adverb (e.g., \"where\", \"when\")\n",
        "- **\\$**: Dollar Sign\n",
        "- **RBR**: Comparative Adverb (e.g., \"better\", \"more\")\n",
        "- **:**: Colon\n",
        "- **EX**: Existential \"there\" (e.g., \"there is\")\n",
        "- **RRB**: Right Parenthesis\n",
        "- **LRB**: Left Parenthesis\n",
        "- **RBS**: Superlative Adverb (e.g., \"best\", \"most\")\n",
        "- **;**: Semicolon\n",
        "- **PDT**: Predeterminer (e.g., \"all\", \"both\")\n",
        "- **WP$**: Wh-possessive Pronoun (e.g., \"whose\")\n",
        "- **UH**: Interjection (e.g., \"oh\", \"wow\")\n",
        "- **FW**: Foreign Word (e.g., \"et cetera\", \"de facto\")"
      ]
    },
    {
      "cell_type": "code",
      "execution_count": 6,
      "metadata": {
        "id": "xf9vN_DmSlYj"
      },
      "outputs": [],
      "source": [
        "# Unzip the dataset\n",
        "!unzip -q /content/drive/MyDrive/Datasets/ner_datasetreference.csv.zip"
      ]
    },
    {
      "cell_type": "code",
      "execution_count": 7,
      "metadata": {
        "colab": {
          "base_uri": "https://localhost:8080/",
          "height": 455
        },
        "id": "Qwy2s7F-SPN2",
        "outputId": "654bd0f0-eb89-4388-ab90-61765835849e"
      },
      "outputs": [
        {
          "data": {
            "application/vnd.google.colaboratory.intrinsic+json": {
              "summary": "{\n  \"name\": \"df\",\n  \"rows\": 47949,\n  \"fields\": [\n    {\n      \"column\": \"Sentence #\",\n      \"properties\": {\n        \"dtype\": \"string\",\n        \"num_unique_values\": 47949,\n        \"samples\": [\n          \"Sentence: 37421\",\n          \"Sentence: 27835\",\n          \"Sentence: 22016\"\n        ],\n        \"semantic_type\": \"\",\n        \"description\": \"\"\n      }\n    },\n    {\n      \"column\": \"Word\",\n      \"properties\": {\n        \"dtype\": \"string\",\n        \"num_unique_values\": 47565,\n        \"samples\": [\n          \"Meanwhile , authorities say a U.S. soldier was killed Saturday by a roadside bomb in Baghdad .\",\n          \"Kashmiri separatists have made various demands , ranging from independence to merging with neighboring Pakistan .\",\n          \"An American soldier also was killed Thursday in combat operations in northern Baghdad .\"\n        ],\n        \"semantic_type\": \"\",\n        \"description\": \"\"\n      }\n    },\n    {\n      \"column\": \"POS\",\n      \"properties\": {\n        \"dtype\": \"string\",\n        \"num_unique_values\": 47204,\n        \"samples\": [\n          \"NNS VBP PRP VBD VBN IN NNP NNP POS JJ NNS IN NNP VBD JJ .\",\n          \"DT CD NNS VBP VBN IN DT NNS IN DT NNP IN NNP NNP NNP NN IN DT JJ CD NNS .\",\n          \"NNP NNP VBD DT NN NNP IN PRP VBD NNS IN DT JJ NNP NNS IN NNP CC NNP TO VB DT NN .\"\n        ],\n        \"semantic_type\": \"\",\n        \"description\": \"\"\n      }\n    }\n  ]\n}",
              "type": "dataframe",
              "variable_name": "df"
            },
            "text/html": [
              "\n",
              "  <div id=\"df-02d8b628-2480-4d72-8556-33ac4f642a78\" class=\"colab-df-container\">\n",
              "    <div>\n",
              "<style scoped>\n",
              "    .dataframe tbody tr th:only-of-type {\n",
              "        vertical-align: middle;\n",
              "    }\n",
              "\n",
              "    .dataframe tbody tr th {\n",
              "        vertical-align: top;\n",
              "    }\n",
              "\n",
              "    .dataframe thead th {\n",
              "        text-align: right;\n",
              "    }\n",
              "</style>\n",
              "<table border=\"1\" class=\"dataframe\">\n",
              "  <thead>\n",
              "    <tr style=\"text-align: right;\">\n",
              "      <th></th>\n",
              "      <th>Word</th>\n",
              "      <th>POS</th>\n",
              "    </tr>\n",
              "    <tr>\n",
              "      <th>Sentence #</th>\n",
              "      <th></th>\n",
              "      <th></th>\n",
              "    </tr>\n",
              "  </thead>\n",
              "  <tbody>\n",
              "    <tr>\n",
              "      <th>Sentence: 1</th>\n",
              "      <td>Thousands of demonstrators have marched throug...</td>\n",
              "      <td>NNS IN NNS VBP VBN IN NNP TO VB DT NN IN NNP C...</td>\n",
              "    </tr>\n",
              "    <tr>\n",
              "      <th>Sentence: 10</th>\n",
              "      <td>Iranian officials say they expect to get acces...</td>\n",
              "      <td>JJ NNS VBP PRP VBP TO VB NN TO JJ JJ NNS IN DT...</td>\n",
              "    </tr>\n",
              "    <tr>\n",
              "      <th>Sentence: 100</th>\n",
              "      <td>Helicopter gunships Saturday pounded militant ...</td>\n",
              "      <td>NN NNS NNP VBD JJ NNS IN DT NNP JJ NN , WRB JJ...</td>\n",
              "    </tr>\n",
              "    <tr>\n",
              "      <th>Sentence: 1000</th>\n",
              "      <td>They left after a tense hour-long standoff wit...</td>\n",
              "      <td>PRP VBD IN DT NN JJ NN IN NN NNS .</td>\n",
              "    </tr>\n",
              "    <tr>\n",
              "      <th>Sentence: 10000</th>\n",
              "      <td>U.N. relief coordinator Jan Egeland said Sunda...</td>\n",
              "      <td>NNP NN NN NNP NNP VBD NNP , NNP , JJ CC JJ JJ ...</td>\n",
              "    </tr>\n",
              "    <tr>\n",
              "      <th>...</th>\n",
              "      <td>...</td>\n",
              "      <td>...</td>\n",
              "    </tr>\n",
              "    <tr>\n",
              "      <th>Sentence: 9995</th>\n",
              "      <td>Opposition leader Mir Hossein Mousavi has said...</td>\n",
              "      <td>NNP NN NNP NNP NNP VBZ VBN PRP VBZ TO VB CC NN...</td>\n",
              "    </tr>\n",
              "    <tr>\n",
              "      <th>Sentence: 9996</th>\n",
              "      <td>On Thursday , Iranian state media published a ...</td>\n",
              "      <td>IN NNP , JJ NN NNS VBN DT NN IN DT JJ JJ NNS V...</td>\n",
              "    </tr>\n",
              "    <tr>\n",
              "      <th>Sentence: 9997</th>\n",
              "      <td>Following Iran 's disputed June 12 elections ,...</td>\n",
              "      <td>VBG NNP POS JJ NNP CD NNS , NNS NNS VBD NNS IN...</td>\n",
              "    </tr>\n",
              "    <tr>\n",
              "      <th>Sentence: 9998</th>\n",
              "      <td>Since then , authorities have held public tria...</td>\n",
              "      <td>IN RB , NNS VBP VBN JJ NNS IN DT VBN CC VBN TO...</td>\n",
              "    </tr>\n",
              "    <tr>\n",
              "      <th>Sentence: 9999</th>\n",
              "      <td>The United Nations is praising the use of mili...</td>\n",
              "      <td>DT NNP NNP VBZ VBG DT NN IN JJ NNS TO VB NN CC...</td>\n",
              "    </tr>\n",
              "  </tbody>\n",
              "</table>\n",
              "<p>47949 rows × 2 columns</p>\n",
              "</div>\n",
              "    <div class=\"colab-df-buttons\">\n",
              "\n",
              "  <div class=\"colab-df-container\">\n",
              "    <button class=\"colab-df-convert\" onclick=\"convertToInteractive('df-02d8b628-2480-4d72-8556-33ac4f642a78')\"\n",
              "            title=\"Convert this dataframe to an interactive table.\"\n",
              "            style=\"display:none;\">\n",
              "\n",
              "  <svg xmlns=\"http://www.w3.org/2000/svg\" height=\"24px\" viewBox=\"0 -960 960 960\">\n",
              "    <path d=\"M120-120v-720h720v720H120Zm60-500h600v-160H180v160Zm220 220h160v-160H400v160Zm0 220h160v-160H400v160ZM180-400h160v-160H180v160Zm440 0h160v-160H620v160ZM180-180h160v-160H180v160Zm440 0h160v-160H620v160Z\"/>\n",
              "  </svg>\n",
              "    </button>\n",
              "\n",
              "  <style>\n",
              "    .colab-df-container {\n",
              "      display:flex;\n",
              "      gap: 12px;\n",
              "    }\n",
              "\n",
              "    .colab-df-convert {\n",
              "      background-color: #E8F0FE;\n",
              "      border: none;\n",
              "      border-radius: 50%;\n",
              "      cursor: pointer;\n",
              "      display: none;\n",
              "      fill: #1967D2;\n",
              "      height: 32px;\n",
              "      padding: 0 0 0 0;\n",
              "      width: 32px;\n",
              "    }\n",
              "\n",
              "    .colab-df-convert:hover {\n",
              "      background-color: #E2EBFA;\n",
              "      box-shadow: 0px 1px 2px rgba(60, 64, 67, 0.3), 0px 1px 3px 1px rgba(60, 64, 67, 0.15);\n",
              "      fill: #174EA6;\n",
              "    }\n",
              "\n",
              "    .colab-df-buttons div {\n",
              "      margin-bottom: 4px;\n",
              "    }\n",
              "\n",
              "    [theme=dark] .colab-df-convert {\n",
              "      background-color: #3B4455;\n",
              "      fill: #D2E3FC;\n",
              "    }\n",
              "\n",
              "    [theme=dark] .colab-df-convert:hover {\n",
              "      background-color: #434B5C;\n",
              "      box-shadow: 0px 1px 3px 1px rgba(0, 0, 0, 0.15);\n",
              "      filter: drop-shadow(0px 1px 2px rgba(0, 0, 0, 0.3));\n",
              "      fill: #FFFFFF;\n",
              "    }\n",
              "  </style>\n",
              "\n",
              "    <script>\n",
              "      const buttonEl =\n",
              "        document.querySelector('#df-02d8b628-2480-4d72-8556-33ac4f642a78 button.colab-df-convert');\n",
              "      buttonEl.style.display =\n",
              "        google.colab.kernel.accessAllowed ? 'block' : 'none';\n",
              "\n",
              "      async function convertToInteractive(key) {\n",
              "        const element = document.querySelector('#df-02d8b628-2480-4d72-8556-33ac4f642a78');\n",
              "        const dataTable =\n",
              "          await google.colab.kernel.invokeFunction('convertToInteractive',\n",
              "                                                    [key], {});\n",
              "        if (!dataTable) return;\n",
              "\n",
              "        const docLinkHtml = 'Like what you see? Visit the ' +\n",
              "          '<a target=\"_blank\" href=https://colab.research.google.com/notebooks/data_table.ipynb>data table notebook</a>'\n",
              "          + ' to learn more about interactive tables.';\n",
              "        element.innerHTML = '';\n",
              "        dataTable['output_type'] = 'display_data';\n",
              "        await google.colab.output.renderOutput(dataTable, element);\n",
              "        const docLink = document.createElement('div');\n",
              "        docLink.innerHTML = docLinkHtml;\n",
              "        element.appendChild(docLink);\n",
              "      }\n",
              "    </script>\n",
              "  </div>\n",
              "\n",
              "\n",
              "<div id=\"df-7f740bf7-ff72-4956-b53c-a54ce47f9ee9\">\n",
              "  <button class=\"colab-df-quickchart\" onclick=\"quickchart('df-7f740bf7-ff72-4956-b53c-a54ce47f9ee9')\"\n",
              "            title=\"Suggest charts\"\n",
              "            style=\"display:none;\">\n",
              "\n",
              "<svg xmlns=\"http://www.w3.org/2000/svg\" height=\"24px\"viewBox=\"0 0 24 24\"\n",
              "     width=\"24px\">\n",
              "    <g>\n",
              "        <path d=\"M19 3H5c-1.1 0-2 .9-2 2v14c0 1.1.9 2 2 2h14c1.1 0 2-.9 2-2V5c0-1.1-.9-2-2-2zM9 17H7v-7h2v7zm4 0h-2V7h2v10zm4 0h-2v-4h2v4z\"/>\n",
              "    </g>\n",
              "</svg>\n",
              "  </button>\n",
              "\n",
              "<style>\n",
              "  .colab-df-quickchart {\n",
              "      --bg-color: #E8F0FE;\n",
              "      --fill-color: #1967D2;\n",
              "      --hover-bg-color: #E2EBFA;\n",
              "      --hover-fill-color: #174EA6;\n",
              "      --disabled-fill-color: #AAA;\n",
              "      --disabled-bg-color: #DDD;\n",
              "  }\n",
              "\n",
              "  [theme=dark] .colab-df-quickchart {\n",
              "      --bg-color: #3B4455;\n",
              "      --fill-color: #D2E3FC;\n",
              "      --hover-bg-color: #434B5C;\n",
              "      --hover-fill-color: #FFFFFF;\n",
              "      --disabled-bg-color: #3B4455;\n",
              "      --disabled-fill-color: #666;\n",
              "  }\n",
              "\n",
              "  .colab-df-quickchart {\n",
              "    background-color: var(--bg-color);\n",
              "    border: none;\n",
              "    border-radius: 50%;\n",
              "    cursor: pointer;\n",
              "    display: none;\n",
              "    fill: var(--fill-color);\n",
              "    height: 32px;\n",
              "    padding: 0;\n",
              "    width: 32px;\n",
              "  }\n",
              "\n",
              "  .colab-df-quickchart:hover {\n",
              "    background-color: var(--hover-bg-color);\n",
              "    box-shadow: 0 1px 2px rgba(60, 64, 67, 0.3), 0 1px 3px 1px rgba(60, 64, 67, 0.15);\n",
              "    fill: var(--button-hover-fill-color);\n",
              "  }\n",
              "\n",
              "  .colab-df-quickchart-complete:disabled,\n",
              "  .colab-df-quickchart-complete:disabled:hover {\n",
              "    background-color: var(--disabled-bg-color);\n",
              "    fill: var(--disabled-fill-color);\n",
              "    box-shadow: none;\n",
              "  }\n",
              "\n",
              "  .colab-df-spinner {\n",
              "    border: 2px solid var(--fill-color);\n",
              "    border-color: transparent;\n",
              "    border-bottom-color: var(--fill-color);\n",
              "    animation:\n",
              "      spin 1s steps(1) infinite;\n",
              "  }\n",
              "\n",
              "  @keyframes spin {\n",
              "    0% {\n",
              "      border-color: transparent;\n",
              "      border-bottom-color: var(--fill-color);\n",
              "      border-left-color: var(--fill-color);\n",
              "    }\n",
              "    20% {\n",
              "      border-color: transparent;\n",
              "      border-left-color: var(--fill-color);\n",
              "      border-top-color: var(--fill-color);\n",
              "    }\n",
              "    30% {\n",
              "      border-color: transparent;\n",
              "      border-left-color: var(--fill-color);\n",
              "      border-top-color: var(--fill-color);\n",
              "      border-right-color: var(--fill-color);\n",
              "    }\n",
              "    40% {\n",
              "      border-color: transparent;\n",
              "      border-right-color: var(--fill-color);\n",
              "      border-top-color: var(--fill-color);\n",
              "    }\n",
              "    60% {\n",
              "      border-color: transparent;\n",
              "      border-right-color: var(--fill-color);\n",
              "    }\n",
              "    80% {\n",
              "      border-color: transparent;\n",
              "      border-right-color: var(--fill-color);\n",
              "      border-bottom-color: var(--fill-color);\n",
              "    }\n",
              "    90% {\n",
              "      border-color: transparent;\n",
              "      border-bottom-color: var(--fill-color);\n",
              "    }\n",
              "  }\n",
              "</style>\n",
              "\n",
              "  <script>\n",
              "    async function quickchart(key) {\n",
              "      const quickchartButtonEl =\n",
              "        document.querySelector('#' + key + ' button');\n",
              "      quickchartButtonEl.disabled = true;  // To prevent multiple clicks.\n",
              "      quickchartButtonEl.classList.add('colab-df-spinner');\n",
              "      try {\n",
              "        const charts = await google.colab.kernel.invokeFunction(\n",
              "            'suggestCharts', [key], {});\n",
              "      } catch (error) {\n",
              "        console.error('Error during call to suggestCharts:', error);\n",
              "      }\n",
              "      quickchartButtonEl.classList.remove('colab-df-spinner');\n",
              "      quickchartButtonEl.classList.add('colab-df-quickchart-complete');\n",
              "    }\n",
              "    (() => {\n",
              "      let quickchartButtonEl =\n",
              "        document.querySelector('#df-7f740bf7-ff72-4956-b53c-a54ce47f9ee9 button');\n",
              "      quickchartButtonEl.style.display =\n",
              "        google.colab.kernel.accessAllowed ? 'block' : 'none';\n",
              "    })();\n",
              "  </script>\n",
              "</div>\n",
              "\n",
              "  <div id=\"id_61864e6d-9c9c-4595-8527-d10f00f0b4af\">\n",
              "    <style>\n",
              "      .colab-df-generate {\n",
              "        background-color: #E8F0FE;\n",
              "        border: none;\n",
              "        border-radius: 50%;\n",
              "        cursor: pointer;\n",
              "        display: none;\n",
              "        fill: #1967D2;\n",
              "        height: 32px;\n",
              "        padding: 0 0 0 0;\n",
              "        width: 32px;\n",
              "      }\n",
              "\n",
              "      .colab-df-generate:hover {\n",
              "        background-color: #E2EBFA;\n",
              "        box-shadow: 0px 1px 2px rgba(60, 64, 67, 0.3), 0px 1px 3px 1px rgba(60, 64, 67, 0.15);\n",
              "        fill: #174EA6;\n",
              "      }\n",
              "\n",
              "      [theme=dark] .colab-df-generate {\n",
              "        background-color: #3B4455;\n",
              "        fill: #D2E3FC;\n",
              "      }\n",
              "\n",
              "      [theme=dark] .colab-df-generate:hover {\n",
              "        background-color: #434B5C;\n",
              "        box-shadow: 0px 1px 3px 1px rgba(0, 0, 0, 0.15);\n",
              "        filter: drop-shadow(0px 1px 2px rgba(0, 0, 0, 0.3));\n",
              "        fill: #FFFFFF;\n",
              "      }\n",
              "    </style>\n",
              "    <button class=\"colab-df-generate\" onclick=\"generateWithVariable('df')\"\n",
              "            title=\"Generate code using this dataframe.\"\n",
              "            style=\"display:none;\">\n",
              "\n",
              "  <svg xmlns=\"http://www.w3.org/2000/svg\" height=\"24px\"viewBox=\"0 0 24 24\"\n",
              "       width=\"24px\">\n",
              "    <path d=\"M7,19H8.4L18.45,9,17,7.55,7,17.6ZM5,21V16.75L18.45,3.32a2,2,0,0,1,2.83,0l1.4,1.43a1.91,1.91,0,0,1,.58,1.4,1.91,1.91,0,0,1-.58,1.4L9.25,21ZM18.45,9,17,7.55Zm-12,3A5.31,5.31,0,0,0,4.9,8.1,5.31,5.31,0,0,0,1,6.5,5.31,5.31,0,0,0,4.9,4.9,5.31,5.31,0,0,0,6.5,1,5.31,5.31,0,0,0,8.1,4.9,5.31,5.31,0,0,0,12,6.5,5.46,5.46,0,0,0,6.5,12Z\"/>\n",
              "  </svg>\n",
              "    </button>\n",
              "    <script>\n",
              "      (() => {\n",
              "      const buttonEl =\n",
              "        document.querySelector('#id_61864e6d-9c9c-4595-8527-d10f00f0b4af button.colab-df-generate');\n",
              "      buttonEl.style.display =\n",
              "        google.colab.kernel.accessAllowed ? 'block' : 'none';\n",
              "\n",
              "      buttonEl.onclick = () => {\n",
              "        google.colab.notebook.generateWithVariable('df');\n",
              "      }\n",
              "      })();\n",
              "    </script>\n",
              "  </div>\n",
              "\n",
              "    </div>\n",
              "  </div>\n"
            ],
            "text/plain": [
              "                                                              Word  \\\n",
              "Sentence #                                                           \n",
              "Sentence: 1      Thousands of demonstrators have marched throug...   \n",
              "Sentence: 10     Iranian officials say they expect to get acces...   \n",
              "Sentence: 100    Helicopter gunships Saturday pounded militant ...   \n",
              "Sentence: 1000   They left after a tense hour-long standoff wit...   \n",
              "Sentence: 10000  U.N. relief coordinator Jan Egeland said Sunda...   \n",
              "...                                                            ...   \n",
              "Sentence: 9995   Opposition leader Mir Hossein Mousavi has said...   \n",
              "Sentence: 9996   On Thursday , Iranian state media published a ...   \n",
              "Sentence: 9997   Following Iran 's disputed June 12 elections ,...   \n",
              "Sentence: 9998   Since then , authorities have held public tria...   \n",
              "Sentence: 9999   The United Nations is praising the use of mili...   \n",
              "\n",
              "                                                               POS  \n",
              "Sentence #                                                          \n",
              "Sentence: 1      NNS IN NNS VBP VBN IN NNP TO VB DT NN IN NNP C...  \n",
              "Sentence: 10     JJ NNS VBP PRP VBP TO VB NN TO JJ JJ NNS IN DT...  \n",
              "Sentence: 100    NN NNS NNP VBD JJ NNS IN DT NNP JJ NN , WRB JJ...  \n",
              "Sentence: 1000                  PRP VBD IN DT NN JJ NN IN NN NNS .  \n",
              "Sentence: 10000  NNP NN NN NNP NNP VBD NNP , NNP , JJ CC JJ JJ ...  \n",
              "...                                                            ...  \n",
              "Sentence: 9995   NNP NN NNP NNP NNP VBZ VBN PRP VBZ TO VB CC NN...  \n",
              "Sentence: 9996   IN NNP , JJ NN NNS VBN DT NN IN DT JJ JJ NNS V...  \n",
              "Sentence: 9997   VBG NNP POS JJ NNP CD NNS , NNS NNS VBD NNS IN...  \n",
              "Sentence: 9998   IN RB , NNS VBP VBN JJ NNS IN DT VBN CC VBN TO...  \n",
              "Sentence: 9999   DT NNP NNP VBZ VBG DT NN IN JJ NNS TO VB NN CC...  \n",
              "\n",
              "[47949 rows x 2 columns]"
            ]
          },
          "execution_count": 7,
          "metadata": {},
          "output_type": "execute_result"
        }
      ],
      "source": [
        "# Load the dataset\n",
        "df = pd.read_csv(\"/content/ner_datasetreference.csv\", encoding=\"latin1\")\n",
        "\n",
        "# Completing missing values in the 'Sentence #' column using previous values\n",
        "df[\"Sentence #\"].fillna(method=\"ffill\", inplace=True)\n",
        "\n",
        "# Remove sentences containing at least one null Word\n",
        "sentences_nan = df[df.Word.isna()][\"Sentence #\"].unique()\n",
        "df = df[~df[\"Sentence #\"].isin(sentences_nan)]\n",
        "\n",
        "# Variable to view the count of values for each 'POS'\n",
        "pos_counts = df.POS.value_counts()\n",
        "\n",
        "# Grouping words and POS by sentence\n",
        "df = df.groupby(\"Sentence #\")[[\"Word\", \"POS\"]].agg(lambda x: \" \".join(x))\n",
        "df"
      ]
    },
    {
      "cell_type": "code",
      "execution_count": 8,
      "metadata": {
        "colab": {
          "base_uri": "https://localhost:8080/"
        },
        "id": "24SFLrP4hWjz",
        "outputId": "d2ea2ab0-257d-4086-80b0-4229eb2349dd"
      },
      "outputs": [
        {
          "data": {
            "text/plain": [
              "POS\n",
              "NN      145789\n",
              "NNP     131421\n",
              "IN      120978\n",
              "DT       98439\n",
              "JJ       78405\n",
              "NNS      75829\n",
              ".        47821\n",
              "VBD      39372\n",
              ",        32756\n",
              "VBN      32314\n",
              "VBZ      24959\n",
              "CD       24691\n",
              "VB       24209\n",
              "CC       23715\n",
              "TO       23058\n",
              "RB       20251\n",
              "VBG      19124\n",
              "VBP      16156\n",
              "PRP      13316\n",
              "POS      11256\n",
              "PRP$      8655\n",
              "MD        6973\n",
              "``        3728\n",
              "WDT       3698\n",
              "JJS       3033\n",
              "JJR       2967\n",
              "WP        2542\n",
              "NNPS      2521\n",
              "RP        2490\n",
              "WRB       2184\n",
              "$         1149\n",
              "RBR       1055\n",
              ":          795\n",
              "RRB        679\n",
              "LRB        678\n",
              "EX         663\n",
              "RBS        296\n",
              ";          214\n",
              "PDT        147\n",
              "WP$         99\n",
              "UH          24\n",
              "FW           1\n",
              "Name: count, dtype: int64"
            ]
          },
          "execution_count": 8,
          "metadata": {},
          "output_type": "execute_result"
        }
      ],
      "source": [
        "pos_counts"
      ]
    },
    {
      "cell_type": "markdown",
      "metadata": {
        "id": "1S_Ay7keH6D0"
      },
      "source": [
        "It can be observed that the dataset is unbalanced regarding the \"POS\" values, with the most affected ones ranging from ``:`` to ``FW``."
      ]
    },
    {
      "cell_type": "code",
      "execution_count": 9,
      "metadata": {
        "colab": {
          "base_uri": "https://localhost:8080/"
        },
        "id": "nFdnVFFcuroo",
        "outputId": "c90cc7d3-b8a1-4e73-9fee-53a77eb71d18"
      },
      "outputs": [
        {
          "name": "stdout",
          "output_type": "stream",
          "text": [
            "<class 'pandas.core.frame.DataFrame'>\n",
            "Index: 47949 entries, Sentence: 1 to Sentence: 9999\n",
            "Data columns (total 2 columns):\n",
            " #   Column  Non-Null Count  Dtype \n",
            "---  ------  --------------  ----- \n",
            " 0   Word    47949 non-null  object\n",
            " 1   POS     47949 non-null  object\n",
            "dtypes: object(2)\n",
            "memory usage: 1.1+ MB\n"
          ]
        }
      ],
      "source": [
        "# There are no null values\n",
        "df.info()"
      ]
    },
    {
      "cell_type": "markdown",
      "metadata": {
        "id": "Ax2-b25xxuff"
      },
      "source": [
        "**Splitting the dataframe into training (70%), validation (15%) y testing (15%) sets**"
      ]
    },
    {
      "cell_type": "code",
      "execution_count": 10,
      "metadata": {
        "colab": {
          "base_uri": "https://localhost:8080/"
        },
        "id": "M63azAPgyFMV",
        "outputId": "2bbdac26-0ab1-4569-c444-c19a50b318f2"
      },
      "outputs": [
        {
          "data": {
            "text/plain": [
              "(33564, 7192, 7193)"
            ]
          },
          "execution_count": 10,
          "metadata": {},
          "output_type": "execute_result"
        }
      ],
      "source": [
        "df_train, df_val_test = train_test_split(df, test_size=0.3, random_state=SEED)\n",
        "df_val, df_test = train_test_split(df_val_test, test_size=0.5, random_state=SEED)\n",
        "\n",
        "del df, df_val_test #Remove to free memory\n",
        "\n",
        "len(df_train), len(df_val), len(df_test)"
      ]
    },
    {
      "cell_type": "markdown",
      "metadata": {
        "id": "YerBO7X5BSl6"
      },
      "source": [
        "**Creation of Sentence and Label Encoders**\n",
        "\n",
        "To tokenize the sentences, the `TextVectorization` layer is employed, which encodes the text into indices by frequency order, considering up to `vocab_size`. The index tensors are padded with zeros to reach the length of the longest sequence in the batch unless a fixed value for `output_sequence_length` is specified. In this case, the `standardize` argument is set to None since punctuation marks should not be removed or sentences converted to lowercase, as this could affect the PoS tagging task. A capital letter within a sentence may indicate an entity, and all words are separated by spaces, including punctuation marks.\n",
        "\n",
        "For tokenizing the labels, the `tf.keras.preprocessing.text.Tokenizer` function is used. Similar to sentences, the labels are not converted to lowercase, and punctuation marks are not removed since the labels are already predefined. Additionally, padding is added up to the longest sequence using the `tf.keras.utils.pad_sequences` function to match the tokenized sentences."
      ]
    },
    {
      "cell_type": "code",
      "execution_count": 11,
      "metadata": {
        "colab": {
          "base_uri": "https://localhost:8080/"
        },
        "id": "pPpUGU8UBW_i",
        "outputId": "249a6f68-3ac4-4559-e333-d257003a64e7"
      },
      "outputs": [
        {
          "name": "stdout",
          "output_type": "stream",
          "text": [
            "30180\n"
          ]
        },
        {
          "data": {
            "text/plain": [
              "array(['', '[UNK]', 'the', '.', ',', 'of', 'in', 'to', 'a', 'and'],\n",
              "      dtype='<U64')"
            ]
          },
          "execution_count": 11,
          "metadata": {},
          "output_type": "execute_result"
        }
      ],
      "source": [
        "tf.random.set_seed(SEED)\n",
        "\n",
        "encoder_x = tf.keras.layers.TextVectorization(max_tokens=vocab_size, standardize=None)\n",
        "encoder_x.adapt(df_train.Word.values)\n",
        "vocab_x = np.array(encoder_x.get_vocabulary())\n",
        "\n",
        "print(encoder_x.vocabulary_size())\n",
        "vocab_x[:10]"
      ]
    },
    {
      "cell_type": "code",
      "execution_count": 12,
      "metadata": {
        "colab": {
          "base_uri": "https://localhost:8080/"
        },
        "id": "7mnV8-dMEnxT",
        "outputId": "f7b71ff1-8810-4b2b-c8b1-c6f69df964b4"
      },
      "outputs": [
        {
          "name": "stdout",
          "output_type": "stream",
          "text": [
            "42\n"
          ]
        },
        {
          "data": {
            "text/plain": [
              "{'NN': 1,\n",
              " 'NNP': 2,\n",
              " 'IN': 3,\n",
              " 'DT': 4,\n",
              " 'JJ': 5,\n",
              " 'NNS': 6,\n",
              " '.': 7,\n",
              " 'VBD': 8,\n",
              " ',': 9,\n",
              " 'VBN': 10,\n",
              " 'VBZ': 11,\n",
              " 'CD': 12,\n",
              " 'VB': 13,\n",
              " 'CC': 14,\n",
              " 'TO': 15,\n",
              " 'RB': 16,\n",
              " 'VBG': 17,\n",
              " 'VBP': 18,\n",
              " 'PRP': 19,\n",
              " 'POS': 20,\n",
              " 'PRP$': 21,\n",
              " 'MD': 22,\n",
              " '``': 23,\n",
              " 'WDT': 24,\n",
              " 'JJS': 25,\n",
              " 'JJR': 26,\n",
              " 'WP': 27,\n",
              " 'NNPS': 28,\n",
              " 'RP': 29,\n",
              " 'WRB': 30,\n",
              " '$': 31,\n",
              " 'RBR': 32,\n",
              " ':': 33,\n",
              " 'EX': 34,\n",
              " 'RRB': 35,\n",
              " 'LRB': 36,\n",
              " 'RBS': 37,\n",
              " ';': 38,\n",
              " 'PDT': 39,\n",
              " 'WP$': 40,\n",
              " 'UH': 41,\n",
              " 'FW': 42}"
            ]
          },
          "execution_count": 12,
          "metadata": {},
          "output_type": "execute_result"
        }
      ],
      "source": [
        "encoder_y = tf.keras.preprocessing.text.Tokenizer(lower=False, filters=\"\")\n",
        "encoder_y.fit_on_texts(df_train.POS.values)\n",
        "\n",
        "vocab_y = encoder_y.word_index\n",
        "vocab_y_inv = encoder_y.index_word\n",
        "print(len(vocab_y))\n",
        "vocab_y"
      ]
    },
    {
      "cell_type": "code",
      "execution_count": 13,
      "metadata": {
        "id": "R3Dixi_LH2JV"
      },
      "outputs": [],
      "source": [
        "def generate_dataset(df, shuffle=False):\n",
        "  sentences_ids = encoder_x(df.Word.values)\n",
        "  labels_ids = encoder_y.texts_to_sequences(df.POS.values)\n",
        "  labels_ids = tf.keras.utils.pad_sequences(labels_ids, padding=\"post\")\n",
        "\n",
        "  dataset = tf.data.Dataset.from_tensor_slices((sentences_ids, labels_ids))\n",
        "  if shuffle:\n",
        "    dataset = dataset.shuffle(buffer_size, seed=SEED)\n",
        "  dataset = dataset.batch(batch_size).prefetch(AUTOTUNE)\n",
        "\n",
        "  return dataset"
      ]
    },
    {
      "cell_type": "code",
      "execution_count": 14,
      "metadata": {
        "id": "MuPNFqtHJG9p"
      },
      "outputs": [],
      "source": [
        "train_dataset = generate_dataset(df_train, shuffle=True)\n",
        "val_dataset = generate_dataset(df_val)\n",
        "test_dataset = generate_dataset(df_test)\n",
        "\n",
        "del df_train, df_val"
      ]
    },
    {
      "cell_type": "code",
      "execution_count": 15,
      "metadata": {
        "colab": {
          "base_uri": "https://localhost:8080/"
        },
        "id": "IRemi_nKAj6O",
        "outputId": "2108695f-f0f5-4cc3-a49d-727896323742"
      },
      "outputs": [
        {
          "name": "stdout",
          "output_type": "stream",
          "text": [
            "tf.Tensor(\n",
            "[[   10    68   359 ...     0     0     0]\n",
            " [   10    52    14 ...     0     0     0]\n",
            " [   10 16266   333 ...     0     0     0]\n",
            " ...\n",
            " [   48  1384  1950 ...     0     0     0]\n",
            " [  394   616     6 ...     0     0     0]\n",
            " [  705     6   246 ...     0     0     0]], shape=(64, 104), dtype=int64) \n",
            "\n",
            "tf.Tensor(\n",
            "[[ 4  5  6 ...  0  0  0]\n",
            " [ 4  1 11 ...  0  0  0]\n",
            " [ 4  2  1 ...  0  0  0]\n",
            " ...\n",
            " [ 4  2  2 ...  0  0  0]\n",
            " [16  1  3 ...  0  0  0]\n",
            " [14  3  2 ...  0  0  0]], shape=(64, 104), dtype=int32)\n"
          ]
        }
      ],
      "source": [
        "# Visualizing a tokenized batch\n",
        "for texts, labels in train_dataset.take(1):\n",
        "  print(texts, \"\\n\")\n",
        "  print(labels)"
      ]
    },
    {
      "cell_type": "code",
      "execution_count": 16,
      "metadata": {
        "colab": {
          "base_uri": "https://localhost:8080/"
        },
        "id": "8SChpGbPIZyK",
        "outputId": "42137dff-4521-48b0-8c43-759ba74b85c0"
      },
      "outputs": [
        {
          "name": "stdout",
          "output_type": "stream",
          "text": [
            "[   10 16266   333  2753     2 14435     5     8 21401  1993    16    64\n",
            "  4086  2959  2326 28960  1170 14710     4   140  6112     9 26919 14996\n",
            "     4     2  5249    55  4616     2  6694     3     0     0     0     0\n",
            "     0     0     0     0     0     0     0     0     0     0     0     0\n",
            "     0     0     0     0     0     0     0     0     0     0     0     0\n",
            "     0     0     0     0     0     0     0     0     0     0     0     0\n",
            "     0     0     0     0     0     0     0     0     0     0     0     0\n",
            "     0     0     0     0     0     0     0     0     0     0     0     0\n",
            "     0     0     0     0     0     0     0     0]\n",
            "The Filmyard deal marks the culmination of a drawn-out sale that had attracted various Los Angeles-based rival bidders , including Bob and Harvey Weinstein , the brothers who founded the studio .                                                                         \n",
            "\n",
            "[ 4  2  1 11  4  1  3  4  5  1 24  8 10  5  2  5  5  6  9 17  2 14  2  2\n",
            "  9  4  6 27  8  4  1  7  0  0  0  0  0  0  0  0  0  0  0  0  0  0  0  0\n",
            "  0  0  0  0  0  0  0  0  0  0  0  0  0  0  0  0  0  0  0  0  0  0  0  0\n",
            "  0  0  0  0  0  0  0  0  0  0  0  0  0  0  0  0  0  0  0  0  0  0  0  0\n",
            "  0  0  0  0  0  0  0  0]\n",
            "DT NNP NN VBZ DT NN IN DT JJ NN WDT VBD VBN JJ NNP JJ JJ NNS , VBG NNP CC NNP NNP , DT NNS WP VBD DT NN .\n"
          ]
        }
      ],
      "source": [
        "# Viewing the results of tokenization\n",
        "\n",
        "id = 2\n",
        "\n",
        "print(texts[id].numpy())\n",
        "decoded_texts = \" \".join(vocab_x[texts[id]])\n",
        "print(decoded_texts, \"\\n\")\n",
        "\n",
        "print(labels[id].numpy())\n",
        "decoded_labels = encoder_y.sequences_to_texts([labels[id].numpy()])[0]\n",
        "print(decoded_labels)"
      ]
    },
    {
      "cell_type": "markdown",
      "metadata": {
        "id": "JjdJe11iKuZX"
      },
      "source": [
        "### **Build the Model**"
      ]
    },
    {
      "cell_type": "code",
      "execution_count": 17,
      "metadata": {
        "colab": {
          "base_uri": "https://localhost:8080/"
        },
        "id": "qEfffc-jKT4s",
        "outputId": "abbe95d2-1829-492c-c36a-64ec17da7ebd"
      },
      "outputs": [
        {
          "name": "stdout",
          "output_type": "stream",
          "text": [
            "Model: \"sequential\"\n",
            "_________________________________________________________________\n",
            " Layer (type)                Output Shape              Param #   \n",
            "=================================================================\n",
            " embedding (Embedding)       (None, None, 128)         3863040   \n",
            "                                                                 \n",
            " bidirectional (Bidirection  (None, None, 256)         263168    \n",
            " al)                                                             \n",
            "                                                                 \n",
            " dense (Dense)               (None, None, 43)          11051     \n",
            "                                                                 \n",
            "=================================================================\n",
            "Total params: 4137259 (15.78 MB)\n",
            "Trainable params: 4137259 (15.78 MB)\n",
            "Non-trainable params: 0 (0.00 Byte)\n",
            "_________________________________________________________________\n"
          ]
        }
      ],
      "source": [
        "tf.keras.backend.clear_session() #Clearing Keras memory\n",
        "tf.random.set_seed(123) #For reproducibility\n",
        "\n",
        "model = tf.keras.Sequential([\n",
        "    tf.keras.layers.Embedding(\n",
        "        input_dim=encoder_x.vocabulary_size(),\n",
        "        output_dim=embedding_dim,\n",
        "        mask_zero=True, #Indicates that the value 0 is a padding value that should be masked\n",
        "    ),\n",
        "    tf.keras.layers.Bidirectional(tf.keras.layers.LSTM(embedding_dim, return_sequences=True)),\n",
        "    tf.keras.layers.Dense(len(vocab_y)+1, activation=\"softmax\") #+1 for the padding token (0)\n",
        "])\n",
        "\n",
        "model.summary()"
      ]
    },
    {
      "cell_type": "code",
      "execution_count": 18,
      "metadata": {
        "colab": {
          "base_uri": "https://localhost:8080/",
          "height": 422
        },
        "id": "7vSpY_nQUXRB",
        "outputId": "10a11a1a-10d6-4370-eb94-6497d999f59c"
      },
      "outputs": [
        {
          "data": {
            "image/png": "[encoded data removed]",
            "text/plain": [
              "<IPython.core.display.Image object>"
            ]
          },
          "execution_count": 18,
          "metadata": {},
          "output_type": "execute_result"
        }
      ],
      "source": [
        "# Visualizing the architecture of the model\n",
        "tf.keras.utils.plot_model(model, show_shapes=True, show_layer_names=False)"
      ]
    },
    {
      "cell_type": "markdown",
      "metadata": {
        "id": "Bc5_feTTXNVu"
      },
      "source": [
        "### **Compile and Train the Model**"
      ]
    },
    {
      "cell_type": "code",
      "execution_count": 19,
      "metadata": {
        "id": "676zxrI4W0lK"
      },
      "outputs": [],
      "source": [
        "model.compile(\n",
        "    optimizer=tf.keras.optimizers.Adam(0.01),\n",
        "    loss=tf.keras.losses.SparseCategoricalCrossentropy(ignore_class=0), #Ignore label 0 when calculating loss and accuracy\n",
        "    metrics=[\"accuracy\"]\n",
        ")\n",
        "\n",
        "# Callback to stop training early if validation accuracy does not improve for 2 epochs.\n",
        "callback = tf.keras.callbacks.EarlyStopping(\n",
        "    monitor=\"val_accuracy\",\n",
        "    patience=2,\n",
        "    mode=\"max\",\n",
        "    restore_best_weights=True\n",
        ")"
      ]
    },
    {
      "cell_type": "code",
      "execution_count": 20,
      "metadata": {
        "colab": {
          "base_uri": "https://localhost:8080/"
        },
        "id": "sczAFhgmdQBD",
        "outputId": "23c79235-0858-4091-ecc0-4db679ee9f09"
      },
      "outputs": [
        {
          "name": "stdout",
          "output_type": "stream",
          "text": [
            "Epoch 1/10\n",
            "525/525 [==============================] - 43s 59ms/step - loss: 0.2148 - accuracy: 0.9405 - val_loss: 0.0728 - val_accuracy: 0.9776\n",
            "Epoch 2/10\n",
            "525/525 [==============================] - 13s 25ms/step - loss: 0.0394 - accuracy: 0.9871 - val_loss: 0.0756 - val_accuracy: 0.9778\n",
            "Epoch 3/10\n",
            "525/525 [==============================] - 13s 24ms/step - loss: 0.0281 - accuracy: 0.9905 - val_loss: 0.0825 - val_accuracy: 0.9779\n",
            "Epoch 4/10\n",
            "525/525 [==============================] - 14s 26ms/step - loss: 0.0237 - accuracy: 0.9919 - val_loss: 0.0923 - val_accuracy: 0.9772\n",
            "Epoch 5/10\n",
            "525/525 [==============================] - 13s 24ms/step - loss: 0.0231 - accuracy: 0.9921 - val_loss: 0.0986 - val_accuracy: 0.9761\n"
          ]
        }
      ],
      "source": [
        "tf.random.set_seed(SEED)\n",
        "history = model.fit(train_dataset, epochs=epochs, validation_data=val_dataset, callbacks=[callback])"
      ]
    },
    {
      "cell_type": "markdown",
      "metadata": {
        "id": "S7cewteBIwua"
      },
      "source": [
        "**Save model**"
      ]
    },
    {
      "cell_type": "code",
      "execution_count": 57,
      "metadata": {
        "id": "6L1Qn4a_H4GI"
      },
      "outputs": [],
      "source": [
        "model.save(\"/content/drive/MyDrive/models/PoS_LSTM_Kaggle.keras\")"
      ]
    },
    {
      "cell_type": "markdown",
      "metadata": {
        "id": "WSJL2EanOvQH"
      },
      "source": [
        "### **Dataset Evaluation**"
      ]
    },
    {
      "cell_type": "code",
      "execution_count": 21,
      "metadata": {
        "colab": {
          "base_uri": "https://localhost:8080/"
        },
        "id": "CwqjIKAhET33",
        "outputId": "9101c15f-69d9-4039-f986-f4cdba0c2154"
      },
      "outputs": [
        {
          "name": "stdout",
          "output_type": "stream",
          "text": [
            "[0.01913917250931263, 0.9934983849525452]\n",
            "[0.08254312723875046, 0.9779108762741089]\n",
            "[0.07995039224624634, 0.9782075881958008]\n"
          ]
        }
      ],
      "source": [
        "print(model.evaluate(train_dataset, verbose=0))\n",
        "print(model.evaluate(val_dataset, verbose=0))\n",
        "print(model.evaluate(test_dataset, verbose=0))"
      ]
    },
    {
      "cell_type": "markdown",
      "metadata": {
        "id": "_OOLy3fWoTiv"
      },
      "source": [
        "**Consolidating the accuracy of the testing set**"
      ]
    },
    {
      "cell_type": "code",
      "execution_count": 22,
      "metadata": {
        "colab": {
          "base_uri": "https://localhost:8080/"
        },
        "id": "SNV1cFuyoXbi",
        "outputId": "8f627218-93c7-44bc-c158-0e78070557a5"
      },
      "outputs": [
        {
          "data": {
            "text/plain": [
              "0.9782076"
            ]
          },
          "execution_count": 22,
          "metadata": {},
          "output_type": "execute_result"
        }
      ],
      "source": [
        "labels_test = test_dataset.unbatch().map(lambda x, y: y).as_numpy_iterator()\n",
        "labels_test = np.array(list(labels_test))\n",
        "\n",
        "labels_test_pred = model.predict(test_dataset, verbose=0)\n",
        "labels_test_pred = np.argmax(labels_test_pred, axis=-1)\n",
        "mask = (labels_test != 0).astype(np.float32)\n",
        "matches_true_pred = (labels_test == labels_test_pred).astype(np.float32)\n",
        "matches_true_pred *= mask\n",
        "\n",
        "masked_accuracy = np.sum(matches_true_pred) / np.sum(mask)\n",
        "masked_accuracy"
      ]
    },
    {
      "cell_type": "markdown",
      "metadata": {
        "id": "1oY6USAfE-5P"
      },
      "source": [
        "After just 3 epochs, the training dataset achieves an accuracy of **99.3%**, while the validation dataset accuracy is **97.8%** and the test dataset accuracy is also **97.8%**. If we were to train for more epochs, the training dataset accuracy would increase to 100%, but the validation and test set accuracies would decrease. The model performs excellently but shows signs of slight overfitting, which we effectively mitigate with the callback that stops training when the validation accuracy does not improve for 2 consecutive epochs. Of course, to achieve even better results, it would be advisable to expand the training dataset and/or utilize more robust architectures like Transformers. However, the model performs quite well in part-of-speech tagging, as will be seen later, making the use of Transformers unnecessary."
      ]
    },
    {
      "cell_type": "code",
      "execution_count": 3,
      "metadata": {
        "id": "4FJqdOA4XsiG"
      },
      "outputs": [],
      "source": [
        "# Function to plot the metrics\n",
        "def plot_metrics(history=history, metric=\"loss\", renderer=None, epochs=len(history.history[\"loss\"])):\n",
        "  losses = history.history[metric]\n",
        "  val_losses = history.history[f\"val_{metric}\"]\n",
        "  list_epochs = np.arange(1, epochs+1)\n",
        "  metric = metric.capitalize()\n",
        "\n",
        "  fig=go.Figure()\n",
        "  fig.add_trace(go.Scatter(x=list_epochs, y=losses, name=metric, line=dict(color=\"blue\", width=2)))\n",
        "  fig.add_trace(go.Scatter(x=list_epochs, y=val_losses, name=f\"Val {metric}\", line=dict(color=\"#FF6600\", width=2)))\n",
        "  fig.update_xaxes(title_text=\"Epoch\")\n",
        "  fig.update_yaxes(title_text=metric)\n",
        "  fig.update_layout(title=f\"Evolution of {metric} across Epochs\",\n",
        "                    title_font=dict(size=20),\n",
        "                    title_x=0.5,\n",
        "                    height=500,\n",
        "                    width=1200)\n",
        "\n",
        "  fig.show(renderer)"
      ]
    },
    {
      "cell_type": "markdown",
      "metadata": {
        "id": "qlk109TMcOL0"
      },
      "source": [
        "**Interactive graphics**"
      ]
    },
    {
      "cell_type": "code",
      "execution_count": 24,
      "metadata": {
        "colab": {
          "base_uri": "https://localhost:8080/",
          "height": 1000
        },
        "id": "i53TJ5xjcTRr",
        "outputId": "dbbcfbda-311f-4ee2-f8c4-c074c768ad9b"
      },
      "outputs": [
        {
          "data": {
            "text/html": [
              "<html>\n",
              "<head><meta charset=\"utf-8\" /></head>\n",
              "<body>\n",
              "    <div>            <script src=\"https://cdnjs.cloudflare.com/ajax/libs/mathjax/2.7.5/MathJax.js?config=TeX-AMS-MML_SVG\"></script><script type=\"text/javascript\">if (window.MathJax && window.MathJax.Hub && window.MathJax.Hub.Config) {window.MathJax.Hub.Config({SVG: {font: \"STIX-Web\"}});}</script>                <script type=\"text/javascript\">window.PlotlyConfig = {MathJaxConfig: 'local'};</script>\n",
              "        <script charset=\"utf-8\" src=\"https://cdn.plot.ly/plotly-2.24.1.min.js\"></script>                <div id=\"872d18be-2278-420a-abcc-3ef91090f6bf\" class=\"plotly-graph-div\" style=\"height:500px; width:1200px;\"></div>            <script type=\"text/javascript\">                                    window.PLOTLYENV=window.PLOTLYENV || {};                                    if (document.getElementById(\"872d18be-2278-420a-abcc-3ef91090f6bf\")) {                    Plotly.newPlot(                        \"872d18be-2278-420a-abcc-3ef91090f6bf\",                        [{\"line\":{\"color\":\"blue\",\"width\":2},\"name\":\"Loss\",\"x\":[1,2,3,4,5],\"y\":[0.21476800739765167,0.03935287147760391,0.028131114318966866,0.02373350039124489,0.023122740909457207],\"type\":\"scatter\"},{\"line\":{\"color\":\"#FF6600\",\"width\":2},\"name\":\"Val Loss\",\"x\":[1,2,3,4,5],\"y\":[0.07275034487247467,0.0756353884935379,0.08254312723875046,0.09230057895183563,0.09858216345310211],\"type\":\"scatter\"}],                        {\"template\":{\"data\":{\"histogram2dcontour\":[{\"type\":\"histogram2dcontour\",\"colorbar\":{\"outlinewidth\":0,\"ticks\":\"\"},\"colorscale\":[[0.0,\"#0d0887\"],[0.1111111111111111,\"#46039f\"],[0.2222222222222222,\"#7201a8\"],[0.3333333333333333,\"#9c179e\"],[0.4444444444444444,\"#bd3786\"],[0.5555555555555556,\"#d8576b\"],[0.6666666666666666,\"#ed7953\"],[0.7777777777777778,\"#fb9f3a\"],[0.8888888888888888,\"#fdca26\"],[1.0,\"#f0f921\"]]}],\"choropleth\":[{\"type\":\"choropleth\",\"colorbar\":{\"outlinewidth\":0,\"ticks\":\"\"}}],\"histogram2d\":[{\"type\":\"histogram2d\",\"colorbar\":{\"outlinewidth\":0,\"ticks\":\"\"},\"colorscale\":[[0.0,\"#0d0887\"],[0.1111111111111111,\"#46039f\"],[0.2222222222222222,\"#7201a8\"],[0.3333333333333333,\"#9c179e\"],[0.4444444444444444,\"#bd3786\"],[0.5555555555555556,\"#d8576b\"],[0.6666666666666666,\"#ed7953\"],[0.7777777777777778,\"#fb9f3a\"],[0.8888888888888888,\"#fdca26\"],[1.0,\"#f0f921\"]]}],\"heatmap\":[{\"type\":\"heatmap\",\"colorbar\":{\"outlinewidth\":0,\"ticks\":\"\"},\"colorscale\":[[0.0,\"#0d0887\"],[0.1111111111111111,\"#46039f\"],[0.2222222222222222,\"#7201a8\"],[0.3333333333333333,\"#9c179e\"],[0.4444444444444444,\"#bd3786\"],[0.5555555555555556,\"#d8576b\"],[0.6666666666666666,\"#ed7953\"],[0.7777777777777778,\"#fb9f3a\"],[0.8888888888888888,\"#fdca26\"],[1.0,\"#f0f921\"]]}],\"heatmapgl\":[{\"type\":\"heatmapgl\",\"colorbar\":{\"outlinewidth\":0,\"ticks\":\"\"},\"colorscale\":[[0.0,\"#0d0887\"],[0.1111111111111111,\"#46039f\"],[0.2222222222222222,\"#7201a8\"],[0.3333333333333333,\"#9c179e\"],[0.4444444444444444,\"#bd3786\"],[0.5555555555555556,\"#d8576b\"],[0.6666666666666666,\"#ed7953\"],[0.7777777777777778,\"#fb9f3a\"],[0.8888888888888888,\"#fdca26\"],[1.0,\"#f0f921\"]]}],\"contourcarpet\":[{\"type\":\"contourcarpet\",\"colorbar\":{\"outlinewidth\":0,\"ticks\":\"\"}}],\"contour\":[{\"type\":\"contour\",\"colorbar\":{\"outlinewidth\":0,\"ticks\":\"\"},\"colorscale\":[[0.0,\"#0d0887\"],[0.1111111111111111,\"#46039f\"],[0.2222222222222222,\"#7201a8\"],[0.3333333333333333,\"#9c179e\"],[0.4444444444444444,\"#bd3786\"],[0.5555555555555556,\"#d8576b\"],[0.6666666666666666,\"#ed7953\"],[0.7777777777777778,\"#fb9f3a\"],[0.8888888888888888,\"#fdca26\"],[1.0,\"#f0f921\"]]}],\"surface\":[{\"type\":\"surface\",\"colorbar\":{\"outlinewidth\":0,\"ticks\":\"\"},\"colorscale\":[[0.0,\"#0d0887\"],[0.1111111111111111,\"#46039f\"],[0.2222222222222222,\"#7201a8\"],[0.3333333333333333,\"#9c179e\"],[0.4444444444444444,\"#bd3786\"],[0.5555555555555556,\"#d8576b\"],[0.6666666666666666,\"#ed7953\"],[0.7777777777777778,\"#fb9f3a\"],[0.8888888888888888,\"#fdca26\"],[1.0,\"#f0f921\"]]}],\"mesh3d\":[{\"type\":\"mesh3d\",\"colorbar\":{\"outlinewidth\":0,\"ticks\":\"\"}}],\"scatter\":[{\"fillpattern\":{\"fillmode\":\"overlay\",\"size\":10,\"solidity\":0.2},\"type\":\"scatter\"}],\"parcoords\":[{\"type\":\"parcoords\",\"line\":{\"colorbar\":{\"outlinewidth\":0,\"ticks\":\"\"}}}],\"scatterpolargl\":[{\"type\":\"scatterpolargl\",\"marker\":{\"colorbar\":{\"outlinewidth\":0,\"ticks\":\"\"}}}],\"bar\":[{\"error_x\":{\"color\":\"#2a3f5f\"},\"error_y\":{\"color\":\"#2a3f5f\"},\"marker\":{\"line\":{\"color\":\"#E5ECF6\",\"width\":0.5},\"pattern\":{\"fillmode\":\"overlay\",\"size\":10,\"solidity\":0.2}},\"type\":\"bar\"}],\"scattergeo\":[{\"type\":\"scattergeo\",\"marker\":{\"colorbar\":{\"outlinewidth\":0,\"ticks\":\"\"}}}],\"scatterpolar\":[{\"type\":\"scatterpolar\",\"marker\":{\"colorbar\":{\"outlinewidth\":0,\"ticks\":\"\"}}}],\"histogram\":[{\"marker\":{\"pattern\":{\"fillmode\":\"overlay\",\"size\":10,\"solidity\":0.2}},\"type\":\"histogram\"}],\"scattergl\":[{\"type\":\"scattergl\",\"marker\":{\"colorbar\":{\"outlinewidth\":0,\"ticks\":\"\"}}}],\"scatter3d\":[{\"type\":\"scatter3d\",\"line\":{\"colorbar\":{\"outlinewidth\":0,\"ticks\":\"\"}},\"marker\":{\"colorbar\":{\"outlinewidth\":0,\"ticks\":\"\"}}}],\"scattermapbox\":[{\"type\":\"scattermapbox\",\"marker\":{\"colorbar\":{\"outlinewidth\":0,\"ticks\":\"\"}}}],\"scatterternary\":[{\"type\":\"scatterternary\",\"marker\":{\"colorbar\":{\"outlinewidth\":0,\"ticks\":\"\"}}}],\"scattercarpet\":[{\"type\":\"scattercarpet\",\"marker\":{\"colorbar\":{\"outlinewidth\":0,\"ticks\":\"\"}}}],\"carpet\":[{\"aaxis\":{\"endlinecolor\":\"#2a3f5f\",\"gridcolor\":\"white\",\"linecolor\":\"white\",\"minorgridcolor\":\"white\",\"startlinecolor\":\"#2a3f5f\"},\"baxis\":{\"endlinecolor\":\"#2a3f5f\",\"gridcolor\":\"white\",\"linecolor\":\"white\",\"minorgridcolor\":\"white\",\"startlinecolor\":\"#2a3f5f\"},\"type\":\"carpet\"}],\"table\":[{\"cells\":{\"fill\":{\"color\":\"#EBF0F8\"},\"line\":{\"color\":\"white\"}},\"header\":{\"fill\":{\"color\":\"#C8D4E3\"},\"line\":{\"color\":\"white\"}},\"type\":\"table\"}],\"barpolar\":[{\"marker\":{\"line\":{\"color\":\"#E5ECF6\",\"width\":0.5},\"pattern\":{\"fillmode\":\"overlay\",\"size\":10,\"solidity\":0.2}},\"type\":\"barpolar\"}],\"pie\":[{\"automargin\":true,\"type\":\"pie\"}]},\"layout\":{\"autotypenumbers\":\"strict\",\"colorway\":[\"#636efa\",\"#EF553B\",\"#00cc96\",\"#ab63fa\",\"#FFA15A\",\"#19d3f3\",\"#FF6692\",\"#B6E880\",\"#FF97FF\",\"#FECB52\"],\"font\":{\"color\":\"#2a3f5f\"},\"hovermode\":\"closest\",\"hoverlabel\":{\"align\":\"left\"},\"paper_bgcolor\":\"white\",\"plot_bgcolor\":\"#E5ECF6\",\"polar\":{\"bgcolor\":\"#E5ECF6\",\"angularaxis\":{\"gridcolor\":\"white\",\"linecolor\":\"white\",\"ticks\":\"\"},\"radialaxis\":{\"gridcolor\":\"white\",\"linecolor\":\"white\",\"ticks\":\"\"}},\"ternary\":{\"bgcolor\":\"#E5ECF6\",\"aaxis\":{\"gridcolor\":\"white\",\"linecolor\":\"white\",\"ticks\":\"\"},\"baxis\":{\"gridcolor\":\"white\",\"linecolor\":\"white\",\"ticks\":\"\"},\"caxis\":{\"gridcolor\":\"white\",\"linecolor\":\"white\",\"ticks\":\"\"}},\"coloraxis\":{\"colorbar\":{\"outlinewidth\":0,\"ticks\":\"\"}},\"colorscale\":{\"sequential\":[[0.0,\"#0d0887\"],[0.1111111111111111,\"#46039f\"],[0.2222222222222222,\"#7201a8\"],[0.3333333333333333,\"#9c179e\"],[0.4444444444444444,\"#bd3786\"],[0.5555555555555556,\"#d8576b\"],[0.6666666666666666,\"#ed7953\"],[0.7777777777777778,\"#fb9f3a\"],[0.8888888888888888,\"#fdca26\"],[1.0,\"#f0f921\"]],\"sequentialminus\":[[0.0,\"#0d0887\"],[0.1111111111111111,\"#46039f\"],[0.2222222222222222,\"#7201a8\"],[0.3333333333333333,\"#9c179e\"],[0.4444444444444444,\"#bd3786\"],[0.5555555555555556,\"#d8576b\"],[0.6666666666666666,\"#ed7953\"],[0.7777777777777778,\"#fb9f3a\"],[0.8888888888888888,\"#fdca26\"],[1.0,\"#f0f921\"]],\"diverging\":[[0,\"#8e0152\"],[0.1,\"#c51b7d\"],[0.2,\"#de77ae\"],[0.3,\"#f1b6da\"],[0.4,\"#fde0ef\"],[0.5,\"#f7f7f7\"],[0.6,\"#e6f5d0\"],[0.7,\"#b8e186\"],[0.8,\"#7fbc41\"],[0.9,\"#4d9221\"],[1,\"#276419\"]]},\"xaxis\":{\"gridcolor\":\"white\",\"linecolor\":\"white\",\"ticks\":\"\",\"title\":{\"standoff\":15},\"zerolinecolor\":\"white\",\"automargin\":true,\"zerolinewidth\":2},\"yaxis\":{\"gridcolor\":\"white\",\"linecolor\":\"white\",\"ticks\":\"\",\"title\":{\"standoff\":15},\"zerolinecolor\":\"white\",\"automargin\":true,\"zerolinewidth\":2},\"scene\":{\"xaxis\":{\"backgroundcolor\":\"#E5ECF6\",\"gridcolor\":\"white\",\"linecolor\":\"white\",\"showbackground\":true,\"ticks\":\"\",\"zerolinecolor\":\"white\",\"gridwidth\":2},\"yaxis\":{\"backgroundcolor\":\"#E5ECF6\",\"gridcolor\":\"white\",\"linecolor\":\"white\",\"showbackground\":true,\"ticks\":\"\",\"zerolinecolor\":\"white\",\"gridwidth\":2},\"zaxis\":{\"backgroundcolor\":\"#E5ECF6\",\"gridcolor\":\"white\",\"linecolor\":\"white\",\"showbackground\":true,\"ticks\":\"\",\"zerolinecolor\":\"white\",\"gridwidth\":2}},\"shapedefaults\":{\"line\":{\"color\":\"#2a3f5f\"}},\"annotationdefaults\":{\"arrowcolor\":\"#2a3f5f\",\"arrowhead\":0,\"arrowwidth\":1},\"geo\":{\"bgcolor\":\"white\",\"landcolor\":\"#E5ECF6\",\"subunitcolor\":\"white\",\"showland\":true,\"showlakes\":true,\"lakecolor\":\"white\"},\"title\":{\"x\":0.05},\"mapbox\":{\"style\":\"light\"}}},\"xaxis\":{\"title\":{\"text\":\"Epoch\"}},\"yaxis\":{\"title\":{\"text\":\"Loss\"}},\"title\":{\"text\":\"Evolution of Loss across Epochs\",\"font\":{\"size\":20},\"x\":0.5},\"height\":500,\"width\":1200},                        {\"responsive\": true}                    ).then(function(){\n",
              "                            \n",
              "var gd = document.getElementById('872d18be-2278-420a-abcc-3ef91090f6bf');\n",
              "var x = new MutationObserver(function (mutations, observer) {{\n",
              "        var display = window.getComputedStyle(gd).display;\n",
              "        if (!display || display === 'none') {{\n",
              "            console.log([gd, 'removed!']);\n",
              "            Plotly.purge(gd);\n",
              "            observer.disconnect();\n",
              "        }}\n",
              "}});\n",
              "\n",
              "// Listen for the removal of the full notebook cells\n",
              "var notebookContainer = gd.closest('#notebook-container');\n",
              "if (notebookContainer) {{\n",
              "    x.observe(notebookContainer, {childList: true});\n",
              "}}\n",
              "\n",
              "// Listen for the clearing of the current output cell\n",
              "var outputEl = gd.closest('.output');\n",
              "if (outputEl) {{\n",
              "    x.observe(outputEl, {childList: true});\n",
              "}}\n",
              "\n",
              "                        })                };                            </script>        </div>\n",
              "</body>\n",
              "</html>"
            ]
          },
          "metadata": {},
          "output_type": "display_data"
        },
        {
          "data": {
            "text/html": [
              "<html>\n",
              "<head><meta charset=\"utf-8\" /></head>\n",
              "<body>\n",
              "    <div>            <script src=\"https://cdnjs.cloudflare.com/ajax/libs/mathjax/2.7.5/MathJax.js?config=TeX-AMS-MML_SVG\"></script><script type=\"text/javascript\">if (window.MathJax && window.MathJax.Hub && window.MathJax.Hub.Config) {window.MathJax.Hub.Config({SVG: {font: \"STIX-Web\"}});}</script>                <script type=\"text/javascript\">window.PlotlyConfig = {MathJaxConfig: 'local'};</script>\n",
              "        <script charset=\"utf-8\" src=\"https://cdn.plot.ly/plotly-2.24.1.min.js\"></script>                <div id=\"e238c427-2cb5-4ce9-a7a8-ad25455121bf\" class=\"plotly-graph-div\" style=\"height:500px; width:1200px;\"></div>            <script type=\"text/javascript\">                                    window.PLOTLYENV=window.PLOTLYENV || {};                                    if (document.getElementById(\"e238c427-2cb5-4ce9-a7a8-ad25455121bf\")) {                    Plotly.newPlot(                        \"e238c427-2cb5-4ce9-a7a8-ad25455121bf\",                        [{\"line\":{\"color\":\"blue\",\"width\":2},\"name\":\"Accuracy\",\"x\":[1,2,3,4,5],\"y\":[0.9405434727668762,0.9870976805686951,0.9905168414115906,0.9919101595878601,0.9921173453330994],\"type\":\"scatter\"},{\"line\":{\"color\":\"#FF6600\",\"width\":2},\"name\":\"Val Accuracy\",\"x\":[1,2,3,4,5],\"y\":[0.977637767791748,0.9778410196304321,0.9779108762741089,0.9771550893783569,0.9761325716972351],\"type\":\"scatter\"}],                        {\"template\":{\"data\":{\"histogram2dcontour\":[{\"type\":\"histogram2dcontour\",\"colorbar\":{\"outlinewidth\":0,\"ticks\":\"\"},\"colorscale\":[[0.0,\"#0d0887\"],[0.1111111111111111,\"#46039f\"],[0.2222222222222222,\"#7201a8\"],[0.3333333333333333,\"#9c179e\"],[0.4444444444444444,\"#bd3786\"],[0.5555555555555556,\"#d8576b\"],[0.6666666666666666,\"#ed7953\"],[0.7777777777777778,\"#fb9f3a\"],[0.8888888888888888,\"#fdca26\"],[1.0,\"#f0f921\"]]}],\"choropleth\":[{\"type\":\"choropleth\",\"colorbar\":{\"outlinewidth\":0,\"ticks\":\"\"}}],\"histogram2d\":[{\"type\":\"histogram2d\",\"colorbar\":{\"outlinewidth\":0,\"ticks\":\"\"},\"colorscale\":[[0.0,\"#0d0887\"],[0.1111111111111111,\"#46039f\"],[0.2222222222222222,\"#7201a8\"],[0.3333333333333333,\"#9c179e\"],[0.4444444444444444,\"#bd3786\"],[0.5555555555555556,\"#d8576b\"],[0.6666666666666666,\"#ed7953\"],[0.7777777777777778,\"#fb9f3a\"],[0.8888888888888888,\"#fdca26\"],[1.0,\"#f0f921\"]]}],\"heatmap\":[{\"type\":\"heatmap\",\"colorbar\":{\"outlinewidth\":0,\"ticks\":\"\"},\"colorscale\":[[0.0,\"#0d0887\"],[0.1111111111111111,\"#46039f\"],[0.2222222222222222,\"#7201a8\"],[0.3333333333333333,\"#9c179e\"],[0.4444444444444444,\"#bd3786\"],[0.5555555555555556,\"#d8576b\"],[0.6666666666666666,\"#ed7953\"],[0.7777777777777778,\"#fb9f3a\"],[0.8888888888888888,\"#fdca26\"],[1.0,\"#f0f921\"]]}],\"heatmapgl\":[{\"type\":\"heatmapgl\",\"colorbar\":{\"outlinewidth\":0,\"ticks\":\"\"},\"colorscale\":[[0.0,\"#0d0887\"],[0.1111111111111111,\"#46039f\"],[0.2222222222222222,\"#7201a8\"],[0.3333333333333333,\"#9c179e\"],[0.4444444444444444,\"#bd3786\"],[0.5555555555555556,\"#d8576b\"],[0.6666666666666666,\"#ed7953\"],[0.7777777777777778,\"#fb9f3a\"],[0.8888888888888888,\"#fdca26\"],[1.0,\"#f0f921\"]]}],\"contourcarpet\":[{\"type\":\"contourcarpet\",\"colorbar\":{\"outlinewidth\":0,\"ticks\":\"\"}}],\"contour\":[{\"type\":\"contour\",\"colorbar\":{\"outlinewidth\":0,\"ticks\":\"\"},\"colorscale\":[[0.0,\"#0d0887\"],[0.1111111111111111,\"#46039f\"],[0.2222222222222222,\"#7201a8\"],[0.3333333333333333,\"#9c179e\"],[0.4444444444444444,\"#bd3786\"],[0.5555555555555556,\"#d8576b\"],[0.6666666666666666,\"#ed7953\"],[0.7777777777777778,\"#fb9f3a\"],[0.8888888888888888,\"#fdca26\"],[1.0,\"#f0f921\"]]}],\"surface\":[{\"type\":\"surface\",\"colorbar\":{\"outlinewidth\":0,\"ticks\":\"\"},\"colorscale\":[[0.0,\"#0d0887\"],[0.1111111111111111,\"#46039f\"],[0.2222222222222222,\"#7201a8\"],[0.3333333333333333,\"#9c179e\"],[0.4444444444444444,\"#bd3786\"],[0.5555555555555556,\"#d8576b\"],[0.6666666666666666,\"#ed7953\"],[0.7777777777777778,\"#fb9f3a\"],[0.8888888888888888,\"#fdca26\"],[1.0,\"#f0f921\"]]}],\"mesh3d\":[{\"type\":\"mesh3d\",\"colorbar\":{\"outlinewidth\":0,\"ticks\":\"\"}}],\"scatter\":[{\"fillpattern\":{\"fillmode\":\"overlay\",\"size\":10,\"solidity\":0.2},\"type\":\"scatter\"}],\"parcoords\":[{\"type\":\"parcoords\",\"line\":{\"colorbar\":{\"outlinewidth\":0,\"ticks\":\"\"}}}],\"scatterpolargl\":[{\"type\":\"scatterpolargl\",\"marker\":{\"colorbar\":{\"outlinewidth\":0,\"ticks\":\"\"}}}],\"bar\":[{\"error_x\":{\"color\":\"#2a3f5f\"},\"error_y\":{\"color\":\"#2a3f5f\"},\"marker\":{\"line\":{\"color\":\"#E5ECF6\",\"width\":0.5},\"pattern\":{\"fillmode\":\"overlay\",\"size\":10,\"solidity\":0.2}},\"type\":\"bar\"}],\"scattergeo\":[{\"type\":\"scattergeo\",\"marker\":{\"colorbar\":{\"outlinewidth\":0,\"ticks\":\"\"}}}],\"scatterpolar\":[{\"type\":\"scatterpolar\",\"marker\":{\"colorbar\":{\"outlinewidth\":0,\"ticks\":\"\"}}}],\"histogram\":[{\"marker\":{\"pattern\":{\"fillmode\":\"overlay\",\"size\":10,\"solidity\":0.2}},\"type\":\"histogram\"}],\"scattergl\":[{\"type\":\"scattergl\",\"marker\":{\"colorbar\":{\"outlinewidth\":0,\"ticks\":\"\"}}}],\"scatter3d\":[{\"type\":\"scatter3d\",\"line\":{\"colorbar\":{\"outlinewidth\":0,\"ticks\":\"\"}},\"marker\":{\"colorbar\":{\"outlinewidth\":0,\"ticks\":\"\"}}}],\"scattermapbox\":[{\"type\":\"scattermapbox\",\"marker\":{\"colorbar\":{\"outlinewidth\":0,\"ticks\":\"\"}}}],\"scatterternary\":[{\"type\":\"scatterternary\",\"marker\":{\"colorbar\":{\"outlinewidth\":0,\"ticks\":\"\"}}}],\"scattercarpet\":[{\"type\":\"scattercarpet\",\"marker\":{\"colorbar\":{\"outlinewidth\":0,\"ticks\":\"\"}}}],\"carpet\":[{\"aaxis\":{\"endlinecolor\":\"#2a3f5f\",\"gridcolor\":\"white\",\"linecolor\":\"white\",\"minorgridcolor\":\"white\",\"startlinecolor\":\"#2a3f5f\"},\"baxis\":{\"endlinecolor\":\"#2a3f5f\",\"gridcolor\":\"white\",\"linecolor\":\"white\",\"minorgridcolor\":\"white\",\"startlinecolor\":\"#2a3f5f\"},\"type\":\"carpet\"}],\"table\":[{\"cells\":{\"fill\":{\"color\":\"#EBF0F8\"},\"line\":{\"color\":\"white\"}},\"header\":{\"fill\":{\"color\":\"#C8D4E3\"},\"line\":{\"color\":\"white\"}},\"type\":\"table\"}],\"barpolar\":[{\"marker\":{\"line\":{\"color\":\"#E5ECF6\",\"width\":0.5},\"pattern\":{\"fillmode\":\"overlay\",\"size\":10,\"solidity\":0.2}},\"type\":\"barpolar\"}],\"pie\":[{\"automargin\":true,\"type\":\"pie\"}]},\"layout\":{\"autotypenumbers\":\"strict\",\"colorway\":[\"#636efa\",\"#EF553B\",\"#00cc96\",\"#ab63fa\",\"#FFA15A\",\"#19d3f3\",\"#FF6692\",\"#B6E880\",\"#FF97FF\",\"#FECB52\"],\"font\":{\"color\":\"#2a3f5f\"},\"hovermode\":\"closest\",\"hoverlabel\":{\"align\":\"left\"},\"paper_bgcolor\":\"white\",\"plot_bgcolor\":\"#E5ECF6\",\"polar\":{\"bgcolor\":\"#E5ECF6\",\"angularaxis\":{\"gridcolor\":\"white\",\"linecolor\":\"white\",\"ticks\":\"\"},\"radialaxis\":{\"gridcolor\":\"white\",\"linecolor\":\"white\",\"ticks\":\"\"}},\"ternary\":{\"bgcolor\":\"#E5ECF6\",\"aaxis\":{\"gridcolor\":\"white\",\"linecolor\":\"white\",\"ticks\":\"\"},\"baxis\":{\"gridcolor\":\"white\",\"linecolor\":\"white\",\"ticks\":\"\"},\"caxis\":{\"gridcolor\":\"white\",\"linecolor\":\"white\",\"ticks\":\"\"}},\"coloraxis\":{\"colorbar\":{\"outlinewidth\":0,\"ticks\":\"\"}},\"colorscale\":{\"sequential\":[[0.0,\"#0d0887\"],[0.1111111111111111,\"#46039f\"],[0.2222222222222222,\"#7201a8\"],[0.3333333333333333,\"#9c179e\"],[0.4444444444444444,\"#bd3786\"],[0.5555555555555556,\"#d8576b\"],[0.6666666666666666,\"#ed7953\"],[0.7777777777777778,\"#fb9f3a\"],[0.8888888888888888,\"#fdca26\"],[1.0,\"#f0f921\"]],\"sequentialminus\":[[0.0,\"#0d0887\"],[0.1111111111111111,\"#46039f\"],[0.2222222222222222,\"#7201a8\"],[0.3333333333333333,\"#9c179e\"],[0.4444444444444444,\"#bd3786\"],[0.5555555555555556,\"#d8576b\"],[0.6666666666666666,\"#ed7953\"],[0.7777777777777778,\"#fb9f3a\"],[0.8888888888888888,\"#fdca26\"],[1.0,\"#f0f921\"]],\"diverging\":[[0,\"#8e0152\"],[0.1,\"#c51b7d\"],[0.2,\"#de77ae\"],[0.3,\"#f1b6da\"],[0.4,\"#fde0ef\"],[0.5,\"#f7f7f7\"],[0.6,\"#e6f5d0\"],[0.7,\"#b8e186\"],[0.8,\"#7fbc41\"],[0.9,\"#4d9221\"],[1,\"#276419\"]]},\"xaxis\":{\"gridcolor\":\"white\",\"linecolor\":\"white\",\"ticks\":\"\",\"title\":{\"standoff\":15},\"zerolinecolor\":\"white\",\"automargin\":true,\"zerolinewidth\":2},\"yaxis\":{\"gridcolor\":\"white\",\"linecolor\":\"white\",\"ticks\":\"\",\"title\":{\"standoff\":15},\"zerolinecolor\":\"white\",\"automargin\":true,\"zerolinewidth\":2},\"scene\":{\"xaxis\":{\"backgroundcolor\":\"#E5ECF6\",\"gridcolor\":\"white\",\"linecolor\":\"white\",\"showbackground\":true,\"ticks\":\"\",\"zerolinecolor\":\"white\",\"gridwidth\":2},\"yaxis\":{\"backgroundcolor\":\"#E5ECF6\",\"gridcolor\":\"white\",\"linecolor\":\"white\",\"showbackground\":true,\"ticks\":\"\",\"zerolinecolor\":\"white\",\"gridwidth\":2},\"zaxis\":{\"backgroundcolor\":\"#E5ECF6\",\"gridcolor\":\"white\",\"linecolor\":\"white\",\"showbackground\":true,\"ticks\":\"\",\"zerolinecolor\":\"white\",\"gridwidth\":2}},\"shapedefaults\":{\"line\":{\"color\":\"#2a3f5f\"}},\"annotationdefaults\":{\"arrowcolor\":\"#2a3f5f\",\"arrowhead\":0,\"arrowwidth\":1},\"geo\":{\"bgcolor\":\"white\",\"landcolor\":\"#E5ECF6\",\"subunitcolor\":\"white\",\"showland\":true,\"showlakes\":true,\"lakecolor\":\"white\"},\"title\":{\"x\":0.05},\"mapbox\":{\"style\":\"light\"}}},\"xaxis\":{\"title\":{\"text\":\"Epoch\"}},\"yaxis\":{\"title\":{\"text\":\"Accuracy\"}},\"title\":{\"text\":\"Evolution of Accuracy across Epochs\",\"font\":{\"size\":20},\"x\":0.5},\"height\":500,\"width\":1200},                        {\"responsive\": true}                    ).then(function(){\n",
              "                            \n",
              "var gd = document.getElementById('e238c427-2cb5-4ce9-a7a8-ad25455121bf');\n",
              "var x = new MutationObserver(function (mutations, observer) {{\n",
              "        var display = window.getComputedStyle(gd).display;\n",
              "        if (!display || display === 'none') {{\n",
              "            console.log([gd, 'removed!']);\n",
              "            Plotly.purge(gd);\n",
              "            observer.disconnect();\n",
              "        }}\n",
              "}});\n",
              "\n",
              "// Listen for the removal of the full notebook cells\n",
              "var notebookContainer = gd.closest('#notebook-container');\n",
              "if (notebookContainer) {{\n",
              "    x.observe(notebookContainer, {childList: true});\n",
              "}}\n",
              "\n",
              "// Listen for the clearing of the current output cell\n",
              "var outputEl = gd.closest('.output');\n",
              "if (outputEl) {{\n",
              "    x.observe(outputEl, {childList: true});\n",
              "}}\n",
              "\n",
              "                        })                };                            </script>        </div>\n",
              "</body>\n",
              "</html>"
            ]
          },
          "metadata": {},
          "output_type": "display_data"
        }
      ],
      "source": [
        "plot_metrics()\n",
        "plot_metrics(metric=\"accuracy\")"
      ]
    },
    {
      "cell_type": "markdown",
      "metadata": {
        "id": "rY-pHlllcUPV"
      },
      "source": [
        "**Images for GitHub**"
      ]
    },
    {
      "cell_type": "code",
      "execution_count": 4,
      "metadata": {
        "colab": {
          "base_uri": "https://localhost:8080/",
          "height": 1000
        },
        "id": "o_lfML87cWb7",
        "outputId": "3ec0a589-d5f7-47c5-cd94-fb099e8fcb2f"
      },
      "outputs": [
        {
          "data": {
            "image/png": "[encoded data removed]"
          },
          "metadata": {},
          "output_type": "display_data"
        },
        {
          "data": {
            "image/png": "[encoded data removed]"
          },
          "metadata": {},
          "output_type": "display_data"
        }
      ],
      "source": [
        "plot_metrics(renderer=\"png\")\n",
        "plot_metrics(renderer=\"png\", metric=\"accuracy\")"
      ]
    },
    {
      "cell_type": "markdown",
      "metadata": {
        "id": "j2VNNRAeJ_hx"
      },
      "source": [
        "### **Predictions with the trained model**"
      ]
    },
    {
      "cell_type": "code",
      "execution_count": 59,
      "metadata": {
        "colab": {
          "base_uri": "https://localhost:8080/"
        },
        "id": "SA0zaZJ1KDFK",
        "outputId": "89ce9fcc-c426-4002-e9e2-de9dac2dd81a"
      },
      "outputs": [
        {
          "name": "stdout",
          "output_type": "stream",
          "text": [
            "Model: \"sequential\"\n",
            "_________________________________________________________________\n",
            " Layer (type)                Output Shape              Param #   \n",
            "=================================================================\n",
            " embedding (Embedding)       (None, None, 128)         3863040   \n",
            "                                                                 \n",
            " bidirectional (Bidirection  (None, None, 256)         263168    \n",
            " al)                                                             \n",
            "                                                                 \n",
            " dense (Dense)               (None, None, 43)          11051     \n",
            "                                                                 \n",
            "=================================================================\n",
            "Total params: 4137259 (15.78 MB)\n",
            "Trainable params: 4137259 (15.78 MB)\n",
            "Non-trainable params: 0 (0.00 Byte)\n",
            "_________________________________________________________________\n"
          ]
        }
      ],
      "source": [
        "# Loading the trained model\n",
        "tf.keras.backend.clear_session()\n",
        "model = tf.keras.models.load_model(\"/content/drive/MyDrive/models/PoS_LSTM_Kaggle.keras\")\n",
        "model.summary()"
      ]
    },
    {
      "cell_type": "code",
      "execution_count": 61,
      "metadata": {
        "id": "cs6eubKxPVlI"
      },
      "outputs": [],
      "source": [
        "# Function to predict sentence labels\n",
        "\n",
        "def predict_label(sentences, labels=None, random=True, indice=0):\n",
        "  indice = np.random.choice(len(sentences)) if random else indice\n",
        "\n",
        "  sentence = sentences[indice]\n",
        "  sentence_ids = encoder_x([sentence])\n",
        "\n",
        "  label_ids_pred = model.predict(sentence_ids, verbose=0).squeeze()\n",
        "  label_ids_pred = np.argmax(label_ids_pred, axis=-1)\n",
        "\n",
        "  display(HTML(f\"<b>Sentence:</b> {sentence}<br><br>\"))\n",
        "  html_content = \"\"\"\n",
        "  <table style=\"border-collapse: separate; border-spacing: 15px; text-align: center;\">\n",
        "    <tr>\n",
        "      <th>Word</th>\n",
        "      <th>Predicted PoS</th>\n",
        "  \"\"\"\n",
        "\n",
        "  if labels is not None:\n",
        "    label_colors = {\"incorrect\":\"red\", \"correct\":\"green\"}\n",
        "    label = labels[indice]\n",
        "    label_ids = encoder_y.texts_to_sequences([label])[0]\n",
        "    html_content += \"<th>True PoS</th>\"\n",
        "  html_content += \"</tr>\"\n",
        "\n",
        "  # Consider only the labels that are not padding (0)\n",
        "  id_mask = len(sentence.split(\" \"))\n",
        "\n",
        "  for i in range(id_mask):\n",
        "    html_content += f\"\"\"\n",
        "      <tr>\n",
        "      <td>{vocab_x[sentence_ids[0][i]]}</td>\n",
        "      <td>{vocab_y_inv[label_ids_pred[i]]}</td>\n",
        "    \"\"\"\n",
        "\n",
        "    if labels is not None:\n",
        "      result = \"correct\" if label_ids[i] == label_ids_pred[i] else \"incorrect\"\n",
        "\n",
        "      html_content += f\"\"\"\n",
        "        <td>{vocab_y_inv[label_ids[i]]}</td>\n",
        "        <td><b><span style=\"color:{label_colors[result]}\">{result}</span></b></td>\n",
        "      \"\"\"\n",
        "    html_content += \"</tr>\"\n",
        "\n",
        "  html_content += \"</table>\"\n",
        "  display(HTML(html_content))"
      ]
    },
    {
      "cell_type": "markdown",
      "metadata": {
        "id": "7O5A_x0lq5ew"
      },
      "source": [
        "#### **Test Dataset**"
      ]
    },
    {
      "cell_type": "code",
      "execution_count": 31,
      "metadata": {
        "id": "VuyWzQ-6qxmv"
      },
      "outputs": [],
      "source": [
        "sentences, labels = df_test.Word.values, df_test.POS.values"
      ]
    },
    {
      "cell_type": "code",
      "execution_count": 62,
      "metadata": {
        "colab": {
          "base_uri": "https://localhost:8080/",
          "height": 685
        },
        "id": "s-yeH6c622QW",
        "outputId": "01dc91b6-6968-489a-ccf3-ea6e049fdee2"
      },
      "outputs": [
        {
          "data": {
            "text/html": [
              "<b>Sentence:</b> But Prime Minister Mohamed Ali Gedi said the vote was flawed and must be held again .<br><br>"
            ],
            "text/plain": [
              "<IPython.core.display.HTML object>"
            ]
          },
          "metadata": {},
          "output_type": "display_data"
        },
        {
          "data": {
            "text/html": [
              "\n",
              "  <table style=\"border-collapse: separate; border-spacing: 15px; text-align: center;\">\n",
              "    <tr>\n",
              "      <th>Word</th>\n",
              "      <th>Predicted PoS</th>\n",
              "  <th>True PoS</th></tr>\n",
              "      <tr>\n",
              "      <td>But</td>\n",
              "      <td>CC</td>\n",
              "    \n",
              "        <td>CC</td>\n",
              "        <td><b><span style=\"color:green\">correct</span></b></td>\n",
              "      </tr>\n",
              "      <tr>\n",
              "      <td>Prime</td>\n",
              "      <td>NNP</td>\n",
              "    \n",
              "        <td>NNP</td>\n",
              "        <td><b><span style=\"color:green\">correct</span></b></td>\n",
              "      </tr>\n",
              "      <tr>\n",
              "      <td>Minister</td>\n",
              "      <td>NNP</td>\n",
              "    \n",
              "        <td>NNP</td>\n",
              "        <td><b><span style=\"color:green\">correct</span></b></td>\n",
              "      </tr>\n",
              "      <tr>\n",
              "      <td>Mohamed</td>\n",
              "      <td>NNP</td>\n",
              "    \n",
              "        <td>NNP</td>\n",
              "        <td><b><span style=\"color:green\">correct</span></b></td>\n",
              "      </tr>\n",
              "      <tr>\n",
              "      <td>Ali</td>\n",
              "      <td>NNP</td>\n",
              "    \n",
              "        <td>NNP</td>\n",
              "        <td><b><span style=\"color:green\">correct</span></b></td>\n",
              "      </tr>\n",
              "      <tr>\n",
              "      <td>Gedi</td>\n",
              "      <td>NNP</td>\n",
              "    \n",
              "        <td>NNP</td>\n",
              "        <td><b><span style=\"color:green\">correct</span></b></td>\n",
              "      </tr>\n",
              "      <tr>\n",
              "      <td>said</td>\n",
              "      <td>VBD</td>\n",
              "    \n",
              "        <td>VBD</td>\n",
              "        <td><b><span style=\"color:green\">correct</span></b></td>\n",
              "      </tr>\n",
              "      <tr>\n",
              "      <td>the</td>\n",
              "      <td>DT</td>\n",
              "    \n",
              "        <td>DT</td>\n",
              "        <td><b><span style=\"color:green\">correct</span></b></td>\n",
              "      </tr>\n",
              "      <tr>\n",
              "      <td>vote</td>\n",
              "      <td>NN</td>\n",
              "    \n",
              "        <td>NN</td>\n",
              "        <td><b><span style=\"color:green\">correct</span></b></td>\n",
              "      </tr>\n",
              "      <tr>\n",
              "      <td>was</td>\n",
              "      <td>VBD</td>\n",
              "    \n",
              "        <td>VBD</td>\n",
              "        <td><b><span style=\"color:green\">correct</span></b></td>\n",
              "      </tr>\n",
              "      <tr>\n",
              "      <td>flawed</td>\n",
              "      <td>JJ</td>\n",
              "    \n",
              "        <td>VBN</td>\n",
              "        <td><b><span style=\"color:red\">incorrect</span></b></td>\n",
              "      </tr>\n",
              "      <tr>\n",
              "      <td>and</td>\n",
              "      <td>CC</td>\n",
              "    \n",
              "        <td>CC</td>\n",
              "        <td><b><span style=\"color:green\">correct</span></b></td>\n",
              "      </tr>\n",
              "      <tr>\n",
              "      <td>must</td>\n",
              "      <td>MD</td>\n",
              "    \n",
              "        <td>MD</td>\n",
              "        <td><b><span style=\"color:green\">correct</span></b></td>\n",
              "      </tr>\n",
              "      <tr>\n",
              "      <td>be</td>\n",
              "      <td>VB</td>\n",
              "    \n",
              "        <td>VB</td>\n",
              "        <td><b><span style=\"color:green\">correct</span></b></td>\n",
              "      </tr>\n",
              "      <tr>\n",
              "      <td>held</td>\n",
              "      <td>VBN</td>\n",
              "    \n",
              "        <td>VBN</td>\n",
              "        <td><b><span style=\"color:green\">correct</span></b></td>\n",
              "      </tr>\n",
              "      <tr>\n",
              "      <td>again</td>\n",
              "      <td>RB</td>\n",
              "    \n",
              "        <td>RB</td>\n",
              "        <td><b><span style=\"color:green\">correct</span></b></td>\n",
              "      </tr>\n",
              "      <tr>\n",
              "      <td>.</td>\n",
              "      <td>.</td>\n",
              "    \n",
              "        <td>.</td>\n",
              "        <td><b><span style=\"color:green\">correct</span></b></td>\n",
              "      </tr></table>"
            ],
            "text/plain": [
              "<IPython.core.display.HTML object>"
            ]
          },
          "metadata": {},
          "output_type": "display_data"
        }
      ],
      "source": [
        "predict_label(sentences, labels, random=False)"
      ]
    },
    {
      "cell_type": "code",
      "execution_count": 35,
      "metadata": {
        "colab": {
          "base_uri": "https://localhost:8080/",
          "height": 1000
        },
        "id": "enbJiHoEK47W",
        "outputId": "f599d8b9-5664-493c-8a9a-99159ae11b80"
      },
      "outputs": [
        {
          "data": {
            "text/html": [
              "<b>Sentence:</b> And , a security guard was killed in a car bomb blast that was apparently aimed at a senior Interior Ministry official , who escaped injuries .<br><br>"
            ],
            "text/plain": [
              "<IPython.core.display.HTML object>"
            ]
          },
          "metadata": {},
          "output_type": "display_data"
        },
        {
          "data": {
            "text/html": [
              "\n",
              "  <table style=\"border-collapse: separate; border-spacing: 15px; text-align: center;\">\n",
              "    <tr>\n",
              "      <th>Word</th>\n",
              "      <th>Predicted PoS</th>\n",
              "  <th>True PoS</th></tr>\n",
              "      <tr>\n",
              "      <td>And</td>\n",
              "      <td>CC</td>\n",
              "    \n",
              "        <td>CC</td>\n",
              "        <td><b><span style=\"color:green\">correct</span></b></td>\n",
              "      </tr>\n",
              "      <tr>\n",
              "      <td>,</td>\n",
              "      <td>,</td>\n",
              "    \n",
              "        <td>,</td>\n",
              "        <td><b><span style=\"color:green\">correct</span></b></td>\n",
              "      </tr>\n",
              "      <tr>\n",
              "      <td>a</td>\n",
              "      <td>DT</td>\n",
              "    \n",
              "        <td>DT</td>\n",
              "        <td><b><span style=\"color:green\">correct</span></b></td>\n",
              "      </tr>\n",
              "      <tr>\n",
              "      <td>security</td>\n",
              "      <td>NN</td>\n",
              "    \n",
              "        <td>NN</td>\n",
              "        <td><b><span style=\"color:green\">correct</span></b></td>\n",
              "      </tr>\n",
              "      <tr>\n",
              "      <td>guard</td>\n",
              "      <td>NN</td>\n",
              "    \n",
              "        <td>NN</td>\n",
              "        <td><b><span style=\"color:green\">correct</span></b></td>\n",
              "      </tr>\n",
              "      <tr>\n",
              "      <td>was</td>\n",
              "      <td>VBD</td>\n",
              "    \n",
              "        <td>VBD</td>\n",
              "        <td><b><span style=\"color:green\">correct</span></b></td>\n",
              "      </tr>\n",
              "      <tr>\n",
              "      <td>killed</td>\n",
              "      <td>VBN</td>\n",
              "    \n",
              "        <td>VBN</td>\n",
              "        <td><b><span style=\"color:green\">correct</span></b></td>\n",
              "      </tr>\n",
              "      <tr>\n",
              "      <td>in</td>\n",
              "      <td>IN</td>\n",
              "    \n",
              "        <td>IN</td>\n",
              "        <td><b><span style=\"color:green\">correct</span></b></td>\n",
              "      </tr>\n",
              "      <tr>\n",
              "      <td>a</td>\n",
              "      <td>DT</td>\n",
              "    \n",
              "        <td>DT</td>\n",
              "        <td><b><span style=\"color:green\">correct</span></b></td>\n",
              "      </tr>\n",
              "      <tr>\n",
              "      <td>car</td>\n",
              "      <td>NN</td>\n",
              "    \n",
              "        <td>NN</td>\n",
              "        <td><b><span style=\"color:green\">correct</span></b></td>\n",
              "      </tr>\n",
              "      <tr>\n",
              "      <td>bomb</td>\n",
              "      <td>NN</td>\n",
              "    \n",
              "        <td>NN</td>\n",
              "        <td><b><span style=\"color:green\">correct</span></b></td>\n",
              "      </tr>\n",
              "      <tr>\n",
              "      <td>blast</td>\n",
              "      <td>NN</td>\n",
              "    \n",
              "        <td>NN</td>\n",
              "        <td><b><span style=\"color:green\">correct</span></b></td>\n",
              "      </tr>\n",
              "      <tr>\n",
              "      <td>that</td>\n",
              "      <td>WDT</td>\n",
              "    \n",
              "        <td>WDT</td>\n",
              "        <td><b><span style=\"color:green\">correct</span></b></td>\n",
              "      </tr>\n",
              "      <tr>\n",
              "      <td>was</td>\n",
              "      <td>VBD</td>\n",
              "    \n",
              "        <td>VBD</td>\n",
              "        <td><b><span style=\"color:green\">correct</span></b></td>\n",
              "      </tr>\n",
              "      <tr>\n",
              "      <td>apparently</td>\n",
              "      <td>RB</td>\n",
              "    \n",
              "        <td>RB</td>\n",
              "        <td><b><span style=\"color:green\">correct</span></b></td>\n",
              "      </tr>\n",
              "      <tr>\n",
              "      <td>aimed</td>\n",
              "      <td>VBN</td>\n",
              "    \n",
              "        <td>VBN</td>\n",
              "        <td><b><span style=\"color:green\">correct</span></b></td>\n",
              "      </tr>\n",
              "      <tr>\n",
              "      <td>at</td>\n",
              "      <td>IN</td>\n",
              "    \n",
              "        <td>IN</td>\n",
              "        <td><b><span style=\"color:green\">correct</span></b></td>\n",
              "      </tr>\n",
              "      <tr>\n",
              "      <td>a</td>\n",
              "      <td>DT</td>\n",
              "    \n",
              "        <td>DT</td>\n",
              "        <td><b><span style=\"color:green\">correct</span></b></td>\n",
              "      </tr>\n",
              "      <tr>\n",
              "      <td>senior</td>\n",
              "      <td>JJ</td>\n",
              "    \n",
              "        <td>JJ</td>\n",
              "        <td><b><span style=\"color:green\">correct</span></b></td>\n",
              "      </tr>\n",
              "      <tr>\n",
              "      <td>Interior</td>\n",
              "      <td>NNP</td>\n",
              "    \n",
              "        <td>NNP</td>\n",
              "        <td><b><span style=\"color:green\">correct</span></b></td>\n",
              "      </tr>\n",
              "      <tr>\n",
              "      <td>Ministry</td>\n",
              "      <td>NNP</td>\n",
              "    \n",
              "        <td>NNP</td>\n",
              "        <td><b><span style=\"color:green\">correct</span></b></td>\n",
              "      </tr>\n",
              "      <tr>\n",
              "      <td>official</td>\n",
              "      <td>NN</td>\n",
              "    \n",
              "        <td>NN</td>\n",
              "        <td><b><span style=\"color:green\">correct</span></b></td>\n",
              "      </tr>\n",
              "      <tr>\n",
              "      <td>,</td>\n",
              "      <td>,</td>\n",
              "    \n",
              "        <td>,</td>\n",
              "        <td><b><span style=\"color:green\">correct</span></b></td>\n",
              "      </tr>\n",
              "      <tr>\n",
              "      <td>who</td>\n",
              "      <td>WP</td>\n",
              "    \n",
              "        <td>WP</td>\n",
              "        <td><b><span style=\"color:green\">correct</span></b></td>\n",
              "      </tr>\n",
              "      <tr>\n",
              "      <td>escaped</td>\n",
              "      <td>VBD</td>\n",
              "    \n",
              "        <td>VBD</td>\n",
              "        <td><b><span style=\"color:green\">correct</span></b></td>\n",
              "      </tr>\n",
              "      <tr>\n",
              "      <td>injuries</td>\n",
              "      <td>NNS</td>\n",
              "    \n",
              "        <td>NNS</td>\n",
              "        <td><b><span style=\"color:green\">correct</span></b></td>\n",
              "      </tr>\n",
              "      <tr>\n",
              "      <td>.</td>\n",
              "      <td>.</td>\n",
              "    \n",
              "        <td>.</td>\n",
              "        <td><b><span style=\"color:green\">correct</span></b></td>\n",
              "      </tr></table>"
            ],
            "text/plain": [
              "<IPython.core.display.HTML object>"
            ]
          },
          "metadata": {},
          "output_type": "display_data"
        }
      ],
      "source": [
        "predict_label(sentences, labels)"
      ]
    },
    {
      "cell_type": "code",
      "execution_count": 37,
      "metadata": {
        "colab": {
          "base_uri": "https://localhost:8080/",
          "height": 1000
        },
        "id": "-H4hGHYJfK_I",
        "outputId": "b4183e79-1b7e-49f4-df4a-d7b066e02bde"
      },
      "outputs": [
        {
          "data": {
            "text/html": [
              "<b>Sentence:</b> The decision by the International Hydrographic Organization in the spring of 2000 to delimit a fifth world ocean , the Southern Ocean , removed the portion of the Atlantic Ocean south of 60 degrees south latitude .<br><br>"
            ],
            "text/plain": [
              "<IPython.core.display.HTML object>"
            ]
          },
          "metadata": {},
          "output_type": "display_data"
        },
        {
          "data": {
            "text/html": [
              "\n",
              "  <table style=\"border-collapse: separate; border-spacing: 15px; text-align: center;\">\n",
              "    <tr>\n",
              "      <th>Word</th>\n",
              "      <th>Predicted PoS</th>\n",
              "  <th>True PoS</th></tr>\n",
              "      <tr>\n",
              "      <td>The</td>\n",
              "      <td>DT</td>\n",
              "    \n",
              "        <td>DT</td>\n",
              "        <td><b><span style=\"color:green\">correct</span></b></td>\n",
              "      </tr>\n",
              "      <tr>\n",
              "      <td>decision</td>\n",
              "      <td>NN</td>\n",
              "    \n",
              "        <td>NN</td>\n",
              "        <td><b><span style=\"color:green\">correct</span></b></td>\n",
              "      </tr>\n",
              "      <tr>\n",
              "      <td>by</td>\n",
              "      <td>IN</td>\n",
              "    \n",
              "        <td>IN</td>\n",
              "        <td><b><span style=\"color:green\">correct</span></b></td>\n",
              "      </tr>\n",
              "      <tr>\n",
              "      <td>the</td>\n",
              "      <td>DT</td>\n",
              "    \n",
              "        <td>DT</td>\n",
              "        <td><b><span style=\"color:green\">correct</span></b></td>\n",
              "      </tr>\n",
              "      <tr>\n",
              "      <td>International</td>\n",
              "      <td>NNP</td>\n",
              "    \n",
              "        <td>NNP</td>\n",
              "        <td><b><span style=\"color:green\">correct</span></b></td>\n",
              "      </tr>\n",
              "      <tr>\n",
              "      <td>Hydrographic</td>\n",
              "      <td>NNP</td>\n",
              "    \n",
              "        <td>NNP</td>\n",
              "        <td><b><span style=\"color:green\">correct</span></b></td>\n",
              "      </tr>\n",
              "      <tr>\n",
              "      <td>Organization</td>\n",
              "      <td>NNP</td>\n",
              "    \n",
              "        <td>NNP</td>\n",
              "        <td><b><span style=\"color:green\">correct</span></b></td>\n",
              "      </tr>\n",
              "      <tr>\n",
              "      <td>in</td>\n",
              "      <td>IN</td>\n",
              "    \n",
              "        <td>IN</td>\n",
              "        <td><b><span style=\"color:green\">correct</span></b></td>\n",
              "      </tr>\n",
              "      <tr>\n",
              "      <td>the</td>\n",
              "      <td>DT</td>\n",
              "    \n",
              "        <td>DT</td>\n",
              "        <td><b><span style=\"color:green\">correct</span></b></td>\n",
              "      </tr>\n",
              "      <tr>\n",
              "      <td>spring</td>\n",
              "      <td>NN</td>\n",
              "    \n",
              "        <td>NN</td>\n",
              "        <td><b><span style=\"color:green\">correct</span></b></td>\n",
              "      </tr>\n",
              "      <tr>\n",
              "      <td>of</td>\n",
              "      <td>IN</td>\n",
              "    \n",
              "        <td>IN</td>\n",
              "        <td><b><span style=\"color:green\">correct</span></b></td>\n",
              "      </tr>\n",
              "      <tr>\n",
              "      <td>2000</td>\n",
              "      <td>CD</td>\n",
              "    \n",
              "        <td>CD</td>\n",
              "        <td><b><span style=\"color:green\">correct</span></b></td>\n",
              "      </tr>\n",
              "      <tr>\n",
              "      <td>to</td>\n",
              "      <td>TO</td>\n",
              "    \n",
              "        <td>TO</td>\n",
              "        <td><b><span style=\"color:green\">correct</span></b></td>\n",
              "      </tr>\n",
              "      <tr>\n",
              "      <td>delimit</td>\n",
              "      <td>VB</td>\n",
              "    \n",
              "        <td>VB</td>\n",
              "        <td><b><span style=\"color:green\">correct</span></b></td>\n",
              "      </tr>\n",
              "      <tr>\n",
              "      <td>a</td>\n",
              "      <td>DT</td>\n",
              "    \n",
              "        <td>DT</td>\n",
              "        <td><b><span style=\"color:green\">correct</span></b></td>\n",
              "      </tr>\n",
              "      <tr>\n",
              "      <td>fifth</td>\n",
              "      <td>JJ</td>\n",
              "    \n",
              "        <td>JJ</td>\n",
              "        <td><b><span style=\"color:green\">correct</span></b></td>\n",
              "      </tr>\n",
              "      <tr>\n",
              "      <td>world</td>\n",
              "      <td>NN</td>\n",
              "    \n",
              "        <td>NN</td>\n",
              "        <td><b><span style=\"color:green\">correct</span></b></td>\n",
              "      </tr>\n",
              "      <tr>\n",
              "      <td>ocean</td>\n",
              "      <td>NN</td>\n",
              "    \n",
              "        <td>NN</td>\n",
              "        <td><b><span style=\"color:green\">correct</span></b></td>\n",
              "      </tr>\n",
              "      <tr>\n",
              "      <td>,</td>\n",
              "      <td>,</td>\n",
              "    \n",
              "        <td>,</td>\n",
              "        <td><b><span style=\"color:green\">correct</span></b></td>\n",
              "      </tr>\n",
              "      <tr>\n",
              "      <td>the</td>\n",
              "      <td>DT</td>\n",
              "    \n",
              "        <td>DT</td>\n",
              "        <td><b><span style=\"color:green\">correct</span></b></td>\n",
              "      </tr>\n",
              "      <tr>\n",
              "      <td>Southern</td>\n",
              "      <td>NNP</td>\n",
              "    \n",
              "        <td>NNP</td>\n",
              "        <td><b><span style=\"color:green\">correct</span></b></td>\n",
              "      </tr>\n",
              "      <tr>\n",
              "      <td>Ocean</td>\n",
              "      <td>NNP</td>\n",
              "    \n",
              "        <td>NNP</td>\n",
              "        <td><b><span style=\"color:green\">correct</span></b></td>\n",
              "      </tr>\n",
              "      <tr>\n",
              "      <td>,</td>\n",
              "      <td>,</td>\n",
              "    \n",
              "        <td>,</td>\n",
              "        <td><b><span style=\"color:green\">correct</span></b></td>\n",
              "      </tr>\n",
              "      <tr>\n",
              "      <td>removed</td>\n",
              "      <td>VBD</td>\n",
              "    \n",
              "        <td>VBD</td>\n",
              "        <td><b><span style=\"color:green\">correct</span></b></td>\n",
              "      </tr>\n",
              "      <tr>\n",
              "      <td>the</td>\n",
              "      <td>DT</td>\n",
              "    \n",
              "        <td>DT</td>\n",
              "        <td><b><span style=\"color:green\">correct</span></b></td>\n",
              "      </tr>\n",
              "      <tr>\n",
              "      <td>portion</td>\n",
              "      <td>NN</td>\n",
              "    \n",
              "        <td>NN</td>\n",
              "        <td><b><span style=\"color:green\">correct</span></b></td>\n",
              "      </tr>\n",
              "      <tr>\n",
              "      <td>of</td>\n",
              "      <td>IN</td>\n",
              "    \n",
              "        <td>IN</td>\n",
              "        <td><b><span style=\"color:green\">correct</span></b></td>\n",
              "      </tr>\n",
              "      <tr>\n",
              "      <td>the</td>\n",
              "      <td>DT</td>\n",
              "    \n",
              "        <td>DT</td>\n",
              "        <td><b><span style=\"color:green\">correct</span></b></td>\n",
              "      </tr>\n",
              "      <tr>\n",
              "      <td>Atlantic</td>\n",
              "      <td>NNP</td>\n",
              "    \n",
              "        <td>NNP</td>\n",
              "        <td><b><span style=\"color:green\">correct</span></b></td>\n",
              "      </tr>\n",
              "      <tr>\n",
              "      <td>Ocean</td>\n",
              "      <td>NNP</td>\n",
              "    \n",
              "        <td>NNP</td>\n",
              "        <td><b><span style=\"color:green\">correct</span></b></td>\n",
              "      </tr>\n",
              "      <tr>\n",
              "      <td>south</td>\n",
              "      <td>NN</td>\n",
              "    \n",
              "        <td>NN</td>\n",
              "        <td><b><span style=\"color:green\">correct</span></b></td>\n",
              "      </tr>\n",
              "      <tr>\n",
              "      <td>of</td>\n",
              "      <td>IN</td>\n",
              "    \n",
              "        <td>IN</td>\n",
              "        <td><b><span style=\"color:green\">correct</span></b></td>\n",
              "      </tr>\n",
              "      <tr>\n",
              "      <td>60</td>\n",
              "      <td>CD</td>\n",
              "    \n",
              "        <td>CD</td>\n",
              "        <td><b><span style=\"color:green\">correct</span></b></td>\n",
              "      </tr>\n",
              "      <tr>\n",
              "      <td>degrees</td>\n",
              "      <td>NNS</td>\n",
              "    \n",
              "        <td>NNS</td>\n",
              "        <td><b><span style=\"color:green\">correct</span></b></td>\n",
              "      </tr>\n",
              "      <tr>\n",
              "      <td>south</td>\n",
              "      <td>JJ</td>\n",
              "    \n",
              "        <td>JJ</td>\n",
              "        <td><b><span style=\"color:green\">correct</span></b></td>\n",
              "      </tr>\n",
              "      <tr>\n",
              "      <td>latitude</td>\n",
              "      <td>NN</td>\n",
              "    \n",
              "        <td>NN</td>\n",
              "        <td><b><span style=\"color:green\">correct</span></b></td>\n",
              "      </tr>\n",
              "      <tr>\n",
              "      <td>.</td>\n",
              "      <td>.</td>\n",
              "    \n",
              "        <td>.</td>\n",
              "        <td><b><span style=\"color:green\">correct</span></b></td>\n",
              "      </tr></table>"
            ],
            "text/plain": [
              "<IPython.core.display.HTML object>"
            ]
          },
          "metadata": {},
          "output_type": "display_data"
        }
      ],
      "source": [
        "predict_label(sentences, labels, random=False, indice=100)"
      ]
    },
    {
      "cell_type": "code",
      "execution_count": 39,
      "metadata": {
        "colab": {
          "base_uri": "https://localhost:8080/",
          "height": 548
        },
        "id": "y9u42GSTqEyQ",
        "outputId": "56acb0b4-e5c8-425e-ec1a-b637fdf3f5d8"
      },
      "outputs": [
        {
          "data": {
            "text/html": [
              "<b>Sentence:</b> They also offer guidance on religious affairs involving state and public interests .<br><br>"
            ],
            "text/plain": [
              "<IPython.core.display.HTML object>"
            ]
          },
          "metadata": {},
          "output_type": "display_data"
        },
        {
          "data": {
            "text/html": [
              "\n",
              "  <table style=\"border-collapse: separate; border-spacing: 15px; text-align: center;\">\n",
              "    <tr>\n",
              "      <th>Word</th>\n",
              "      <th>Predicted PoS</th>\n",
              "  <th>True PoS</th></tr>\n",
              "      <tr>\n",
              "      <td>They</td>\n",
              "      <td>PRP</td>\n",
              "    \n",
              "        <td>PRP</td>\n",
              "        <td><b><span style=\"color:green\">correct</span></b></td>\n",
              "      </tr>\n",
              "      <tr>\n",
              "      <td>also</td>\n",
              "      <td>RB</td>\n",
              "    \n",
              "        <td>RB</td>\n",
              "        <td><b><span style=\"color:green\">correct</span></b></td>\n",
              "      </tr>\n",
              "      <tr>\n",
              "      <td>offer</td>\n",
              "      <td>VBP</td>\n",
              "    \n",
              "        <td>VBP</td>\n",
              "        <td><b><span style=\"color:green\">correct</span></b></td>\n",
              "      </tr>\n",
              "      <tr>\n",
              "      <td>guidance</td>\n",
              "      <td>NN</td>\n",
              "    \n",
              "        <td>NN</td>\n",
              "        <td><b><span style=\"color:green\">correct</span></b></td>\n",
              "      </tr>\n",
              "      <tr>\n",
              "      <td>on</td>\n",
              "      <td>IN</td>\n",
              "    \n",
              "        <td>IN</td>\n",
              "        <td><b><span style=\"color:green\">correct</span></b></td>\n",
              "      </tr>\n",
              "      <tr>\n",
              "      <td>religious</td>\n",
              "      <td>JJ</td>\n",
              "    \n",
              "        <td>JJ</td>\n",
              "        <td><b><span style=\"color:green\">correct</span></b></td>\n",
              "      </tr>\n",
              "      <tr>\n",
              "      <td>affairs</td>\n",
              "      <td>NNS</td>\n",
              "    \n",
              "        <td>NNS</td>\n",
              "        <td><b><span style=\"color:green\">correct</span></b></td>\n",
              "      </tr>\n",
              "      <tr>\n",
              "      <td>involving</td>\n",
              "      <td>VBG</td>\n",
              "    \n",
              "        <td>VBG</td>\n",
              "        <td><b><span style=\"color:green\">correct</span></b></td>\n",
              "      </tr>\n",
              "      <tr>\n",
              "      <td>state</td>\n",
              "      <td>NN</td>\n",
              "    \n",
              "        <td>NN</td>\n",
              "        <td><b><span style=\"color:green\">correct</span></b></td>\n",
              "      </tr>\n",
              "      <tr>\n",
              "      <td>and</td>\n",
              "      <td>CC</td>\n",
              "    \n",
              "        <td>CC</td>\n",
              "        <td><b><span style=\"color:green\">correct</span></b></td>\n",
              "      </tr>\n",
              "      <tr>\n",
              "      <td>public</td>\n",
              "      <td>JJ</td>\n",
              "    \n",
              "        <td>JJ</td>\n",
              "        <td><b><span style=\"color:green\">correct</span></b></td>\n",
              "      </tr>\n",
              "      <tr>\n",
              "      <td>interests</td>\n",
              "      <td>NNS</td>\n",
              "    \n",
              "        <td>NNS</td>\n",
              "        <td><b><span style=\"color:green\">correct</span></b></td>\n",
              "      </tr>\n",
              "      <tr>\n",
              "      <td>.</td>\n",
              "      <td>.</td>\n",
              "    \n",
              "        <td>.</td>\n",
              "        <td><b><span style=\"color:green\">correct</span></b></td>\n",
              "      </tr></table>"
            ],
            "text/plain": [
              "<IPython.core.display.HTML object>"
            ]
          },
          "metadata": {},
          "output_type": "display_data"
        }
      ],
      "source": [
        "predict_label(sentences, labels)"
      ]
    },
    {
      "cell_type": "code",
      "execution_count": 40,
      "metadata": {
        "colab": {
          "base_uri": "https://localhost:8080/",
          "height": 548
        },
        "id": "gjtMVy7ufcUU",
        "outputId": "c14582c1-a13f-4773-bd54-35f958a95a45"
      },
      "outputs": [
        {
          "data": {
            "text/html": [
              "<b>Sentence:</b> Diaz-Balart told the Miami Herald newspaper that the policy should be eliminated .<br><br>"
            ],
            "text/plain": [
              "<IPython.core.display.HTML object>"
            ]
          },
          "metadata": {},
          "output_type": "display_data"
        },
        {
          "data": {
            "text/html": [
              "\n",
              "  <table style=\"border-collapse: separate; border-spacing: 15px; text-align: center;\">\n",
              "    <tr>\n",
              "      <th>Word</th>\n",
              "      <th>Predicted PoS</th>\n",
              "  <th>True PoS</th></tr>\n",
              "      <tr>\n",
              "      <td>Diaz-Balart</td>\n",
              "      <td>NNP</td>\n",
              "    \n",
              "        <td>NNP</td>\n",
              "        <td><b><span style=\"color:green\">correct</span></b></td>\n",
              "      </tr>\n",
              "      <tr>\n",
              "      <td>told</td>\n",
              "      <td>VBD</td>\n",
              "    \n",
              "        <td>VBD</td>\n",
              "        <td><b><span style=\"color:green\">correct</span></b></td>\n",
              "      </tr>\n",
              "      <tr>\n",
              "      <td>the</td>\n",
              "      <td>DT</td>\n",
              "    \n",
              "        <td>DT</td>\n",
              "        <td><b><span style=\"color:green\">correct</span></b></td>\n",
              "      </tr>\n",
              "      <tr>\n",
              "      <td>Miami</td>\n",
              "      <td>NNP</td>\n",
              "    \n",
              "        <td>NNP</td>\n",
              "        <td><b><span style=\"color:green\">correct</span></b></td>\n",
              "      </tr>\n",
              "      <tr>\n",
              "      <td>Herald</td>\n",
              "      <td>NNP</td>\n",
              "    \n",
              "        <td>NNP</td>\n",
              "        <td><b><span style=\"color:green\">correct</span></b></td>\n",
              "      </tr>\n",
              "      <tr>\n",
              "      <td>newspaper</td>\n",
              "      <td>NN</td>\n",
              "    \n",
              "        <td>NN</td>\n",
              "        <td><b><span style=\"color:green\">correct</span></b></td>\n",
              "      </tr>\n",
              "      <tr>\n",
              "      <td>that</td>\n",
              "      <td>IN</td>\n",
              "    \n",
              "        <td>IN</td>\n",
              "        <td><b><span style=\"color:green\">correct</span></b></td>\n",
              "      </tr>\n",
              "      <tr>\n",
              "      <td>the</td>\n",
              "      <td>DT</td>\n",
              "    \n",
              "        <td>DT</td>\n",
              "        <td><b><span style=\"color:green\">correct</span></b></td>\n",
              "      </tr>\n",
              "      <tr>\n",
              "      <td>policy</td>\n",
              "      <td>NN</td>\n",
              "    \n",
              "        <td>NN</td>\n",
              "        <td><b><span style=\"color:green\">correct</span></b></td>\n",
              "      </tr>\n",
              "      <tr>\n",
              "      <td>should</td>\n",
              "      <td>MD</td>\n",
              "    \n",
              "        <td>MD</td>\n",
              "        <td><b><span style=\"color:green\">correct</span></b></td>\n",
              "      </tr>\n",
              "      <tr>\n",
              "      <td>be</td>\n",
              "      <td>VB</td>\n",
              "    \n",
              "        <td>VB</td>\n",
              "        <td><b><span style=\"color:green\">correct</span></b></td>\n",
              "      </tr>\n",
              "      <tr>\n",
              "      <td>eliminated</td>\n",
              "      <td>VBN</td>\n",
              "    \n",
              "        <td>VBN</td>\n",
              "        <td><b><span style=\"color:green\">correct</span></b></td>\n",
              "      </tr>\n",
              "      <tr>\n",
              "      <td>.</td>\n",
              "      <td>.</td>\n",
              "    \n",
              "        <td>.</td>\n",
              "        <td><b><span style=\"color:green\">correct</span></b></td>\n",
              "      </tr></table>"
            ],
            "text/plain": [
              "<IPython.core.display.HTML object>"
            ]
          },
          "metadata": {},
          "output_type": "display_data"
        }
      ],
      "source": [
        "predict_label(sentences, labels, random=False, indice=2093)"
      ]
    },
    {
      "cell_type": "markdown",
      "metadata": {
        "id": "hJ0tlsGTmy69"
      },
      "source": [
        "#### **Other Sentences**"
      ]
    },
    {
      "cell_type": "code",
      "execution_count": 52,
      "metadata": {
        "colab": {
          "base_uri": "https://localhost:8080/",
          "height": 1000
        },
        "id": "6NpP_goojDol",
        "outputId": "2a5b0915-f6b1-4317-d4e7-005cdb461b50"
      },
      "outputs": [
        {
          "data": {
            "text/html": [
              "<b>Sentence:</b> George Smith , the White House director of trade and manufacturing policy of U.S , said in an interview on Sunday morning that the White House was working to prepare for the possibility of a second wave of the coronavirus in the fall .<br><br>"
            ],
            "text/plain": [
              "<IPython.core.display.HTML object>"
            ]
          },
          "metadata": {},
          "output_type": "display_data"
        },
        {
          "data": {
            "text/html": [
              "\n",
              "  <table style=\"border-collapse: separate; border-spacing: 15px; text-align: center;\">\n",
              "    <tr>\n",
              "      <th>Word</th>\n",
              "      <th>Predicted PoS</th>\n",
              "  </tr>\n",
              "      <tr>\n",
              "      <td>George</td>\n",
              "      <td>NNP</td>\n",
              "    </tr>\n",
              "      <tr>\n",
              "      <td>Smith</td>\n",
              "      <td>NNP</td>\n",
              "    </tr>\n",
              "      <tr>\n",
              "      <td>,</td>\n",
              "      <td>,</td>\n",
              "    </tr>\n",
              "      <tr>\n",
              "      <td>the</td>\n",
              "      <td>DT</td>\n",
              "    </tr>\n",
              "      <tr>\n",
              "      <td>White</td>\n",
              "      <td>NNP</td>\n",
              "    </tr>\n",
              "      <tr>\n",
              "      <td>House</td>\n",
              "      <td>NNP</td>\n",
              "    </tr>\n",
              "      <tr>\n",
              "      <td>director</td>\n",
              "      <td>NN</td>\n",
              "    </tr>\n",
              "      <tr>\n",
              "      <td>of</td>\n",
              "      <td>IN</td>\n",
              "    </tr>\n",
              "      <tr>\n",
              "      <td>trade</td>\n",
              "      <td>NN</td>\n",
              "    </tr>\n",
              "      <tr>\n",
              "      <td>and</td>\n",
              "      <td>CC</td>\n",
              "    </tr>\n",
              "      <tr>\n",
              "      <td>manufacturing</td>\n",
              "      <td>NN</td>\n",
              "    </tr>\n",
              "      <tr>\n",
              "      <td>policy</td>\n",
              "      <td>NN</td>\n",
              "    </tr>\n",
              "      <tr>\n",
              "      <td>of</td>\n",
              "      <td>IN</td>\n",
              "    </tr>\n",
              "      <tr>\n",
              "      <td>U.S</td>\n",
              "      <td>NNP</td>\n",
              "    </tr>\n",
              "      <tr>\n",
              "      <td>,</td>\n",
              "      <td>,</td>\n",
              "    </tr>\n",
              "      <tr>\n",
              "      <td>said</td>\n",
              "      <td>VBD</td>\n",
              "    </tr>\n",
              "      <tr>\n",
              "      <td>in</td>\n",
              "      <td>IN</td>\n",
              "    </tr>\n",
              "      <tr>\n",
              "      <td>an</td>\n",
              "      <td>DT</td>\n",
              "    </tr>\n",
              "      <tr>\n",
              "      <td>interview</td>\n",
              "      <td>NN</td>\n",
              "    </tr>\n",
              "      <tr>\n",
              "      <td>on</td>\n",
              "      <td>IN</td>\n",
              "    </tr>\n",
              "      <tr>\n",
              "      <td>Sunday</td>\n",
              "      <td>NNP</td>\n",
              "    </tr>\n",
              "      <tr>\n",
              "      <td>morning</td>\n",
              "      <td>NN</td>\n",
              "    </tr>\n",
              "      <tr>\n",
              "      <td>that</td>\n",
              "      <td>IN</td>\n",
              "    </tr>\n",
              "      <tr>\n",
              "      <td>the</td>\n",
              "      <td>DT</td>\n",
              "    </tr>\n",
              "      <tr>\n",
              "      <td>White</td>\n",
              "      <td>NNP</td>\n",
              "    </tr>\n",
              "      <tr>\n",
              "      <td>House</td>\n",
              "      <td>NNP</td>\n",
              "    </tr>\n",
              "      <tr>\n",
              "      <td>was</td>\n",
              "      <td>VBD</td>\n",
              "    </tr>\n",
              "      <tr>\n",
              "      <td>working</td>\n",
              "      <td>VBG</td>\n",
              "    </tr>\n",
              "      <tr>\n",
              "      <td>to</td>\n",
              "      <td>TO</td>\n",
              "    </tr>\n",
              "      <tr>\n",
              "      <td>prepare</td>\n",
              "      <td>VB</td>\n",
              "    </tr>\n",
              "      <tr>\n",
              "      <td>for</td>\n",
              "      <td>IN</td>\n",
              "    </tr>\n",
              "      <tr>\n",
              "      <td>the</td>\n",
              "      <td>DT</td>\n",
              "    </tr>\n",
              "      <tr>\n",
              "      <td>possibility</td>\n",
              "      <td>NN</td>\n",
              "    </tr>\n",
              "      <tr>\n",
              "      <td>of</td>\n",
              "      <td>IN</td>\n",
              "    </tr>\n",
              "      <tr>\n",
              "      <td>a</td>\n",
              "      <td>DT</td>\n",
              "    </tr>\n",
              "      <tr>\n",
              "      <td>second</td>\n",
              "      <td>JJ</td>\n",
              "    </tr>\n",
              "      <tr>\n",
              "      <td>wave</td>\n",
              "      <td>NN</td>\n",
              "    </tr>\n",
              "      <tr>\n",
              "      <td>of</td>\n",
              "      <td>IN</td>\n",
              "    </tr>\n",
              "      <tr>\n",
              "      <td>the</td>\n",
              "      <td>DT</td>\n",
              "    </tr>\n",
              "      <tr>\n",
              "      <td>[UNK]</td>\n",
              "      <td>NN</td>\n",
              "    </tr>\n",
              "      <tr>\n",
              "      <td>in</td>\n",
              "      <td>IN</td>\n",
              "    </tr>\n",
              "      <tr>\n",
              "      <td>the</td>\n",
              "      <td>DT</td>\n",
              "    </tr>\n",
              "      <tr>\n",
              "      <td>fall</td>\n",
              "      <td>NN</td>\n",
              "    </tr>\n",
              "      <tr>\n",
              "      <td>.</td>\n",
              "      <td>.</td>\n",
              "    </tr></table>"
            ],
            "text/plain": [
              "<IPython.core.display.HTML object>"
            ]
          },
          "metadata": {},
          "output_type": "display_data"
        }
      ],
      "source": [
        "sentence = [\"George Smith , the White House director of trade and manufacturing policy of U.S , said in an interview on Sunday morning that the White House was working to prepare for the possibility of a second wave of the coronavirus in the fall .\"]\n",
        "predict_label(sentence)"
      ]
    },
    {
      "cell_type": "code",
      "execution_count": 53,
      "metadata": {
        "colab": {
          "base_uri": "https://localhost:8080/",
          "height": 1000
        },
        "id": "kV9t_wLstB07",
        "outputId": "5d28ee17-364c-466f-80ba-ce8228dd4856"
      },
      "outputs": [
        {
          "data": {
            "text/html": [
              "<b>Sentence:</b> In Tokyo , Japan , the United Nations announced on Monday that they will hold a global climate summit in December . The event , which will include representatives from over 150 countries , aims to address the urgent issues of climate change and global warming . UN Secretary-General Antonio Guterres emphasized the need for immediate action to protect the planet .<br><br>"
            ],
            "text/plain": [
              "<IPython.core.display.HTML object>"
            ]
          },
          "metadata": {},
          "output_type": "display_data"
        },
        {
          "data": {
            "text/html": [
              "\n",
              "  <table style=\"border-collapse: separate; border-spacing: 15px; text-align: center;\">\n",
              "    <tr>\n",
              "      <th>Word</th>\n",
              "      <th>Predicted PoS</th>\n",
              "  </tr>\n",
              "      <tr>\n",
              "      <td>In</td>\n",
              "      <td>IN</td>\n",
              "    </tr>\n",
              "      <tr>\n",
              "      <td>Tokyo</td>\n",
              "      <td>NNP</td>\n",
              "    </tr>\n",
              "      <tr>\n",
              "      <td>,</td>\n",
              "      <td>,</td>\n",
              "    </tr>\n",
              "      <tr>\n",
              "      <td>Japan</td>\n",
              "      <td>NNP</td>\n",
              "    </tr>\n",
              "      <tr>\n",
              "      <td>,</td>\n",
              "      <td>,</td>\n",
              "    </tr>\n",
              "      <tr>\n",
              "      <td>the</td>\n",
              "      <td>DT</td>\n",
              "    </tr>\n",
              "      <tr>\n",
              "      <td>United</td>\n",
              "      <td>NNP</td>\n",
              "    </tr>\n",
              "      <tr>\n",
              "      <td>Nations</td>\n",
              "      <td>NNP</td>\n",
              "    </tr>\n",
              "      <tr>\n",
              "      <td>announced</td>\n",
              "      <td>VBD</td>\n",
              "    </tr>\n",
              "      <tr>\n",
              "      <td>on</td>\n",
              "      <td>IN</td>\n",
              "    </tr>\n",
              "      <tr>\n",
              "      <td>Monday</td>\n",
              "      <td>NNP</td>\n",
              "    </tr>\n",
              "      <tr>\n",
              "      <td>that</td>\n",
              "      <td>IN</td>\n",
              "    </tr>\n",
              "      <tr>\n",
              "      <td>they</td>\n",
              "      <td>PRP</td>\n",
              "    </tr>\n",
              "      <tr>\n",
              "      <td>will</td>\n",
              "      <td>MD</td>\n",
              "    </tr>\n",
              "      <tr>\n",
              "      <td>hold</td>\n",
              "      <td>VB</td>\n",
              "    </tr>\n",
              "      <tr>\n",
              "      <td>a</td>\n",
              "      <td>DT</td>\n",
              "    </tr>\n",
              "      <tr>\n",
              "      <td>global</td>\n",
              "      <td>JJ</td>\n",
              "    </tr>\n",
              "      <tr>\n",
              "      <td>climate</td>\n",
              "      <td>NN</td>\n",
              "    </tr>\n",
              "      <tr>\n",
              "      <td>summit</td>\n",
              "      <td>NN</td>\n",
              "    </tr>\n",
              "      <tr>\n",
              "      <td>in</td>\n",
              "      <td>IN</td>\n",
              "    </tr>\n",
              "      <tr>\n",
              "      <td>December</td>\n",
              "      <td>NNP</td>\n",
              "    </tr>\n",
              "      <tr>\n",
              "      <td>.</td>\n",
              "      <td>.</td>\n",
              "    </tr>\n",
              "      <tr>\n",
              "      <td>The</td>\n",
              "      <td>DT</td>\n",
              "    </tr>\n",
              "      <tr>\n",
              "      <td>event</td>\n",
              "      <td>NN</td>\n",
              "    </tr>\n",
              "      <tr>\n",
              "      <td>,</td>\n",
              "      <td>,</td>\n",
              "    </tr>\n",
              "      <tr>\n",
              "      <td>which</td>\n",
              "      <td>WDT</td>\n",
              "    </tr>\n",
              "      <tr>\n",
              "      <td>will</td>\n",
              "      <td>MD</td>\n",
              "    </tr>\n",
              "      <tr>\n",
              "      <td>include</td>\n",
              "      <td>VB</td>\n",
              "    </tr>\n",
              "      <tr>\n",
              "      <td>representatives</td>\n",
              "      <td>NNS</td>\n",
              "    </tr>\n",
              "      <tr>\n",
              "      <td>from</td>\n",
              "      <td>IN</td>\n",
              "    </tr>\n",
              "      <tr>\n",
              "      <td>over</td>\n",
              "      <td>IN</td>\n",
              "    </tr>\n",
              "      <tr>\n",
              "      <td>150</td>\n",
              "      <td>CD</td>\n",
              "    </tr>\n",
              "      <tr>\n",
              "      <td>countries</td>\n",
              "      <td>NNS</td>\n",
              "    </tr>\n",
              "      <tr>\n",
              "      <td>,</td>\n",
              "      <td>,</td>\n",
              "    </tr>\n",
              "      <tr>\n",
              "      <td>aims</td>\n",
              "      <td>VBZ</td>\n",
              "    </tr>\n",
              "      <tr>\n",
              "      <td>to</td>\n",
              "      <td>TO</td>\n",
              "    </tr>\n",
              "      <tr>\n",
              "      <td>address</td>\n",
              "      <td>VB</td>\n",
              "    </tr>\n",
              "      <tr>\n",
              "      <td>the</td>\n",
              "      <td>DT</td>\n",
              "    </tr>\n",
              "      <tr>\n",
              "      <td>urgent</td>\n",
              "      <td>JJ</td>\n",
              "    </tr>\n",
              "      <tr>\n",
              "      <td>issues</td>\n",
              "      <td>NNS</td>\n",
              "    </tr>\n",
              "      <tr>\n",
              "      <td>of</td>\n",
              "      <td>IN</td>\n",
              "    </tr>\n",
              "      <tr>\n",
              "      <td>climate</td>\n",
              "      <td>NN</td>\n",
              "    </tr>\n",
              "      <tr>\n",
              "      <td>change</td>\n",
              "      <td>NN</td>\n",
              "    </tr>\n",
              "      <tr>\n",
              "      <td>and</td>\n",
              "      <td>CC</td>\n",
              "    </tr>\n",
              "      <tr>\n",
              "      <td>global</td>\n",
              "      <td>JJ</td>\n",
              "    </tr>\n",
              "      <tr>\n",
              "      <td>warming</td>\n",
              "      <td>NN</td>\n",
              "    </tr>\n",
              "      <tr>\n",
              "      <td>.</td>\n",
              "      <td>.</td>\n",
              "    </tr>\n",
              "      <tr>\n",
              "      <td>UN</td>\n",
              "      <td>NNP</td>\n",
              "    </tr>\n",
              "      <tr>\n",
              "      <td>Secretary-General</td>\n",
              "      <td>NNP</td>\n",
              "    </tr>\n",
              "      <tr>\n",
              "      <td>Antonio</td>\n",
              "      <td>NNP</td>\n",
              "    </tr>\n",
              "      <tr>\n",
              "      <td>Guterres</td>\n",
              "      <td>NNP</td>\n",
              "    </tr>\n",
              "      <tr>\n",
              "      <td>emphasized</td>\n",
              "      <td>VBD</td>\n",
              "    </tr>\n",
              "      <tr>\n",
              "      <td>the</td>\n",
              "      <td>DT</td>\n",
              "    </tr>\n",
              "      <tr>\n",
              "      <td>need</td>\n",
              "      <td>NN</td>\n",
              "    </tr>\n",
              "      <tr>\n",
              "      <td>for</td>\n",
              "      <td>IN</td>\n",
              "    </tr>\n",
              "      <tr>\n",
              "      <td>immediate</td>\n",
              "      <td>JJ</td>\n",
              "    </tr>\n",
              "      <tr>\n",
              "      <td>action</td>\n",
              "      <td>NN</td>\n",
              "    </tr>\n",
              "      <tr>\n",
              "      <td>to</td>\n",
              "      <td>TO</td>\n",
              "    </tr>\n",
              "      <tr>\n",
              "      <td>protect</td>\n",
              "      <td>VB</td>\n",
              "    </tr>\n",
              "      <tr>\n",
              "      <td>the</td>\n",
              "      <td>DT</td>\n",
              "    </tr>\n",
              "      <tr>\n",
              "      <td>planet</td>\n",
              "      <td>NN</td>\n",
              "    </tr>\n",
              "      <tr>\n",
              "      <td>.</td>\n",
              "      <td>.</td>\n",
              "    </tr></table>"
            ],
            "text/plain": [
              "<IPython.core.display.HTML object>"
            ]
          },
          "metadata": {},
          "output_type": "display_data"
        }
      ],
      "source": [
        "sentence = [\"In Tokyo , Japan , the United Nations announced on Monday that they will hold a global climate summit in December . The event , which will include representatives from over 150 countries , aims to address the urgent issues of climate change and global warming . UN Secretary-General Antonio Guterres emphasized the need for immediate action to protect the planet .\"]\n",
        "predict_label(sentence)\n"
      ]
    },
    {
      "cell_type": "code",
      "execution_count": 54,
      "metadata": {
        "colab": {
          "base_uri": "https://localhost:8080/",
          "height": 1000
        },
        "id": "rkPZKvgAWFjU",
        "outputId": "02c7e0c1-1011-48ca-895c-fd2762194504"
      },
      "outputs": [
        {
          "data": {
            "text/html": [
              "<b>Sentence:</b> Barack Obama , the former President of the United States , delivered a speech at the United Nations General Assembly in New York City on Tuesday . He discussed global cooperation in addressing challenges such as climate change , terrorism , and economic inequality . Obama urged world leaders to work together for a better future .<br><br>"
            ],
            "text/plain": [
              "<IPython.core.display.HTML object>"
            ]
          },
          "metadata": {},
          "output_type": "display_data"
        },
        {
          "data": {
            "text/html": [
              "\n",
              "  <table style=\"border-collapse: separate; border-spacing: 15px; text-align: center;\">\n",
              "    <tr>\n",
              "      <th>Word</th>\n",
              "      <th>Predicted PoS</th>\n",
              "  </tr>\n",
              "      <tr>\n",
              "      <td>Barack</td>\n",
              "      <td>NNP</td>\n",
              "    </tr>\n",
              "      <tr>\n",
              "      <td>Obama</td>\n",
              "      <td>NNP</td>\n",
              "    </tr>\n",
              "      <tr>\n",
              "      <td>,</td>\n",
              "      <td>,</td>\n",
              "    </tr>\n",
              "      <tr>\n",
              "      <td>the</td>\n",
              "      <td>DT</td>\n",
              "    </tr>\n",
              "      <tr>\n",
              "      <td>former</td>\n",
              "      <td>JJ</td>\n",
              "    </tr>\n",
              "      <tr>\n",
              "      <td>President</td>\n",
              "      <td>NNP</td>\n",
              "    </tr>\n",
              "      <tr>\n",
              "      <td>of</td>\n",
              "      <td>IN</td>\n",
              "    </tr>\n",
              "      <tr>\n",
              "      <td>the</td>\n",
              "      <td>DT</td>\n",
              "    </tr>\n",
              "      <tr>\n",
              "      <td>United</td>\n",
              "      <td>NNP</td>\n",
              "    </tr>\n",
              "      <tr>\n",
              "      <td>States</td>\n",
              "      <td>NNPS</td>\n",
              "    </tr>\n",
              "      <tr>\n",
              "      <td>,</td>\n",
              "      <td>,</td>\n",
              "    </tr>\n",
              "      <tr>\n",
              "      <td>delivered</td>\n",
              "      <td>VBN</td>\n",
              "    </tr>\n",
              "      <tr>\n",
              "      <td>a</td>\n",
              "      <td>DT</td>\n",
              "    </tr>\n",
              "      <tr>\n",
              "      <td>speech</td>\n",
              "      <td>NN</td>\n",
              "    </tr>\n",
              "      <tr>\n",
              "      <td>at</td>\n",
              "      <td>IN</td>\n",
              "    </tr>\n",
              "      <tr>\n",
              "      <td>the</td>\n",
              "      <td>DT</td>\n",
              "    </tr>\n",
              "      <tr>\n",
              "      <td>United</td>\n",
              "      <td>NNP</td>\n",
              "    </tr>\n",
              "      <tr>\n",
              "      <td>Nations</td>\n",
              "      <td>NNP</td>\n",
              "    </tr>\n",
              "      <tr>\n",
              "      <td>General</td>\n",
              "      <td>NNP</td>\n",
              "    </tr>\n",
              "      <tr>\n",
              "      <td>Assembly</td>\n",
              "      <td>NNP</td>\n",
              "    </tr>\n",
              "      <tr>\n",
              "      <td>in</td>\n",
              "      <td>IN</td>\n",
              "    </tr>\n",
              "      <tr>\n",
              "      <td>New</td>\n",
              "      <td>NNP</td>\n",
              "    </tr>\n",
              "      <tr>\n",
              "      <td>York</td>\n",
              "      <td>NNP</td>\n",
              "    </tr>\n",
              "      <tr>\n",
              "      <td>City</td>\n",
              "      <td>NNP</td>\n",
              "    </tr>\n",
              "      <tr>\n",
              "      <td>on</td>\n",
              "      <td>IN</td>\n",
              "    </tr>\n",
              "      <tr>\n",
              "      <td>Tuesday</td>\n",
              "      <td>NNP</td>\n",
              "    </tr>\n",
              "      <tr>\n",
              "      <td>.</td>\n",
              "      <td>.</td>\n",
              "    </tr>\n",
              "      <tr>\n",
              "      <td>He</td>\n",
              "      <td>PRP</td>\n",
              "    </tr>\n",
              "      <tr>\n",
              "      <td>discussed</td>\n",
              "      <td>VBD</td>\n",
              "    </tr>\n",
              "      <tr>\n",
              "      <td>global</td>\n",
              "      <td>JJ</td>\n",
              "    </tr>\n",
              "      <tr>\n",
              "      <td>cooperation</td>\n",
              "      <td>NN</td>\n",
              "    </tr>\n",
              "      <tr>\n",
              "      <td>in</td>\n",
              "      <td>IN</td>\n",
              "    </tr>\n",
              "      <tr>\n",
              "      <td>addressing</td>\n",
              "      <td>VBG</td>\n",
              "    </tr>\n",
              "      <tr>\n",
              "      <td>challenges</td>\n",
              "      <td>NNS</td>\n",
              "    </tr>\n",
              "      <tr>\n",
              "      <td>such</td>\n",
              "      <td>JJ</td>\n",
              "    </tr>\n",
              "      <tr>\n",
              "      <td>as</td>\n",
              "      <td>IN</td>\n",
              "    </tr>\n",
              "      <tr>\n",
              "      <td>climate</td>\n",
              "      <td>NN</td>\n",
              "    </tr>\n",
              "      <tr>\n",
              "      <td>change</td>\n",
              "      <td>NN</td>\n",
              "    </tr>\n",
              "      <tr>\n",
              "      <td>,</td>\n",
              "      <td>,</td>\n",
              "    </tr>\n",
              "      <tr>\n",
              "      <td>terrorism</td>\n",
              "      <td>NN</td>\n",
              "    </tr>\n",
              "      <tr>\n",
              "      <td>,</td>\n",
              "      <td>,</td>\n",
              "    </tr>\n",
              "      <tr>\n",
              "      <td>and</td>\n",
              "      <td>CC</td>\n",
              "    </tr>\n",
              "      <tr>\n",
              "      <td>economic</td>\n",
              "      <td>JJ</td>\n",
              "    </tr>\n",
              "      <tr>\n",
              "      <td>inequality</td>\n",
              "      <td>NN</td>\n",
              "    </tr>\n",
              "      <tr>\n",
              "      <td>.</td>\n",
              "      <td>.</td>\n",
              "    </tr>\n",
              "      <tr>\n",
              "      <td>Obama</td>\n",
              "      <td>NNP</td>\n",
              "    </tr>\n",
              "      <tr>\n",
              "      <td>urged</td>\n",
              "      <td>VBD</td>\n",
              "    </tr>\n",
              "      <tr>\n",
              "      <td>world</td>\n",
              "      <td>NN</td>\n",
              "    </tr>\n",
              "      <tr>\n",
              "      <td>leaders</td>\n",
              "      <td>NNS</td>\n",
              "    </tr>\n",
              "      <tr>\n",
              "      <td>to</td>\n",
              "      <td>TO</td>\n",
              "    </tr>\n",
              "      <tr>\n",
              "      <td>work</td>\n",
              "      <td>VB</td>\n",
              "    </tr>\n",
              "      <tr>\n",
              "      <td>together</td>\n",
              "      <td>RB</td>\n",
              "    </tr>\n",
              "      <tr>\n",
              "      <td>for</td>\n",
              "      <td>IN</td>\n",
              "    </tr>\n",
              "      <tr>\n",
              "      <td>a</td>\n",
              "      <td>DT</td>\n",
              "    </tr>\n",
              "      <tr>\n",
              "      <td>better</td>\n",
              "      <td>JJR</td>\n",
              "    </tr>\n",
              "      <tr>\n",
              "      <td>future</td>\n",
              "      <td>NN</td>\n",
              "    </tr>\n",
              "      <tr>\n",
              "      <td>.</td>\n",
              "      <td>.</td>\n",
              "    </tr></table>"
            ],
            "text/plain": [
              "<IPython.core.display.HTML object>"
            ]
          },
          "metadata": {},
          "output_type": "display_data"
        }
      ],
      "source": [
        "sentence = [\"Barack Obama , the former President of the United States , delivered a speech at the United Nations General Assembly in New York City on Tuesday . He discussed global cooperation in addressing challenges such as climate change , terrorism , and economic inequality . Obama urged world leaders to work together for a better future .\"]\n",
        "predict_label(sentence)"
      ]
    },
    {
      "cell_type": "markdown",
      "metadata": {
        "id": "YNIhLXqCZrVI"
      },
      "source": [
        "There are only two errors: ``President`` should be ``NN`` (common noun) instead of ``NNP`` (proper noun), and ``delivered`` should be ``VBD`` (past tense verb) instead of ``VBN`` (past participle)."
      ]
    },
    {
      "cell_type": "markdown",
      "metadata": {
        "id": "OBbaLedUWUhd"
      },
      "source": [
        "**Conclusion:** It is evident that the model excels in accurately identifying each part of sentences in the test set, as well as in others not included in the Kaggle NER Dataset, even when they are long or complex. However, it exhibits slight inaccuracies in classifying certain labels, which are minimal as seen in the predicted examples. Therefore, while the model performs excellently, improving its performance would necessitate expanding the training dataset to include sentences containing minority labels to balance them with other labels. Additionally, as mentioned earlier, considering the use of Transformer networks would be advisable, but the LSTM model is already quite robust, so I believe it may not be necessary."
      ]
    }
  ],
  "metadata": {
    "colab": {
      "provenance": []
    },
    "kernelspec": {
      "display_name": "Python 3",
      "name": "python3"
    },
    "language_info": {
      "name": "python"
    }
  },
  "nbformat": 4,
  "nbformat_minor": 0
}
