{
  "cells": [
    {
      "cell_type": "markdown",
      "metadata": {
        "id": "ezzKLPtx8S6C"
      },
      "source": [
        "# **Named Entity Recognition with the Kaggle NER Dataset**"
      ]
    },
    {
      "cell_type": "markdown",
      "metadata": {
        "id": "Q2zgcLmK7_i7"
      },
      "source": [
        "This notebook demonstrates the implementation of a Token Classification model using an LSTM network for Named Entity Recognition (NER) task, leveraging the [Kaggle NER Dataset](https://www.kaggle.com/datasets/namanj27/ner-dataset)."
      ]
    },
    {
      "cell_type": "markdown",
      "metadata": {
        "id": "ohI0LZ0I8qQs"
      },
      "source": [
        "### **Imports**"
      ]
    },
    {
      "cell_type": "code",
      "execution_count": 1,
      "metadata": {
        "id": "D1M4u0Ah5kZH"
      },
      "outputs": [],
      "source": [
        "import tensorflow as tf\n",
        "from sklearn.model_selection import train_test_split\n",
        "import numpy as np\n",
        "import pandas as pd\n",
        "import plotly.graph_objects as go\n",
        "from IPython.core.display import HTML\n",
        "from google.colab import drive"
      ]
    },
    {
      "cell_type": "markdown",
      "metadata": {
        "id": "piIYd5Nl-8SX"
      },
      "source": [
        "### **Parameters**"
      ]
    },
    {
      "cell_type": "code",
      "execution_count": 2,
      "metadata": {
        "colab": {
          "base_uri": "https://localhost:8080/"
        },
        "id": "igp7rfLERUpe",
        "outputId": "d791f2fe-9ecd-4cb9-e840-97be0ca6988c"
      },
      "outputs": [
        {
          "name": "stdout",
          "output_type": "stream",
          "text": [
            "Mounted at /content/drive/\n"
          ]
        }
      ],
      "source": [
        "drive.mount(\"/content/drive/\")"
      ]
    },
    {
      "cell_type": "code",
      "execution_count": 3,
      "metadata": {
        "id": "mFvpDxgx85Yt"
      },
      "outputs": [],
      "source": [
        "epochs = 10\n",
        "batch_size = 64\n",
        "buffer_size = 1024\n",
        "AUTOTUNE = tf.data.AUTOTUNE\n",
        "SEED= 123\n",
        "vocab_size = None #Include the entire vocabulary, encompassing the padding and unknown tokens\n",
        "embedding_dim = 128"
      ]
    },
    {
      "cell_type": "markdown",
      "metadata": {
        "id": "2Jb1Tnf8-6m3"
      },
      "source": [
        "### **Load and Preprocess the Dataset**"
      ]
    },
    {
      "cell_type": "markdown",
      "metadata": {
        "id": "KROnPM3gw-xw"
      },
      "source": [
        "The dataset was downloaded from the provided link on the official Kaggle website and then uploaded to my personal Google Drive. It comprises 4 columns: ``# Sentence``, ``Word``, ``POS``, and ``Tag``. For the NER task, we will utilize all columns except ``POS``, as it is used for another token classification task, namely Part-of-Speech (PoS) Tagging.\n",
        "\n",
        "**NER Label Descriptions:**\n",
        "\n",
        "- **O: Outside**. Indicates that the word does not belong to any named entity.\n",
        "- **B-geo: Beginning of a geographic location**. Indicates that the word is the beginning of a geographic entity (e.g., a country, city, or place).\n",
        "- **I-geo: Inside of a geographic location**. Indicates that the word is part of a geographic entity but is not the beginning.\n",
        "- **B-tim: Beginning of a time expression**. Indicates that the word is the beginning of a temporal expression (e.g., a date or time).\n",
        "- **I-tim: Inside of a time expression**. Indicates that the word is part of a temporal expression but is not the beginning.\n",
        "- **B-org: Beginning of an organization**. Indicates that the word is the beginning of an organizational entity (e.g., a company or institution).\n",
        "- **I-org: Inside of an organization.** Indicates that the word is part of an organizational entity but is not the beginning.\n",
        "- **B-per: Beginning of a person**. Indicates that the word is the beginning of an entity referring to a person.\n",
        "- **I-per: Inside of a person**. Indicates that the word is part of an entity referring to a person but is not the beginning.\n",
        "- **B-gpe: Beginning of a geopolitical entity**. Indicates that the word is the beginning of a geopolitical entity (e.g., a country, state, or city).\n",
        "- **I-gpe: Inside of a geopolitical entity**. Indicates that the word is part of a geopolitical entity but is not the beginning.\n",
        "- **B-art: Beginning of an artifact**. Indicates that the word is the beginning of an entity referring to an artifact (e.g., a work of art, a book).\n",
        "- **I-art: Inside of an artifact**. Indicates that the word is part of an entity referring to an artifact but is not the beginning.\n",
        "- **B-eve: Beginning of an event**. Indicates that the word is the beginning of an entity referring to an event (e.g., a conference, a match).\n",
        "- **I-eve: Inside of an event**. Indicates that the word is part of an entity referring to an event but is not the beginning.\n",
        "- **B-nat: Beginning of a natural phenomenon**. Indicates that the word is the beginning of an entity referring to a natural phenomenon (e.g., a hurricane, an earthquake).\n",
        "- **I-nat: Inside of a natural phenomenon**. Indicates that the word is part of an entity referring to a natural phenomenon but is not the beginning."
      ]
    },
    {
      "cell_type": "code",
      "execution_count": 4,
      "metadata": {
        "id": "xf9vN_DmSlYj"
      },
      "outputs": [],
      "source": [
        "# Unzip the dataset\n",
        "!unzip -q /content/drive/MyDrive/Datasets/ner_datasetreference.csv.zip"
      ]
    },
    {
      "cell_type": "code",
      "execution_count": 102,
      "metadata": {
        "colab": {
          "base_uri": "https://localhost:8080/",
          "height": 455
        },
        "id": "Qwy2s7F-SPN2",
        "outputId": "8ad84302-29c9-4999-d17a-e29c22d929c4"
      },
      "outputs": [
        {
          "data": {
            "application/vnd.google.colaboratory.intrinsic+json": {
              "summary": "{\n  \"name\": \"df\",\n  \"rows\": 47949,\n  \"fields\": [\n    {\n      \"column\": \"Sentence #\",\n      \"properties\": {\n        \"dtype\": \"string\",\n        \"num_unique_values\": 47949,\n        \"samples\": [\n          \"Sentence: 37421\",\n          \"Sentence: 27835\",\n          \"Sentence: 22016\"\n        ],\n        \"semantic_type\": \"\",\n        \"description\": \"\"\n      }\n    },\n    {\n      \"column\": \"Word\",\n      \"properties\": {\n        \"dtype\": \"string\",\n        \"num_unique_values\": 47565,\n        \"samples\": [\n          \"Meanwhile , authorities say a U.S. soldier was killed Saturday by a roadside bomb in Baghdad .\",\n          \"Kashmiri separatists have made various demands , ranging from independence to merging with neighboring Pakistan .\",\n          \"An American soldier also was killed Thursday in combat operations in northern Baghdad .\"\n        ],\n        \"semantic_type\": \"\",\n        \"description\": \"\"\n      }\n    },\n    {\n      \"column\": \"Tag\",\n      \"properties\": {\n        \"dtype\": \"string\",\n        \"num_unique_values\": 33318,\n        \"samples\": [\n          \"O B-tim O B-per B-org O O O O O B-gpe B-per I-per I-per O B-per I-per I-per I-per O\",\n          \"O B-tim O B-gpe O O O B-gpe O O O O O O O O O O O O B-gpe O O O B-gpe O O\",\n          \"O O O O O O O O O O O O O B-tim O O O O O O O O O B-geo O\"\n        ],\n        \"semantic_type\": \"\",\n        \"description\": \"\"\n      }\n    }\n  ]\n}",
              "type": "dataframe",
              "variable_name": "df"
            },
            "text/html": [
              "\n",
              "  <div id=\"df-4c6278cc-5526-4b21-a090-7394d50ffee1\" class=\"colab-df-container\">\n",
              "    <div>\n",
              "<style scoped>\n",
              "    .dataframe tbody tr th:only-of-type {\n",
              "        vertical-align: middle;\n",
              "    }\n",
              "\n",
              "    .dataframe tbody tr th {\n",
              "        vertical-align: top;\n",
              "    }\n",
              "\n",
              "    .dataframe thead th {\n",
              "        text-align: right;\n",
              "    }\n",
              "</style>\n",
              "<table border=\"1\" class=\"dataframe\">\n",
              "  <thead>\n",
              "    <tr style=\"text-align: right;\">\n",
              "      <th></th>\n",
              "      <th>Word</th>\n",
              "      <th>Tag</th>\n",
              "    </tr>\n",
              "    <tr>\n",
              "      <th>Sentence #</th>\n",
              "      <th></th>\n",
              "      <th></th>\n",
              "    </tr>\n",
              "  </thead>\n",
              "  <tbody>\n",
              "    <tr>\n",
              "      <th>Sentence: 1</th>\n",
              "      <td>Thousands of demonstrators have marched throug...</td>\n",
              "      <td>O O O O O O B-geo O O O O O B-geo O O O O O B-...</td>\n",
              "    </tr>\n",
              "    <tr>\n",
              "      <th>Sentence: 10</th>\n",
              "      <td>Iranian officials say they expect to get acces...</td>\n",
              "      <td>B-gpe O O O O O O O O O O O O O O B-tim O O O ...</td>\n",
              "    </tr>\n",
              "    <tr>\n",
              "      <th>Sentence: 100</th>\n",
              "      <td>Helicopter gunships Saturday pounded militant ...</td>\n",
              "      <td>O O B-tim O O O O O B-geo O O O O O B-org O O ...</td>\n",
              "    </tr>\n",
              "    <tr>\n",
              "      <th>Sentence: 1000</th>\n",
              "      <td>They left after a tense hour-long standoff wit...</td>\n",
              "      <td>O O O O O O O O O O O</td>\n",
              "    </tr>\n",
              "    <tr>\n",
              "      <th>Sentence: 10000</th>\n",
              "      <td>U.N. relief coordinator Jan Egeland said Sunda...</td>\n",
              "      <td>B-geo O O B-per I-per O B-tim O B-geo O B-gpe ...</td>\n",
              "    </tr>\n",
              "    <tr>\n",
              "      <th>...</th>\n",
              "      <td>...</td>\n",
              "      <td>...</td>\n",
              "    </tr>\n",
              "    <tr>\n",
              "      <th>Sentence: 9995</th>\n",
              "      <td>Opposition leader Mir Hossein Mousavi has said...</td>\n",
              "      <td>O O O B-per I-per O O O O O O O O O O O O O O ...</td>\n",
              "    </tr>\n",
              "    <tr>\n",
              "      <th>Sentence: 9996</th>\n",
              "      <td>On Thursday , Iranian state media published a ...</td>\n",
              "      <td>O B-tim O B-gpe O O O O O O O O B-org I-org O ...</td>\n",
              "    </tr>\n",
              "    <tr>\n",
              "      <th>Sentence: 9997</th>\n",
              "      <td>Following Iran 's disputed June 12 elections ,...</td>\n",
              "      <td>O B-geo O O B-tim I-tim O O O O O O O O O O O ...</td>\n",
              "    </tr>\n",
              "    <tr>\n",
              "      <th>Sentence: 9998</th>\n",
              "      <td>Since then , authorities have held public tria...</td>\n",
              "      <td>O O O O O O O O O O O O O O O O O O O O O</td>\n",
              "    </tr>\n",
              "    <tr>\n",
              "      <th>Sentence: 9999</th>\n",
              "      <td>The United Nations is praising the use of mili...</td>\n",
              "      <td>O B-org I-org O O O O O O O O O O O O O O B-ti...</td>\n",
              "    </tr>\n",
              "  </tbody>\n",
              "</table>\n",
              "<p>47949 rows × 2 columns</p>\n",
              "</div>\n",
              "    <div class=\"colab-df-buttons\">\n",
              "\n",
              "  <div class=\"colab-df-container\">\n",
              "    <button class=\"colab-df-convert\" onclick=\"convertToInteractive('df-4c6278cc-5526-4b21-a090-7394d50ffee1')\"\n",
              "            title=\"Convert this dataframe to an interactive table.\"\n",
              "            style=\"display:none;\">\n",
              "\n",
              "  <svg xmlns=\"http://www.w3.org/2000/svg\" height=\"24px\" viewBox=\"0 -960 960 960\">\n",
              "    <path d=\"M120-120v-720h720v720H120Zm60-500h600v-160H180v160Zm220 220h160v-160H400v160Zm0 220h160v-160H400v160ZM180-400h160v-160H180v160Zm440 0h160v-160H620v160ZM180-180h160v-160H180v160Zm440 0h160v-160H620v160Z\"/>\n",
              "  </svg>\n",
              "    </button>\n",
              "\n",
              "  <style>\n",
              "    .colab-df-container {\n",
              "      display:flex;\n",
              "      gap: 12px;\n",
              "    }\n",
              "\n",
              "    .colab-df-convert {\n",
              "      background-color: #E8F0FE;\n",
              "      border: none;\n",
              "      border-radius: 50%;\n",
              "      cursor: pointer;\n",
              "      display: none;\n",
              "      fill: #1967D2;\n",
              "      height: 32px;\n",
              "      padding: 0 0 0 0;\n",
              "      width: 32px;\n",
              "    }\n",
              "\n",
              "    .colab-df-convert:hover {\n",
              "      background-color: #E2EBFA;\n",
              "      box-shadow: 0px 1px 2px rgba(60, 64, 67, 0.3), 0px 1px 3px 1px rgba(60, 64, 67, 0.15);\n",
              "      fill: #174EA6;\n",
              "    }\n",
              "\n",
              "    .colab-df-buttons div {\n",
              "      margin-bottom: 4px;\n",
              "    }\n",
              "\n",
              "    [theme=dark] .colab-df-convert {\n",
              "      background-color: #3B4455;\n",
              "      fill: #D2E3FC;\n",
              "    }\n",
              "\n",
              "    [theme=dark] .colab-df-convert:hover {\n",
              "      background-color: #434B5C;\n",
              "      box-shadow: 0px 1px 3px 1px rgba(0, 0, 0, 0.15);\n",
              "      filter: drop-shadow(0px 1px 2px rgba(0, 0, 0, 0.3));\n",
              "      fill: #FFFFFF;\n",
              "    }\n",
              "  </style>\n",
              "\n",
              "    <script>\n",
              "      const buttonEl =\n",
              "        document.querySelector('#df-4c6278cc-5526-4b21-a090-7394d50ffee1 button.colab-df-convert');\n",
              "      buttonEl.style.display =\n",
              "        google.colab.kernel.accessAllowed ? 'block' : 'none';\n",
              "\n",
              "      async function convertToInteractive(key) {\n",
              "        const element = document.querySelector('#df-4c6278cc-5526-4b21-a090-7394d50ffee1');\n",
              "        const dataTable =\n",
              "          await google.colab.kernel.invokeFunction('convertToInteractive',\n",
              "                                                    [key], {});\n",
              "        if (!dataTable) return;\n",
              "\n",
              "        const docLinkHtml = 'Like what you see? Visit the ' +\n",
              "          '<a target=\"_blank\" href=https://colab.research.google.com/notebooks/data_table.ipynb>data table notebook</a>'\n",
              "          + ' to learn more about interactive tables.';\n",
              "        element.innerHTML = '';\n",
              "        dataTable['output_type'] = 'display_data';\n",
              "        await google.colab.output.renderOutput(dataTable, element);\n",
              "        const docLink = document.createElement('div');\n",
              "        docLink.innerHTML = docLinkHtml;\n",
              "        element.appendChild(docLink);\n",
              "      }\n",
              "    </script>\n",
              "  </div>\n",
              "\n",
              "\n",
              "<div id=\"df-c8c789cd-fc28-4189-984a-011f9d08b1c8\">\n",
              "  <button class=\"colab-df-quickchart\" onclick=\"quickchart('df-c8c789cd-fc28-4189-984a-011f9d08b1c8')\"\n",
              "            title=\"Suggest charts\"\n",
              "            style=\"display:none;\">\n",
              "\n",
              "<svg xmlns=\"http://www.w3.org/2000/svg\" height=\"24px\"viewBox=\"0 0 24 24\"\n",
              "     width=\"24px\">\n",
              "    <g>\n",
              "        <path d=\"M19 3H5c-1.1 0-2 .9-2 2v14c0 1.1.9 2 2 2h14c1.1 0 2-.9 2-2V5c0-1.1-.9-2-2-2zM9 17H7v-7h2v7zm4 0h-2V7h2v10zm4 0h-2v-4h2v4z\"/>\n",
              "    </g>\n",
              "</svg>\n",
              "  </button>\n",
              "\n",
              "<style>\n",
              "  .colab-df-quickchart {\n",
              "      --bg-color: #E8F0FE;\n",
              "      --fill-color: #1967D2;\n",
              "      --hover-bg-color: #E2EBFA;\n",
              "      --hover-fill-color: #174EA6;\n",
              "      --disabled-fill-color: #AAA;\n",
              "      --disabled-bg-color: #DDD;\n",
              "  }\n",
              "\n",
              "  [theme=dark] .colab-df-quickchart {\n",
              "      --bg-color: #3B4455;\n",
              "      --fill-color: #D2E3FC;\n",
              "      --hover-bg-color: #434B5C;\n",
              "      --hover-fill-color: #FFFFFF;\n",
              "      --disabled-bg-color: #3B4455;\n",
              "      --disabled-fill-color: #666;\n",
              "  }\n",
              "\n",
              "  .colab-df-quickchart {\n",
              "    background-color: var(--bg-color);\n",
              "    border: none;\n",
              "    border-radius: 50%;\n",
              "    cursor: pointer;\n",
              "    display: none;\n",
              "    fill: var(--fill-color);\n",
              "    height: 32px;\n",
              "    padding: 0;\n",
              "    width: 32px;\n",
              "  }\n",
              "\n",
              "  .colab-df-quickchart:hover {\n",
              "    background-color: var(--hover-bg-color);\n",
              "    box-shadow: 0 1px 2px rgba(60, 64, 67, 0.3), 0 1px 3px 1px rgba(60, 64, 67, 0.15);\n",
              "    fill: var(--button-hover-fill-color);\n",
              "  }\n",
              "\n",
              "  .colab-df-quickchart-complete:disabled,\n",
              "  .colab-df-quickchart-complete:disabled:hover {\n",
              "    background-color: var(--disabled-bg-color);\n",
              "    fill: var(--disabled-fill-color);\n",
              "    box-shadow: none;\n",
              "  }\n",
              "\n",
              "  .colab-df-spinner {\n",
              "    border: 2px solid var(--fill-color);\n",
              "    border-color: transparent;\n",
              "    border-bottom-color: var(--fill-color);\n",
              "    animation:\n",
              "      spin 1s steps(1) infinite;\n",
              "  }\n",
              "\n",
              "  @keyframes spin {\n",
              "    0% {\n",
              "      border-color: transparent;\n",
              "      border-bottom-color: var(--fill-color);\n",
              "      border-left-color: var(--fill-color);\n",
              "    }\n",
              "    20% {\n",
              "      border-color: transparent;\n",
              "      border-left-color: var(--fill-color);\n",
              "      border-top-color: var(--fill-color);\n",
              "    }\n",
              "    30% {\n",
              "      border-color: transparent;\n",
              "      border-left-color: var(--fill-color);\n",
              "      border-top-color: var(--fill-color);\n",
              "      border-right-color: var(--fill-color);\n",
              "    }\n",
              "    40% {\n",
              "      border-color: transparent;\n",
              "      border-right-color: var(--fill-color);\n",
              "      border-top-color: var(--fill-color);\n",
              "    }\n",
              "    60% {\n",
              "      border-color: transparent;\n",
              "      border-right-color: var(--fill-color);\n",
              "    }\n",
              "    80% {\n",
              "      border-color: transparent;\n",
              "      border-right-color: var(--fill-color);\n",
              "      border-bottom-color: var(--fill-color);\n",
              "    }\n",
              "    90% {\n",
              "      border-color: transparent;\n",
              "      border-bottom-color: var(--fill-color);\n",
              "    }\n",
              "  }\n",
              "</style>\n",
              "\n",
              "  <script>\n",
              "    async function quickchart(key) {\n",
              "      const quickchartButtonEl =\n",
              "        document.querySelector('#' + key + ' button');\n",
              "      quickchartButtonEl.disabled = true;  // To prevent multiple clicks.\n",
              "      quickchartButtonEl.classList.add('colab-df-spinner');\n",
              "      try {\n",
              "        const charts = await google.colab.kernel.invokeFunction(\n",
              "            'suggestCharts', [key], {});\n",
              "      } catch (error) {\n",
              "        console.error('Error during call to suggestCharts:', error);\n",
              "      }\n",
              "      quickchartButtonEl.classList.remove('colab-df-spinner');\n",
              "      quickchartButtonEl.classList.add('colab-df-quickchart-complete');\n",
              "    }\n",
              "    (() => {\n",
              "      let quickchartButtonEl =\n",
              "        document.querySelector('#df-c8c789cd-fc28-4189-984a-011f9d08b1c8 button');\n",
              "      quickchartButtonEl.style.display =\n",
              "        google.colab.kernel.accessAllowed ? 'block' : 'none';\n",
              "    })();\n",
              "  </script>\n",
              "</div>\n",
              "\n",
              "  <div id=\"id_56938f22-efcd-4b63-99e3-9b7899e2894b\">\n",
              "    <style>\n",
              "      .colab-df-generate {\n",
              "        background-color: #E8F0FE;\n",
              "        border: none;\n",
              "        border-radius: 50%;\n",
              "        cursor: pointer;\n",
              "        display: none;\n",
              "        fill: #1967D2;\n",
              "        height: 32px;\n",
              "        padding: 0 0 0 0;\n",
              "        width: 32px;\n",
              "      }\n",
              "\n",
              "      .colab-df-generate:hover {\n",
              "        background-color: #E2EBFA;\n",
              "        box-shadow: 0px 1px 2px rgba(60, 64, 67, 0.3), 0px 1px 3px 1px rgba(60, 64, 67, 0.15);\n",
              "        fill: #174EA6;\n",
              "      }\n",
              "\n",
              "      [theme=dark] .colab-df-generate {\n",
              "        background-color: #3B4455;\n",
              "        fill: #D2E3FC;\n",
              "      }\n",
              "\n",
              "      [theme=dark] .colab-df-generate:hover {\n",
              "        background-color: #434B5C;\n",
              "        box-shadow: 0px 1px 3px 1px rgba(0, 0, 0, 0.15);\n",
              "        filter: drop-shadow(0px 1px 2px rgba(0, 0, 0, 0.3));\n",
              "        fill: #FFFFFF;\n",
              "      }\n",
              "    </style>\n",
              "    <button class=\"colab-df-generate\" onclick=\"generateWithVariable('df')\"\n",
              "            title=\"Generate code using this dataframe.\"\n",
              "            style=\"display:none;\">\n",
              "\n",
              "  <svg xmlns=\"http://www.w3.org/2000/svg\" height=\"24px\"viewBox=\"0 0 24 24\"\n",
              "       width=\"24px\">\n",
              "    <path d=\"M7,19H8.4L18.45,9,17,7.55,7,17.6ZM5,21V16.75L18.45,3.32a2,2,0,0,1,2.83,0l1.4,1.43a1.91,1.91,0,0,1,.58,1.4,1.91,1.91,0,0,1-.58,1.4L9.25,21ZM18.45,9,17,7.55Zm-12,3A5.31,5.31,0,0,0,4.9,8.1,5.31,5.31,0,0,0,1,6.5,5.31,5.31,0,0,0,4.9,4.9,5.31,5.31,0,0,0,6.5,1,5.31,5.31,0,0,0,8.1,4.9,5.31,5.31,0,0,0,12,6.5,5.46,5.46,0,0,0,6.5,12Z\"/>\n",
              "  </svg>\n",
              "    </button>\n",
              "    <script>\n",
              "      (() => {\n",
              "      const buttonEl =\n",
              "        document.querySelector('#id_56938f22-efcd-4b63-99e3-9b7899e2894b button.colab-df-generate');\n",
              "      buttonEl.style.display =\n",
              "        google.colab.kernel.accessAllowed ? 'block' : 'none';\n",
              "\n",
              "      buttonEl.onclick = () => {\n",
              "        google.colab.notebook.generateWithVariable('df');\n",
              "      }\n",
              "      })();\n",
              "    </script>\n",
              "  </div>\n",
              "\n",
              "    </div>\n",
              "  </div>\n"
            ],
            "text/plain": [
              "                                                              Word  \\\n",
              "Sentence #                                                           \n",
              "Sentence: 1      Thousands of demonstrators have marched throug...   \n",
              "Sentence: 10     Iranian officials say they expect to get acces...   \n",
              "Sentence: 100    Helicopter gunships Saturday pounded militant ...   \n",
              "Sentence: 1000   They left after a tense hour-long standoff wit...   \n",
              "Sentence: 10000  U.N. relief coordinator Jan Egeland said Sunda...   \n",
              "...                                                            ...   \n",
              "Sentence: 9995   Opposition leader Mir Hossein Mousavi has said...   \n",
              "Sentence: 9996   On Thursday , Iranian state media published a ...   \n",
              "Sentence: 9997   Following Iran 's disputed June 12 elections ,...   \n",
              "Sentence: 9998   Since then , authorities have held public tria...   \n",
              "Sentence: 9999   The United Nations is praising the use of mili...   \n",
              "\n",
              "                                                               Tag  \n",
              "Sentence #                                                          \n",
              "Sentence: 1      O O O O O O B-geo O O O O O B-geo O O O O O B-...  \n",
              "Sentence: 10     B-gpe O O O O O O O O O O O O O O B-tim O O O ...  \n",
              "Sentence: 100    O O B-tim O O O O O B-geo O O O O O B-org O O ...  \n",
              "Sentence: 1000                               O O O O O O O O O O O  \n",
              "Sentence: 10000  B-geo O O B-per I-per O B-tim O B-geo O B-gpe ...  \n",
              "...                                                            ...  \n",
              "Sentence: 9995   O O O B-per I-per O O O O O O O O O O O O O O ...  \n",
              "Sentence: 9996   O B-tim O B-gpe O O O O O O O O B-org I-org O ...  \n",
              "Sentence: 9997   O B-geo O O B-tim I-tim O O O O O O O O O O O ...  \n",
              "Sentence: 9998           O O O O O O O O O O O O O O O O O O O O O  \n",
              "Sentence: 9999   O B-org I-org O O O O O O O O O O O O O O B-ti...  \n",
              "\n",
              "[47949 rows x 2 columns]"
            ]
          },
          "execution_count": 102,
          "metadata": {},
          "output_type": "execute_result"
        }
      ],
      "source": [
        "# Load the dataset\n",
        "df = pd.read_csv(\"/content/ner_datasetreference.csv\", encoding=\"latin1\")\n",
        "\n",
        "# Completing missing values in the 'Sentence #' column using previous values\n",
        "df[\"Sentence #\"].fillna(method=\"ffill\", inplace=True)\n",
        "\n",
        "# Remove sentences containing at least one null Word\n",
        "sentences_nan = df[df.Word.isna()][\"Sentence #\"].unique()\n",
        "df = df[~df[\"Sentence #\"].isin(sentences_nan)]\n",
        "\n",
        "# Variable to view the count of values for each 'Tag'\n",
        "tag_counts = df.Tag.value_counts()\n",
        "\n",
        "# Grouping words and tags by sentence\n",
        "df = df.groupby(\"Sentence #\")[[\"Word\", \"Tag\"]].agg(lambda x: \" \".join(x))\n",
        "df"
      ]
    },
    {
      "cell_type": "code",
      "execution_count": 103,
      "metadata": {
        "colab": {
          "base_uri": "https://localhost:8080/"
        },
        "id": "24SFLrP4hWjz",
        "outputId": "d1a81b18-27e8-4b0a-ac85-2252385c70f7"
      },
      "outputs": [
        {
          "data": {
            "text/plain": [
              "Tag\n",
              "O        887788\n",
              "B-geo     37643\n",
              "B-tim     20331\n",
              "B-org     20142\n",
              "I-per     17251\n",
              "B-per     16990\n",
              "I-org     16783\n",
              "B-gpe     15870\n",
              "I-geo      7414\n",
              "I-tim      6528\n",
              "B-art       402\n",
              "B-eve       308\n",
              "I-art       297\n",
              "I-eve       253\n",
              "B-nat       201\n",
              "I-gpe       198\n",
              "I-nat        51\n",
              "Name: count, dtype: int64"
            ]
          },
          "execution_count": 103,
          "metadata": {},
          "output_type": "execute_result"
        }
      ],
      "source": [
        "tag_counts"
      ]
    },
    {
      "cell_type": "markdown",
      "metadata": {
        "id": "1S_Ay7keH6D0"
      },
      "source": [
        "It can be observed that the dataset is unbalanced regarding the \"Tag\" values, with the most affected ones ranging from ``B-art`` to ``I-nat``."
      ]
    },
    {
      "cell_type": "code",
      "execution_count": 6,
      "metadata": {
        "colab": {
          "base_uri": "https://localhost:8080/"
        },
        "id": "nFdnVFFcuroo",
        "outputId": "57e1936e-84c7-454d-dfaa-f54ca6d6ef43"
      },
      "outputs": [
        {
          "name": "stdout",
          "output_type": "stream",
          "text": [
            "<class 'pandas.core.frame.DataFrame'>\n",
            "Index: 47949 entries, Sentence: 1 to Sentence: 9999\n",
            "Data columns (total 2 columns):\n",
            " #   Column  Non-Null Count  Dtype \n",
            "---  ------  --------------  ----- \n",
            " 0   Word    47949 non-null  object\n",
            " 1   Tag     47949 non-null  object\n",
            "dtypes: object(2)\n",
            "memory usage: 1.1+ MB\n"
          ]
        }
      ],
      "source": [
        "# There are no null values\n",
        "df.info()"
      ]
    },
    {
      "cell_type": "markdown",
      "metadata": {
        "id": "Ax2-b25xxuff"
      },
      "source": [
        "**Splitting the dataframe into training (70%), validation (15%) y testing (15%) sets**"
      ]
    },
    {
      "cell_type": "code",
      "execution_count": 7,
      "metadata": {
        "colab": {
          "base_uri": "https://localhost:8080/"
        },
        "id": "M63azAPgyFMV",
        "outputId": "9ed6d332-0602-4389-b15d-288287c54c58"
      },
      "outputs": [
        {
          "data": {
            "text/plain": [
              "(33564, 7192, 7193)"
            ]
          },
          "execution_count": 7,
          "metadata": {},
          "output_type": "execute_result"
        }
      ],
      "source": [
        "df_train, df_val_test = train_test_split(df, test_size=0.3, random_state=SEED)\n",
        "df_val, df_test = train_test_split(df_val_test, test_size=0.5, random_state=SEED)\n",
        "\n",
        "del df, df_val_test #Remove to free memory\n",
        "\n",
        "len(df_train), len(df_val), len(df_test)"
      ]
    },
    {
      "cell_type": "markdown",
      "metadata": {
        "id": "YerBO7X5BSl6"
      },
      "source": [
        "**Creation of Sentence and Label Encoders**\n",
        "\n",
        "To tokenize the sentences, the `TextVectorization` layer is employed, which encodes the text into indices by frequency order, considering up to `vocab_size`. The index tensors are padded with zeros to reach the length of the longest sequence in the batch unless a fixed value for `output_sequence_length` is specified. In this case, the `standardize` argument is set to None since punctuation marks should not be removed or sentences converted to lowercase, as this could affect the NER task. A capital letter within a sentence may indicate an entity, and all words are separated by spaces, including punctuation marks.\n",
        "\n",
        "For tokenizing the labels, the `tf.keras.preprocessing.text.Tokenizer` function is used. Similar to sentences, the labels are not converted to lowercase, and punctuation marks are not removed since the labels are already predefined. Additionally, padding is added up to the longest sequence using the `tf.keras.utils.pad_sequences` function to match the tokenized sentences."
      ]
    },
    {
      "cell_type": "code",
      "execution_count": 8,
      "metadata": {
        "colab": {
          "base_uri": "https://localhost:8080/"
        },
        "id": "pPpUGU8UBW_i",
        "outputId": "80c03403-3072-4c3b-8d36-8ca8c367d9a8"
      },
      "outputs": [
        {
          "name": "stdout",
          "output_type": "stream",
          "text": [
            "30180\n"
          ]
        },
        {
          "data": {
            "text/plain": [
              "array(['', '[UNK]', 'the', '.', ',', 'of', 'in', 'to', 'a', 'and'],\n",
              "      dtype='<U64')"
            ]
          },
          "execution_count": 8,
          "metadata": {},
          "output_type": "execute_result"
        }
      ],
      "source": [
        "tf.random.set_seed(SEED)\n",
        "\n",
        "encoder_x = tf.keras.layers.TextVectorization(max_tokens=vocab_size, standardize=None)\n",
        "encoder_x.adapt(df_train.Word.values)\n",
        "vocab_x = np.array(encoder_x.get_vocabulary())\n",
        "\n",
        "print(encoder_x.vocabulary_size())\n",
        "vocab_x[:10]"
      ]
    },
    {
      "cell_type": "code",
      "execution_count": 9,
      "metadata": {
        "colab": {
          "base_uri": "https://localhost:8080/"
        },
        "id": "7mnV8-dMEnxT",
        "outputId": "33e193de-65d6-4df5-d53e-ee5541774246"
      },
      "outputs": [
        {
          "name": "stdout",
          "output_type": "stream",
          "text": [
            "17\n"
          ]
        },
        {
          "data": {
            "text/plain": [
              "{'O': 1,\n",
              " 'B-geo': 2,\n",
              " 'B-tim': 3,\n",
              " 'B-org': 4,\n",
              " 'I-per': 5,\n",
              " 'B-per': 6,\n",
              " 'I-org': 7,\n",
              " 'B-gpe': 8,\n",
              " 'I-geo': 9,\n",
              " 'I-tim': 10,\n",
              " 'B-art': 11,\n",
              " 'B-eve': 12,\n",
              " 'I-art': 13,\n",
              " 'I-eve': 14,\n",
              " 'I-gpe': 15,\n",
              " 'B-nat': 16,\n",
              " 'I-nat': 17}"
            ]
          },
          "execution_count": 9,
          "metadata": {},
          "output_type": "execute_result"
        }
      ],
      "source": [
        "encoder_y = tf.keras.preprocessing.text.Tokenizer(lower=False, filters=\"\")\n",
        "encoder_y.fit_on_texts(df_train.Tag.values)\n",
        "\n",
        "vocab_y = encoder_y.word_index\n",
        "vocab_y_inv = encoder_y.index_word\n",
        "print(len(vocab_y))\n",
        "vocab_y"
      ]
    },
    {
      "cell_type": "code",
      "execution_count": 10,
      "metadata": {
        "id": "R3Dixi_LH2JV"
      },
      "outputs": [],
      "source": [
        "def generate_dataset(df, shuffle=False):\n",
        "  sentences_ids = encoder_x(df.Word.values)\n",
        "  labels_ids = encoder_y.texts_to_sequences(df.Tag.values)\n",
        "  labels_ids = tf.keras.utils.pad_sequences(labels_ids, padding=\"post\")\n",
        "\n",
        "  dataset = tf.data.Dataset.from_tensor_slices((sentences_ids, labels_ids))\n",
        "  if shuffle:\n",
        "    dataset = dataset.shuffle(buffer_size, seed=SEED)\n",
        "  dataset = dataset.batch(batch_size).prefetch(AUTOTUNE)\n",
        "\n",
        "  return dataset"
      ]
    },
    {
      "cell_type": "code",
      "execution_count": 11,
      "metadata": {
        "id": "MuPNFqtHJG9p"
      },
      "outputs": [],
      "source": [
        "train_dataset = generate_dataset(df_train, shuffle=True)\n",
        "val_dataset = generate_dataset(df_val)\n",
        "test_dataset = generate_dataset(df_test)\n",
        "\n",
        "del df_train, df_val"
      ]
    },
    {
      "cell_type": "code",
      "execution_count": 12,
      "metadata": {
        "colab": {
          "base_uri": "https://localhost:8080/"
        },
        "id": "IRemi_nKAj6O",
        "outputId": "67da5521-ad27-4856-e12f-eb0f9b4d6b76"
      },
      "outputs": [
        {
          "name": "stdout",
          "output_type": "stream",
          "text": [
            "tf.Tensor(\n",
            "[[   10    68   359 ...     0     0     0]\n",
            " [   10    52    14 ...     0     0     0]\n",
            " [   10 16266   333 ...     0     0     0]\n",
            " ...\n",
            " [   48  1384  1950 ...     0     0     0]\n",
            " [  394   616     6 ...     0     0     0]\n",
            " [  705     6   246 ...     0     0     0]], shape=(64, 104), dtype=int64) \n",
            "\n",
            "tf.Tensor(\n",
            "[[ 1  1  1 ...  0  0  0]\n",
            " [ 1  1  1 ...  0  0  0]\n",
            " [ 1  4  1 ...  0  0  0]\n",
            " ...\n",
            " [ 1  2  9 ...  0  0  0]\n",
            " [ 3 10  1 ...  0  0  0]\n",
            " [ 1  1  2 ...  0  0  0]], shape=(64, 104), dtype=int32)\n"
          ]
        }
      ],
      "source": [
        "# Visualizing a tokenized batch\n",
        "for texts, labels in train_dataset.take(1):\n",
        "  print(texts, \"\\n\")\n",
        "  print(labels)"
      ]
    },
    {
      "cell_type": "code",
      "execution_count": 15,
      "metadata": {
        "colab": {
          "base_uri": "https://localhost:8080/"
        },
        "id": "8SChpGbPIZyK",
        "outputId": "1eb677eb-c169-49bf-e3b3-355e8df63e66"
      },
      "outputs": [
        {
          "name": "stdout",
          "output_type": "stream",
          "text": [
            "[   10 16266   333  2753     2 14435     5     8 21401  1993    16    64\n",
            "  4086  2959  2326 28960  1170 14710     4   140  6112     9 26919 14996\n",
            "     4     2  5249    55  4616     2  6694     3     0     0     0     0\n",
            "     0     0     0     0     0     0     0     0     0     0     0     0\n",
            "     0     0     0     0     0     0     0     0     0     0     0     0\n",
            "     0     0     0     0     0     0     0     0     0     0     0     0\n",
            "     0     0     0     0     0     0     0     0     0     0     0     0\n",
            "     0     0     0     0     0     0     0     0     0     0     0     0\n",
            "     0     0     0     0     0     0     0     0]\n",
            "The Filmyard deal marks the culmination of a drawn-out sale that had attracted various Los Angeles-based rival bidders , including Bob and Harvey Weinstein , the brothers who founded the studio .                                                                         \n",
            "\n",
            "[1 4 1 1 1 1 1 1 1 1 1 1 1 1 2 1 1 1 1 1 6 1 6 5 1 1 1 1 1 1 1 1 0 0 0 0 0\n",
            " 0 0 0 0 0 0 0 0 0 0 0 0 0 0 0 0 0 0 0 0 0 0 0 0 0 0 0 0 0 0 0 0 0 0 0 0 0\n",
            " 0 0 0 0 0 0 0 0 0 0 0 0 0 0 0 0 0 0 0 0 0 0 0 0 0 0 0 0 0 0]\n",
            "O B-org O O O O O O O O O O O O B-geo O O O O O B-per O B-per I-per O O O O O O O O\n"
          ]
        }
      ],
      "source": [
        "# Viewing the results of tokenization\n",
        "\n",
        "id = 2\n",
        "\n",
        "print(texts[id].numpy())\n",
        "decoded_texts = \" \".join(vocab_x[texts[id]])\n",
        "print(decoded_texts, \"\\n\")\n",
        "\n",
        "print(labels[id].numpy())\n",
        "decoded_labels = encoder_y.sequences_to_texts([labels[id].numpy()])[0]\n",
        "print(decoded_labels)"
      ]
    },
    {
      "cell_type": "markdown",
      "metadata": {
        "id": "JjdJe11iKuZX"
      },
      "source": [
        "### **Build the Model**"
      ]
    },
    {
      "cell_type": "code",
      "execution_count": 15,
      "metadata": {
        "colab": {
          "base_uri": "https://localhost:8080/"
        },
        "id": "qEfffc-jKT4s",
        "outputId": "9b35b47d-45fd-41f8-f282-df4c0a2997d4"
      },
      "outputs": [
        {
          "name": "stdout",
          "output_type": "stream",
          "text": [
            "Model: \"sequential\"\n",
            "_________________________________________________________________\n",
            " Layer (type)                Output Shape              Param #   \n",
            "=================================================================\n",
            " embedding (Embedding)       (None, None, 128)         3863040   \n",
            "                                                                 \n",
            " bidirectional (Bidirection  (None, None, 256)         263168    \n",
            " al)                                                             \n",
            "                                                                 \n",
            " dense (Dense)               (None, None, 18)          4626      \n",
            "                                                                 \n",
            "=================================================================\n",
            "Total params: 4130834 (15.76 MB)\n",
            "Trainable params: 4130834 (15.76 MB)\n",
            "Non-trainable params: 0 (0.00 Byte)\n",
            "_________________________________________________________________\n"
          ]
        }
      ],
      "source": [
        "tf.keras.backend.clear_session() #Clearing Keras memory\n",
        "tf.random.set_seed(123) #For reproducibility\n",
        "\n",
        "model = tf.keras.Sequential([\n",
        "    tf.keras.layers.Embedding(\n",
        "        input_dim=encoder_x.vocabulary_size(),\n",
        "        output_dim=embedding_dim,\n",
        "        mask_zero=True, #Indicates that the value 0 is a padding value that should be masked\n",
        "    ),\n",
        "    tf.keras.layers.Bidirectional(tf.keras.layers.LSTM(embedding_dim, return_sequences=True)),\n",
        "    tf.keras.layers.Dense(len(vocab_y)+1, activation=\"softmax\") #+1 for the padding token (0)\n",
        "])\n",
        "\n",
        "model.summary()"
      ]
    },
    {
      "cell_type": "code",
      "execution_count": 16,
      "metadata": {
        "colab": {
          "base_uri": "https://localhost:8080/",
          "height": 422
        },
        "id": "7vSpY_nQUXRB",
        "outputId": "1e86bace-0555-4dfa-fa7d-ed471a98d4f6"
      },
      "outputs": [
        {
          "data": {
            "image/png": "[encoded data removed]",
            "text/plain": [
              "<IPython.core.display.Image object>"
            ]
          },
          "execution_count": 16,
          "metadata": {},
          "output_type": "execute_result"
        }
      ],
      "source": [
        "# Visualizing the architecture of the model\n",
        "tf.keras.utils.plot_model(model, show_shapes=True, show_layer_names=False)"
      ]
    },
    {
      "cell_type": "markdown",
      "metadata": {
        "id": "Bc5_feTTXNVu"
      },
      "source": [
        "### **Compile and Train the Model**"
      ]
    },
    {
      "cell_type": "code",
      "execution_count": 17,
      "metadata": {
        "id": "676zxrI4W0lK"
      },
      "outputs": [],
      "source": [
        "model.compile(\n",
        "    optimizer=tf.keras.optimizers.Adam(0.01),\n",
        "    loss=tf.keras.losses.SparseCategoricalCrossentropy(ignore_class=0), #Ignore label 0 when calculating loss and accuracy\n",
        "    metrics=[\"accuracy\"]\n",
        ")\n",
        "\n",
        "# Callback to stop training early if validation accuracy does not improve for 2 epochs.\n",
        "callback = tf.keras.callbacks.EarlyStopping(\n",
        "    monitor=\"val_accuracy\",\n",
        "    patience=2,\n",
        "    mode=\"max\",\n",
        "    restore_best_weights=True\n",
        ")"
      ]
    },
    {
      "cell_type": "code",
      "execution_count": null,
      "metadata": {
        "colab": {
          "base_uri": "https://localhost:8080/"
        },
        "id": "sczAFhgmdQBD",
        "outputId": "d8986335-2034-422d-caa9-848c1b3b6163"
      },
      "outputs": [
        {
          "name": "stdout",
          "output_type": "stream",
          "text": [
            "Epoch 1/10\n",
            "525/525 [==============================] - 43s 56ms/step - loss: 0.1898 - accuracy: 0.9495 - val_loss: 0.1062 - val_accuracy: 0.9681\n",
            "Epoch 2/10\n",
            "525/525 [==============================] - 15s 29ms/step - loss: 0.0787 - accuracy: 0.9750 - val_loss: 0.1070 - val_accuracy: 0.9685\n",
            "Epoch 3/10\n",
            "525/525 [==============================] - 13s 25ms/step - loss: 0.0613 - accuracy: 0.9799 - val_loss: 0.1129 - val_accuracy: 0.9672\n",
            "Epoch 4/10\n",
            "525/525 [==============================] - 9s 17ms/step - loss: 0.0518 - accuracy: 0.9826 - val_loss: 0.1193 - val_accuracy: 0.9677\n"
          ]
        }
      ],
      "source": [
        "tf.random.set_seed(SEED)\n",
        "history = model.fit(train_dataset, epochs=epochs, validation_data=val_dataset, callbacks=[callback])"
      ]
    },
    {
      "cell_type": "markdown",
      "metadata": {
        "id": "S7cewteBIwua"
      },
      "source": [
        "**Save model**"
      ]
    },
    {
      "cell_type": "code",
      "execution_count": null,
      "metadata": {
        "id": "6L1Qn4a_H4GI"
      },
      "outputs": [],
      "source": [
        "model.save(\"/content/drive/MyDrive/models/NER_LSTM_Kaggle.keras\")"
      ]
    },
    {
      "cell_type": "markdown",
      "metadata": {
        "id": "WSJL2EanOvQH"
      },
      "source": [
        "### **Dataset Evaluation**"
      ]
    },
    {
      "cell_type": "code",
      "execution_count": null,
      "metadata": {
        "colab": {
          "base_uri": "https://localhost:8080/"
        },
        "id": "CwqjIKAhET33",
        "outputId": "45e71fff-7290-49e8-883a-8773026c7397"
      },
      "outputs": [
        {
          "name": "stdout",
          "output_type": "stream",
          "text": [
            "[0.05866289511322975, 0.980696976184845]\n",
            "[0.10702528059482574, 0.9685366153717041]\n",
            "[0.10966098308563232, 0.9671399593353271]\n"
          ]
        }
      ],
      "source": [
        "print(model.evaluate(train_dataset, verbose=0))\n",
        "print(model.evaluate(val_dataset, verbose=0))\n",
        "print(model.evaluate(test_dataset, verbose=0))"
      ]
    },
    {
      "cell_type": "markdown",
      "metadata": {
        "id": "_OOLy3fWoTiv"
      },
      "source": [
        "**Consolidating the accuracy of the testing set**"
      ]
    },
    {
      "cell_type": "code",
      "execution_count": 32,
      "metadata": {
        "colab": {
          "base_uri": "https://localhost:8080/"
        },
        "id": "SNV1cFuyoXbi",
        "outputId": "24360bb8-ee9f-4112-8b6d-3f2ab279b24c"
      },
      "outputs": [
        {
          "data": {
            "text/plain": [
              "0.96713996"
            ]
          },
          "execution_count": 32,
          "metadata": {},
          "output_type": "execute_result"
        }
      ],
      "source": [
        "labels_test = test_dataset.unbatch().map(lambda x, y: y).as_numpy_iterator()\n",
        "labels_test = np.array(list(labels_test))\n",
        "\n",
        "labels_test_pred = model.predict(test_dataset, verbose=0)\n",
        "labels_test_pred = np.argmax(labels_test_pred, axis=-1)\n",
        "mask = (labels_test != 0).astype(np.float32)\n",
        "matches_true_pred = (labels_test == labels_test_pred).astype(np.float32)\n",
        "matches_true_pred *= mask\n",
        "\n",
        "masked_accuracy = np.sum(matches_true_pred) / np.sum(mask)\n",
        "masked_accuracy"
      ]
    },
    {
      "cell_type": "markdown",
      "metadata": {
        "id": "1oY6USAfE-5P"
      },
      "source": [
        "After just 2 epochs, the training set achieves an accuracy of 98.1%, while the validation set accuracy is 96.9%, and the test set accuracy is 96.7%. If we were to continue training for more epochs, the training set accuracy would increase to 100%, but that of the validation and test sets would decrease. Although the model is quite good, it shows signs of slight overfitting, which we managed to mitigate effectively thanks to the callback, which stops training when the validation accuracy does not improve for 2 consecutive epochs. To achieve even better results, it would be advisable to expand the training dataset and/or use more robust architectures, such as Transformers networks. However, the model performs well in recognizing named entities, as seen later on."
      ]
    },
    {
      "cell_type": "code",
      "execution_count": null,
      "metadata": {
        "id": "4FJqdOA4XsiG"
      },
      "outputs": [],
      "source": [
        "# Function to plot the metrics\n",
        "def plot_metrics(history=history, metric=\"loss\", renderer=None, epochs=len(history.history[\"loss\"])):\n",
        "  losses = history.history[metric]\n",
        "  val_losses = history.history[f\"val_{metric}\"]\n",
        "  list_epochs = np.arange(1, epochs+1)\n",
        "  metric = metric.capitalize()\n",
        "\n",
        "  fig=go.Figure()\n",
        "  fig.add_trace(go.Scatter(x=list_epochs, y=losses, name=metric, line=dict(color=\"blue\", width=2)))\n",
        "  fig.add_trace(go.Scatter(x=list_epochs, y=val_losses, name=f\"Val {metric}\", line=dict(color=\"#FF6600\", width=2)))\n",
        "  fig.update_xaxes(title_text=\"Epoch\")\n",
        "  fig.update_yaxes(title_text=metric)\n",
        "  fig.update_layout(title=f\"Evolution of {metric} across Epochs\",\n",
        "                    title_font=dict(size=20),\n",
        "                    title_x=0.5,\n",
        "                    height=500,\n",
        "                    width=1200)\n",
        "\n",
        "  fig.show(renderer)"
      ]
    },
    {
      "cell_type": "markdown",
      "metadata": {
        "id": "qlk109TMcOL0"
      },
      "source": [
        "**Interactive graphics**"
      ]
    },
    {
      "cell_type": "code",
      "execution_count": null,
      "metadata": {
        "colab": {
          "base_uri": "https://localhost:8080/",
          "height": 1000
        },
        "id": "i53TJ5xjcTRr",
        "outputId": "d98ebf81-5644-4f26-bccb-912bce4dab6b"
      },
      "outputs": [
        {
          "data": {
            "text/html": [
              "<html>\n",
              "<head><meta charset=\"utf-8\" /></head>\n",
              "<body>\n",
              "    <div>            <script src=\"https://cdnjs.cloudflare.com/ajax/libs/mathjax/2.7.5/MathJax.js?config=TeX-AMS-MML_SVG\"></script><script type=\"text/javascript\">if (window.MathJax && window.MathJax.Hub && window.MathJax.Hub.Config) {window.MathJax.Hub.Config({SVG: {font: \"STIX-Web\"}});}</script>                <script type=\"text/javascript\">window.PlotlyConfig = {MathJaxConfig: 'local'};</script>\n",
              "        <script charset=\"utf-8\" src=\"https://cdn.plot.ly/plotly-2.24.1.min.js\"></script>                <div id=\"111e049f-0703-470b-8c26-f0d88cbb74b9\" class=\"plotly-graph-div\" style=\"height:500px; width:1200px;\"></div>            <script type=\"text/javascript\">                                    window.PLOTLYENV=window.PLOTLYENV || {};                                    if (document.getElementById(\"111e049f-0703-470b-8c26-f0d88cbb74b9\")) {                    Plotly.newPlot(                        \"111e049f-0703-470b-8c26-f0d88cbb74b9\",                        [{\"line\":{\"color\":\"blue\",\"width\":2},\"name\":\"Loss\",\"x\":[1,2,3,4],\"y\":[0.1897723823785781,0.078662596642971,0.0613481439650058,0.051842626184225],\"type\":\"scatter\"},{\"line\":{\"color\":\"#FF6600\",\"width\":2},\"name\":\"Val Loss\",\"x\":[1,2,3,4],\"y\":[0.1061504483222961,0.1070252805948257,0.112853318452835,0.1192796230316162],\"type\":\"scatter\"}],                        {\"template\":{\"data\":{\"histogram2dcontour\":[{\"type\":\"histogram2dcontour\",\"colorbar\":{\"outlinewidth\":0,\"ticks\":\"\"},\"colorscale\":[[0.0,\"#0d0887\"],[0.1111111111111111,\"#46039f\"],[0.2222222222222222,\"#7201a8\"],[0.3333333333333333,\"#9c179e\"],[0.4444444444444444,\"#bd3786\"],[0.5555555555555556,\"#d8576b\"],[0.6666666666666666,\"#ed7953\"],[0.7777777777777778,\"#fb9f3a\"],[0.8888888888888888,\"#fdca26\"],[1.0,\"#f0f921\"]]}],\"choropleth\":[{\"type\":\"choropleth\",\"colorbar\":{\"outlinewidth\":0,\"ticks\":\"\"}}],\"histogram2d\":[{\"type\":\"histogram2d\",\"colorbar\":{\"outlinewidth\":0,\"ticks\":\"\"},\"colorscale\":[[0.0,\"#0d0887\"],[0.1111111111111111,\"#46039f\"],[0.2222222222222222,\"#7201a8\"],[0.3333333333333333,\"#9c179e\"],[0.4444444444444444,\"#bd3786\"],[0.5555555555555556,\"#d8576b\"],[0.6666666666666666,\"#ed7953\"],[0.7777777777777778,\"#fb9f3a\"],[0.8888888888888888,\"#fdca26\"],[1.0,\"#f0f921\"]]}],\"heatmap\":[{\"type\":\"heatmap\",\"colorbar\":{\"outlinewidth\":0,\"ticks\":\"\"},\"colorscale\":[[0.0,\"#0d0887\"],[0.1111111111111111,\"#46039f\"],[0.2222222222222222,\"#7201a8\"],[0.3333333333333333,\"#9c179e\"],[0.4444444444444444,\"#bd3786\"],[0.5555555555555556,\"#d8576b\"],[0.6666666666666666,\"#ed7953\"],[0.7777777777777778,\"#fb9f3a\"],[0.8888888888888888,\"#fdca26\"],[1.0,\"#f0f921\"]]}],\"heatmapgl\":[{\"type\":\"heatmapgl\",\"colorbar\":{\"outlinewidth\":0,\"ticks\":\"\"},\"colorscale\":[[0.0,\"#0d0887\"],[0.1111111111111111,\"#46039f\"],[0.2222222222222222,\"#7201a8\"],[0.3333333333333333,\"#9c179e\"],[0.4444444444444444,\"#bd3786\"],[0.5555555555555556,\"#d8576b\"],[0.6666666666666666,\"#ed7953\"],[0.7777777777777778,\"#fb9f3a\"],[0.8888888888888888,\"#fdca26\"],[1.0,\"#f0f921\"]]}],\"contourcarpet\":[{\"type\":\"contourcarpet\",\"colorbar\":{\"outlinewidth\":0,\"ticks\":\"\"}}],\"contour\":[{\"type\":\"contour\",\"colorbar\":{\"outlinewidth\":0,\"ticks\":\"\"},\"colorscale\":[[0.0,\"#0d0887\"],[0.1111111111111111,\"#46039f\"],[0.2222222222222222,\"#7201a8\"],[0.3333333333333333,\"#9c179e\"],[0.4444444444444444,\"#bd3786\"],[0.5555555555555556,\"#d8576b\"],[0.6666666666666666,\"#ed7953\"],[0.7777777777777778,\"#fb9f3a\"],[0.8888888888888888,\"#fdca26\"],[1.0,\"#f0f921\"]]}],\"surface\":[{\"type\":\"surface\",\"colorbar\":{\"outlinewidth\":0,\"ticks\":\"\"},\"colorscale\":[[0.0,\"#0d0887\"],[0.1111111111111111,\"#46039f\"],[0.2222222222222222,\"#7201a8\"],[0.3333333333333333,\"#9c179e\"],[0.4444444444444444,\"#bd3786\"],[0.5555555555555556,\"#d8576b\"],[0.6666666666666666,\"#ed7953\"],[0.7777777777777778,\"#fb9f3a\"],[0.8888888888888888,\"#fdca26\"],[1.0,\"#f0f921\"]]}],\"mesh3d\":[{\"type\":\"mesh3d\",\"colorbar\":{\"outlinewidth\":0,\"ticks\":\"\"}}],\"scatter\":[{\"fillpattern\":{\"fillmode\":\"overlay\",\"size\":10,\"solidity\":0.2},\"type\":\"scatter\"}],\"parcoords\":[{\"type\":\"parcoords\",\"line\":{\"colorbar\":{\"outlinewidth\":0,\"ticks\":\"\"}}}],\"scatterpolargl\":[{\"type\":\"scatterpolargl\",\"marker\":{\"colorbar\":{\"outlinewidth\":0,\"ticks\":\"\"}}}],\"bar\":[{\"error_x\":{\"color\":\"#2a3f5f\"},\"error_y\":{\"color\":\"#2a3f5f\"},\"marker\":{\"line\":{\"color\":\"#E5ECF6\",\"width\":0.5},\"pattern\":{\"fillmode\":\"overlay\",\"size\":10,\"solidity\":0.2}},\"type\":\"bar\"}],\"scattergeo\":[{\"type\":\"scattergeo\",\"marker\":{\"colorbar\":{\"outlinewidth\":0,\"ticks\":\"\"}}}],\"scatterpolar\":[{\"type\":\"scatterpolar\",\"marker\":{\"colorbar\":{\"outlinewidth\":0,\"ticks\":\"\"}}}],\"histogram\":[{\"marker\":{\"pattern\":{\"fillmode\":\"overlay\",\"size\":10,\"solidity\":0.2}},\"type\":\"histogram\"}],\"scattergl\":[{\"type\":\"scattergl\",\"marker\":{\"colorbar\":{\"outlinewidth\":0,\"ticks\":\"\"}}}],\"scatter3d\":[{\"type\":\"scatter3d\",\"line\":{\"colorbar\":{\"outlinewidth\":0,\"ticks\":\"\"}},\"marker\":{\"colorbar\":{\"outlinewidth\":0,\"ticks\":\"\"}}}],\"scattermapbox\":[{\"type\":\"scattermapbox\",\"marker\":{\"colorbar\":{\"outlinewidth\":0,\"ticks\":\"\"}}}],\"scatterternary\":[{\"type\":\"scatterternary\",\"marker\":{\"colorbar\":{\"outlinewidth\":0,\"ticks\":\"\"}}}],\"scattercarpet\":[{\"type\":\"scattercarpet\",\"marker\":{\"colorbar\":{\"outlinewidth\":0,\"ticks\":\"\"}}}],\"carpet\":[{\"aaxis\":{\"endlinecolor\":\"#2a3f5f\",\"gridcolor\":\"white\",\"linecolor\":\"white\",\"minorgridcolor\":\"white\",\"startlinecolor\":\"#2a3f5f\"},\"baxis\":{\"endlinecolor\":\"#2a3f5f\",\"gridcolor\":\"white\",\"linecolor\":\"white\",\"minorgridcolor\":\"white\",\"startlinecolor\":\"#2a3f5f\"},\"type\":\"carpet\"}],\"table\":[{\"cells\":{\"fill\":{\"color\":\"#EBF0F8\"},\"line\":{\"color\":\"white\"}},\"header\":{\"fill\":{\"color\":\"#C8D4E3\"},\"line\":{\"color\":\"white\"}},\"type\":\"table\"}],\"barpolar\":[{\"marker\":{\"line\":{\"color\":\"#E5ECF6\",\"width\":0.5},\"pattern\":{\"fillmode\":\"overlay\",\"size\":10,\"solidity\":0.2}},\"type\":\"barpolar\"}],\"pie\":[{\"automargin\":true,\"type\":\"pie\"}]},\"layout\":{\"autotypenumbers\":\"strict\",\"colorway\":[\"#636efa\",\"#EF553B\",\"#00cc96\",\"#ab63fa\",\"#FFA15A\",\"#19d3f3\",\"#FF6692\",\"#B6E880\",\"#FF97FF\",\"#FECB52\"],\"font\":{\"color\":\"#2a3f5f\"},\"hovermode\":\"closest\",\"hoverlabel\":{\"align\":\"left\"},\"paper_bgcolor\":\"white\",\"plot_bgcolor\":\"#E5ECF6\",\"polar\":{\"bgcolor\":\"#E5ECF6\",\"angularaxis\":{\"gridcolor\":\"white\",\"linecolor\":\"white\",\"ticks\":\"\"},\"radialaxis\":{\"gridcolor\":\"white\",\"linecolor\":\"white\",\"ticks\":\"\"}},\"ternary\":{\"bgcolor\":\"#E5ECF6\",\"aaxis\":{\"gridcolor\":\"white\",\"linecolor\":\"white\",\"ticks\":\"\"},\"baxis\":{\"gridcolor\":\"white\",\"linecolor\":\"white\",\"ticks\":\"\"},\"caxis\":{\"gridcolor\":\"white\",\"linecolor\":\"white\",\"ticks\":\"\"}},\"coloraxis\":{\"colorbar\":{\"outlinewidth\":0,\"ticks\":\"\"}},\"colorscale\":{\"sequential\":[[0.0,\"#0d0887\"],[0.1111111111111111,\"#46039f\"],[0.2222222222222222,\"#7201a8\"],[0.3333333333333333,\"#9c179e\"],[0.4444444444444444,\"#bd3786\"],[0.5555555555555556,\"#d8576b\"],[0.6666666666666666,\"#ed7953\"],[0.7777777777777778,\"#fb9f3a\"],[0.8888888888888888,\"#fdca26\"],[1.0,\"#f0f921\"]],\"sequentialminus\":[[0.0,\"#0d0887\"],[0.1111111111111111,\"#46039f\"],[0.2222222222222222,\"#7201a8\"],[0.3333333333333333,\"#9c179e\"],[0.4444444444444444,\"#bd3786\"],[0.5555555555555556,\"#d8576b\"],[0.6666666666666666,\"#ed7953\"],[0.7777777777777778,\"#fb9f3a\"],[0.8888888888888888,\"#fdca26\"],[1.0,\"#f0f921\"]],\"diverging\":[[0,\"#8e0152\"],[0.1,\"#c51b7d\"],[0.2,\"#de77ae\"],[0.3,\"#f1b6da\"],[0.4,\"#fde0ef\"],[0.5,\"#f7f7f7\"],[0.6,\"#e6f5d0\"],[0.7,\"#b8e186\"],[0.8,\"#7fbc41\"],[0.9,\"#4d9221\"],[1,\"#276419\"]]},\"xaxis\":{\"gridcolor\":\"white\",\"linecolor\":\"white\",\"ticks\":\"\",\"title\":{\"standoff\":15},\"zerolinecolor\":\"white\",\"automargin\":true,\"zerolinewidth\":2},\"yaxis\":{\"gridcolor\":\"white\",\"linecolor\":\"white\",\"ticks\":\"\",\"title\":{\"standoff\":15},\"zerolinecolor\":\"white\",\"automargin\":true,\"zerolinewidth\":2},\"scene\":{\"xaxis\":{\"backgroundcolor\":\"#E5ECF6\",\"gridcolor\":\"white\",\"linecolor\":\"white\",\"showbackground\":true,\"ticks\":\"\",\"zerolinecolor\":\"white\",\"gridwidth\":2},\"yaxis\":{\"backgroundcolor\":\"#E5ECF6\",\"gridcolor\":\"white\",\"linecolor\":\"white\",\"showbackground\":true,\"ticks\":\"\",\"zerolinecolor\":\"white\",\"gridwidth\":2},\"zaxis\":{\"backgroundcolor\":\"#E5ECF6\",\"gridcolor\":\"white\",\"linecolor\":\"white\",\"showbackground\":true,\"ticks\":\"\",\"zerolinecolor\":\"white\",\"gridwidth\":2}},\"shapedefaults\":{\"line\":{\"color\":\"#2a3f5f\"}},\"annotationdefaults\":{\"arrowcolor\":\"#2a3f5f\",\"arrowhead\":0,\"arrowwidth\":1},\"geo\":{\"bgcolor\":\"white\",\"landcolor\":\"#E5ECF6\",\"subunitcolor\":\"white\",\"showland\":true,\"showlakes\":true,\"lakecolor\":\"white\"},\"title\":{\"x\":0.05},\"mapbox\":{\"style\":\"light\"}}},\"xaxis\":{\"title\":{\"text\":\"Epoch\"}},\"yaxis\":{\"title\":{\"text\":\"Loss\"}},\"title\":{\"text\":\"Evolution of Loss across Epochs\",\"font\":{\"size\":20},\"x\":0.5},\"height\":500,\"width\":1200},                        {\"responsive\": true}                    ).then(function(){\n",
              "                            \n",
              "var gd = document.getElementById('111e049f-0703-470b-8c26-f0d88cbb74b9');\n",
              "var x = new MutationObserver(function (mutations, observer) {{\n",
              "        var display = window.getComputedStyle(gd).display;\n",
              "        if (!display || display === 'none') {{\n",
              "            console.log([gd, 'removed!']);\n",
              "            Plotly.purge(gd);\n",
              "            observer.disconnect();\n",
              "        }}\n",
              "}});\n",
              "\n",
              "// Listen for the removal of the full notebook cells\n",
              "var notebookContainer = gd.closest('#notebook-container');\n",
              "if (notebookContainer) {{\n",
              "    x.observe(notebookContainer, {childList: true});\n",
              "}}\n",
              "\n",
              "// Listen for the clearing of the current output cell\n",
              "var outputEl = gd.closest('.output');\n",
              "if (outputEl) {{\n",
              "    x.observe(outputEl, {childList: true});\n",
              "}}\n",
              "\n",
              "                        })                };                            </script>        </div>\n",
              "</body>\n",
              "</html>"
            ]
          },
          "metadata": {},
          "output_type": "display_data"
        },
        {
          "data": {
            "text/html": [
              "<html>\n",
              "<head><meta charset=\"utf-8\" /></head>\n",
              "<body>\n",
              "    <div>            <script src=\"https://cdnjs.cloudflare.com/ajax/libs/mathjax/2.7.5/MathJax.js?config=TeX-AMS-MML_SVG\"></script><script type=\"text/javascript\">if (window.MathJax && window.MathJax.Hub && window.MathJax.Hub.Config) {window.MathJax.Hub.Config({SVG: {font: \"STIX-Web\"}});}</script>                <script type=\"text/javascript\">window.PlotlyConfig = {MathJaxConfig: 'local'};</script>\n",
              "        <script charset=\"utf-8\" src=\"https://cdn.plot.ly/plotly-2.24.1.min.js\"></script>                <div id=\"3519d3fe-8f0f-4361-9d98-0077464987e0\" class=\"plotly-graph-div\" style=\"height:500px; width:1200px;\"></div>            <script type=\"text/javascript\">                                    window.PLOTLYENV=window.PLOTLYENV || {};                                    if (document.getElementById(\"3519d3fe-8f0f-4361-9d98-0077464987e0\")) {                    Plotly.newPlot(                        \"3519d3fe-8f0f-4361-9d98-0077464987e0\",                        [{\"line\":{\"color\":\"blue\",\"width\":2},\"name\":\"Accuracy\",\"x\":[1,2,3,4],\"y\":[0.9494826793670654,0.9749956130981444,0.9799239635467528,0.9826287627220154],\"type\":\"scatter\"},{\"line\":{\"color\":\"#FF6600\",\"width\":2},\"name\":\"Val Accuracy\",\"x\":[1,2,3,4],\"y\":[0.968079388141632,0.968536615371704,0.9672155976295472,0.967691957950592],\"type\":\"scatter\"}],                        {\"template\":{\"data\":{\"histogram2dcontour\":[{\"type\":\"histogram2dcontour\",\"colorbar\":{\"outlinewidth\":0,\"ticks\":\"\"},\"colorscale\":[[0.0,\"#0d0887\"],[0.1111111111111111,\"#46039f\"],[0.2222222222222222,\"#7201a8\"],[0.3333333333333333,\"#9c179e\"],[0.4444444444444444,\"#bd3786\"],[0.5555555555555556,\"#d8576b\"],[0.6666666666666666,\"#ed7953\"],[0.7777777777777778,\"#fb9f3a\"],[0.8888888888888888,\"#fdca26\"],[1.0,\"#f0f921\"]]}],\"choropleth\":[{\"type\":\"choropleth\",\"colorbar\":{\"outlinewidth\":0,\"ticks\":\"\"}}],\"histogram2d\":[{\"type\":\"histogram2d\",\"colorbar\":{\"outlinewidth\":0,\"ticks\":\"\"},\"colorscale\":[[0.0,\"#0d0887\"],[0.1111111111111111,\"#46039f\"],[0.2222222222222222,\"#7201a8\"],[0.3333333333333333,\"#9c179e\"],[0.4444444444444444,\"#bd3786\"],[0.5555555555555556,\"#d8576b\"],[0.6666666666666666,\"#ed7953\"],[0.7777777777777778,\"#fb9f3a\"],[0.8888888888888888,\"#fdca26\"],[1.0,\"#f0f921\"]]}],\"heatmap\":[{\"type\":\"heatmap\",\"colorbar\":{\"outlinewidth\":0,\"ticks\":\"\"},\"colorscale\":[[0.0,\"#0d0887\"],[0.1111111111111111,\"#46039f\"],[0.2222222222222222,\"#7201a8\"],[0.3333333333333333,\"#9c179e\"],[0.4444444444444444,\"#bd3786\"],[0.5555555555555556,\"#d8576b\"],[0.6666666666666666,\"#ed7953\"],[0.7777777777777778,\"#fb9f3a\"],[0.8888888888888888,\"#fdca26\"],[1.0,\"#f0f921\"]]}],\"heatmapgl\":[{\"type\":\"heatmapgl\",\"colorbar\":{\"outlinewidth\":0,\"ticks\":\"\"},\"colorscale\":[[0.0,\"#0d0887\"],[0.1111111111111111,\"#46039f\"],[0.2222222222222222,\"#7201a8\"],[0.3333333333333333,\"#9c179e\"],[0.4444444444444444,\"#bd3786\"],[0.5555555555555556,\"#d8576b\"],[0.6666666666666666,\"#ed7953\"],[0.7777777777777778,\"#fb9f3a\"],[0.8888888888888888,\"#fdca26\"],[1.0,\"#f0f921\"]]}],\"contourcarpet\":[{\"type\":\"contourcarpet\",\"colorbar\":{\"outlinewidth\":0,\"ticks\":\"\"}}],\"contour\":[{\"type\":\"contour\",\"colorbar\":{\"outlinewidth\":0,\"ticks\":\"\"},\"colorscale\":[[0.0,\"#0d0887\"],[0.1111111111111111,\"#46039f\"],[0.2222222222222222,\"#7201a8\"],[0.3333333333333333,\"#9c179e\"],[0.4444444444444444,\"#bd3786\"],[0.5555555555555556,\"#d8576b\"],[0.6666666666666666,\"#ed7953\"],[0.7777777777777778,\"#fb9f3a\"],[0.8888888888888888,\"#fdca26\"],[1.0,\"#f0f921\"]]}],\"surface\":[{\"type\":\"surface\",\"colorbar\":{\"outlinewidth\":0,\"ticks\":\"\"},\"colorscale\":[[0.0,\"#0d0887\"],[0.1111111111111111,\"#46039f\"],[0.2222222222222222,\"#7201a8\"],[0.3333333333333333,\"#9c179e\"],[0.4444444444444444,\"#bd3786\"],[0.5555555555555556,\"#d8576b\"],[0.6666666666666666,\"#ed7953\"],[0.7777777777777778,\"#fb9f3a\"],[0.8888888888888888,\"#fdca26\"],[1.0,\"#f0f921\"]]}],\"mesh3d\":[{\"type\":\"mesh3d\",\"colorbar\":{\"outlinewidth\":0,\"ticks\":\"\"}}],\"scatter\":[{\"fillpattern\":{\"fillmode\":\"overlay\",\"size\":10,\"solidity\":0.2},\"type\":\"scatter\"}],\"parcoords\":[{\"type\":\"parcoords\",\"line\":{\"colorbar\":{\"outlinewidth\":0,\"ticks\":\"\"}}}],\"scatterpolargl\":[{\"type\":\"scatterpolargl\",\"marker\":{\"colorbar\":{\"outlinewidth\":0,\"ticks\":\"\"}}}],\"bar\":[{\"error_x\":{\"color\":\"#2a3f5f\"},\"error_y\":{\"color\":\"#2a3f5f\"},\"marker\":{\"line\":{\"color\":\"#E5ECF6\",\"width\":0.5},\"pattern\":{\"fillmode\":\"overlay\",\"size\":10,\"solidity\":0.2}},\"type\":\"bar\"}],\"scattergeo\":[{\"type\":\"scattergeo\",\"marker\":{\"colorbar\":{\"outlinewidth\":0,\"ticks\":\"\"}}}],\"scatterpolar\":[{\"type\":\"scatterpolar\",\"marker\":{\"colorbar\":{\"outlinewidth\":0,\"ticks\":\"\"}}}],\"histogram\":[{\"marker\":{\"pattern\":{\"fillmode\":\"overlay\",\"size\":10,\"solidity\":0.2}},\"type\":\"histogram\"}],\"scattergl\":[{\"type\":\"scattergl\",\"marker\":{\"colorbar\":{\"outlinewidth\":0,\"ticks\":\"\"}}}],\"scatter3d\":[{\"type\":\"scatter3d\",\"line\":{\"colorbar\":{\"outlinewidth\":0,\"ticks\":\"\"}},\"marker\":{\"colorbar\":{\"outlinewidth\":0,\"ticks\":\"\"}}}],\"scattermapbox\":[{\"type\":\"scattermapbox\",\"marker\":{\"colorbar\":{\"outlinewidth\":0,\"ticks\":\"\"}}}],\"scatterternary\":[{\"type\":\"scatterternary\",\"marker\":{\"colorbar\":{\"outlinewidth\":0,\"ticks\":\"\"}}}],\"scattercarpet\":[{\"type\":\"scattercarpet\",\"marker\":{\"colorbar\":{\"outlinewidth\":0,\"ticks\":\"\"}}}],\"carpet\":[{\"aaxis\":{\"endlinecolor\":\"#2a3f5f\",\"gridcolor\":\"white\",\"linecolor\":\"white\",\"minorgridcolor\":\"white\",\"startlinecolor\":\"#2a3f5f\"},\"baxis\":{\"endlinecolor\":\"#2a3f5f\",\"gridcolor\":\"white\",\"linecolor\":\"white\",\"minorgridcolor\":\"white\",\"startlinecolor\":\"#2a3f5f\"},\"type\":\"carpet\"}],\"table\":[{\"cells\":{\"fill\":{\"color\":\"#EBF0F8\"},\"line\":{\"color\":\"white\"}},\"header\":{\"fill\":{\"color\":\"#C8D4E3\"},\"line\":{\"color\":\"white\"}},\"type\":\"table\"}],\"barpolar\":[{\"marker\":{\"line\":{\"color\":\"#E5ECF6\",\"width\":0.5},\"pattern\":{\"fillmode\":\"overlay\",\"size\":10,\"solidity\":0.2}},\"type\":\"barpolar\"}],\"pie\":[{\"automargin\":true,\"type\":\"pie\"}]},\"layout\":{\"autotypenumbers\":\"strict\",\"colorway\":[\"#636efa\",\"#EF553B\",\"#00cc96\",\"#ab63fa\",\"#FFA15A\",\"#19d3f3\",\"#FF6692\",\"#B6E880\",\"#FF97FF\",\"#FECB52\"],\"font\":{\"color\":\"#2a3f5f\"},\"hovermode\":\"closest\",\"hoverlabel\":{\"align\":\"left\"},\"paper_bgcolor\":\"white\",\"plot_bgcolor\":\"#E5ECF6\",\"polar\":{\"bgcolor\":\"#E5ECF6\",\"angularaxis\":{\"gridcolor\":\"white\",\"linecolor\":\"white\",\"ticks\":\"\"},\"radialaxis\":{\"gridcolor\":\"white\",\"linecolor\":\"white\",\"ticks\":\"\"}},\"ternary\":{\"bgcolor\":\"#E5ECF6\",\"aaxis\":{\"gridcolor\":\"white\",\"linecolor\":\"white\",\"ticks\":\"\"},\"baxis\":{\"gridcolor\":\"white\",\"linecolor\":\"white\",\"ticks\":\"\"},\"caxis\":{\"gridcolor\":\"white\",\"linecolor\":\"white\",\"ticks\":\"\"}},\"coloraxis\":{\"colorbar\":{\"outlinewidth\":0,\"ticks\":\"\"}},\"colorscale\":{\"sequential\":[[0.0,\"#0d0887\"],[0.1111111111111111,\"#46039f\"],[0.2222222222222222,\"#7201a8\"],[0.3333333333333333,\"#9c179e\"],[0.4444444444444444,\"#bd3786\"],[0.5555555555555556,\"#d8576b\"],[0.6666666666666666,\"#ed7953\"],[0.7777777777777778,\"#fb9f3a\"],[0.8888888888888888,\"#fdca26\"],[1.0,\"#f0f921\"]],\"sequentialminus\":[[0.0,\"#0d0887\"],[0.1111111111111111,\"#46039f\"],[0.2222222222222222,\"#7201a8\"],[0.3333333333333333,\"#9c179e\"],[0.4444444444444444,\"#bd3786\"],[0.5555555555555556,\"#d8576b\"],[0.6666666666666666,\"#ed7953\"],[0.7777777777777778,\"#fb9f3a\"],[0.8888888888888888,\"#fdca26\"],[1.0,\"#f0f921\"]],\"diverging\":[[0,\"#8e0152\"],[0.1,\"#c51b7d\"],[0.2,\"#de77ae\"],[0.3,\"#f1b6da\"],[0.4,\"#fde0ef\"],[0.5,\"#f7f7f7\"],[0.6,\"#e6f5d0\"],[0.7,\"#b8e186\"],[0.8,\"#7fbc41\"],[0.9,\"#4d9221\"],[1,\"#276419\"]]},\"xaxis\":{\"gridcolor\":\"white\",\"linecolor\":\"white\",\"ticks\":\"\",\"title\":{\"standoff\":15},\"zerolinecolor\":\"white\",\"automargin\":true,\"zerolinewidth\":2},\"yaxis\":{\"gridcolor\":\"white\",\"linecolor\":\"white\",\"ticks\":\"\",\"title\":{\"standoff\":15},\"zerolinecolor\":\"white\",\"automargin\":true,\"zerolinewidth\":2},\"scene\":{\"xaxis\":{\"backgroundcolor\":\"#E5ECF6\",\"gridcolor\":\"white\",\"linecolor\":\"white\",\"showbackground\":true,\"ticks\":\"\",\"zerolinecolor\":\"white\",\"gridwidth\":2},\"yaxis\":{\"backgroundcolor\":\"#E5ECF6\",\"gridcolor\":\"white\",\"linecolor\":\"white\",\"showbackground\":true,\"ticks\":\"\",\"zerolinecolor\":\"white\",\"gridwidth\":2},\"zaxis\":{\"backgroundcolor\":\"#E5ECF6\",\"gridcolor\":\"white\",\"linecolor\":\"white\",\"showbackground\":true,\"ticks\":\"\",\"zerolinecolor\":\"white\",\"gridwidth\":2}},\"shapedefaults\":{\"line\":{\"color\":\"#2a3f5f\"}},\"annotationdefaults\":{\"arrowcolor\":\"#2a3f5f\",\"arrowhead\":0,\"arrowwidth\":1},\"geo\":{\"bgcolor\":\"white\",\"landcolor\":\"#E5ECF6\",\"subunitcolor\":\"white\",\"showland\":true,\"showlakes\":true,\"lakecolor\":\"white\"},\"title\":{\"x\":0.05},\"mapbox\":{\"style\":\"light\"}}},\"xaxis\":{\"title\":{\"text\":\"Epoch\"}},\"yaxis\":{\"title\":{\"text\":\"Accuracy\"}},\"title\":{\"text\":\"Evolution of Accuracy across Epochs\",\"font\":{\"size\":20},\"x\":0.5},\"height\":500,\"width\":1200},                        {\"responsive\": true}                    ).then(function(){\n",
              "                            \n",
              "var gd = document.getElementById('3519d3fe-8f0f-4361-9d98-0077464987e0');\n",
              "var x = new MutationObserver(function (mutations, observer) {{\n",
              "        var display = window.getComputedStyle(gd).display;\n",
              "        if (!display || display === 'none') {{\n",
              "            console.log([gd, 'removed!']);\n",
              "            Plotly.purge(gd);\n",
              "            observer.disconnect();\n",
              "        }}\n",
              "}});\n",
              "\n",
              "// Listen for the removal of the full notebook cells\n",
              "var notebookContainer = gd.closest('#notebook-container');\n",
              "if (notebookContainer) {{\n",
              "    x.observe(notebookContainer, {childList: true});\n",
              "}}\n",
              "\n",
              "// Listen for the clearing of the current output cell\n",
              "var outputEl = gd.closest('.output');\n",
              "if (outputEl) {{\n",
              "    x.observe(outputEl, {childList: true});\n",
              "}}\n",
              "\n",
              "                        })                };                            </script>        </div>\n",
              "</body>\n",
              "</html>"
            ]
          },
          "metadata": {},
          "output_type": "display_data"
        }
      ],
      "source": [
        "plot_metrics()\n",
        "plot_metrics(metric=\"accuracy\")"
      ]
    },
    {
      "cell_type": "markdown",
      "metadata": {
        "id": "rY-pHlllcUPV"
      },
      "source": [
        "**Images for GitHub**"
      ]
    },
    {
      "cell_type": "code",
      "execution_count": null,
      "metadata": {
        "colab": {
          "base_uri": "https://localhost:8080/",
          "height": 1000
        },
        "id": "o_lfML87cWb7",
        "outputId": "5f6a05e6-3ac6-4a54-8710-9ce9805a7a33"
      },
      "outputs": [
        {
          "data": {
            "image/png": "[encoded data removed]"
          },
          "metadata": {},
          "output_type": "display_data"
        },
        {
          "data": {
            "image/png": "[encoded data removed]"
          },
          "metadata": {},
          "output_type": "display_data"
        }
      ],
      "source": [
        "plot_metrics(renderer=\"png\")\n",
        "plot_metrics(renderer=\"png\", metric=\"accuracy\")"
      ]
    },
    {
      "cell_type": "markdown",
      "metadata": {
        "id": "j2VNNRAeJ_hx"
      },
      "source": [
        "### **Predictions with the trained model**"
      ]
    },
    {
      "cell_type": "code",
      "execution_count": 10,
      "metadata": {
        "colab": {
          "base_uri": "https://localhost:8080/"
        },
        "id": "SA0zaZJ1KDFK",
        "outputId": "d52810f2-7317-4852-f7e8-d2a14750f761"
      },
      "outputs": [
        {
          "name": "stdout",
          "output_type": "stream",
          "text": [
            "Model: \"sequential\"\n",
            "_________________________________________________________________\n",
            " Layer (type)                Output Shape              Param #   \n",
            "=================================================================\n",
            " embedding (Embedding)       (None, None, 128)         3863040   \n",
            "                                                                 \n",
            " bidirectional (Bidirection  (None, None, 256)         263168    \n",
            " al)                                                             \n",
            "                                                                 \n",
            " dense (Dense)               (None, None, 18)          4626      \n",
            "                                                                 \n",
            "=================================================================\n",
            "Total params: 4130834 (15.76 MB)\n",
            "Trainable params: 4130834 (15.76 MB)\n",
            "Non-trainable params: 0 (0.00 Byte)\n",
            "_________________________________________________________________\n"
          ]
        }
      ],
      "source": [
        "# Loading the trained model\n",
        "tf.keras.backend.clear_session()\n",
        "model = tf.keras.models.load_model(\"/content/drive/MyDrive/models/NER_LSTM_Kaggle.keras\")\n",
        "model.summary()"
      ]
    },
    {
      "cell_type": "code",
      "execution_count": 45,
      "metadata": {
        "id": "cs6eubKxPVlI"
      },
      "outputs": [],
      "source": [
        "# Function to predict named entities\n",
        "\n",
        "def predict_label(sentences, labels=None, random=True, indice=0):\n",
        "  indice = np.random.choice(len(sentences)) if random else indice\n",
        "\n",
        "  sentence = sentences[indice]\n",
        "  sentence_ids = encoder_x([sentence])\n",
        "\n",
        "  label_ids_pred = model.predict(sentence_ids, verbose=0).squeeze()\n",
        "  label_ids_pred = np.argmax(label_ids_pred, axis=-1)\n",
        "\n",
        "  display(HTML(f\"<b>Sentence:</b> {sentence}<br><br>\"))\n",
        "  html_content = \"\"\"\n",
        "  <table style=\"border-collapse: separate; border-spacing: 15px; text-align: center;\">\n",
        "    <tr>\n",
        "      <th>Word</th>\n",
        "      <th>Predicted Tag</th>\n",
        "  \"\"\"\n",
        "\n",
        "  if labels is not None:\n",
        "    label_colors = {\"incorrect\":\"red\", \"correct\":\"green\"}\n",
        "    label = labels[indice]\n",
        "    label_ids = encoder_y.texts_to_sequences([label])[0]\n",
        "    html_content += \"<th>True Tag</th>\"\n",
        "  html_content += \"</tr>\"\n",
        "\n",
        "  for i in range(len(label_ids_pred)):\n",
        "    cond = vocab_y_inv[label_ids[i]] if labels is not None else vocab_y_inv[label_ids_pred[i]]\n",
        "    if cond != \"O\":\n",
        "\n",
        "      html_content += f\"\"\"\n",
        "        <tr>\n",
        "          <td>{vocab_x[sentence_ids[0][i]]}</td>\n",
        "          <td>{vocab_y_inv[label_ids_pred[i]]}</td>\n",
        "        \"\"\"\n",
        "\n",
        "      if labels is not None:\n",
        "        result = \"correct\" if label_ids[i] == label_ids_pred[i] else \"incorrect\"\n",
        "\n",
        "        html_content += f\"\"\"\n",
        "          <td>{vocab_y_inv[label_ids[i]]}</td>\n",
        "          <td><b><span style=\"color:{label_colors[result]}\">{result}</span></b></td>\n",
        "        \"\"\"\n",
        "      html_content += \"</tr>\"\n",
        "\n",
        "  html_content += \"</table>\"\n",
        "  display(HTML(html_content))"
      ]
    },
    {
      "cell_type": "markdown",
      "metadata": {
        "id": "7O5A_x0lq5ew"
      },
      "source": [
        "#### **Test Dataset**"
      ]
    },
    {
      "cell_type": "code",
      "execution_count": 12,
      "metadata": {
        "id": "VuyWzQ-6qxmv"
      },
      "outputs": [],
      "source": [
        "sentences, labels = df_test.Word.values, df_test.Tag.values"
      ]
    },
    {
      "cell_type": "code",
      "execution_count": 40,
      "metadata": {
        "colab": {
          "base_uri": "https://localhost:8080/",
          "height": 273
        },
        "id": "s-yeH6c622QW",
        "outputId": "2eaa6f52-3979-4204-b6ab-22ba2ca251c0"
      },
      "outputs": [
        {
          "data": {
            "text/html": [
              "<b>Sentence:</b> But Prime Minister Mohamed Ali Gedi said the vote was flawed and must be held again .<br><br>"
            ],
            "text/plain": [
              "<IPython.core.display.HTML object>"
            ]
          },
          "metadata": {},
          "output_type": "display_data"
        },
        {
          "data": {
            "text/html": [
              "\n",
              "  <table style=\"border-collapse: separate; border-spacing: 15px; text-align: center;\"> \n",
              "    <tr>\n",
              "      <th>Word</th>\n",
              "      <th>Predicted Tag</th>\n",
              "  <th>True Tag</th></tr>\n",
              "        <tr>\n",
              "          <td>Prime</td>\n",
              "          <td>B-per</td>\n",
              "        \n",
              "          <td>B-per</td>\n",
              "          <td><b><span style=\"color:green\">correct</span></b></td>\n",
              "        </tr>\n",
              "        <tr>\n",
              "          <td>Minister</td>\n",
              "          <td>I-per</td>\n",
              "        \n",
              "          <td>I-per</td>\n",
              "          <td><b><span style=\"color:green\">correct</span></b></td>\n",
              "        </tr>\n",
              "        <tr>\n",
              "          <td>Mohamed</td>\n",
              "          <td>I-per</td>\n",
              "        \n",
              "          <td>I-per</td>\n",
              "          <td><b><span style=\"color:green\">correct</span></b></td>\n",
              "        </tr>\n",
              "        <tr>\n",
              "          <td>Ali</td>\n",
              "          <td>I-per</td>\n",
              "        \n",
              "          <td>I-per</td>\n",
              "          <td><b><span style=\"color:green\">correct</span></b></td>\n",
              "        </tr>\n",
              "        <tr>\n",
              "          <td>Gedi</td>\n",
              "          <td>I-per</td>\n",
              "        \n",
              "          <td>I-per</td>\n",
              "          <td><b><span style=\"color:green\">correct</span></b></td>\n",
              "        </tr></table>"
            ],
            "text/plain": [
              "<IPython.core.display.HTML object>"
            ]
          },
          "metadata": {},
          "output_type": "display_data"
        }
      ],
      "source": [
        "predict_label(sentences, labels, random=False)"
      ]
    },
    {
      "cell_type": "code",
      "execution_count": 59,
      "metadata": {
        "colab": {
          "base_uri": "https://localhost:8080/",
          "height": 376
        },
        "id": "enbJiHoEK47W",
        "outputId": "b1bae6d1-c19b-4d91-fc02-33f8a6dc03d0"
      },
      "outputs": [
        {
          "data": {
            "text/html": [
              "<b>Sentence:</b> Monday , Israeli Prime Minister Ehud Olmert also said Israel was ready to negotiate with Syria .<br><br>"
            ],
            "text/plain": [
              "<IPython.core.display.HTML object>"
            ]
          },
          "metadata": {},
          "output_type": "display_data"
        },
        {
          "data": {
            "text/html": [
              "\n",
              "  <table style=\"border-collapse: separate; border-spacing: 15px; text-align: center;\"> \n",
              "    <tr>\n",
              "      <th>Word</th>\n",
              "      <th>Predicted Tag</th>\n",
              "  <th>True Tag</th></tr>\n",
              "        <tr>\n",
              "          <td>Monday</td>\n",
              "          <td>B-tim</td>\n",
              "        \n",
              "          <td>B-tim</td>\n",
              "          <td><b><span style=\"color:green\">correct</span></b></td>\n",
              "        </tr>\n",
              "        <tr>\n",
              "          <td>Israeli</td>\n",
              "          <td>B-gpe</td>\n",
              "        \n",
              "          <td>B-gpe</td>\n",
              "          <td><b><span style=\"color:green\">correct</span></b></td>\n",
              "        </tr>\n",
              "        <tr>\n",
              "          <td>Prime</td>\n",
              "          <td>B-per</td>\n",
              "        \n",
              "          <td>B-per</td>\n",
              "          <td><b><span style=\"color:green\">correct</span></b></td>\n",
              "        </tr>\n",
              "        <tr>\n",
              "          <td>Minister</td>\n",
              "          <td>I-per</td>\n",
              "        \n",
              "          <td>I-per</td>\n",
              "          <td><b><span style=\"color:green\">correct</span></b></td>\n",
              "        </tr>\n",
              "        <tr>\n",
              "          <td>Ehud</td>\n",
              "          <td>I-per</td>\n",
              "        \n",
              "          <td>I-per</td>\n",
              "          <td><b><span style=\"color:green\">correct</span></b></td>\n",
              "        </tr>\n",
              "        <tr>\n",
              "          <td>Olmert</td>\n",
              "          <td>I-per</td>\n",
              "        \n",
              "          <td>I-per</td>\n",
              "          <td><b><span style=\"color:green\">correct</span></b></td>\n",
              "        </tr>\n",
              "        <tr>\n",
              "          <td>Israel</td>\n",
              "          <td>B-geo</td>\n",
              "        \n",
              "          <td>B-geo</td>\n",
              "          <td><b><span style=\"color:green\">correct</span></b></td>\n",
              "        </tr>\n",
              "        <tr>\n",
              "          <td>Syria</td>\n",
              "          <td>B-geo</td>\n",
              "        \n",
              "          <td>B-geo</td>\n",
              "          <td><b><span style=\"color:green\">correct</span></b></td>\n",
              "        </tr></table>"
            ],
            "text/plain": [
              "<IPython.core.display.HTML object>"
            ]
          },
          "metadata": {},
          "output_type": "display_data"
        }
      ],
      "source": [
        "predict_label(sentences, labels)"
      ]
    },
    {
      "cell_type": "code",
      "execution_count": 158,
      "metadata": {
        "colab": {
          "base_uri": "https://localhost:8080/",
          "height": 325
        },
        "id": "-H4hGHYJfK_I",
        "outputId": "6fe01c4e-acee-41aa-f4f4-044b38aba767"
      },
      "outputs": [
        {
          "data": {
            "text/html": [
              "<b>Sentence:</b> The rebels , generally called Ex-FAR ( members of the former Rwandan army ) and Interahamwe , are mostly responsible for the 1994 Rwandan genocide that killed about 8,00,000 people during a three-month period .<br><br>"
            ],
            "text/plain": [
              "<IPython.core.display.HTML object>"
            ]
          },
          "metadata": {},
          "output_type": "display_data"
        },
        {
          "data": {
            "text/html": [
              "\n",
              "  <table style=\"border-collapse: separate; border-spacing: 15px; text-align: center;\"> \n",
              "    <tr>\n",
              "      <th>Word</th>\n",
              "      <th>Predicted Tag</th>\n",
              "  <th>True Tag</th></tr>\n",
              "        <tr>\n",
              "          <td>Rwandan</td>\n",
              "          <td>B-gpe</td>\n",
              "        \n",
              "          <td>B-gpe</td>\n",
              "          <td><b><span style=\"color:green\">correct</span></b></td>\n",
              "        </tr>\n",
              "        <tr>\n",
              "          <td>Interahamwe</td>\n",
              "          <td>B-geo</td>\n",
              "        \n",
              "          <td>B-geo</td>\n",
              "          <td><b><span style=\"color:green\">correct</span></b></td>\n",
              "        </tr>\n",
              "        <tr>\n",
              "          <td>1994</td>\n",
              "          <td>B-tim</td>\n",
              "        \n",
              "          <td>B-tim</td>\n",
              "          <td><b><span style=\"color:green\">correct</span></b></td>\n",
              "        </tr>\n",
              "        <tr>\n",
              "          <td>Rwandan</td>\n",
              "          <td>B-gpe</td>\n",
              "        \n",
              "          <td>B-gpe</td>\n",
              "          <td><b><span style=\"color:green\">correct</span></b></td>\n",
              "        </tr>\n",
              "        <tr>\n",
              "          <td>three-month</td>\n",
              "          <td>B-tim</td>\n",
              "        \n",
              "          <td>B-tim</td>\n",
              "          <td><b><span style=\"color:green\">correct</span></b></td>\n",
              "        </tr>\n",
              "        <tr>\n",
              "          <td>period</td>\n",
              "          <td>I-tim</td>\n",
              "        \n",
              "          <td>I-tim</td>\n",
              "          <td><b><span style=\"color:green\">correct</span></b></td>\n",
              "        </tr></table>"
            ],
            "text/plain": [
              "<IPython.core.display.HTML object>"
            ]
          },
          "metadata": {},
          "output_type": "display_data"
        }
      ],
      "source": [
        "predict_label(sentences, labels, random=False, indice=109)"
      ]
    },
    {
      "cell_type": "code",
      "execution_count": 53,
      "metadata": {
        "colab": {
          "base_uri": "https://localhost:8080/",
          "height": 101
        },
        "id": "2tOAeo4XK_GV",
        "outputId": "e1099b1e-20c7-4536-bde5-3ffc557cd0ec"
      },
      "outputs": [
        {
          "data": {
            "text/html": [
              "<b>Sentence:</b> Women and children were reported to be among those killed .<br><br>"
            ],
            "text/plain": [
              "<IPython.core.display.HTML object>"
            ]
          },
          "metadata": {},
          "output_type": "display_data"
        },
        {
          "data": {
            "text/html": [
              "\n",
              "  <table style=\"border-collapse: separate; border-spacing: 15px; text-align: center;\"> \n",
              "    <tr>\n",
              "      <th>Word</th>\n",
              "      <th>Predicted Tag</th>\n",
              "  <th>True Tag</th></tr></table>"
            ],
            "text/plain": [
              "<IPython.core.display.HTML object>"
            ]
          },
          "metadata": {},
          "output_type": "display_data"
        }
      ],
      "source": [
        "predict_label(sentences, labels)"
      ]
    },
    {
      "cell_type": "code",
      "execution_count": 210,
      "metadata": {
        "colab": {
          "base_uri": "https://localhost:8080/",
          "height": 342
        },
        "id": "y9u42GSTqEyQ",
        "outputId": "e8a444b5-74ca-4242-9b12-86a43cef3e19"
      },
      "outputs": [
        {
          "data": {
            "text/html": [
              "<b>Sentence:</b> A State Department spokesman , Sean McCormack , said Tuesday that Washington will raise the issue with Cairo .<br><br>"
            ],
            "text/plain": [
              "<IPython.core.display.HTML object>"
            ]
          },
          "metadata": {},
          "output_type": "display_data"
        },
        {
          "data": {
            "text/html": [
              "\n",
              "  <table style=\"border-collapse: separate; border-spacing: 15px; text-align: center;\"> \n",
              "    <tr>\n",
              "      <th>Word</th>\n",
              "      <th>Predicted Tag</th>\n",
              "  <th>True Tag</th></tr>\n",
              "        <tr>\n",
              "          <td>State</td>\n",
              "          <td>B-org</td>\n",
              "        \n",
              "          <td>B-org</td>\n",
              "          <td><b><span style=\"color:green\">correct</span></b></td>\n",
              "        </tr>\n",
              "        <tr>\n",
              "          <td>Department</td>\n",
              "          <td>I-org</td>\n",
              "        \n",
              "          <td>I-org</td>\n",
              "          <td><b><span style=\"color:green\">correct</span></b></td>\n",
              "        </tr>\n",
              "        <tr>\n",
              "          <td>Sean</td>\n",
              "          <td>B-per</td>\n",
              "        \n",
              "          <td>B-per</td>\n",
              "          <td><b><span style=\"color:green\">correct</span></b></td>\n",
              "        </tr>\n",
              "        <tr>\n",
              "          <td>McCormack</td>\n",
              "          <td>I-per</td>\n",
              "        \n",
              "          <td>I-per</td>\n",
              "          <td><b><span style=\"color:green\">correct</span></b></td>\n",
              "        </tr>\n",
              "        <tr>\n",
              "          <td>Tuesday</td>\n",
              "          <td>B-tim</td>\n",
              "        \n",
              "          <td>B-tim</td>\n",
              "          <td><b><span style=\"color:green\">correct</span></b></td>\n",
              "        </tr>\n",
              "        <tr>\n",
              "          <td>Washington</td>\n",
              "          <td>B-geo</td>\n",
              "        \n",
              "          <td>B-geo</td>\n",
              "          <td><b><span style=\"color:green\">correct</span></b></td>\n",
              "        </tr>\n",
              "        <tr>\n",
              "          <td>Cairo</td>\n",
              "          <td>B-geo</td>\n",
              "        \n",
              "          <td>B-geo</td>\n",
              "          <td><b><span style=\"color:green\">correct</span></b></td>\n",
              "        </tr></table>"
            ],
            "text/plain": [
              "<IPython.core.display.HTML object>"
            ]
          },
          "metadata": {},
          "output_type": "display_data"
        }
      ],
      "source": [
        "predict_label(sentences, labels)"
      ]
    },
    {
      "cell_type": "code",
      "execution_count": null,
      "metadata": {
        "colab": {
          "base_uri": "https://localhost:8080/",
          "height": 496
        },
        "id": "epz4LDGDK8as",
        "outputId": "ea417388-c231-4691-9e40-85190ba8203c"
      },
      "outputs": [
        {
          "data": {
            "text/html": [
              "<b>Sentence:</b> German Chancellor Gerhard Schroeder and his Christian Democratic Union challenger , Angela Merkel , are so close together in the latest pre-election polls that they have both vowed to break with tradition and campaign straight through the end of voting on Sunday evening .<br><br>"
            ],
            "text/plain": [
              "<IPython.core.display.HTML object>"
            ]
          },
          "metadata": {},
          "output_type": "display_data"
        },
        {
          "data": {
            "text/html": [
              "\n",
              "  <table style=\"border-collapse: separate; border-spacing: 15px; text-align: center;\"> \n",
              "    <tr>\n",
              "      <th>Word</th>\n",
              "      <th>Predicted Tag</th>\n",
              "  <th>True Tag</th></tr>\n",
              "        <tr>\n",
              "          <td>German</td>\n",
              "          <td>B-gpe</td>\n",
              "        \n",
              "          <td>B-gpe</td>\n",
              "          <td><b><span style=\"color:green\">correct</span></b></td>\n",
              "        </tr>\n",
              "        <tr>\n",
              "          <td>Chancellor</td>\n",
              "          <td>O</td>\n",
              "        \n",
              "          <td>B-per</td>\n",
              "          <td><b><span style=\"color:red\">incorrect</span></b></td>\n",
              "        </tr>\n",
              "        <tr>\n",
              "          <td>Gerhard</td>\n",
              "          <td>I-per</td>\n",
              "        \n",
              "          <td>I-per</td>\n",
              "          <td><b><span style=\"color:green\">correct</span></b></td>\n",
              "        </tr>\n",
              "        <tr>\n",
              "          <td>Schroeder</td>\n",
              "          <td>I-per</td>\n",
              "        \n",
              "          <td>I-per</td>\n",
              "          <td><b><span style=\"color:green\">correct</span></b></td>\n",
              "        </tr>\n",
              "        <tr>\n",
              "          <td>Christian</td>\n",
              "          <td>B-org</td>\n",
              "        \n",
              "          <td>B-org</td>\n",
              "          <td><b><span style=\"color:green\">correct</span></b></td>\n",
              "        </tr>\n",
              "        <tr>\n",
              "          <td>Democratic</td>\n",
              "          <td>I-org</td>\n",
              "        \n",
              "          <td>I-org</td>\n",
              "          <td><b><span style=\"color:green\">correct</span></b></td>\n",
              "        </tr>\n",
              "        <tr>\n",
              "          <td>Union</td>\n",
              "          <td>I-org</td>\n",
              "        \n",
              "          <td>I-org</td>\n",
              "          <td><b><span style=\"color:green\">correct</span></b></td>\n",
              "        </tr>\n",
              "        <tr>\n",
              "          <td>Angela</td>\n",
              "          <td>B-per</td>\n",
              "        \n",
              "          <td>B-per</td>\n",
              "          <td><b><span style=\"color:green\">correct</span></b></td>\n",
              "        </tr>\n",
              "        <tr>\n",
              "          <td>Merkel</td>\n",
              "          <td>I-per</td>\n",
              "        \n",
              "          <td>I-per</td>\n",
              "          <td><b><span style=\"color:green\">correct</span></b></td>\n",
              "        </tr>\n",
              "        <tr>\n",
              "          <td>Sunday</td>\n",
              "          <td>B-tim</td>\n",
              "        \n",
              "          <td>B-tim</td>\n",
              "          <td><b><span style=\"color:green\">correct</span></b></td>\n",
              "        </tr>\n",
              "        <tr>\n",
              "          <td>evening</td>\n",
              "          <td>I-tim</td>\n",
              "        \n",
              "          <td>I-tim</td>\n",
              "          <td><b><span style=\"color:green\">correct</span></b></td>\n",
              "        </tr></table>"
            ],
            "text/plain": [
              "<IPython.core.display.HTML object>"
            ]
          },
          "metadata": {},
          "output_type": "display_data"
        }
      ],
      "source": [
        "predict_label(sentences, labels)"
      ]
    },
    {
      "cell_type": "code",
      "execution_count": 115,
      "metadata": {
        "colab": {
          "base_uri": "https://localhost:8080/",
          "height": 204
        },
        "id": "gjtMVy7ufcUU",
        "outputId": "0f73bfc3-6b24-4a2e-b1ae-eecb735e9819"
      },
      "outputs": [
        {
          "data": {
            "text/html": [
              "<b>Sentence:</b> Diaz-Balart told the Miami Herald newspaper that the policy should be eliminated .<br><br>"
            ],
            "text/plain": [
              "<IPython.core.display.HTML object>"
            ]
          },
          "metadata": {},
          "output_type": "display_data"
        },
        {
          "data": {
            "text/html": [
              "\n",
              "  <table style=\"border-collapse: separate; border-spacing: 15px; text-align: center;\"> \n",
              "    <tr>\n",
              "      <th>Word</th>\n",
              "      <th>Predicted Tag</th>\n",
              "  <th>True Tag</th></tr>\n",
              "        <tr>\n",
              "          <td>Diaz-Balart</td>\n",
              "          <td>B-per</td>\n",
              "        \n",
              "          <td>B-per</td>\n",
              "          <td><b><span style=\"color:green\">correct</span></b></td>\n",
              "        </tr>\n",
              "        <tr>\n",
              "          <td>Miami</td>\n",
              "          <td>B-geo</td>\n",
              "        \n",
              "          <td>B-art</td>\n",
              "          <td><b><span style=\"color:red\">incorrect</span></b></td>\n",
              "        </tr>\n",
              "        <tr>\n",
              "          <td>Herald</td>\n",
              "          <td>I-geo</td>\n",
              "        \n",
              "          <td>I-art</td>\n",
              "          <td><b><span style=\"color:red\">incorrect</span></b></td>\n",
              "        </tr></table>"
            ],
            "text/plain": [
              "<IPython.core.display.HTML object>"
            ]
          },
          "metadata": {},
          "output_type": "display_data"
        }
      ],
      "source": [
        "predict_label(sentences, labels, random=False, indice=2093)"
      ]
    },
    {
      "cell_type": "markdown",
      "metadata": {
        "id": "hJ0tlsGTmy69"
      },
      "source": [
        "#### **Other Sentences**"
      ]
    },
    {
      "cell_type": "code",
      "execution_count": 225,
      "metadata": {
        "colab": {
          "base_uri": "https://localhost:8080/",
          "height": 428
        },
        "id": "6NpP_goojDol",
        "outputId": "22193eac-9522-45be-9c07-0ae8ea8c9df4"
      },
      "outputs": [
        {
          "data": {
            "text/html": [
              "<b>Sentence:</b> \n",
              "George Smith , the White House director of trade and manufacturing policy of U.S , said in an interview on Sunday \n",
              "morning that the White House was working to prepare for the possibility of a second wave of the coronavirus in the fall , \n",
              "though he said it wouldn 't necessarily come\n",
              "<br><br>"
            ],
            "text/plain": [
              "<IPython.core.display.HTML object>"
            ]
          },
          "metadata": {},
          "output_type": "display_data"
        },
        {
          "data": {
            "text/html": [
              "\n",
              "  <table style=\"border-collapse: separate; border-spacing: 15px; text-align: center;\"> \n",
              "    <tr>\n",
              "      <th>Word</th>\n",
              "      <th>Predicted Tag</th>\n",
              "  </tr>\n",
              "        <tr>\n",
              "          <td>George</td>\n",
              "          <td>B-per</td>\n",
              "        </tr>\n",
              "        <tr>\n",
              "          <td>Smith</td>\n",
              "          <td>I-per</td>\n",
              "        </tr>\n",
              "        <tr>\n",
              "          <td>White</td>\n",
              "          <td>B-org</td>\n",
              "        </tr>\n",
              "        <tr>\n",
              "          <td>House</td>\n",
              "          <td>I-org</td>\n",
              "        </tr>\n",
              "        <tr>\n",
              "          <td>U.S</td>\n",
              "          <td>B-org</td>\n",
              "        </tr>\n",
              "        <tr>\n",
              "          <td>Sunday</td>\n",
              "          <td>B-tim</td>\n",
              "        </tr>\n",
              "        <tr>\n",
              "          <td>morning</td>\n",
              "          <td>I-tim</td>\n",
              "        </tr>\n",
              "        <tr>\n",
              "          <td>White</td>\n",
              "          <td>B-org</td>\n",
              "        </tr>\n",
              "        <tr>\n",
              "          <td>House</td>\n",
              "          <td>I-org</td>\n",
              "        </tr></table>"
            ],
            "text/plain": [
              "<IPython.core.display.HTML object>"
            ]
          },
          "metadata": {},
          "output_type": "display_data"
        }
      ],
      "source": [
        "sentence = [\"\"\"\n",
        "George Smith , the White House director of trade and manufacturing policy of U.S , said in an interview on Sunday\n",
        "morning that the White House was working to prepare for the possibility of a second wave of the coronavirus in the fall ,\n",
        "though he said it wouldn 't necessarily come\n",
        "\"\"\"]\n",
        "\n",
        "predict_label(sentence)"
      ]
    },
    {
      "cell_type": "code",
      "execution_count": 224,
      "metadata": {
        "colab": {
          "base_uri": "https://localhost:8080/",
          "height": 462
        },
        "id": "kV9t_wLstB07",
        "outputId": "805b98f3-c22c-4d52-8e19-97d50d80f555"
      },
      "outputs": [
        {
          "data": {
            "text/html": [
              "<b>Sentence:</b> \n",
              "In Tokyo , Japan , the United Nations announced on Monday that they will hold a global climate summit in December .\n",
              "The event , which will include representatives from over 150 countries , aims to address the urgent issues of climate change \n",
              "and global warming . UN Secretary-General Antonio Guterres emphasized the need for immediate action to protect the planet .\n",
              "<br><br>"
            ],
            "text/plain": [
              "<IPython.core.display.HTML object>"
            ]
          },
          "metadata": {},
          "output_type": "display_data"
        },
        {
          "data": {
            "text/html": [
              "\n",
              "  <table style=\"border-collapse: separate; border-spacing: 15px; text-align: center;\"> \n",
              "    <tr>\n",
              "      <th>Word</th>\n",
              "      <th>Predicted Tag</th>\n",
              "  </tr>\n",
              "        <tr>\n",
              "          <td>Tokyo</td>\n",
              "          <td>B-geo</td>\n",
              "        </tr>\n",
              "        <tr>\n",
              "          <td>Japan</td>\n",
              "          <td>B-geo</td>\n",
              "        </tr>\n",
              "        <tr>\n",
              "          <td>United</td>\n",
              "          <td>B-org</td>\n",
              "        </tr>\n",
              "        <tr>\n",
              "          <td>Nations</td>\n",
              "          <td>I-org</td>\n",
              "        </tr>\n",
              "        <tr>\n",
              "          <td>Monday</td>\n",
              "          <td>B-tim</td>\n",
              "        </tr>\n",
              "        <tr>\n",
              "          <td>December</td>\n",
              "          <td>B-tim</td>\n",
              "        </tr>\n",
              "        <tr>\n",
              "          <td>UN</td>\n",
              "          <td>B-org</td>\n",
              "        </tr>\n",
              "        <tr>\n",
              "          <td>Secretary-General</td>\n",
              "          <td>I-org</td>\n",
              "        </tr>\n",
              "        <tr>\n",
              "          <td>Antonio</td>\n",
              "          <td>B-per</td>\n",
              "        </tr>\n",
              "        <tr>\n",
              "          <td>Guterres</td>\n",
              "          <td>I-per</td>\n",
              "        </tr></table>"
            ],
            "text/plain": [
              "<IPython.core.display.HTML object>"
            ]
          },
          "metadata": {},
          "output_type": "display_data"
        }
      ],
      "source": [
        "sentence = [\"\"\"\n",
        "In Tokyo , Japan , the United Nations announced on Monday that they will hold a global climate summit in December .\n",
        "The event , which will include representatives from over 150 countries , aims to address the urgent issues of climate change\n",
        "and global warming . UN Secretary-General Antonio Guterres emphasized the need for immediate action to protect the planet .\n",
        "\"\"\"]\n",
        "\n",
        "predict_label(sentence)\n"
      ]
    },
    {
      "cell_type": "markdown",
      "metadata": {
        "id": "OBbaLedUWUhd"
      },
      "source": [
        "**Conclusion:** It can be observed that the model correctly detects named entities in the sentences of the test set, as well as in others that do not belong to the Kaggle NER Dataset, even if they are long or complex. It is also noticeable that the model shows some shortcomings in tags with lower frequency in the sentences, such as ``B-art`` and ``I-art``, where words could be confused with another tag if the context is not deeply analyzed. Therefore, although the model is excellent, improving its performance would require increasing the training dataset with sentences containing the minority tags to balance them with the other tags. Additionally, as mentioned earlier, it would be advisable to consider the use of Transformers networks to effectively capture the complex contexts of the sentences."
      ]
    }
  ],
  "metadata": {
    "colab": {
      "provenance": []
    },
    "kernelspec": {
      "display_name": "Python 3",
      "name": "python3"
    },
    "language_info": {
      "name": "python"
    }
  },
  "nbformat": 4,
  "nbformat_minor": 0
}
