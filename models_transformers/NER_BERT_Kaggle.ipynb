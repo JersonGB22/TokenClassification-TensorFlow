{
  "cells": [
    {
      "cell_type": "markdown",
      "metadata": {
        "id": "ezzKLPtx8S6C"
      },
      "source": [
        "# **Named Entity Recognition with the Kaggle NER Dataset**"
      ]
    },
    {
      "cell_type": "markdown",
      "metadata": {
        "id": "JhhWum6YU8kN"
      },
      "source": [
        "This notebook demonstrates the implementation of a Token Classification model using a Transformer network for the task of Named Entity Recognition (NER) with the [Kaggle NER Dataset](https://www.kaggle.com/datasets/namanj27/ner-dataset). For this task, the [BERT (Pre-training of Deep Bidirectional Transformers for Language Understanding)](https://huggingface.co/docs/transformers/model_doc/bert) model from [Hugging Face 🤗](https://huggingface.co/) was fine-tuned to enhance its performance. Hugging Face is a platform focused on developing tools and models for natural language processing (NLP). It is known for its open-source library called Transformers, which provides an easy-to-use interface for working with advanced pre-trained NLP models like BERT, T5, GPT, and others.\n",
        "\n",
        "**Key Points:**\n",
        "- **Model Architecture:** The BERT Large model from Hugging Face is used, a bidirectional transformer pre-trained with a combination of masked language modeling and next sentence prediction objectives on a large corpus comprising the Toronto Book Corpus and Wikipedia. This model has achieved state-of-the-art results in multiple natural language processing tasks, evaluated on datasets like GLUE, MultiNLI, and SQuAD. The model is loaded using the generic class [TFAutoModelForTokenClassification](https://huggingface.co/transformers/v3.0.2/model_doc/auto.html#tfautomodelfortokenclassification), which allows for creating an instance of a pre-trained TensorFlow-based model specifically designed for token classification tasks, as it includes an appropriate classification layer on top. This differs from [TFAutoModel](https://huggingface.co/transformers/v3.0.2/model_doc/auto.html#tfautomodel), which provides the base model without additional layers.\n",
        "\n",
        "- **Tokenization:** Hugging Face has implemented a tokenizer for each of its models that returns everything needed for the respective model inputs. In this case, the generic tokenizer [AutoTokenizer](https://huggingface.co/docs/transformers/model_doc/auto#transformers.AutoTokenizer) will be used, which allows for instantiating the model’s tokenizer by its name alone. For this NER task, since the sentences are already separated into words, it is necessary to configure the tokenizer with the argument `is_split_into_words=True` to tokenize the words into subwords. The tokenizer returns `input_ids` (the tokenized sentences) and `attention_mask` (a mask to avoid attending to padding token indices).\n",
        "\n",
        " To tokenize the labels, they need to be realigned because the tokenizer adds some special tokens to the sentences, and subword tokenization creates a mismatch between the input and labels. A single word corresponding to a single label can now be split into multiple subwords. Therefore, the labels must be realigned by assigning all tokens to their corresponding word with the help of the tokenizer's `word_ids` method, assigning the label -100 to the special tokens `[CLS]`, `[SEP]`, and `[PAD]` so that the loss function ignores them, and labeling only the first token of a given word by assigning -100 to other subtokens of the same word.\n",
        "\n",
        "- **TPU Usage:** Due to the enormous size of the BERT model, specifically `bert-large-cased`, which has over 300 million parameters, using a TPU in Google Colab is required to significantly accelerate training. Although only the parameters of the classification layer are fine-tuned, loading and processing pre-trained embeddings along with intensive backpropagation computations require considerable computational resources. The TPU facilitates efficient handling of these tasks compared to GPUs or CPUs, optimizing performance and training time.\n",
        "\n",
        "- **Comparison with the [Bidirectional LSTM Network Model](https://github.com/JersonGB22/TokenClassification-TensorFlow/blob/main/models_lstm/NER_LSTM_Kaggle.ipynb):** In this notebook, the results obtained from the Transformer network using the BERT model are compared with the results obtained from the LSTM network model."
      ]
    },
    {
      "cell_type": "markdown",
      "metadata": {
        "id": "43AY8jCC8cp-"
      },
      "source": [
        "## **Imports**"
      ]
    },
    {
      "cell_type": "code",
      "execution_count": 1,
      "metadata": {
        "id": "c0d_8XPxoi92"
      },
      "outputs": [],
      "source": [
        "import tensorflow as tf\n",
        "import os\n",
        "os.environ[\"TF_USE_LEGACY_KERAS\"] = \"1\"\n",
        "\n",
        "from transformers import TFAutoModelForTokenClassification, AutoTokenizer\n",
        "from sklearn.model_selection import train_test_split\n",
        "import numpy as np\n",
        "import pandas as pd\n",
        "import plotly.graph_objects as go\n",
        "from google.colab import drive\n",
        "from IPython.core.display import HTML"
      ]
    },
    {
      "cell_type": "markdown",
      "metadata": {
        "id": "piIYd5Nl-8SX"
      },
      "source": [
        "## **Parameters**"
      ]
    },
    {
      "cell_type": "code",
      "execution_count": 2,
      "metadata": {
        "colab": {
          "base_uri": "https://localhost:8080/"
        },
        "id": "sFOW9rH6TXpW",
        "outputId": "e7f61e01-a402-4c92-d57f-c0d9448d0f5b"
      },
      "outputs": [
        {
          "name": "stdout",
          "output_type": "stream",
          "text": [
            "Mounted at /content/drive/\n"
          ]
        }
      ],
      "source": [
        "drive.mount(\"/content/drive/\")"
      ]
    },
    {
      "cell_type": "code",
      "execution_count": 3,
      "metadata": {
        "id": "eG-hJMUdRw6y"
      },
      "outputs": [],
      "source": [
        "epochs = 10\n",
        "batch_size = 64\n",
        "buffer_size = 1024\n",
        "max_length = 128\n",
        "AUTOTUNE = tf.data.AUTOTUNE\n",
        "SEED = 123\n",
        "\n",
        "# 'cased' enables the tokenizer to distinguish between uppercase and lowercase letters, which is useful for the NER task\n",
        "model_name = \"bert-large-cased\"\n",
        "train_filename = \"/content/drive/MyDrive/Datasets/train_ner_bert.tfrecord\"\n",
        "val_filename = \"/content/drive/MyDrive/Datasets/val_ner_bert.tfrecord\"\n",
        "test_filename = \"/content/drive/MyDrive/Datasets/test_ner_bert.tfrecord\""
      ]
    },
    {
      "cell_type": "markdown",
      "metadata": {
        "id": "2Jb1Tnf8-6m3"
      },
      "source": [
        "## **Preprocessing and Saving Data in TFRecord Format**"
      ]
    },
    {
      "cell_type": "markdown",
      "metadata": {
        "id": "D1GRUvyUx0Ra"
      },
      "source": [
        "Since the Kaggle's NER dataset is large and the BERT Large model is also substantial, the data is preprocessed, tokenized, and saved in TFRecord format, which allows for truly massive data pipeline performance for training on Colab's TPU. This is now more accessible as it is no longer necessary to store the TFRecord files in Google Cloud Storage due to the new version of Colab's TPU, ``TPU v2``, which has [transitioned from TPU Node to TPU VM](https://github.com/googlecolab/colabtools/issues/4481)."
      ]
    },
    {
      "cell_type": "markdown",
      "metadata": {
        "id": "dzmWHidD8u3l"
      },
      "source": [
        "### **Load and Preprocess the Dataset**\n",
        "\n",
        "The dataset was downloaded from the provided link on the official Kaggle website and then uploaded to my personal Google Drive. It comprises 4 columns: ``# Sentence``, ``Word``, ``POS``, and ``Tag``. For the NER task, we will utilize all columns except ``POS``, as it is used for another token classification task, namely [Part-of-Speech (PoS) Tagging](https://github.com/JersonGB22/TokenClassification-TensorFlow/blob/main/models_lstm/PoS_LSTM_Kaggle.ipynb).\n",
        "\n",
        "**NER Label Descriptions:**\n",
        "\n",
        "- **O: Outside**. Indicates that the word does not belong to any named entity.\n",
        "- **B-geo: Beginning of a geographic location**. Indicates that the word is the beginning of a geographic entity (e.g., a country, city, or place).\n",
        "- **I-geo: Inside of a geographic location**. Indicates that the word is part of a geographic entity but is not the beginning.\n",
        "- **B-tim: Beginning of a time expression**. Indicates that the word is the beginning of a temporal expression (e.g., a date or time).\n",
        "- **I-tim: Inside of a time expression**. Indicates that the word is part of a temporal expression but is not the beginning.\n",
        "- **B-org: Beginning of an organization**. Indicates that the word is the beginning of an organizational entity (e.g., a company or institution).\n",
        "- **I-org: Inside of an organization.** Indicates that the word is part of an organizational entity but is not the beginning.\n",
        "- **B-per: Beginning of a person**. Indicates that the word is the beginning of an entity referring to a person.\n",
        "- **I-per: Inside of a person**. Indicates that the word is part of an entity referring to a person but is not the beginning.\n",
        "- **B-gpe: Beginning of a geopolitical entity**. Indicates that the word is the beginning of a geopolitical entity (e.g., a country, state, or city).\n",
        "- **I-gpe: Inside of a geopolitical entity**. Indicates that the word is part of a geopolitical entity but is not the beginning.\n",
        "- **B-art: Beginning of an artifact**. Indicates that the word is the beginning of an entity referring to an artifact (e.g., a work of art, a book).\n",
        "- **I-art: Inside of an artifact**. Indicates that the word is part of an entity referring to an artifact but is not the beginning.\n",
        "- **B-eve: Beginning of an event**. Indicates that the word is the beginning of an entity referring to an event (e.g., a conference, a match).\n",
        "- **I-eve: Inside of an event**. Indicates that the word is part of an entity referring to an event but is not the beginning.\n",
        "- **B-nat: Beginning of a natural phenomenon**. Indicates that the word is the beginning of an entity referring to a natural phenomenon (e.g., a hurricane, an earthquake).\n",
        "- **I-nat: Inside of a natural phenomenon**. Indicates that the word is part of an entity referring to a natural phenomenon but is not the beginning."
      ]
    },
    {
      "cell_type": "code",
      "execution_count": 4,
      "metadata": {
        "id": "pt8xjIQtZNy9"
      },
      "outputs": [],
      "source": [
        "# Unzip the dataset\n",
        "!unzip -q /content/drive/MyDrive/Datasets/ner_datasetreference.csv.zip"
      ]
    },
    {
      "cell_type": "code",
      "execution_count": 5,
      "metadata": {
        "colab": {
          "base_uri": "https://localhost:8080/",
          "height": 455
        },
        "id": "0iUN3pUFZRpM",
        "outputId": "f638c732-9de2-458f-a8b0-5401a7e66391"
      },
      "outputs": [
        {
          "data": {
            "application/vnd.google.colaboratory.intrinsic+json": {
              "summary": "{\n  \"name\": \"df\",\n  \"rows\": 47949,\n  \"fields\": [\n    {\n      \"column\": \"Sentence #\",\n      \"properties\": {\n        \"dtype\": \"string\",\n        \"num_unique_values\": 47949,\n        \"samples\": [\n          \"Sentence: 37421\",\n          \"Sentence: 27835\",\n          \"Sentence: 22016\"\n        ],\n        \"semantic_type\": \"\",\n        \"description\": \"\"\n      }\n    },\n    {\n      \"column\": \"Word\",\n      \"properties\": {\n        \"dtype\": \"object\",\n        \"semantic_type\": \"\",\n        \"description\": \"\"\n      }\n    },\n    {\n      \"column\": \"Tag\",\n      \"properties\": {\n        \"dtype\": \"object\",\n        \"semantic_type\": \"\",\n        \"description\": \"\"\n      }\n    }\n  ]\n}",
              "type": "dataframe",
              "variable_name": "df"
            },
            "text/html": [
              "\n",
              "  <div id=\"df-e0c74206-a38b-43c3-9f1f-4251871a9ad1\" class=\"colab-df-container\">\n",
              "    <div>\n",
              "<style scoped>\n",
              "    .dataframe tbody tr th:only-of-type {\n",
              "        vertical-align: middle;\n",
              "    }\n",
              "\n",
              "    .dataframe tbody tr th {\n",
              "        vertical-align: top;\n",
              "    }\n",
              "\n",
              "    .dataframe thead th {\n",
              "        text-align: right;\n",
              "    }\n",
              "</style>\n",
              "<table border=\"1\" class=\"dataframe\">\n",
              "  <thead>\n",
              "    <tr style=\"text-align: right;\">\n",
              "      <th></th>\n",
              "      <th>Word</th>\n",
              "      <th>Tag</th>\n",
              "    </tr>\n",
              "    <tr>\n",
              "      <th>Sentence #</th>\n",
              "      <th></th>\n",
              "      <th></th>\n",
              "    </tr>\n",
              "  </thead>\n",
              "  <tbody>\n",
              "    <tr>\n",
              "      <th>Sentence: 1</th>\n",
              "      <td>[Thousands, of, demonstrators, have, marched, ...</td>\n",
              "      <td>[O, O, O, O, O, O, B-geo, O, O, O, O, O, B-geo...</td>\n",
              "    </tr>\n",
              "    <tr>\n",
              "      <th>Sentence: 10</th>\n",
              "      <td>[Iranian, officials, say, they, expect, to, ge...</td>\n",
              "      <td>[B-gpe, O, O, O, O, O, O, O, O, O, O, O, O, O,...</td>\n",
              "    </tr>\n",
              "    <tr>\n",
              "      <th>Sentence: 100</th>\n",
              "      <td>[Helicopter, gunships, Saturday, pounded, mili...</td>\n",
              "      <td>[O, O, B-tim, O, O, O, O, O, B-geo, O, O, O, O...</td>\n",
              "    </tr>\n",
              "    <tr>\n",
              "      <th>Sentence: 1000</th>\n",
              "      <td>[They, left, after, a, tense, hour-long, stand...</td>\n",
              "      <td>[O, O, O, O, O, O, O, O, O, O, O]</td>\n",
              "    </tr>\n",
              "    <tr>\n",
              "      <th>Sentence: 10000</th>\n",
              "      <td>[U.N., relief, coordinator, Jan, Egeland, said...</td>\n",
              "      <td>[B-geo, O, O, B-per, I-per, O, B-tim, O, B-geo...</td>\n",
              "    </tr>\n",
              "    <tr>\n",
              "      <th>...</th>\n",
              "      <td>...</td>\n",
              "      <td>...</td>\n",
              "    </tr>\n",
              "    <tr>\n",
              "      <th>Sentence: 9995</th>\n",
              "      <td>[Opposition, leader, Mir, Hossein, Mousavi, ha...</td>\n",
              "      <td>[O, O, O, B-per, I-per, O, O, O, O, O, O, O, O...</td>\n",
              "    </tr>\n",
              "    <tr>\n",
              "      <th>Sentence: 9996</th>\n",
              "      <td>[On, Thursday, ,, Iranian, state, media, publi...</td>\n",
              "      <td>[O, B-tim, O, B-gpe, O, O, O, O, O, O, O, O, B...</td>\n",
              "    </tr>\n",
              "    <tr>\n",
              "      <th>Sentence: 9997</th>\n",
              "      <td>[Following, Iran, 's, disputed, June, 12, elec...</td>\n",
              "      <td>[O, B-geo, O, O, B-tim, I-tim, O, O, O, O, O, ...</td>\n",
              "    </tr>\n",
              "    <tr>\n",
              "      <th>Sentence: 9998</th>\n",
              "      <td>[Since, then, ,, authorities, have, held, publ...</td>\n",
              "      <td>[O, O, O, O, O, O, O, O, O, O, O, O, O, O, O, ...</td>\n",
              "    </tr>\n",
              "    <tr>\n",
              "      <th>Sentence: 9999</th>\n",
              "      <td>[The, United, Nations, is, praising, the, use,...</td>\n",
              "      <td>[O, B-org, I-org, O, O, O, O, O, O, O, O, O, O...</td>\n",
              "    </tr>\n",
              "  </tbody>\n",
              "</table>\n",
              "<p>47949 rows × 2 columns</p>\n",
              "</div>\n",
              "    <div class=\"colab-df-buttons\">\n",
              "\n",
              "  <div class=\"colab-df-container\">\n",
              "    <button class=\"colab-df-convert\" onclick=\"convertToInteractive('df-e0c74206-a38b-43c3-9f1f-4251871a9ad1')\"\n",
              "            title=\"Convert this dataframe to an interactive table.\"\n",
              "            style=\"display:none;\">\n",
              "\n",
              "  <svg xmlns=\"http://www.w3.org/2000/svg\" height=\"24px\" viewBox=\"0 -960 960 960\">\n",
              "    <path d=\"M120-120v-720h720v720H120Zm60-500h600v-160H180v160Zm220 220h160v-160H400v160Zm0 220h160v-160H400v160ZM180-400h160v-160H180v160Zm440 0h160v-160H620v160ZM180-180h160v-160H180v160Zm440 0h160v-160H620v160Z\"/>\n",
              "  </svg>\n",
              "    </button>\n",
              "\n",
              "  <style>\n",
              "    .colab-df-container {\n",
              "      display:flex;\n",
              "      gap: 12px;\n",
              "    }\n",
              "\n",
              "    .colab-df-convert {\n",
              "      background-color: #E8F0FE;\n",
              "      border: none;\n",
              "      border-radius: 50%;\n",
              "      cursor: pointer;\n",
              "      display: none;\n",
              "      fill: #1967D2;\n",
              "      height: 32px;\n",
              "      padding: 0 0 0 0;\n",
              "      width: 32px;\n",
              "    }\n",
              "\n",
              "    .colab-df-convert:hover {\n",
              "      background-color: #E2EBFA;\n",
              "      box-shadow: 0px 1px 2px rgba(60, 64, 67, 0.3), 0px 1px 3px 1px rgba(60, 64, 67, 0.15);\n",
              "      fill: #174EA6;\n",
              "    }\n",
              "\n",
              "    .colab-df-buttons div {\n",
              "      margin-bottom: 4px;\n",
              "    }\n",
              "\n",
              "    [theme=dark] .colab-df-convert {\n",
              "      background-color: #3B4455;\n",
              "      fill: #D2E3FC;\n",
              "    }\n",
              "\n",
              "    [theme=dark] .colab-df-convert:hover {\n",
              "      background-color: #434B5C;\n",
              "      box-shadow: 0px 1px 3px 1px rgba(0, 0, 0, 0.15);\n",
              "      filter: drop-shadow(0px 1px 2px rgba(0, 0, 0, 0.3));\n",
              "      fill: #FFFFFF;\n",
              "    }\n",
              "  </style>\n",
              "\n",
              "    <script>\n",
              "      const buttonEl =\n",
              "        document.querySelector('#df-e0c74206-a38b-43c3-9f1f-4251871a9ad1 button.colab-df-convert');\n",
              "      buttonEl.style.display =\n",
              "        google.colab.kernel.accessAllowed ? 'block' : 'none';\n",
              "\n",
              "      async function convertToInteractive(key) {\n",
              "        const element = document.querySelector('#df-e0c74206-a38b-43c3-9f1f-4251871a9ad1');\n",
              "        const dataTable =\n",
              "          await google.colab.kernel.invokeFunction('convertToInteractive',\n",
              "                                                    [key], {});\n",
              "        if (!dataTable) return;\n",
              "\n",
              "        const docLinkHtml = 'Like what you see? Visit the ' +\n",
              "          '<a target=\"_blank\" href=https://colab.research.google.com/notebooks/data_table.ipynb>data table notebook</a>'\n",
              "          + ' to learn more about interactive tables.';\n",
              "        element.innerHTML = '';\n",
              "        dataTable['output_type'] = 'display_data';\n",
              "        await google.colab.output.renderOutput(dataTable, element);\n",
              "        const docLink = document.createElement('div');\n",
              "        docLink.innerHTML = docLinkHtml;\n",
              "        element.appendChild(docLink);\n",
              "      }\n",
              "    </script>\n",
              "  </div>\n",
              "\n",
              "\n",
              "<div id=\"df-8629bc60-bb16-4236-b22a-58cd279f723c\">\n",
              "  <button class=\"colab-df-quickchart\" onclick=\"quickchart('df-8629bc60-bb16-4236-b22a-58cd279f723c')\"\n",
              "            title=\"Suggest charts\"\n",
              "            style=\"display:none;\">\n",
              "\n",
              "<svg xmlns=\"http://www.w3.org/2000/svg\" height=\"24px\"viewBox=\"0 0 24 24\"\n",
              "     width=\"24px\">\n",
              "    <g>\n",
              "        <path d=\"M19 3H5c-1.1 0-2 .9-2 2v14c0 1.1.9 2 2 2h14c1.1 0 2-.9 2-2V5c0-1.1-.9-2-2-2zM9 17H7v-7h2v7zm4 0h-2V7h2v10zm4 0h-2v-4h2v4z\"/>\n",
              "    </g>\n",
              "</svg>\n",
              "  </button>\n",
              "\n",
              "<style>\n",
              "  .colab-df-quickchart {\n",
              "      --bg-color: #E8F0FE;\n",
              "      --fill-color: #1967D2;\n",
              "      --hover-bg-color: #E2EBFA;\n",
              "      --hover-fill-color: #174EA6;\n",
              "      --disabled-fill-color: #AAA;\n",
              "      --disabled-bg-color: #DDD;\n",
              "  }\n",
              "\n",
              "  [theme=dark] .colab-df-quickchart {\n",
              "      --bg-color: #3B4455;\n",
              "      --fill-color: #D2E3FC;\n",
              "      --hover-bg-color: #434B5C;\n",
              "      --hover-fill-color: #FFFFFF;\n",
              "      --disabled-bg-color: #3B4455;\n",
              "      --disabled-fill-color: #666;\n",
              "  }\n",
              "\n",
              "  .colab-df-quickchart {\n",
              "    background-color: var(--bg-color);\n",
              "    border: none;\n",
              "    border-radius: 50%;\n",
              "    cursor: pointer;\n",
              "    display: none;\n",
              "    fill: var(--fill-color);\n",
              "    height: 32px;\n",
              "    padding: 0;\n",
              "    width: 32px;\n",
              "  }\n",
              "\n",
              "  .colab-df-quickchart:hover {\n",
              "    background-color: var(--hover-bg-color);\n",
              "    box-shadow: 0 1px 2px rgba(60, 64, 67, 0.3), 0 1px 3px 1px rgba(60, 64, 67, 0.15);\n",
              "    fill: var(--button-hover-fill-color);\n",
              "  }\n",
              "\n",
              "  .colab-df-quickchart-complete:disabled,\n",
              "  .colab-df-quickchart-complete:disabled:hover {\n",
              "    background-color: var(--disabled-bg-color);\n",
              "    fill: var(--disabled-fill-color);\n",
              "    box-shadow: none;\n",
              "  }\n",
              "\n",
              "  .colab-df-spinner {\n",
              "    border: 2px solid var(--fill-color);\n",
              "    border-color: transparent;\n",
              "    border-bottom-color: var(--fill-color);\n",
              "    animation:\n",
              "      spin 1s steps(1) infinite;\n",
              "  }\n",
              "\n",
              "  @keyframes spin {\n",
              "    0% {\n",
              "      border-color: transparent;\n",
              "      border-bottom-color: var(--fill-color);\n",
              "      border-left-color: var(--fill-color);\n",
              "    }\n",
              "    20% {\n",
              "      border-color: transparent;\n",
              "      border-left-color: var(--fill-color);\n",
              "      border-top-color: var(--fill-color);\n",
              "    }\n",
              "    30% {\n",
              "      border-color: transparent;\n",
              "      border-left-color: var(--fill-color);\n",
              "      border-top-color: var(--fill-color);\n",
              "      border-right-color: var(--fill-color);\n",
              "    }\n",
              "    40% {\n",
              "      border-color: transparent;\n",
              "      border-right-color: var(--fill-color);\n",
              "      border-top-color: var(--fill-color);\n",
              "    }\n",
              "    60% {\n",
              "      border-color: transparent;\n",
              "      border-right-color: var(--fill-color);\n",
              "    }\n",
              "    80% {\n",
              "      border-color: transparent;\n",
              "      border-right-color: var(--fill-color);\n",
              "      border-bottom-color: var(--fill-color);\n",
              "    }\n",
              "    90% {\n",
              "      border-color: transparent;\n",
              "      border-bottom-color: var(--fill-color);\n",
              "    }\n",
              "  }\n",
              "</style>\n",
              "\n",
              "  <script>\n",
              "    async function quickchart(key) {\n",
              "      const quickchartButtonEl =\n",
              "        document.querySelector('#' + key + ' button');\n",
              "      quickchartButtonEl.disabled = true;  // To prevent multiple clicks.\n",
              "      quickchartButtonEl.classList.add('colab-df-spinner');\n",
              "      try {\n",
              "        const charts = await google.colab.kernel.invokeFunction(\n",
              "            'suggestCharts', [key], {});\n",
              "      } catch (error) {\n",
              "        console.error('Error during call to suggestCharts:', error);\n",
              "      }\n",
              "      quickchartButtonEl.classList.remove('colab-df-spinner');\n",
              "      quickchartButtonEl.classList.add('colab-df-quickchart-complete');\n",
              "    }\n",
              "    (() => {\n",
              "      let quickchartButtonEl =\n",
              "        document.querySelector('#df-8629bc60-bb16-4236-b22a-58cd279f723c button');\n",
              "      quickchartButtonEl.style.display =\n",
              "        google.colab.kernel.accessAllowed ? 'block' : 'none';\n",
              "    })();\n",
              "  </script>\n",
              "</div>\n",
              "\n",
              "  <div id=\"id_8f6dff71-ea21-4e78-85d1-5355f4228429\">\n",
              "    <style>\n",
              "      .colab-df-generate {\n",
              "        background-color: #E8F0FE;\n",
              "        border: none;\n",
              "        border-radius: 50%;\n",
              "        cursor: pointer;\n",
              "        display: none;\n",
              "        fill: #1967D2;\n",
              "        height: 32px;\n",
              "        padding: 0 0 0 0;\n",
              "        width: 32px;\n",
              "      }\n",
              "\n",
              "      .colab-df-generate:hover {\n",
              "        background-color: #E2EBFA;\n",
              "        box-shadow: 0px 1px 2px rgba(60, 64, 67, 0.3), 0px 1px 3px 1px rgba(60, 64, 67, 0.15);\n",
              "        fill: #174EA6;\n",
              "      }\n",
              "\n",
              "      [theme=dark] .colab-df-generate {\n",
              "        background-color: #3B4455;\n",
              "        fill: #D2E3FC;\n",
              "      }\n",
              "\n",
              "      [theme=dark] .colab-df-generate:hover {\n",
              "        background-color: #434B5C;\n",
              "        box-shadow: 0px 1px 3px 1px rgba(0, 0, 0, 0.15);\n",
              "        filter: drop-shadow(0px 1px 2px rgba(0, 0, 0, 0.3));\n",
              "        fill: #FFFFFF;\n",
              "      }\n",
              "    </style>\n",
              "    <button class=\"colab-df-generate\" onclick=\"generateWithVariable('df')\"\n",
              "            title=\"Generate code using this dataframe.\"\n",
              "            style=\"display:none;\">\n",
              "\n",
              "  <svg xmlns=\"http://www.w3.org/2000/svg\" height=\"24px\"viewBox=\"0 0 24 24\"\n",
              "       width=\"24px\">\n",
              "    <path d=\"M7,19H8.4L18.45,9,17,7.55,7,17.6ZM5,21V16.75L18.45,3.32a2,2,0,0,1,2.83,0l1.4,1.43a1.91,1.91,0,0,1,.58,1.4,1.91,1.91,0,0,1-.58,1.4L9.25,21ZM18.45,9,17,7.55Zm-12,3A5.31,5.31,0,0,0,4.9,8.1,5.31,5.31,0,0,0,1,6.5,5.31,5.31,0,0,0,4.9,4.9,5.31,5.31,0,0,0,6.5,1,5.31,5.31,0,0,0,8.1,4.9,5.31,5.31,0,0,0,12,6.5,5.46,5.46,0,0,0,6.5,12Z\"/>\n",
              "  </svg>\n",
              "    </button>\n",
              "    <script>\n",
              "      (() => {\n",
              "      const buttonEl =\n",
              "        document.querySelector('#id_8f6dff71-ea21-4e78-85d1-5355f4228429 button.colab-df-generate');\n",
              "      buttonEl.style.display =\n",
              "        google.colab.kernel.accessAllowed ? 'block' : 'none';\n",
              "\n",
              "      buttonEl.onclick = () => {\n",
              "        google.colab.notebook.generateWithVariable('df');\n",
              "      }\n",
              "      })();\n",
              "    </script>\n",
              "  </div>\n",
              "\n",
              "    </div>\n",
              "  </div>\n"
            ],
            "text/plain": [
              "                                                              Word  \\\n",
              "Sentence #                                                           \n",
              "Sentence: 1      [Thousands, of, demonstrators, have, marched, ...   \n",
              "Sentence: 10     [Iranian, officials, say, they, expect, to, ge...   \n",
              "Sentence: 100    [Helicopter, gunships, Saturday, pounded, mili...   \n",
              "Sentence: 1000   [They, left, after, a, tense, hour-long, stand...   \n",
              "Sentence: 10000  [U.N., relief, coordinator, Jan, Egeland, said...   \n",
              "...                                                            ...   \n",
              "Sentence: 9995   [Opposition, leader, Mir, Hossein, Mousavi, ha...   \n",
              "Sentence: 9996   [On, Thursday, ,, Iranian, state, media, publi...   \n",
              "Sentence: 9997   [Following, Iran, 's, disputed, June, 12, elec...   \n",
              "Sentence: 9998   [Since, then, ,, authorities, have, held, publ...   \n",
              "Sentence: 9999   [The, United, Nations, is, praising, the, use,...   \n",
              "\n",
              "                                                               Tag  \n",
              "Sentence #                                                          \n",
              "Sentence: 1      [O, O, O, O, O, O, B-geo, O, O, O, O, O, B-geo...  \n",
              "Sentence: 10     [B-gpe, O, O, O, O, O, O, O, O, O, O, O, O, O,...  \n",
              "Sentence: 100    [O, O, B-tim, O, O, O, O, O, B-geo, O, O, O, O...  \n",
              "Sentence: 1000                   [O, O, O, O, O, O, O, O, O, O, O]  \n",
              "Sentence: 10000  [B-geo, O, O, B-per, I-per, O, B-tim, O, B-geo...  \n",
              "...                                                            ...  \n",
              "Sentence: 9995   [O, O, O, B-per, I-per, O, O, O, O, O, O, O, O...  \n",
              "Sentence: 9996   [O, B-tim, O, B-gpe, O, O, O, O, O, O, O, O, B...  \n",
              "Sentence: 9997   [O, B-geo, O, O, B-tim, I-tim, O, O, O, O, O, ...  \n",
              "Sentence: 9998   [O, O, O, O, O, O, O, O, O, O, O, O, O, O, O, ...  \n",
              "Sentence: 9999   [O, B-org, I-org, O, O, O, O, O, O, O, O, O, O...  \n",
              "\n",
              "[47949 rows x 2 columns]"
            ]
          },
          "execution_count": 5,
          "metadata": {},
          "output_type": "execute_result"
        }
      ],
      "source": [
        "df = pd.read_csv(\"/content/ner_datasetreference.csv\", encoding=\"latin1\")\n",
        "\n",
        "# Completing missing values in the 'Sentence #' column using previous values\n",
        "df[\"Sentence #\"].fillna(method=\"ffill\", inplace=True)\n",
        "\n",
        "# Remove sentences containing at least one null Word\n",
        "sentences_nan = df[df.Word.isna()][\"Sentence #\"].unique()\n",
        "df = df[~df[\"Sentence #\"].isin(sentences_nan)]\n",
        "\n",
        "# Variable to view the count of values for each 'Tag'\n",
        "tag_counts = df.Tag.value_counts()\n",
        "\n",
        "# Grouping words and tags by sentence\n",
        "df = df.groupby(\"Sentence #\")[[\"Word\", \"Tag\"]].agg(lambda x: x.values.tolist())\n",
        "df"
      ]
    },
    {
      "cell_type": "code",
      "execution_count": 6,
      "metadata": {
        "colab": {
          "base_uri": "https://localhost:8080/"
        },
        "id": "zWY5KLl-ZZTK",
        "outputId": "60d9e540-4ed1-41f1-809d-278d09ebd872"
      },
      "outputs": [
        {
          "data": {
            "text/plain": [
              "Tag\n",
              "O        887788\n",
              "B-geo     37643\n",
              "B-tim     20331\n",
              "B-org     20142\n",
              "I-per     17251\n",
              "B-per     16990\n",
              "I-org     16783\n",
              "B-gpe     15870\n",
              "I-geo      7414\n",
              "I-tim      6528\n",
              "B-art       402\n",
              "B-eve       308\n",
              "I-art       297\n",
              "I-eve       253\n",
              "B-nat       201\n",
              "I-gpe       198\n",
              "I-nat        51\n",
              "Name: count, dtype: int64"
            ]
          },
          "execution_count": 6,
          "metadata": {},
          "output_type": "execute_result"
        }
      ],
      "source": [
        "tag_counts"
      ]
    },
    {
      "cell_type": "markdown",
      "metadata": {
        "id": "ZHcE3C4Wr_84"
      },
      "source": [
        "It can be observed that the dataset is unbalanced regarding the \"Tag\" values, with the most affected ones ranging from ``B-art`` to ``I-nat``."
      ]
    },
    {
      "cell_type": "code",
      "execution_count": 7,
      "metadata": {
        "colab": {
          "base_uri": "https://localhost:8080/"
        },
        "id": "2i2xZcNoTrv6",
        "outputId": "ed8ef6be-4f3b-4488-8133-839bcfad4494"
      },
      "outputs": [
        {
          "name": "stdout",
          "output_type": "stream",
          "text": [
            "<class 'pandas.core.frame.DataFrame'>\n",
            "Index: 47949 entries, Sentence: 1 to Sentence: 9999\n",
            "Data columns (total 2 columns):\n",
            " #   Column  Non-Null Count  Dtype \n",
            "---  ------  --------------  ----- \n",
            " 0   Word    47949 non-null  object\n",
            " 1   Tag     47949 non-null  object\n",
            "dtypes: object(2)\n",
            "memory usage: 1.1+ MB\n"
          ]
        }
      ],
      "source": [
        "# There are no null values\n",
        "df.info()"
      ]
    },
    {
      "cell_type": "markdown",
      "metadata": {
        "id": "LczaULfnZrGU"
      },
      "source": [
        "**Splitting the dataframe into training (70%), validation (15%) y testing (15%) sets**"
      ]
    },
    {
      "cell_type": "code",
      "execution_count": 8,
      "metadata": {
        "colab": {
          "base_uri": "https://localhost:8080/"
        },
        "id": "O_CKgA4LZuci",
        "outputId": "080adcbc-6ce1-4076-9d0e-8b1b5fa54328"
      },
      "outputs": [
        {
          "data": {
            "text/plain": [
              "(33564, 7192, 7193)"
            ]
          },
          "execution_count": 8,
          "metadata": {},
          "output_type": "execute_result"
        }
      ],
      "source": [
        "df_train, df_val_test = train_test_split(df, test_size=0.3, random_state=SEED)\n",
        "df_val, df_test = train_test_split(df_val_test, test_size=0.5, random_state=SEED)\n",
        "\n",
        "del df, df_val_test #Remove to free memory\n",
        "\n",
        "len(df_train), len(df_val), len(df_test)"
      ]
    },
    {
      "cell_type": "code",
      "execution_count": null,
      "metadata": {
        "id": "c7XMw2ejph3J"
      },
      "outputs": [],
      "source": [
        "# Save the test dataset for predictions\n",
        "df_test.to_json(\"/content/drive/MyDrive/Datasets/test_dataset_ner.json\", orient=\"records\")"
      ]
    },
    {
      "cell_type": "markdown",
      "metadata": {
        "id": "DeT69vjB-XPv"
      },
      "source": [
        "### **Sentence Encoder**"
      ]
    },
    {
      "cell_type": "markdown",
      "metadata": {
        "id": "GcTHo3vVVrv9"
      },
      "source": [
        "**Import the AutoTokenizer**"
      ]
    },
    {
      "cell_type": "code",
      "execution_count": 10,
      "metadata": {
        "colab": {
          "base_uri": "https://localhost:8080/"
        },
        "id": "rlGILWr1Vme-",
        "outputId": "67ab21b2-0bda-472c-ce5f-8a932d2f413e"
      },
      "outputs": [
        {
          "data": {
            "text/plain": [
              "BertTokenizerFast(name_or_path='bert-large-cased', vocab_size=28996, model_max_length=512, is_fast=True, padding_side='right', truncation_side='right', special_tokens={'unk_token': '[UNK]', 'sep_token': '[SEP]', 'pad_token': '[PAD]', 'cls_token': '[CLS]', 'mask_token': '[MASK]'}, clean_up_tokenization_spaces=True),  added_tokens_decoder={\n",
              "\t0: AddedToken(\"[PAD]\", rstrip=False, lstrip=False, single_word=False, normalized=False, special=True),\n",
              "\t100: AddedToken(\"[UNK]\", rstrip=False, lstrip=False, single_word=False, normalized=False, special=True),\n",
              "\t101: AddedToken(\"[CLS]\", rstrip=False, lstrip=False, single_word=False, normalized=False, special=True),\n",
              "\t102: AddedToken(\"[SEP]\", rstrip=False, lstrip=False, single_word=False, normalized=False, special=True),\n",
              "\t103: AddedToken(\"[MASK]\", rstrip=False, lstrip=False, single_word=False, normalized=False, special=True),\n",
              "}"
            ]
          },
          "execution_count": 10,
          "metadata": {},
          "output_type": "execute_result"
        }
      ],
      "source": [
        "# 'use_fast=True': improves the tokenizer's performance when processing large volumes of text\n",
        "\n",
        "tokenizer = AutoTokenizer.from_pretrained(model_name, use_fast=True)\n",
        "tokenizer"
      ]
    },
    {
      "cell_type": "code",
      "execution_count": 11,
      "metadata": {
        "colab": {
          "base_uri": "https://localhost:8080/"
        },
        "id": "SlqQuuRSxxl0",
        "outputId": "79baa86b-268c-40e7-958e-ae28b9acbc7e"
      },
      "outputs": [
        {
          "name": "stdout",
          "output_type": "stream",
          "text": [
            "Example:\n",
            " ['The', 'Constituent', 'Assembly', 'elected', 'the', 'country', \"'s\", 'first', 'president', 'in', 'July', '.'] \n",
            "\n",
            "Ids:\n",
            " [  101  1109 16752  2050  2875 23404  1204  2970  1809  1103  1583   112\n",
            "   188  1148  2084  1107  1351   119   102     0     0     0     0     0\n",
            "     0] \n",
            "\n",
            "Tokens:\n",
            " ['[CLS]', 'The', 'Con', '##st', '##it', '##uen', '##t', 'Assembly', 'elected', 'the', 'country', \"'\", 's', 'first', 'president', 'in', 'July', '.', '[SEP]', '[PAD]', '[PAD]', '[PAD]', '[PAD]', '[PAD]', '[PAD]'] \n",
            "\n",
            "Decoded Text without Special Tokens:\n",
            " The Constituent Assembly elected the country's first president in July. \n",
            "\n",
            "\n",
            "IDs of the Individual Words:\n",
            " [None, 0, 1, 1, 1, 1, 1, 2, 3, 4, 5, 6, 6, 7, 8, 9, 10, 11, None, None, None, None, None, None, None] \n",
            "\n",
            "\n",
            "Attention Mask:\n",
            " [1 1 1 1 1 1 1 1 1 1 1 1 1 1 1 1 1 1 1 0 0 0 0 0 0]\n"
          ]
        }
      ],
      "source": [
        "# Example of sentence tokenization\n",
        "\n",
        "id = 15\n",
        "example = df_train.Word[id]\n",
        "print(\"Example:\\n\", example, \"\\n\")\n",
        "\n",
        "encoding = tokenizer(\n",
        "    example,\n",
        "    padding=\"max_length\",\n",
        "    truncation=True,\n",
        "    max_length=25,\n",
        "    is_split_into_words=True,\n",
        "    return_tensors=\"tf\" #Returns the results in TensorFlow tensor format\n",
        ")\n",
        "\n",
        "print(\"Ids:\\n\", encoding[\"input_ids\"].numpy()[0], \"\\n\")\n",
        "print(\"Tokens:\\n\", tokenizer.convert_ids_to_tokens(encoding[\"input_ids\"][0]), \"\\n\")\n",
        "print(\"Decoded Text without Special Tokens:\\n\", tokenizer.decode(encoding[\"input_ids\"][0], skip_special_tokens=True), \"\\n\\n\")\n",
        "\n",
        "print(\"IDs of the Individual Words:\\n\", encoding.word_ids(), \"\\n\\n\")\n",
        "\n",
        "print(\"Attention Mask:\\n\", encoding[\"attention_mask\"].numpy()[0])"
      ]
    },
    {
      "cell_type": "markdown",
      "metadata": {
        "id": "SUG4TZzYaoRi"
      },
      "source": [
        "The number of tokenized question pairs in the training set that exceed the length of 128 tokens is only 1, so it is sufficient in this case for the `max_length` to be 128.\n",
        "\n",
        "```\n",
        "li = []\n",
        "for _, row in df_train.iterrows():\n",
        "  li.append(len(tokenizer(row[\"Word\"], truncation=True, is_split_into_words=True)[\"input_ids\"]))\n",
        "\n",
        "print(len([x for x in li if x > 128]))\n",
        "# Output: 1\n",
        "```"
      ]
    },
    {
      "cell_type": "code",
      "execution_count": 12,
      "metadata": {
        "id": "RbFOEf8zX9IB"
      },
      "outputs": [],
      "source": [
        "# Function to tokenize sentences\n",
        "\n",
        "def encoder_x(sentence, return_tensors=None, return_word_ids=True):\n",
        "  encoding = tokenizer(\n",
        "      sentence,\n",
        "      padding=\"max_length\",\n",
        "      truncation=True,\n",
        "      max_length=max_length,\n",
        "      is_split_into_words=True,\n",
        "      return_tensors=return_tensors\n",
        "  )\n",
        "\n",
        "  if return_word_ids:\n",
        "    return encoding[\"input_ids\"], encoding[\"attention_mask\"], encoding.word_ids()\n",
        "  else:\n",
        "    return encoding[\"input_ids\"], encoding[\"attention_mask\"]"
      ]
    },
    {
      "cell_type": "markdown",
      "metadata": {
        "id": "yXLwSNtUEq9-"
      },
      "source": [
        "### **Label Encoder**"
      ]
    },
    {
      "cell_type": "code",
      "execution_count": 13,
      "metadata": {
        "colab": {
          "base_uri": "https://localhost:8080/"
        },
        "id": "gd8i3oaaGFw4",
        "outputId": "31faff68-e753-4051-ee3a-1feccd1ddf98"
      },
      "outputs": [
        {
          "name": "stdout",
          "output_type": "stream",
          "text": [
            "17\n"
          ]
        },
        {
          "data": {
            "text/plain": [
              "{'O': 0,\n",
              " 'B-geo': 1,\n",
              " 'B-tim': 2,\n",
              " 'B-org': 3,\n",
              " 'I-per': 4,\n",
              " 'B-per': 5,\n",
              " 'I-org': 6,\n",
              " 'B-gpe': 7,\n",
              " 'I-geo': 8,\n",
              " 'I-tim': 9,\n",
              " 'B-art': 10,\n",
              " 'B-eve': 11,\n",
              " 'I-art': 12,\n",
              " 'I-eve': 13,\n",
              " 'B-nat': 14,\n",
              " 'I-gpe': 15,\n",
              " 'I-nat': 16}"
            ]
          },
          "execution_count": 13,
          "metadata": {},
          "output_type": "execute_result"
        }
      ],
      "source": [
        "# Generate the label vocabulary\n",
        "vocab_y = {t:i for i, t in enumerate(tag_counts.index)}\n",
        "print(len(vocab_y))\n",
        "vocab_y"
      ]
    },
    {
      "cell_type": "code",
      "execution_count": 14,
      "metadata": {
        "id": "5dyeEtmoGOfa"
      },
      "outputs": [],
      "source": [
        "# Class for aligned label tokenization\n",
        "class LabelEncoder():\n",
        "  def __init__(self, vocab):\n",
        "    self.vocab = vocab\n",
        "    self.vocab_inv = {v:k for k, v in vocab.items()}\n",
        "\n",
        "  def text_to_sequence(self, label):\n",
        "    labels_ids = [self.vocab[w] for w in label]\n",
        "    return labels_ids\n",
        "\n",
        "  def align_tokenization(self, label, word_ids):\n",
        "    label_ids = self.text_to_sequence(label)\n",
        "    previous_id = None\n",
        "    label_ids_align = []\n",
        "\n",
        "    for id in word_ids:\n",
        "      if id is None:\n",
        "        label_ids_align.append(-100)\n",
        "      elif id != previous_id:\n",
        "        label_ids_align.append(label_ids[id])\n",
        "      else:\n",
        "        label_ids_align.append(-100)\n",
        "      previous_id = id\n",
        "\n",
        "    return label_ids_align\n",
        "\n",
        "  def sequence_to_text(self, label_ids, join=True):\n",
        "    label = [self.vocab_inv[id] for id in label_ids if id != -100]\n",
        "    if join:\n",
        "      label = \" \".join(label)\n",
        "    return label"
      ]
    },
    {
      "cell_type": "code",
      "execution_count": 15,
      "metadata": {
        "id": "z_9Ob8KGH2B4"
      },
      "outputs": [],
      "source": [
        "encoder_y = LabelEncoder(vocab_y)"
      ]
    },
    {
      "cell_type": "code",
      "execution_count": 16,
      "metadata": {
        "colab": {
          "base_uri": "https://localhost:8080/"
        },
        "id": "NpPcGgWFTUfV",
        "outputId": "289520d5-18b6-4699-af05-b6fec2443127"
      },
      "outputs": [
        {
          "name": "stdout",
          "output_type": "stream",
          "text": [
            "Example:\n",
            " ['O', 'B-org', 'I-org', 'O', 'O', 'O', 'O', 'O', 'O', 'O', 'B-tim', 'O'] \n",
            "\n",
            "IDs:\n",
            " [0, 3, 6, 0, 0, 0, 0, 0, 0, 0, 2, 0] \n",
            "\n",
            "\n",
            "Aligned IDs:\n",
            " [-100, 0, 3, -100, -100, -100, -100, 6, 0, 0, 0, 0, -100, 0, 0, 0, 2, 0, -100, -100, -100, -100, -100, -100, -100, -100, -100, -100, -100, -100, -100, -100, -100, -100, -100, -100, -100, -100, -100, -100, -100, -100, -100, -100, -100, -100, -100, -100, -100, -100, -100, -100, -100, -100, -100, -100, -100, -100, -100, -100, -100, -100, -100, -100, -100, -100, -100, -100, -100, -100, -100, -100, -100, -100, -100, -100, -100, -100, -100, -100, -100, -100, -100, -100, -100, -100, -100, -100, -100, -100, -100, -100, -100, -100, -100, -100, -100, -100, -100, -100, -100, -100, -100, -100, -100, -100, -100, -100, -100, -100, -100, -100, -100, -100, -100, -100, -100, -100, -100, -100, -100, -100, -100, -100, -100, -100, -100, -100] \n",
            "\n",
            "IDs of the Individual Words in the Sentence:\n",
            " [None, 0, 1, 1, 1, 1, 1, 2, 3, 4, 5, 6, 6, 7, 8, 9, 10, 11, None, None, None, None, None, None, None, None, None, None, None, None, None, None, None, None, None, None, None, None, None, None, None, None, None, None, None, None, None, None, None, None, None, None, None, None, None, None, None, None, None, None, None, None, None, None, None, None, None, None, None, None, None, None, None, None, None, None, None, None, None, None, None, None, None, None, None, None, None, None, None, None, None, None, None, None, None, None, None, None, None, None, None, None, None, None, None, None, None, None, None, None, None, None, None, None, None, None, None, None, None, None, None, None, None, None, None, None, None, None] \n",
            "\n",
            "Decoded Label:\n",
            " O B-org I-org O O O O O O O B-tim O\n"
          ]
        }
      ],
      "source": [
        "# Example of label tokenization\n",
        "\n",
        "id = 15\n",
        "example = df_train.Tag[id]\n",
        "\n",
        "print(\"Example:\\n\", example, \"\\n\")\n",
        "print(\"IDs:\\n\", encoder_y.text_to_sequence(example), \"\\n\\n\")\n",
        "_, _, word_ids = encoder_x(df_train.Word[id])\n",
        "print(\"Aligned IDs:\\n\", encoder_y.align_tokenization(example, word_ids), \"\\n\")\n",
        "print(\"IDs of the Individual Words in the Sentence:\\n\", word_ids, \"\\n\")\n",
        "\n",
        "print(\"Decoded Label:\\n\", encoder_y.sequence_to_text(encoder_y.align_tokenization(example, word_ids)))"
      ]
    },
    {
      "cell_type": "markdown",
      "metadata": {
        "id": "3turIAQCcQAw"
      },
      "source": [
        "### **Saving Data in TFRecord Format**"
      ]
    },
    {
      "cell_type": "code",
      "execution_count": null,
      "metadata": {
        "id": "jlfLCHbAcF8N"
      },
      "outputs": [],
      "source": [
        "def save_tfrecord(filename, df):\n",
        "  with tf.io.TFRecordWriter(filename) as writer:\n",
        "    for _, row in df.iterrows():\n",
        "      input_ids, attention_mask, word_ids = encoder_x(row[\"Word\"])\n",
        "      label_ids = encoder_y.align_tokenization(row[\"Tag\"], word_ids)\n",
        "\n",
        "      features = {\n",
        "          \"input_ids\": tf.train.Feature(int64_list=tf.train.Int64List(value=input_ids)),\n",
        "          \"attention_mask\": tf.train.Feature(int64_list=tf.train.Int64List(value=attention_mask)),\n",
        "          \"labels\": tf.train.Feature(int64_list=tf.train.Int64List(value=label_ids))\n",
        "      }\n",
        "\n",
        "      features = tf.train.Features(feature=features)\n",
        "      example = tf.train.Example(features=features).SerializeToString()\n",
        "      writer.write(example)"
      ]
    },
    {
      "cell_type": "code",
      "execution_count": null,
      "metadata": {
        "id": "3aA9E59Xhoj3"
      },
      "outputs": [],
      "source": [
        "save_tfrecord(train_filename, df_train)\n",
        "save_tfrecord(val_filename, df_val)\n",
        "save_tfrecord(test_filename, df_test)"
      ]
    },
    {
      "cell_type": "markdown",
      "metadata": {
        "id": "ey4FxjBKi6ql"
      },
      "source": [
        "## **Using the TPU for Training**"
      ]
    },
    {
      "cell_type": "markdown",
      "metadata": {
        "id": "2dvagnXw2l6O"
      },
      "source": [
        "From here onwards until 'Predictions with the Trained Model', we use the TPU, with each epoch taking approximately 1.5 minutes to complete."
      ]
    },
    {
      "cell_type": "code",
      "execution_count": null,
      "metadata": {
        "colab": {
          "base_uri": "https://localhost:8080/"
        },
        "id": "UxpMIx0PjJGU",
        "outputId": "8669cf6e-c49b-4575-d328-43279d3b6b7a"
      },
      "outputs": [
        {
          "name": "stdout",
          "output_type": "stream",
          "text": [
            "TPU initialized:\n",
            "All devices:  [LogicalDevice(name='/device:TPU:0', device_type='TPU'), LogicalDevice(name='/device:TPU:1', device_type='TPU'), LogicalDevice(name='/device:TPU:2', device_type='TPU'), LogicalDevice(name='/device:TPU:3', device_type='TPU'), LogicalDevice(name='/device:TPU:4', device_type='TPU'), LogicalDevice(name='/device:TPU:5', device_type='TPU'), LogicalDevice(name='/device:TPU:6', device_type='TPU'), LogicalDevice(name='/device:TPU:7', device_type='TPU')]\n"
          ]
        }
      ],
      "source": [
        "# TPU setup\n",
        "try:\n",
        "  tpu = tf.distribute.cluster_resolver.TPUClusterResolver(tpu=\"local\")\n",
        "  tf.config.experimental_connect_to_cluster(tpu)\n",
        "  tf.tpu.experimental.initialize_tpu_system(tpu)\n",
        "  strategy = tf.distribute.TPUStrategy(tpu)\n",
        "  print(\"TPU initialized:\")\n",
        "  print(\"All devices: \", tf.config.list_logical_devices(\"TPU\"))\n",
        "except ValueError:\n",
        "  print(\"TPU not found\")"
      ]
    },
    {
      "cell_type": "markdown",
      "metadata": {
        "id": "KazolsO2jXMX"
      },
      "source": [
        "### **Loading the Preprocessed Datasets**"
      ]
    },
    {
      "cell_type": "code",
      "execution_count": null,
      "metadata": {
        "id": "Y3s1NJhr5z9K"
      },
      "outputs": [],
      "source": [
        "train_size, val_size, test_size = 33564, 7192, 7193"
      ]
    },
    {
      "cell_type": "code",
      "execution_count": null,
      "metadata": {
        "id": "egEPBmo3jrzy"
      },
      "outputs": [],
      "source": [
        "def decode_tfrecord(sample):\n",
        "  features = {\n",
        "      \"input_ids\": tf.io.FixedLenFeature((max_length, ), tf.int64),\n",
        "      \"attention_mask\": tf.io.FixedLenFeature((max_length, ), tf.int64),\n",
        "      \"labels\": tf.io.FixedLenFeature((max_length, ), tf.int64),\n",
        "  }\n",
        "\n",
        "  parsed_features = tf.io.parse_example(sample, features)\n",
        "  input_ids = parsed_features[\"input_ids\"]\n",
        "  attention_mask = parsed_features[\"attention_mask\"]\n",
        "  labels = parsed_features[\"labels\"]\n",
        "\n",
        "  return (input_ids, attention_mask), labels\n",
        "\n",
        "\n",
        "def load_dataset(filename, size, shuffle=False):\n",
        "  dataset = tf.data.TFRecordDataset(filename)\n",
        "  dataset = dataset.map(decode_tfrecord, num_parallel_calls=AUTOTUNE)\n",
        "  dataset = dataset.apply(tf.data.experimental.assert_cardinality(size))\n",
        "\n",
        "  if shuffle:\n",
        "    dataset = dataset.shuffle(buffer_size, seed=SEED)\n",
        "  dataset = dataset.batch(batch_size, drop_remainder=True).prefetch(AUTOTUNE)\n",
        "\n",
        "  return dataset"
      ]
    },
    {
      "cell_type": "code",
      "execution_count": null,
      "metadata": {
        "id": "jhXHL16EoG7Y"
      },
      "outputs": [],
      "source": [
        "train_dataset = load_dataset(train_filename, train_size, shuffle=True)\n",
        "val_dataset = load_dataset(val_filename, val_size)\n",
        "test_dataset = load_dataset(test_filename, test_size)"
      ]
    },
    {
      "cell_type": "code",
      "execution_count": null,
      "metadata": {
        "colab": {
          "base_uri": "https://localhost:8080/"
        },
        "id": "UjMVGEYp2hzq",
        "outputId": "25876127-406b-4b27-add6-aebebd0a648b"
      },
      "outputs": [
        {
          "name": "stdout",
          "output_type": "stream",
          "text": [
            "tf.Tensor(\n",
            "[[  101  1247  1110 ...     0     0     0]\n",
            " [  101  1828   119 ...     0     0     0]\n",
            " [  101 13236  1145 ...     0     0     0]\n",
            " ...\n",
            " [  101  4306  1107 ...     0     0     0]\n",
            " [  101  1760  1429 ...     0     0     0]\n",
            " [  101   138   158 ...     0     0     0]], shape=(64, 128), dtype=int64) \n",
            "\n",
            "tf.Tensor(\n",
            "[[1 1 1 ... 0 0 0]\n",
            " [1 1 1 ... 0 0 0]\n",
            " [1 1 1 ... 0 0 0]\n",
            " ...\n",
            " [1 1 1 ... 0 0 0]\n",
            " [1 1 1 ... 0 0 0]\n",
            " [1 1 1 ... 0 0 0]], shape=(64, 128), dtype=int64) \n",
            "\n",
            "tf.Tensor(\n",
            "[[-100    0    0 ... -100 -100 -100]\n",
            " [-100    5 -100 ... -100 -100 -100]\n",
            " [-100    0    0 ... -100 -100 -100]\n",
            " ...\n",
            " [-100    2    0 ... -100 -100 -100]\n",
            " [-100    0    3 ... -100 -100 -100]\n",
            " [-100    0    7 ... -100 -100 -100]], shape=(64, 128), dtype=int64)\n"
          ]
        }
      ],
      "source": [
        "# Viewing a training batch\n",
        "for (ids, masks), labels in train_dataset.take(1):\n",
        "  print(ids, \"\\n\")\n",
        "  print(masks, \"\\n\")\n",
        "  print(labels)"
      ]
    },
    {
      "cell_type": "markdown",
      "metadata": {
        "id": "JjdJe11iKuZX"
      },
      "source": [
        "### **Creation and Training of the Model**\n"
      ]
    },
    {
      "cell_type": "markdown",
      "metadata": {
        "id": "8ba4IBFKxpuM"
      },
      "source": [
        "Due to the incompatibility of using the `SparseCategoricalCrossentropy` loss function with the `ignore_class` argument on Google Colab's TPU, it is necessary to create a custom loss function that masks the value of -100 to prevent errors. Additionally, a masked accuracy function is implemented. The code for the masked loss function was taken from the [official Hugging Face GitHub repository](https://github.com/huggingface/transformers/blob/main/src/transformers/modeling_tf_utils.py#L255), where this loss is tailored specifically for token classification models."
      ]
    },
    {
      "cell_type": "code",
      "execution_count": null,
      "metadata": {
        "id": "X10TZG6Ci-XH"
      },
      "outputs": [],
      "source": [
        "def masked_accuracy(y_true, y_pred):\n",
        "  y_true = tf.cast(y_true, tf.float32)\n",
        "  y_pred = tf.cast(tf.argmax(y_pred, axis=-1), tf.float32)\n",
        "  mask = tf.cast(tf.not_equal(y_true, -100.0), tf.float32)\n",
        "\n",
        "  matches_true_pred = tf.cast(tf.equal(y_true, y_pred), tf.float32)\n",
        "  matches_true_pred *= mask\n",
        "  masked_acc = tf.reduce_sum(matches_true_pred) / tf.reduce_sum(mask)\n",
        "\n",
        "  return masked_acc\n",
        "\n",
        "\n",
        "def masked_loss(labels, logits):\n",
        "  loss_fn = tf.keras.losses.SparseCategoricalCrossentropy(\n",
        "      from_logits=True,\n",
        "      reduction=tf.keras.losses.Reduction.NONE\n",
        "  )\n",
        "\n",
        "  masked_loss = loss_fn(tf.nn.relu(labels), logits)\n",
        "  mask = tf.cast(labels >= 0, dtype=masked_loss.dtype)\n",
        "  masked_loss *= mask\n",
        "  reduced_masked_loss = tf.reduce_sum(masked_loss) / tf.reduce_sum(mask)\n",
        "\n",
        "  return reduced_masked_loss"
      ]
    },
    {
      "cell_type": "code",
      "execution_count": null,
      "metadata": {
        "id": "z-PpG4zOvRyh"
      },
      "outputs": [],
      "source": [
        "# Callback to stop training early if validation accuracy does not improve for 2 epochs.\n",
        "callback = tf.keras.callbacks.EarlyStopping(\n",
        "    monitor=\"val_masked_accuracy\",\n",
        "    patience=2,\n",
        "    mode=\"max\",\n",
        "    restore_best_weights=True\n",
        ")"
      ]
    },
    {
      "cell_type": "code",
      "execution_count": null,
      "metadata": {
        "id": "VMhWfqoBkRpS"
      },
      "outputs": [],
      "source": [
        "def create_model():\n",
        "  # Import the AutoModel\n",
        "  model_base = TFAutoModelForTokenClassification.from_pretrained(model_name, num_labels=17)\n",
        "\n",
        "  input_ids = tf.keras.Input((max_length, ), dtype=tf.int32)\n",
        "  attention_mask = tf.keras.Input((max_length, ), dtype=tf.int32)\n",
        "  x = model_base(input_ids=input_ids, attention_mask=attention_mask).logits\n",
        "\n",
        "  model = tf.keras.Model(inputs=[input_ids, attention_mask], outputs=x)\n",
        "\n",
        "  return model"
      ]
    },
    {
      "cell_type": "code",
      "execution_count": null,
      "metadata": {
        "colab": {
          "base_uri": "https://localhost:8080/",
          "height": 138,
          "referenced_widgets": [
            "79ec9ef6c93c4d13ae6fff5b1b99c37e",
            "f0583344334644db9533cd28dd8ad508",
            "83d8200ff0a04fb388d26771c78eccc3",
            "3484a61b93304e71b3aeda9a1d54a473",
            "da9ef0ac068e4ea380385eaefd881ef2",
            "5765b91944284a3e829d2be1f803d0b3",
            "83ef328f4d9a41a18ac6e0df261a4e61",
            "315242b2f1244ea8bfdef1673dd854b0",
            "5bce614ce897449cad147e0de41cff36",
            "e0f8a8b5d0714843a6bc209cee36f52d",
            "2f0f798c15dd40b4af92706e20d41dc4"
          ]
        },
        "id": "QszJCJEGqq4M",
        "outputId": "a4ae1129-8103-46db-aac1-d9da1868ae10"
      },
      "outputs": [
        {
          "data": {
            "application/vnd.jupyter.widget-view+json": {
              "model_id": "79ec9ef6c93c4d13ae6fff5b1b99c37e",
              "version_major": 2,
              "version_minor": 0
            },
            "text/plain": [
              "model.safetensors:   0%|          | 0.00/1.34G [00:00<?, ?B/s]"
            ]
          },
          "metadata": {},
          "output_type": "display_data"
        },
        {
          "name": "stderr",
          "output_type": "stream",
          "text": [
            "All PyTorch model weights were used when initializing TFBertForTokenClassification.\n",
            "\n",
            "Some weights or buffers of the TF 2.0 model TFBertForTokenClassification were not initialized from the PyTorch model and are newly initialized: ['classifier.weight', 'classifier.bias']\n",
            "You should probably TRAIN this model on a down-stream task to be able to use it for predictions and inference.\n"
          ]
        }
      ],
      "source": [
        "tf.keras.backend.clear_session() #Clearing Keras memory\n",
        "tf.random.set_seed(123) #For reproducibility\n",
        "\n",
        "# Creation and compilation of the model within the distribution strategy\n",
        "with strategy.scope():\n",
        "  model = create_model()\n",
        "\n",
        "  model.compile(\n",
        "      optimizer=tf.keras.optimizers.AdamW(learning_rate=2e-5, weight_decay=0.01),\n",
        "      loss=masked_loss,\n",
        "      metrics=[masked_accuracy],\n",
        "      steps_per_execution=100\n",
        "  )"
      ]
    },
    {
      "cell_type": "code",
      "execution_count": null,
      "metadata": {
        "colab": {
          "base_uri": "https://localhost:8080/"
        },
        "id": "cJWiDb_8sGT6",
        "outputId": "139d54cb-c2d4-46b7-9d7a-988cfefea2fc"
      },
      "outputs": [
        {
          "name": "stdout",
          "output_type": "stream",
          "text": [
            "Model: \"model\"\n",
            "__________________________________________________________________________________________________\n",
            " Layer (type)                Output Shape                 Param #   Connected to                  \n",
            "==================================================================================================\n",
            " input_1 (InputLayer)        [(None, 128)]                0         []                            \n",
            "                                                                                                  \n",
            " input_2 (InputLayer)        [(None, 128)]                0         []                            \n",
            "                                                                                                  \n",
            " tf_bert_for_token_classifi  TFTokenClassifierOutput(lo   3325470   ['input_1[0][0]',             \n",
            " cation (TFBertForTokenClas  ss=None, logits=(None, 128   89         'input_2[0][0]']             \n",
            " sification)                 , 17),                                                               \n",
            "                              hidden_states=None, atten                                           \n",
            "                             tions=None)                                                          \n",
            "                                                                                                  \n",
            "==================================================================================================\n",
            "Total params: 332547089 (1.24 GB)\n",
            "Trainable params: 332547089 (1.24 GB)\n",
            "Non-trainable params: 0 (0.00 Byte)\n",
            "__________________________________________________________________________________________________\n"
          ]
        }
      ],
      "source": [
        "model.summary()"
      ]
    },
    {
      "cell_type": "code",
      "execution_count": null,
      "metadata": {
        "colab": {
          "base_uri": "https://localhost:8080/"
        },
        "id": "KFJ_Bxjikn86",
        "outputId": "21d34afa-4ca6-404f-b76f-3522d60811ae"
      },
      "outputs": [
        {
          "name": "stdout",
          "output_type": "stream",
          "text": [
            "Epoch 1/10\n",
            "524/524 [==============================] - 374s 713ms/step - loss: 0.1803 - masked_accuracy: 0.9529 - val_loss: 0.1019 - val_masked_accuracy: 0.9700\n",
            "Epoch 2/10\n",
            "524/524 [==============================] - 85s 162ms/step - loss: 0.0899 - masked_accuracy: 0.9723 - val_loss: 0.0904 - val_masked_accuracy: 0.9726\n",
            "Epoch 3/10\n",
            "524/524 [==============================] - 84s 160ms/step - loss: 0.0705 - masked_accuracy: 0.9773 - val_loss: 0.0904 - val_masked_accuracy: 0.9725\n",
            "Epoch 4/10\n",
            "524/524 [==============================] - 85s 162ms/step - loss: 0.0559 - masked_accuracy: 0.9816 - val_loss: 0.0974 - val_masked_accuracy: 0.9729\n",
            "Epoch 5/10\n",
            "524/524 [==============================] - 84s 160ms/step - loss: 0.0447 - masked_accuracy: 0.9852 - val_loss: 0.1077 - val_masked_accuracy: 0.9721\n",
            "Epoch 6/10\n",
            "524/524 [==============================] - 98s 187ms/step - loss: 0.0342 - masked_accuracy: 0.9883 - val_loss: 0.1183 - val_masked_accuracy: 0.9728\n"
          ]
        }
      ],
      "source": [
        "tf.random.set_seed(SEED)\n",
        "history = model.fit(train_dataset, epochs=epochs, validation_data=val_dataset, callbacks=[callback])"
      ]
    },
    {
      "cell_type": "markdown",
      "metadata": {
        "id": "S7cewteBIwua"
      },
      "source": [
        "### **Save model**"
      ]
    },
    {
      "cell_type": "code",
      "execution_count": 18,
      "metadata": {
        "id": "kHF6iPebtijl"
      },
      "outputs": [],
      "source": [
        "trained_model_path = \"/content/drive/MyDrive/models/NER_BERT_Kaggle\""
      ]
    },
    {
      "cell_type": "code",
      "execution_count": null,
      "metadata": {
        "id": "gJ1Ww4BMaIfQ"
      },
      "outputs": [],
      "source": [
        "model.layers[2].save_pretrained(trained_model_path)"
      ]
    },
    {
      "cell_type": "markdown",
      "metadata": {
        "id": "WSJL2EanOvQH"
      },
      "source": [
        "## **Model Evaluation**"
      ]
    },
    {
      "cell_type": "code",
      "execution_count": null,
      "metadata": {
        "colab": {
          "base_uri": "https://localhost:8080/"
        },
        "id": "mRWEEYaLWE32",
        "outputId": "d281a9f4-fb58-4cfd-f500-159231734439"
      },
      "outputs": [
        {
          "name": "stdout",
          "output_type": "stream",
          "text": [
            "[0.03626985102891922, 0.9877713918685913]\n",
            "[0.09742273390293121, 0.9729200005531311]\n",
            "[0.10109440237283707, 0.9718411564826965]\n"
          ]
        }
      ],
      "source": [
        "print(model.evaluate(train_dataset, verbose=0))\n",
        "print(model.evaluate(val_dataset, verbose=0))\n",
        "print(model.evaluate(test_dataset, verbose=0))"
      ]
    },
    {
      "cell_type": "markdown",
      "metadata": {
        "id": "k0tWeTcYMLvT"
      },
      "source": [
        "**Consolidating the accuracy of the testing set**"
      ]
    },
    {
      "cell_type": "code",
      "execution_count": null,
      "metadata": {
        "colab": {
          "base_uri": "https://localhost:8080/"
        },
        "id": "-U6xmfKOseBW",
        "outputId": "e799e05b-0426-4204-fb7c-121265be4698"
      },
      "outputs": [
        {
          "data": {
            "text/plain": [
              "0.9716585"
            ]
          },
          "execution_count": 34,
          "metadata": {},
          "output_type": "execute_result"
        }
      ],
      "source": [
        "labels_test = test_dataset.unbatch().map(lambda x, y: y).as_numpy_iterator()\n",
        "labels_test = np.array(list(labels_test))\n",
        "\n",
        "labels_test_pred = model.predict(test_dataset, verbose=0)\n",
        "labels_test_pred = np.argmax(labels_test_pred, axis=-1)\n",
        "mask = (labels_test != -100).astype(np.float32)\n",
        "matches_true_pred = (labels_test == labels_test_pred).astype(np.float32)\n",
        "matches_true_pred *= mask\n",
        "\n",
        "masked_accuracy = np.sum(matches_true_pred) / np.sum(mask)\n",
        "masked_accuracy"
      ]
    },
    {
      "cell_type": "markdown",
      "metadata": {
        "id": "nG-IoHTz_wUy"
      },
      "source": [
        "Although the LSTM model showed quite good performance, the Transformer model achieves superior results, reaching an accuracy of **98.8%** on the training set in just 4 epochs. Additionally, it achieves **97.3%** on the validation set and **97.2%** on the test set. These results highlight the slight superiority of the Transformer model over the bidirectional LSTM, which achieved an accuracy of **96.7%** on the test set. It is important to note that with continued training, the accuracy of the training set could reach 100%, while that of the validation and test sets would decrease, emphasizing the importance of using a callback to stop training when the validation set accuracy does not improve for two consecutive epochs, thus preventing overfitting. Furthermore, the Transformer model could achieve better results if the Kaggle NER dataset were more balanced in terms of the minority tags observed earlier."
      ]
    },
    {
      "cell_type": "code",
      "execution_count": null,
      "metadata": {
        "id": "S0Dl-vzNaZD4"
      },
      "outputs": [],
      "source": [
        "# Function to plot the metrics\n",
        "def plot_metrics(history=history, metric=\"loss\", renderer=None, epochs=len(history.history[\"loss\"])):\n",
        "  losses = history.history[metric]\n",
        "  val_losses = history.history[f\"val_{metric}\"]\n",
        "  list_epochs = np.arange(1, epochs+1)\n",
        "  metric = \" \".join([w.capitalize() for w in metric.split(\"_\")])\n",
        "\n",
        "  fig=go.Figure()\n",
        "  fig.add_trace(go.Scatter(x=list_epochs, y=losses, name=metric, line=dict(color=\"blue\", width=2)))\n",
        "  fig.add_trace(go.Scatter(x=list_epochs, y=val_losses, name=f\"Val {metric}\", line=dict(color=\"#FF6600\", width=2)))\n",
        "  fig.update_xaxes(title_text=\"Epoch\")\n",
        "  fig.update_yaxes(title_text=metric)\n",
        "  fig.update_layout(title=f\"Evolution of {metric} across Epochs\",\n",
        "                    title_font=dict(size=20),\n",
        "                    title_x=0.5,\n",
        "                    height=500,\n",
        "                    width=1200)\n",
        "\n",
        "  fig.show(renderer)"
      ]
    },
    {
      "cell_type": "markdown",
      "metadata": {
        "id": "Zbmblu4ZuQoO"
      },
      "source": [
        "**Interactive graphics**"
      ]
    },
    {
      "cell_type": "code",
      "execution_count": null,
      "metadata": {
        "colab": {
          "base_uri": "https://localhost:8080/",
          "height": 1000
        },
        "id": "K9_fscW1bBUJ",
        "outputId": "6bbeb838-8bfa-4ac6-a827-0e36a6fad5ca"
      },
      "outputs": [
        {
          "data": {
            "text/html": [
              "<html>\n",
              "<head><meta charset=\"utf-8\" /></head>\n",
              "<body>\n",
              "    <div>            <script src=\"https://cdnjs.cloudflare.com/ajax/libs/mathjax/2.7.5/MathJax.js?config=TeX-AMS-MML_SVG\"></script><script type=\"text/javascript\">if (window.MathJax && window.MathJax.Hub && window.MathJax.Hub.Config) {window.MathJax.Hub.Config({SVG: {font: \"STIX-Web\"}});}</script>                <script type=\"text/javascript\">window.PlotlyConfig = {MathJaxConfig: 'local'};</script>\n",
              "        <script charset=\"utf-8\" src=\"https://cdn.plot.ly/plotly-2.24.1.min.js\"></script>                <div id=\"2a176a99-cc9e-4a4c-82b0-8f887ab29f54\" class=\"plotly-graph-div\" style=\"height:500px; width:1200px;\"></div>            <script type=\"text/javascript\">                                    window.PLOTLYENV=window.PLOTLYENV || {};                                    if (document.getElementById(\"2a176a99-cc9e-4a4c-82b0-8f887ab29f54\")) {                    Plotly.newPlot(                        \"2a176a99-cc9e-4a4c-82b0-8f887ab29f54\",                        [{\"line\":{\"color\":\"blue\",\"width\":2},\"name\":\"Masked Accuracy\",\"x\":[1,2,3,4,5,6],\"y\":[0.952915608882904,0.9722632169723511,0.9772735834121704,0.9815561771392822,0.9851582050323486,0.9883054494857788],\"type\":\"scatter\"},{\"line\":{\"color\":\"#FF6600\",\"width\":2},\"name\":\"Val Masked Accuracy\",\"x\":[1,2,3,4,5,6],\"y\":[0.9700186848640442,0.9726042151451111,0.9724995493888855,0.9729200005531311,0.9720974564552307,0.9728240966796875],\"type\":\"scatter\"}],                        {\"template\":{\"data\":{\"histogram2dcontour\":[{\"type\":\"histogram2dcontour\",\"colorbar\":{\"outlinewidth\":0,\"ticks\":\"\"},\"colorscale\":[[0.0,\"#0d0887\"],[0.1111111111111111,\"#46039f\"],[0.2222222222222222,\"#7201a8\"],[0.3333333333333333,\"#9c179e\"],[0.4444444444444444,\"#bd3786\"],[0.5555555555555556,\"#d8576b\"],[0.6666666666666666,\"#ed7953\"],[0.7777777777777778,\"#fb9f3a\"],[0.8888888888888888,\"#fdca26\"],[1.0,\"#f0f921\"]]}],\"choropleth\":[{\"type\":\"choropleth\",\"colorbar\":{\"outlinewidth\":0,\"ticks\":\"\"}}],\"histogram2d\":[{\"type\":\"histogram2d\",\"colorbar\":{\"outlinewidth\":0,\"ticks\":\"\"},\"colorscale\":[[0.0,\"#0d0887\"],[0.1111111111111111,\"#46039f\"],[0.2222222222222222,\"#7201a8\"],[0.3333333333333333,\"#9c179e\"],[0.4444444444444444,\"#bd3786\"],[0.5555555555555556,\"#d8576b\"],[0.6666666666666666,\"#ed7953\"],[0.7777777777777778,\"#fb9f3a\"],[0.8888888888888888,\"#fdca26\"],[1.0,\"#f0f921\"]]}],\"heatmap\":[{\"type\":\"heatmap\",\"colorbar\":{\"outlinewidth\":0,\"ticks\":\"\"},\"colorscale\":[[0.0,\"#0d0887\"],[0.1111111111111111,\"#46039f\"],[0.2222222222222222,\"#7201a8\"],[0.3333333333333333,\"#9c179e\"],[0.4444444444444444,\"#bd3786\"],[0.5555555555555556,\"#d8576b\"],[0.6666666666666666,\"#ed7953\"],[0.7777777777777778,\"#fb9f3a\"],[0.8888888888888888,\"#fdca26\"],[1.0,\"#f0f921\"]]}],\"heatmapgl\":[{\"type\":\"heatmapgl\",\"colorbar\":{\"outlinewidth\":0,\"ticks\":\"\"},\"colorscale\":[[0.0,\"#0d0887\"],[0.1111111111111111,\"#46039f\"],[0.2222222222222222,\"#7201a8\"],[0.3333333333333333,\"#9c179e\"],[0.4444444444444444,\"#bd3786\"],[0.5555555555555556,\"#d8576b\"],[0.6666666666666666,\"#ed7953\"],[0.7777777777777778,\"#fb9f3a\"],[0.8888888888888888,\"#fdca26\"],[1.0,\"#f0f921\"]]}],\"contourcarpet\":[{\"type\":\"contourcarpet\",\"colorbar\":{\"outlinewidth\":0,\"ticks\":\"\"}}],\"contour\":[{\"type\":\"contour\",\"colorbar\":{\"outlinewidth\":0,\"ticks\":\"\"},\"colorscale\":[[0.0,\"#0d0887\"],[0.1111111111111111,\"#46039f\"],[0.2222222222222222,\"#7201a8\"],[0.3333333333333333,\"#9c179e\"],[0.4444444444444444,\"#bd3786\"],[0.5555555555555556,\"#d8576b\"],[0.6666666666666666,\"#ed7953\"],[0.7777777777777778,\"#fb9f3a\"],[0.8888888888888888,\"#fdca26\"],[1.0,\"#f0f921\"]]}],\"surface\":[{\"type\":\"surface\",\"colorbar\":{\"outlinewidth\":0,\"ticks\":\"\"},\"colorscale\":[[0.0,\"#0d0887\"],[0.1111111111111111,\"#46039f\"],[0.2222222222222222,\"#7201a8\"],[0.3333333333333333,\"#9c179e\"],[0.4444444444444444,\"#bd3786\"],[0.5555555555555556,\"#d8576b\"],[0.6666666666666666,\"#ed7953\"],[0.7777777777777778,\"#fb9f3a\"],[0.8888888888888888,\"#fdca26\"],[1.0,\"#f0f921\"]]}],\"mesh3d\":[{\"type\":\"mesh3d\",\"colorbar\":{\"outlinewidth\":0,\"ticks\":\"\"}}],\"scatter\":[{\"fillpattern\":{\"fillmode\":\"overlay\",\"size\":10,\"solidity\":0.2},\"type\":\"scatter\"}],\"parcoords\":[{\"type\":\"parcoords\",\"line\":{\"colorbar\":{\"outlinewidth\":0,\"ticks\":\"\"}}}],\"scatterpolargl\":[{\"type\":\"scatterpolargl\",\"marker\":{\"colorbar\":{\"outlinewidth\":0,\"ticks\":\"\"}}}],\"bar\":[{\"error_x\":{\"color\":\"#2a3f5f\"},\"error_y\":{\"color\":\"#2a3f5f\"},\"marker\":{\"line\":{\"color\":\"#E5ECF6\",\"width\":0.5},\"pattern\":{\"fillmode\":\"overlay\",\"size\":10,\"solidity\":0.2}},\"type\":\"bar\"}],\"scattergeo\":[{\"type\":\"scattergeo\",\"marker\":{\"colorbar\":{\"outlinewidth\":0,\"ticks\":\"\"}}}],\"scatterpolar\":[{\"type\":\"scatterpolar\",\"marker\":{\"colorbar\":{\"outlinewidth\":0,\"ticks\":\"\"}}}],\"histogram\":[{\"marker\":{\"pattern\":{\"fillmode\":\"overlay\",\"size\":10,\"solidity\":0.2}},\"type\":\"histogram\"}],\"scattergl\":[{\"type\":\"scattergl\",\"marker\":{\"colorbar\":{\"outlinewidth\":0,\"ticks\":\"\"}}}],\"scatter3d\":[{\"type\":\"scatter3d\",\"line\":{\"colorbar\":{\"outlinewidth\":0,\"ticks\":\"\"}},\"marker\":{\"colorbar\":{\"outlinewidth\":0,\"ticks\":\"\"}}}],\"scattermapbox\":[{\"type\":\"scattermapbox\",\"marker\":{\"colorbar\":{\"outlinewidth\":0,\"ticks\":\"\"}}}],\"scatterternary\":[{\"type\":\"scatterternary\",\"marker\":{\"colorbar\":{\"outlinewidth\":0,\"ticks\":\"\"}}}],\"scattercarpet\":[{\"type\":\"scattercarpet\",\"marker\":{\"colorbar\":{\"outlinewidth\":0,\"ticks\":\"\"}}}],\"carpet\":[{\"aaxis\":{\"endlinecolor\":\"#2a3f5f\",\"gridcolor\":\"white\",\"linecolor\":\"white\",\"minorgridcolor\":\"white\",\"startlinecolor\":\"#2a3f5f\"},\"baxis\":{\"endlinecolor\":\"#2a3f5f\",\"gridcolor\":\"white\",\"linecolor\":\"white\",\"minorgridcolor\":\"white\",\"startlinecolor\":\"#2a3f5f\"},\"type\":\"carpet\"}],\"table\":[{\"cells\":{\"fill\":{\"color\":\"#EBF0F8\"},\"line\":{\"color\":\"white\"}},\"header\":{\"fill\":{\"color\":\"#C8D4E3\"},\"line\":{\"color\":\"white\"}},\"type\":\"table\"}],\"barpolar\":[{\"marker\":{\"line\":{\"color\":\"#E5ECF6\",\"width\":0.5},\"pattern\":{\"fillmode\":\"overlay\",\"size\":10,\"solidity\":0.2}},\"type\":\"barpolar\"}],\"pie\":[{\"automargin\":true,\"type\":\"pie\"}]},\"layout\":{\"autotypenumbers\":\"strict\",\"colorway\":[\"#636efa\",\"#EF553B\",\"#00cc96\",\"#ab63fa\",\"#FFA15A\",\"#19d3f3\",\"#FF6692\",\"#B6E880\",\"#FF97FF\",\"#FECB52\"],\"font\":{\"color\":\"#2a3f5f\"},\"hovermode\":\"closest\",\"hoverlabel\":{\"align\":\"left\"},\"paper_bgcolor\":\"white\",\"plot_bgcolor\":\"#E5ECF6\",\"polar\":{\"bgcolor\":\"#E5ECF6\",\"angularaxis\":{\"gridcolor\":\"white\",\"linecolor\":\"white\",\"ticks\":\"\"},\"radialaxis\":{\"gridcolor\":\"white\",\"linecolor\":\"white\",\"ticks\":\"\"}},\"ternary\":{\"bgcolor\":\"#E5ECF6\",\"aaxis\":{\"gridcolor\":\"white\",\"linecolor\":\"white\",\"ticks\":\"\"},\"baxis\":{\"gridcolor\":\"white\",\"linecolor\":\"white\",\"ticks\":\"\"},\"caxis\":{\"gridcolor\":\"white\",\"linecolor\":\"white\",\"ticks\":\"\"}},\"coloraxis\":{\"colorbar\":{\"outlinewidth\":0,\"ticks\":\"\"}},\"colorscale\":{\"sequential\":[[0.0,\"#0d0887\"],[0.1111111111111111,\"#46039f\"],[0.2222222222222222,\"#7201a8\"],[0.3333333333333333,\"#9c179e\"],[0.4444444444444444,\"#bd3786\"],[0.5555555555555556,\"#d8576b\"],[0.6666666666666666,\"#ed7953\"],[0.7777777777777778,\"#fb9f3a\"],[0.8888888888888888,\"#fdca26\"],[1.0,\"#f0f921\"]],\"sequentialminus\":[[0.0,\"#0d0887\"],[0.1111111111111111,\"#46039f\"],[0.2222222222222222,\"#7201a8\"],[0.3333333333333333,\"#9c179e\"],[0.4444444444444444,\"#bd3786\"],[0.5555555555555556,\"#d8576b\"],[0.6666666666666666,\"#ed7953\"],[0.7777777777777778,\"#fb9f3a\"],[0.8888888888888888,\"#fdca26\"],[1.0,\"#f0f921\"]],\"diverging\":[[0,\"#8e0152\"],[0.1,\"#c51b7d\"],[0.2,\"#de77ae\"],[0.3,\"#f1b6da\"],[0.4,\"#fde0ef\"],[0.5,\"#f7f7f7\"],[0.6,\"#e6f5d0\"],[0.7,\"#b8e186\"],[0.8,\"#7fbc41\"],[0.9,\"#4d9221\"],[1,\"#276419\"]]},\"xaxis\":{\"gridcolor\":\"white\",\"linecolor\":\"white\",\"ticks\":\"\",\"title\":{\"standoff\":15},\"zerolinecolor\":\"white\",\"automargin\":true,\"zerolinewidth\":2},\"yaxis\":{\"gridcolor\":\"white\",\"linecolor\":\"white\",\"ticks\":\"\",\"title\":{\"standoff\":15},\"zerolinecolor\":\"white\",\"automargin\":true,\"zerolinewidth\":2},\"scene\":{\"xaxis\":{\"backgroundcolor\":\"#E5ECF6\",\"gridcolor\":\"white\",\"linecolor\":\"white\",\"showbackground\":true,\"ticks\":\"\",\"zerolinecolor\":\"white\",\"gridwidth\":2},\"yaxis\":{\"backgroundcolor\":\"#E5ECF6\",\"gridcolor\":\"white\",\"linecolor\":\"white\",\"showbackground\":true,\"ticks\":\"\",\"zerolinecolor\":\"white\",\"gridwidth\":2},\"zaxis\":{\"backgroundcolor\":\"#E5ECF6\",\"gridcolor\":\"white\",\"linecolor\":\"white\",\"showbackground\":true,\"ticks\":\"\",\"zerolinecolor\":\"white\",\"gridwidth\":2}},\"shapedefaults\":{\"line\":{\"color\":\"#2a3f5f\"}},\"annotationdefaults\":{\"arrowcolor\":\"#2a3f5f\",\"arrowhead\":0,\"arrowwidth\":1},\"geo\":{\"bgcolor\":\"white\",\"landcolor\":\"#E5ECF6\",\"subunitcolor\":\"white\",\"showland\":true,\"showlakes\":true,\"lakecolor\":\"white\"},\"title\":{\"x\":0.05},\"mapbox\":{\"style\":\"light\"}}},\"xaxis\":{\"title\":{\"text\":\"Epoch\"}},\"yaxis\":{\"title\":{\"text\":\"Masked Accuracy\"}},\"title\":{\"text\":\"Evolution of Masked Accuracy across Epochs\",\"font\":{\"size\":20},\"x\":0.5},\"height\":500,\"width\":1200},                        {\"responsive\": true}                    ).then(function(){\n",
              "                            \n",
              "var gd = document.getElementById('2a176a99-cc9e-4a4c-82b0-8f887ab29f54');\n",
              "var x = new MutationObserver(function (mutations, observer) {{\n",
              "        var display = window.getComputedStyle(gd).display;\n",
              "        if (!display || display === 'none') {{\n",
              "            console.log([gd, 'removed!']);\n",
              "            Plotly.purge(gd);\n",
              "            observer.disconnect();\n",
              "        }}\n",
              "}});\n",
              "\n",
              "// Listen for the removal of the full notebook cells\n",
              "var notebookContainer = gd.closest('#notebook-container');\n",
              "if (notebookContainer) {{\n",
              "    x.observe(notebookContainer, {childList: true});\n",
              "}}\n",
              "\n",
              "// Listen for the clearing of the current output cell\n",
              "var outputEl = gd.closest('.output');\n",
              "if (outputEl) {{\n",
              "    x.observe(outputEl, {childList: true});\n",
              "}}\n",
              "\n",
              "                        })                };                            </script>        </div>\n",
              "</body>\n",
              "</html>"
            ]
          },
          "metadata": {},
          "output_type": "display_data"
        },
        {
          "data": {
            "text/html": [
              "<html>\n",
              "<head><meta charset=\"utf-8\" /></head>\n",
              "<body>\n",
              "    <div>            <script src=\"https://cdnjs.cloudflare.com/ajax/libs/mathjax/2.7.5/MathJax.js?config=TeX-AMS-MML_SVG\"></script><script type=\"text/javascript\">if (window.MathJax && window.MathJax.Hub && window.MathJax.Hub.Config) {window.MathJax.Hub.Config({SVG: {font: \"STIX-Web\"}});}</script>                <script type=\"text/javascript\">window.PlotlyConfig = {MathJaxConfig: 'local'};</script>\n",
              "        <script charset=\"utf-8\" src=\"https://cdn.plot.ly/plotly-2.24.1.min.js\"></script>                <div id=\"a18bab58-5491-446e-8a02-009bda3c2a57\" class=\"plotly-graph-div\" style=\"height:500px; width:1200px;\"></div>            <script type=\"text/javascript\">                                    window.PLOTLYENV=window.PLOTLYENV || {};                                    if (document.getElementById(\"a18bab58-5491-446e-8a02-009bda3c2a57\")) {                    Plotly.newPlot(                        \"a18bab58-5491-446e-8a02-009bda3c2a57\",                        [{\"line\":{\"color\":\"blue\",\"width\":2},\"name\":\"Loss\",\"x\":[1,2,3,4,5,6],\"y\":[0.18030832707881927,0.08993646502494812,0.0705467239022255,0.055948514491319656,0.044746462255716324,0.03424979746341705],\"type\":\"scatter\"},{\"line\":{\"color\":\"#FF6600\",\"width\":2},\"name\":\"Val Loss\",\"x\":[1,2,3,4,5,6],\"y\":[0.10188906639814377,0.09040941298007965,0.0903734564781189,0.09742273390293121,0.10766959190368652,0.11834766715765],\"type\":\"scatter\"}],                        {\"template\":{\"data\":{\"histogram2dcontour\":[{\"type\":\"histogram2dcontour\",\"colorbar\":{\"outlinewidth\":0,\"ticks\":\"\"},\"colorscale\":[[0.0,\"#0d0887\"],[0.1111111111111111,\"#46039f\"],[0.2222222222222222,\"#7201a8\"],[0.3333333333333333,\"#9c179e\"],[0.4444444444444444,\"#bd3786\"],[0.5555555555555556,\"#d8576b\"],[0.6666666666666666,\"#ed7953\"],[0.7777777777777778,\"#fb9f3a\"],[0.8888888888888888,\"#fdca26\"],[1.0,\"#f0f921\"]]}],\"choropleth\":[{\"type\":\"choropleth\",\"colorbar\":{\"outlinewidth\":0,\"ticks\":\"\"}}],\"histogram2d\":[{\"type\":\"histogram2d\",\"colorbar\":{\"outlinewidth\":0,\"ticks\":\"\"},\"colorscale\":[[0.0,\"#0d0887\"],[0.1111111111111111,\"#46039f\"],[0.2222222222222222,\"#7201a8\"],[0.3333333333333333,\"#9c179e\"],[0.4444444444444444,\"#bd3786\"],[0.5555555555555556,\"#d8576b\"],[0.6666666666666666,\"#ed7953\"],[0.7777777777777778,\"#fb9f3a\"],[0.8888888888888888,\"#fdca26\"],[1.0,\"#f0f921\"]]}],\"heatmap\":[{\"type\":\"heatmap\",\"colorbar\":{\"outlinewidth\":0,\"ticks\":\"\"},\"colorscale\":[[0.0,\"#0d0887\"],[0.1111111111111111,\"#46039f\"],[0.2222222222222222,\"#7201a8\"],[0.3333333333333333,\"#9c179e\"],[0.4444444444444444,\"#bd3786\"],[0.5555555555555556,\"#d8576b\"],[0.6666666666666666,\"#ed7953\"],[0.7777777777777778,\"#fb9f3a\"],[0.8888888888888888,\"#fdca26\"],[1.0,\"#f0f921\"]]}],\"heatmapgl\":[{\"type\":\"heatmapgl\",\"colorbar\":{\"outlinewidth\":0,\"ticks\":\"\"},\"colorscale\":[[0.0,\"#0d0887\"],[0.1111111111111111,\"#46039f\"],[0.2222222222222222,\"#7201a8\"],[0.3333333333333333,\"#9c179e\"],[0.4444444444444444,\"#bd3786\"],[0.5555555555555556,\"#d8576b\"],[0.6666666666666666,\"#ed7953\"],[0.7777777777777778,\"#fb9f3a\"],[0.8888888888888888,\"#fdca26\"],[1.0,\"#f0f921\"]]}],\"contourcarpet\":[{\"type\":\"contourcarpet\",\"colorbar\":{\"outlinewidth\":0,\"ticks\":\"\"}}],\"contour\":[{\"type\":\"contour\",\"colorbar\":{\"outlinewidth\":0,\"ticks\":\"\"},\"colorscale\":[[0.0,\"#0d0887\"],[0.1111111111111111,\"#46039f\"],[0.2222222222222222,\"#7201a8\"],[0.3333333333333333,\"#9c179e\"],[0.4444444444444444,\"#bd3786\"],[0.5555555555555556,\"#d8576b\"],[0.6666666666666666,\"#ed7953\"],[0.7777777777777778,\"#fb9f3a\"],[0.8888888888888888,\"#fdca26\"],[1.0,\"#f0f921\"]]}],\"surface\":[{\"type\":\"surface\",\"colorbar\":{\"outlinewidth\":0,\"ticks\":\"\"},\"colorscale\":[[0.0,\"#0d0887\"],[0.1111111111111111,\"#46039f\"],[0.2222222222222222,\"#7201a8\"],[0.3333333333333333,\"#9c179e\"],[0.4444444444444444,\"#bd3786\"],[0.5555555555555556,\"#d8576b\"],[0.6666666666666666,\"#ed7953\"],[0.7777777777777778,\"#fb9f3a\"],[0.8888888888888888,\"#fdca26\"],[1.0,\"#f0f921\"]]}],\"mesh3d\":[{\"type\":\"mesh3d\",\"colorbar\":{\"outlinewidth\":0,\"ticks\":\"\"}}],\"scatter\":[{\"fillpattern\":{\"fillmode\":\"overlay\",\"size\":10,\"solidity\":0.2},\"type\":\"scatter\"}],\"parcoords\":[{\"type\":\"parcoords\",\"line\":{\"colorbar\":{\"outlinewidth\":0,\"ticks\":\"\"}}}],\"scatterpolargl\":[{\"type\":\"scatterpolargl\",\"marker\":{\"colorbar\":{\"outlinewidth\":0,\"ticks\":\"\"}}}],\"bar\":[{\"error_x\":{\"color\":\"#2a3f5f\"},\"error_y\":{\"color\":\"#2a3f5f\"},\"marker\":{\"line\":{\"color\":\"#E5ECF6\",\"width\":0.5},\"pattern\":{\"fillmode\":\"overlay\",\"size\":10,\"solidity\":0.2}},\"type\":\"bar\"}],\"scattergeo\":[{\"type\":\"scattergeo\",\"marker\":{\"colorbar\":{\"outlinewidth\":0,\"ticks\":\"\"}}}],\"scatterpolar\":[{\"type\":\"scatterpolar\",\"marker\":{\"colorbar\":{\"outlinewidth\":0,\"ticks\":\"\"}}}],\"histogram\":[{\"marker\":{\"pattern\":{\"fillmode\":\"overlay\",\"size\":10,\"solidity\":0.2}},\"type\":\"histogram\"}],\"scattergl\":[{\"type\":\"scattergl\",\"marker\":{\"colorbar\":{\"outlinewidth\":0,\"ticks\":\"\"}}}],\"scatter3d\":[{\"type\":\"scatter3d\",\"line\":{\"colorbar\":{\"outlinewidth\":0,\"ticks\":\"\"}},\"marker\":{\"colorbar\":{\"outlinewidth\":0,\"ticks\":\"\"}}}],\"scattermapbox\":[{\"type\":\"scattermapbox\",\"marker\":{\"colorbar\":{\"outlinewidth\":0,\"ticks\":\"\"}}}],\"scatterternary\":[{\"type\":\"scatterternary\",\"marker\":{\"colorbar\":{\"outlinewidth\":0,\"ticks\":\"\"}}}],\"scattercarpet\":[{\"type\":\"scattercarpet\",\"marker\":{\"colorbar\":{\"outlinewidth\":0,\"ticks\":\"\"}}}],\"carpet\":[{\"aaxis\":{\"endlinecolor\":\"#2a3f5f\",\"gridcolor\":\"white\",\"linecolor\":\"white\",\"minorgridcolor\":\"white\",\"startlinecolor\":\"#2a3f5f\"},\"baxis\":{\"endlinecolor\":\"#2a3f5f\",\"gridcolor\":\"white\",\"linecolor\":\"white\",\"minorgridcolor\":\"white\",\"startlinecolor\":\"#2a3f5f\"},\"type\":\"carpet\"}],\"table\":[{\"cells\":{\"fill\":{\"color\":\"#EBF0F8\"},\"line\":{\"color\":\"white\"}},\"header\":{\"fill\":{\"color\":\"#C8D4E3\"},\"line\":{\"color\":\"white\"}},\"type\":\"table\"}],\"barpolar\":[{\"marker\":{\"line\":{\"color\":\"#E5ECF6\",\"width\":0.5},\"pattern\":{\"fillmode\":\"overlay\",\"size\":10,\"solidity\":0.2}},\"type\":\"barpolar\"}],\"pie\":[{\"automargin\":true,\"type\":\"pie\"}]},\"layout\":{\"autotypenumbers\":\"strict\",\"colorway\":[\"#636efa\",\"#EF553B\",\"#00cc96\",\"#ab63fa\",\"#FFA15A\",\"#19d3f3\",\"#FF6692\",\"#B6E880\",\"#FF97FF\",\"#FECB52\"],\"font\":{\"color\":\"#2a3f5f\"},\"hovermode\":\"closest\",\"hoverlabel\":{\"align\":\"left\"},\"paper_bgcolor\":\"white\",\"plot_bgcolor\":\"#E5ECF6\",\"polar\":{\"bgcolor\":\"#E5ECF6\",\"angularaxis\":{\"gridcolor\":\"white\",\"linecolor\":\"white\",\"ticks\":\"\"},\"radialaxis\":{\"gridcolor\":\"white\",\"linecolor\":\"white\",\"ticks\":\"\"}},\"ternary\":{\"bgcolor\":\"#E5ECF6\",\"aaxis\":{\"gridcolor\":\"white\",\"linecolor\":\"white\",\"ticks\":\"\"},\"baxis\":{\"gridcolor\":\"white\",\"linecolor\":\"white\",\"ticks\":\"\"},\"caxis\":{\"gridcolor\":\"white\",\"linecolor\":\"white\",\"ticks\":\"\"}},\"coloraxis\":{\"colorbar\":{\"outlinewidth\":0,\"ticks\":\"\"}},\"colorscale\":{\"sequential\":[[0.0,\"#0d0887\"],[0.1111111111111111,\"#46039f\"],[0.2222222222222222,\"#7201a8\"],[0.3333333333333333,\"#9c179e\"],[0.4444444444444444,\"#bd3786\"],[0.5555555555555556,\"#d8576b\"],[0.6666666666666666,\"#ed7953\"],[0.7777777777777778,\"#fb9f3a\"],[0.8888888888888888,\"#fdca26\"],[1.0,\"#f0f921\"]],\"sequentialminus\":[[0.0,\"#0d0887\"],[0.1111111111111111,\"#46039f\"],[0.2222222222222222,\"#7201a8\"],[0.3333333333333333,\"#9c179e\"],[0.4444444444444444,\"#bd3786\"],[0.5555555555555556,\"#d8576b\"],[0.6666666666666666,\"#ed7953\"],[0.7777777777777778,\"#fb9f3a\"],[0.8888888888888888,\"#fdca26\"],[1.0,\"#f0f921\"]],\"diverging\":[[0,\"#8e0152\"],[0.1,\"#c51b7d\"],[0.2,\"#de77ae\"],[0.3,\"#f1b6da\"],[0.4,\"#fde0ef\"],[0.5,\"#f7f7f7\"],[0.6,\"#e6f5d0\"],[0.7,\"#b8e186\"],[0.8,\"#7fbc41\"],[0.9,\"#4d9221\"],[1,\"#276419\"]]},\"xaxis\":{\"gridcolor\":\"white\",\"linecolor\":\"white\",\"ticks\":\"\",\"title\":{\"standoff\":15},\"zerolinecolor\":\"white\",\"automargin\":true,\"zerolinewidth\":2},\"yaxis\":{\"gridcolor\":\"white\",\"linecolor\":\"white\",\"ticks\":\"\",\"title\":{\"standoff\":15},\"zerolinecolor\":\"white\",\"automargin\":true,\"zerolinewidth\":2},\"scene\":{\"xaxis\":{\"backgroundcolor\":\"#E5ECF6\",\"gridcolor\":\"white\",\"linecolor\":\"white\",\"showbackground\":true,\"ticks\":\"\",\"zerolinecolor\":\"white\",\"gridwidth\":2},\"yaxis\":{\"backgroundcolor\":\"#E5ECF6\",\"gridcolor\":\"white\",\"linecolor\":\"white\",\"showbackground\":true,\"ticks\":\"\",\"zerolinecolor\":\"white\",\"gridwidth\":2},\"zaxis\":{\"backgroundcolor\":\"#E5ECF6\",\"gridcolor\":\"white\",\"linecolor\":\"white\",\"showbackground\":true,\"ticks\":\"\",\"zerolinecolor\":\"white\",\"gridwidth\":2}},\"shapedefaults\":{\"line\":{\"color\":\"#2a3f5f\"}},\"annotationdefaults\":{\"arrowcolor\":\"#2a3f5f\",\"arrowhead\":0,\"arrowwidth\":1},\"geo\":{\"bgcolor\":\"white\",\"landcolor\":\"#E5ECF6\",\"subunitcolor\":\"white\",\"showland\":true,\"showlakes\":true,\"lakecolor\":\"white\"},\"title\":{\"x\":0.05},\"mapbox\":{\"style\":\"light\"}}},\"xaxis\":{\"title\":{\"text\":\"Epoch\"}},\"yaxis\":{\"title\":{\"text\":\"Loss\"}},\"title\":{\"text\":\"Evolution of Loss across Epochs\",\"font\":{\"size\":20},\"x\":0.5},\"height\":500,\"width\":1200},                        {\"responsive\": true}                    ).then(function(){\n",
              "                            \n",
              "var gd = document.getElementById('a18bab58-5491-446e-8a02-009bda3c2a57');\n",
              "var x = new MutationObserver(function (mutations, observer) {{\n",
              "        var display = window.getComputedStyle(gd).display;\n",
              "        if (!display || display === 'none') {{\n",
              "            console.log([gd, 'removed!']);\n",
              "            Plotly.purge(gd);\n",
              "            observer.disconnect();\n",
              "        }}\n",
              "}});\n",
              "\n",
              "// Listen for the removal of the full notebook cells\n",
              "var notebookContainer = gd.closest('#notebook-container');\n",
              "if (notebookContainer) {{\n",
              "    x.observe(notebookContainer, {childList: true});\n",
              "}}\n",
              "\n",
              "// Listen for the clearing of the current output cell\n",
              "var outputEl = gd.closest('.output');\n",
              "if (outputEl) {{\n",
              "    x.observe(outputEl, {childList: true});\n",
              "}}\n",
              "\n",
              "                        })                };                            </script>        </div>\n",
              "</body>\n",
              "</html>"
            ]
          },
          "metadata": {},
          "output_type": "display_data"
        }
      ],
      "source": [
        "plot_metrics(metric=\"masked_accuracy\")\n",
        "plot_metrics()"
      ]
    },
    {
      "cell_type": "markdown",
      "metadata": {
        "id": "3ZxQzcbFuUaF"
      },
      "source": [
        "**Images for GitHub**"
      ]
    },
    {
      "cell_type": "code",
      "execution_count": null,
      "metadata": {
        "colab": {
          "base_uri": "https://localhost:8080/",
          "height": 801
        },
        "id": "jU2ln7oba0bo",
        "outputId": "4e5a4495-db79-4ab6-babc-f6716cb4f9dc"
      },
      "outputs": [
        {
          "data": {
            "image/png": "[encoded data removed]"
          },
          "metadata": {},
          "output_type": "display_data"
        },
        {
          "data": {
            "image/png": "[encoded data removed]"
          },
          "metadata": {},
          "output_type": "display_data"
        }
      ],
      "source": [
        "plot_metrics(renderer=\"png\", metric=\"masked_accuracy\")\n",
        "plot_metrics(renderer=\"png\")"
      ]
    },
    {
      "cell_type": "markdown",
      "metadata": {
        "id": "9NhEDFT-uiav"
      },
      "source": [
        "## **Predictions with the Trained Model**"
      ]
    },
    {
      "cell_type": "markdown",
      "metadata": {
        "id": "XGRxndUeFlnR"
      },
      "source": [
        "**Load the trained model and the testing dataframe**"
      ]
    },
    {
      "cell_type": "code",
      "execution_count": 19,
      "metadata": {
        "colab": {
          "base_uri": "https://localhost:8080/"
        },
        "id": "AMfOhnVovZl2",
        "outputId": "6fda8175-ebe4-48c2-8128-3b0770f540b5"
      },
      "outputs": [
        {
          "name": "stderr",
          "output_type": "stream",
          "text": [
            "All model checkpoint layers were used when initializing TFBertForTokenClassification.\n",
            "\n",
            "All the layers of TFBertForTokenClassification were initialized from the model checkpoint at /content/drive/MyDrive/models/NER_BERT_Kaggle.\n",
            "If your task is similar to the task the model of the checkpoint was trained on, you can already use TFBertForTokenClassification for predictions without further training.\n"
          ]
        }
      ],
      "source": [
        "model = TFAutoModelForTokenClassification.from_pretrained(trained_model_path, num_labels=17)\n",
        "df_test = pd.read_json(\"/content/drive/MyDrive/Datasets/test_dataset_ner.json\")"
      ]
    },
    {
      "cell_type": "markdown",
      "metadata": {
        "id": "AzF6HXJRFqFc"
      },
      "source": [
        "**Function to predict named entities**"
      ]
    },
    {
      "cell_type": "code",
      "execution_count": 20,
      "metadata": {
        "id": "lNaog1WpyrdE"
      },
      "outputs": [],
      "source": [
        "def predict_label(sentences, labels=None, random=True, indice=0):\n",
        "  indice = np.random.choice(len(sentences)) if random else indice\n",
        "  sentence = sentences[indice]\n",
        "\n",
        "  # For other sentences that are not in the test set\n",
        "  if type(sentence) == str:\n",
        "    sentence = sentence.split(\" \")\n",
        "\n",
        "  input_ids, attention_mask, word_ids = encoder_x(sentence, return_tensors=\"tf\")\n",
        "\n",
        "  # Mask to reverse the alignment of predicted label tokenization\n",
        "  mask = [i for i, id in enumerate(word_ids) if (id != None) and (id not in word_ids[:i])]\n",
        "\n",
        "  label_ids_pred = model(input_ids, attention_mask).logits.numpy()\n",
        "  label_ids_pred = np.argmax(label_ids_pred, axis=-1)[0]\n",
        "  label_ids_pred = label_ids_pred[mask]\n",
        "  label_pred = encoder_y.sequence_to_text(label_ids_pred, join=False)\n",
        "\n",
        "  display(HTML(f\"<b>Sentence:</b> {' '.join(sentence)}<br><br>\"))\n",
        "  html_content = \"\"\"\n",
        "  <table style=\"border-collapse: separate; border-spacing: 15px; text-align: center;\">\n",
        "    <tr>\n",
        "      <th>Word</th>\n",
        "      <th>Predicted Tag</th>\n",
        "  \"\"\"\n",
        "\n",
        "  if labels is not None:\n",
        "    label_colors = {\"incorrect\":\"red\", \"correct\":\"green\"}\n",
        "    label = labels[indice]\n",
        "    html_content += \"<th>True Tag</th>\"\n",
        "  html_content += \"</tr>\"\n",
        "\n",
        "  for i in range(len(label_pred)):\n",
        "    cond = label[i] if labels is not None  else label_pred[i]\n",
        "    if cond != \"O\":\n",
        "\n",
        "      html_content += f\"\"\"\n",
        "        <tr>\n",
        "          <td>{sentence[i]}</td>\n",
        "          <td>{label_pred[i]}</td>\n",
        "        \"\"\"\n",
        "\n",
        "      if labels is not None:\n",
        "        result = \"correct\" if label[i] == label_pred[i]  else \"incorrect\"\n",
        "\n",
        "        html_content += f\"\"\"\n",
        "          <td>{label[i]}</td>\n",
        "          <td><b><span style=\"color:{label_colors[result]}\">{result}</span></b></td>\n",
        "        \"\"\"\n",
        "      html_content += \"</tr>\"\n",
        "\n",
        "  html_content += \"</table>\"\n",
        "  display(HTML(html_content))"
      ]
    },
    {
      "cell_type": "markdown",
      "metadata": {
        "id": "yGcbjPzn_Cp5"
      },
      "source": [
        "### **Test Dataset**"
      ]
    },
    {
      "cell_type": "code",
      "execution_count": null,
      "metadata": {
        "id": "yUm0T0s2_KJM"
      },
      "outputs": [],
      "source": [
        "sentences, labels = df_test.Word.values, df_test.Tag.values"
      ]
    },
    {
      "cell_type": "code",
      "execution_count": null,
      "metadata": {
        "colab": {
          "base_uri": "https://localhost:8080/",
          "height": 273
        },
        "id": "azel446wKijq",
        "outputId": "f0a4bca1-b98c-4f47-ed3c-9e574a9b9800"
      },
      "outputs": [
        {
          "data": {
            "text/html": [
              "<b>Sentence:</b> But Prime Minister Mohamed Ali Gedi said the vote was flawed and must be held again .<br><br>"
            ],
            "text/plain": [
              "<IPython.core.display.HTML object>"
            ]
          },
          "metadata": {},
          "output_type": "display_data"
        },
        {
          "data": {
            "text/html": [
              "\n",
              "  <table style=\"border-collapse: separate; border-spacing: 15px; text-align: center;\">\n",
              "    <tr>\n",
              "      <th>Word</th>\n",
              "      <th>Predicted Tag</th>\n",
              "  <th>True Tag</th></tr>\n",
              "        <tr>\n",
              "          <td>Prime</td>\n",
              "          <td>B-per</td>\n",
              "        \n",
              "          <td>B-per</td>\n",
              "          <td><b><span style=\"color:green\">correct</span></b></td>\n",
              "        </tr>\n",
              "        <tr>\n",
              "          <td>Minister</td>\n",
              "          <td>I-per</td>\n",
              "        \n",
              "          <td>I-per</td>\n",
              "          <td><b><span style=\"color:green\">correct</span></b></td>\n",
              "        </tr>\n",
              "        <tr>\n",
              "          <td>Mohamed</td>\n",
              "          <td>I-per</td>\n",
              "        \n",
              "          <td>I-per</td>\n",
              "          <td><b><span style=\"color:green\">correct</span></b></td>\n",
              "        </tr>\n",
              "        <tr>\n",
              "          <td>Ali</td>\n",
              "          <td>I-per</td>\n",
              "        \n",
              "          <td>I-per</td>\n",
              "          <td><b><span style=\"color:green\">correct</span></b></td>\n",
              "        </tr>\n",
              "        <tr>\n",
              "          <td>Gedi</td>\n",
              "          <td>I-per</td>\n",
              "        \n",
              "          <td>I-per</td>\n",
              "          <td><b><span style=\"color:green\">correct</span></b></td>\n",
              "        </tr></table>"
            ],
            "text/plain": [
              "<IPython.core.display.HTML object>"
            ]
          },
          "metadata": {},
          "output_type": "display_data"
        }
      ],
      "source": [
        "predict_label(sentences, labels, random=False)"
      ]
    },
    {
      "cell_type": "code",
      "execution_count": null,
      "metadata": {
        "colab": {
          "base_uri": "https://localhost:8080/",
          "height": 428
        },
        "id": "uWtBkI8e9wX0",
        "outputId": "e822f57c-f77b-4ab8-b9fe-a7b2fb402e32"
      },
      "outputs": [
        {
          "data": {
            "text/html": [
              "<b>Sentence:</b> Palestinian witnesses say Israeli troops shot and killed two Palestinian civilians in separate incidents in the West Bank and Gaza Strip Tuesday .<br><br>"
            ],
            "text/plain": [
              "<IPython.core.display.HTML object>"
            ]
          },
          "metadata": {},
          "output_type": "display_data"
        },
        {
          "data": {
            "text/html": [
              "\n",
              "  <table style=\"border-collapse: separate; border-spacing: 15px; text-align: center;\">\n",
              "    <tr>\n",
              "      <th>Word</th>\n",
              "      <th>Predicted Tag</th>\n",
              "  <th>True Tag</th></tr>\n",
              "        <tr>\n",
              "          <td>Palestinian</td>\n",
              "          <td>B-gpe</td>\n",
              "        \n",
              "          <td>B-gpe</td>\n",
              "          <td><b><span style=\"color:green\">correct</span></b></td>\n",
              "        </tr>\n",
              "        <tr>\n",
              "          <td>Israeli</td>\n",
              "          <td>B-gpe</td>\n",
              "        \n",
              "          <td>B-gpe</td>\n",
              "          <td><b><span style=\"color:green\">correct</span></b></td>\n",
              "        </tr>\n",
              "        <tr>\n",
              "          <td>Palestinian</td>\n",
              "          <td>B-gpe</td>\n",
              "        \n",
              "          <td>B-gpe</td>\n",
              "          <td><b><span style=\"color:green\">correct</span></b></td>\n",
              "        </tr>\n",
              "        <tr>\n",
              "          <td>West</td>\n",
              "          <td>B-org</td>\n",
              "        \n",
              "          <td>B-org</td>\n",
              "          <td><b><span style=\"color:green\">correct</span></b></td>\n",
              "        </tr>\n",
              "        <tr>\n",
              "          <td>Bank</td>\n",
              "          <td>I-org</td>\n",
              "        \n",
              "          <td>I-org</td>\n",
              "          <td><b><span style=\"color:green\">correct</span></b></td>\n",
              "        </tr>\n",
              "        <tr>\n",
              "          <td>and</td>\n",
              "          <td>I-org</td>\n",
              "        \n",
              "          <td>I-org</td>\n",
              "          <td><b><span style=\"color:green\">correct</span></b></td>\n",
              "        </tr>\n",
              "        <tr>\n",
              "          <td>Gaza</td>\n",
              "          <td>I-org</td>\n",
              "        \n",
              "          <td>I-org</td>\n",
              "          <td><b><span style=\"color:green\">correct</span></b></td>\n",
              "        </tr>\n",
              "        <tr>\n",
              "          <td>Strip</td>\n",
              "          <td>I-org</td>\n",
              "        \n",
              "          <td>I-org</td>\n",
              "          <td><b><span style=\"color:green\">correct</span></b></td>\n",
              "        </tr>\n",
              "        <tr>\n",
              "          <td>Tuesday</td>\n",
              "          <td>B-tim</td>\n",
              "        \n",
              "          <td>B-tim</td>\n",
              "          <td><b><span style=\"color:green\">correct</span></b></td>\n",
              "        </tr></table>"
            ],
            "text/plain": [
              "<IPython.core.display.HTML object>"
            ]
          },
          "metadata": {},
          "output_type": "display_data"
        }
      ],
      "source": [
        "predict_label(sentences, labels)"
      ]
    },
    {
      "cell_type": "code",
      "execution_count": null,
      "metadata": {
        "colab": {
          "base_uri": "https://localhost:8080/",
          "height": 325
        },
        "id": "TtHtgY9QuT8K",
        "outputId": "7e204f95-21b4-4c51-827d-c7bc6e2b0fd9"
      },
      "outputs": [
        {
          "data": {
            "text/html": [
              "<b>Sentence:</b> The rebels , generally called Ex-FAR ( members of the former Rwandan army ) and Interahamwe , are mostly responsible for the 1994 Rwandan genocide that killed about 8,00,000 people during a three-month period .<br><br>"
            ],
            "text/plain": [
              "<IPython.core.display.HTML object>"
            ]
          },
          "metadata": {},
          "output_type": "display_data"
        },
        {
          "data": {
            "text/html": [
              "\n",
              "  <table style=\"border-collapse: separate; border-spacing: 15px; text-align: center;\">\n",
              "    <tr>\n",
              "      <th>Word</th>\n",
              "      <th>Predicted Tag</th>\n",
              "  <th>True Tag</th></tr>\n",
              "        <tr>\n",
              "          <td>Rwandan</td>\n",
              "          <td>B-gpe</td>\n",
              "        \n",
              "          <td>B-gpe</td>\n",
              "          <td><b><span style=\"color:green\">correct</span></b></td>\n",
              "        </tr>\n",
              "        <tr>\n",
              "          <td>Interahamwe</td>\n",
              "          <td>B-geo</td>\n",
              "        \n",
              "          <td>B-geo</td>\n",
              "          <td><b><span style=\"color:green\">correct</span></b></td>\n",
              "        </tr>\n",
              "        <tr>\n",
              "          <td>1994</td>\n",
              "          <td>B-tim</td>\n",
              "        \n",
              "          <td>B-tim</td>\n",
              "          <td><b><span style=\"color:green\">correct</span></b></td>\n",
              "        </tr>\n",
              "        <tr>\n",
              "          <td>Rwandan</td>\n",
              "          <td>B-gpe</td>\n",
              "        \n",
              "          <td>B-gpe</td>\n",
              "          <td><b><span style=\"color:green\">correct</span></b></td>\n",
              "        </tr>\n",
              "        <tr>\n",
              "          <td>three-month</td>\n",
              "          <td>B-tim</td>\n",
              "        \n",
              "          <td>B-tim</td>\n",
              "          <td><b><span style=\"color:green\">correct</span></b></td>\n",
              "        </tr>\n",
              "        <tr>\n",
              "          <td>period</td>\n",
              "          <td>I-tim</td>\n",
              "        \n",
              "          <td>I-tim</td>\n",
              "          <td><b><span style=\"color:green\">correct</span></b></td>\n",
              "        </tr></table>"
            ],
            "text/plain": [
              "<IPython.core.display.HTML object>"
            ]
          },
          "metadata": {},
          "output_type": "display_data"
        }
      ],
      "source": [
        "predict_label(sentences, labels, random=False, indice=109)"
      ]
    },
    {
      "cell_type": "code",
      "execution_count": null,
      "metadata": {
        "colab": {
          "base_uri": "https://localhost:8080/",
          "height": 101
        },
        "id": "szNw8_-oEilE",
        "outputId": "6560bc2a-3108-4dcc-f6de-6fc0e1dfe25b"
      },
      "outputs": [
        {
          "data": {
            "text/html": [
              "<b>Sentence:</b> He said such analysis could take time .<br><br>"
            ],
            "text/plain": [
              "<IPython.core.display.HTML object>"
            ]
          },
          "metadata": {},
          "output_type": "display_data"
        },
        {
          "data": {
            "text/html": [
              "\n",
              "  <table style=\"border-collapse: separate; border-spacing: 15px; text-align: center;\">\n",
              "    <tr>\n",
              "      <th>Word</th>\n",
              "      <th>Predicted Tag</th>\n",
              "  <th>True Tag</th></tr></table>"
            ],
            "text/plain": [
              "<IPython.core.display.HTML object>"
            ]
          },
          "metadata": {},
          "output_type": "display_data"
        }
      ],
      "source": [
        "predict_label(sentences, labels)"
      ]
    },
    {
      "cell_type": "code",
      "execution_count": null,
      "metadata": {
        "colab": {
          "base_uri": "https://localhost:8080/",
          "height": 307
        },
        "id": "SKHGjb38unKO",
        "outputId": "0cfdfd95-cc70-4c8c-d159-658673a2756a"
      },
      "outputs": [
        {
          "data": {
            "text/html": [
              "<b>Sentence:</b> Niger hosts Sierra Leone as it pushes to qualify for the 2012 tournament in Equatorial Guinea and Gabon .<br><br>"
            ],
            "text/plain": [
              "<IPython.core.display.HTML object>"
            ]
          },
          "metadata": {},
          "output_type": "display_data"
        },
        {
          "data": {
            "text/html": [
              "\n",
              "  <table style=\"border-collapse: separate; border-spacing: 15px; text-align: center;\">\n",
              "    <tr>\n",
              "      <th>Word</th>\n",
              "      <th>Predicted Tag</th>\n",
              "  <th>True Tag</th></tr>\n",
              "        <tr>\n",
              "          <td>Niger</td>\n",
              "          <td>B-gpe</td>\n",
              "        \n",
              "          <td>B-gpe</td>\n",
              "          <td><b><span style=\"color:green\">correct</span></b></td>\n",
              "        </tr>\n",
              "        <tr>\n",
              "          <td>Sierra</td>\n",
              "          <td>B-per</td>\n",
              "        \n",
              "          <td>B-per</td>\n",
              "          <td><b><span style=\"color:green\">correct</span></b></td>\n",
              "        </tr>\n",
              "        <tr>\n",
              "          <td>Leone</td>\n",
              "          <td>I-per</td>\n",
              "        \n",
              "          <td>I-per</td>\n",
              "          <td><b><span style=\"color:green\">correct</span></b></td>\n",
              "        </tr>\n",
              "        <tr>\n",
              "          <td>Equatorial</td>\n",
              "          <td>B-geo</td>\n",
              "        \n",
              "          <td>B-geo</td>\n",
              "          <td><b><span style=\"color:green\">correct</span></b></td>\n",
              "        </tr>\n",
              "        <tr>\n",
              "          <td>Guinea</td>\n",
              "          <td>I-geo</td>\n",
              "        \n",
              "          <td>I-geo</td>\n",
              "          <td><b><span style=\"color:green\">correct</span></b></td>\n",
              "        </tr>\n",
              "        <tr>\n",
              "          <td>Gabon</td>\n",
              "          <td>B-geo</td>\n",
              "        \n",
              "          <td>B-geo</td>\n",
              "          <td><b><span style=\"color:green\">correct</span></b></td>\n",
              "        </tr></table>"
            ],
            "text/plain": [
              "<IPython.core.display.HTML object>"
            ]
          },
          "metadata": {},
          "output_type": "display_data"
        }
      ],
      "source": [
        "predict_label(sentences, labels, random=False, indice=-2)"
      ]
    },
    {
      "cell_type": "code",
      "execution_count": null,
      "metadata": {
        "colab": {
          "base_uri": "https://localhost:8080/",
          "height": 496
        },
        "id": "1GojKUpOP3Z3",
        "outputId": "f4481baf-645c-40cc-ec50-82c19c7fd1ee"
      },
      "outputs": [
        {
          "data": {
            "text/html": [
              "<b>Sentence:</b> German Chancellor Gerhard Schroeder and his Christian Democratic Union challenger , Angela Merkel , are so close together in the latest pre-election polls that they have both vowed to break with tradition and campaign straight through the end of voting on Sunday evening .<br><br>"
            ],
            "text/plain": [
              "<IPython.core.display.HTML object>"
            ]
          },
          "metadata": {},
          "output_type": "display_data"
        },
        {
          "data": {
            "text/html": [
              "\n",
              "  <table style=\"border-collapse: separate; border-spacing: 15px; text-align: center;\">\n",
              "    <tr>\n",
              "      <th>Word</th>\n",
              "      <th>Predicted Tag</th>\n",
              "  <th>True Tag</th></tr>\n",
              "        <tr>\n",
              "          <td>German</td>\n",
              "          <td>B-gpe</td>\n",
              "        \n",
              "          <td>B-gpe</td>\n",
              "          <td><b><span style=\"color:green\">correct</span></b></td>\n",
              "        </tr>\n",
              "        <tr>\n",
              "          <td>Chancellor</td>\n",
              "          <td>B-per</td>\n",
              "        \n",
              "          <td>B-per</td>\n",
              "          <td><b><span style=\"color:green\">correct</span></b></td>\n",
              "        </tr>\n",
              "        <tr>\n",
              "          <td>Gerhard</td>\n",
              "          <td>I-per</td>\n",
              "        \n",
              "          <td>I-per</td>\n",
              "          <td><b><span style=\"color:green\">correct</span></b></td>\n",
              "        </tr>\n",
              "        <tr>\n",
              "          <td>Schroeder</td>\n",
              "          <td>I-per</td>\n",
              "        \n",
              "          <td>I-per</td>\n",
              "          <td><b><span style=\"color:green\">correct</span></b></td>\n",
              "        </tr>\n",
              "        <tr>\n",
              "          <td>Christian</td>\n",
              "          <td>B-org</td>\n",
              "        \n",
              "          <td>B-org</td>\n",
              "          <td><b><span style=\"color:green\">correct</span></b></td>\n",
              "        </tr>\n",
              "        <tr>\n",
              "          <td>Democratic</td>\n",
              "          <td>I-org</td>\n",
              "        \n",
              "          <td>I-org</td>\n",
              "          <td><b><span style=\"color:green\">correct</span></b></td>\n",
              "        </tr>\n",
              "        <tr>\n",
              "          <td>Union</td>\n",
              "          <td>I-org</td>\n",
              "        \n",
              "          <td>I-org</td>\n",
              "          <td><b><span style=\"color:green\">correct</span></b></td>\n",
              "        </tr>\n",
              "        <tr>\n",
              "          <td>Angela</td>\n",
              "          <td>B-per</td>\n",
              "        \n",
              "          <td>B-per</td>\n",
              "          <td><b><span style=\"color:green\">correct</span></b></td>\n",
              "        </tr>\n",
              "        <tr>\n",
              "          <td>Merkel</td>\n",
              "          <td>I-per</td>\n",
              "        \n",
              "          <td>I-per</td>\n",
              "          <td><b><span style=\"color:green\">correct</span></b></td>\n",
              "        </tr>\n",
              "        <tr>\n",
              "          <td>Sunday</td>\n",
              "          <td>B-tim</td>\n",
              "        \n",
              "          <td>B-tim</td>\n",
              "          <td><b><span style=\"color:green\">correct</span></b></td>\n",
              "        </tr>\n",
              "        <tr>\n",
              "          <td>evening</td>\n",
              "          <td>I-tim</td>\n",
              "        \n",
              "          <td>I-tim</td>\n",
              "          <td><b><span style=\"color:green\">correct</span></b></td>\n",
              "        </tr></table>"
            ],
            "text/plain": [
              "<IPython.core.display.HTML object>"
            ]
          },
          "metadata": {},
          "output_type": "display_data"
        }
      ],
      "source": [
        "# The model predicted all tags correctly\n",
        "predict_label(sentences, labels, random=False, indice=978)"
      ]
    },
    {
      "cell_type": "code",
      "execution_count": null,
      "metadata": {
        "colab": {
          "base_uri": "https://localhost:8080/",
          "height": 204
        },
        "id": "iuyimgMPK8hy",
        "outputId": "521ef3cb-84c5-43ac-9549-bd8851bb71e8"
      },
      "outputs": [
        {
          "data": {
            "text/html": [
              "<b>Sentence:</b> Diaz-Balart told the Miami Herald newspaper that the policy should be eliminated .<br><br>"
            ],
            "text/plain": [
              "<IPython.core.display.HTML object>"
            ]
          },
          "metadata": {},
          "output_type": "display_data"
        },
        {
          "data": {
            "text/html": [
              "\n",
              "  <table style=\"border-collapse: separate; border-spacing: 15px; text-align: center;\">\n",
              "    <tr>\n",
              "      <th>Word</th>\n",
              "      <th>Predicted Tag</th>\n",
              "  <th>True Tag</th></tr>\n",
              "        <tr>\n",
              "          <td>Diaz-Balart</td>\n",
              "          <td>B-per</td>\n",
              "        \n",
              "          <td>B-per</td>\n",
              "          <td><b><span style=\"color:green\">correct</span></b></td>\n",
              "        </tr>\n",
              "        <tr>\n",
              "          <td>Miami</td>\n",
              "          <td>B-geo</td>\n",
              "        \n",
              "          <td>B-art</td>\n",
              "          <td><b><span style=\"color:red\">incorrect</span></b></td>\n",
              "        </tr>\n",
              "        <tr>\n",
              "          <td>Herald</td>\n",
              "          <td>I-geo</td>\n",
              "        \n",
              "          <td>I-art</td>\n",
              "          <td><b><span style=\"color:red\">incorrect</span></b></td>\n",
              "        </tr></table>"
            ],
            "text/plain": [
              "<IPython.core.display.HTML object>"
            ]
          },
          "metadata": {},
          "output_type": "display_data"
        }
      ],
      "source": [
        "predict_label(sentences, labels, random=False, indice=2093)"
      ]
    },
    {
      "cell_type": "markdown",
      "metadata": {
        "id": "E4kWofXv_HYT"
      },
      "source": [
        "### **Other Sentences**"
      ]
    },
    {
      "cell_type": "code",
      "execution_count": 21,
      "metadata": {
        "colab": {
          "base_uri": "https://localhost:8080/",
          "height": 462
        },
        "id": "n4wASFrL-i7k",
        "outputId": "acf63769-c44e-4492-b252-57318ac1cc10"
      },
      "outputs": [
        {
          "data": {
            "text/html": [
              "<b>Sentence:</b> George Smith , the White House director of trade and manufacturing policy of U.S , said in an interview on Sunday morning that the White House was working to prepare for the possibility of a second wave of the coronavirus in the fall .<br><br>"
            ],
            "text/plain": [
              "<IPython.core.display.HTML object>"
            ]
          },
          "metadata": {},
          "output_type": "display_data"
        },
        {
          "data": {
            "text/html": [
              "\n",
              "  <table style=\"border-collapse: separate; border-spacing: 15px; text-align: center;\">\n",
              "    <tr>\n",
              "      <th>Word</th>\n",
              "      <th>Predicted Tag</th>\n",
              "  </tr>\n",
              "        <tr>\n",
              "          <td>George</td>\n",
              "          <td>B-per</td>\n",
              "        </tr>\n",
              "        <tr>\n",
              "          <td>Smith</td>\n",
              "          <td>I-per</td>\n",
              "        </tr>\n",
              "        <tr>\n",
              "          <td>White</td>\n",
              "          <td>B-org</td>\n",
              "        </tr>\n",
              "        <tr>\n",
              "          <td>House</td>\n",
              "          <td>I-org</td>\n",
              "        </tr>\n",
              "        <tr>\n",
              "          <td>U.S</td>\n",
              "          <td>B-geo</td>\n",
              "        </tr>\n",
              "        <tr>\n",
              "          <td>Sunday</td>\n",
              "          <td>B-tim</td>\n",
              "        </tr>\n",
              "        <tr>\n",
              "          <td>morning</td>\n",
              "          <td>I-tim</td>\n",
              "        </tr>\n",
              "        <tr>\n",
              "          <td>White</td>\n",
              "          <td>B-org</td>\n",
              "        </tr>\n",
              "        <tr>\n",
              "          <td>House</td>\n",
              "          <td>I-org</td>\n",
              "        </tr>\n",
              "        <tr>\n",
              "          <td>fall</td>\n",
              "          <td>B-tim</td>\n",
              "        </tr></table>"
            ],
            "text/plain": [
              "<IPython.core.display.HTML object>"
            ]
          },
          "metadata": {},
          "output_type": "display_data"
        }
      ],
      "source": [
        "# The model also detected 'fall' as a temporal expression\n",
        "\n",
        "sentence = [\"George Smith , the White House director of trade and manufacturing policy of U.S , said in an interview on Sunday morning that the White House was working to prepare for the possibility of a second wave of the coronavirus in the fall .\"]\n",
        "predict_label(sentence)"
      ]
    },
    {
      "cell_type": "code",
      "execution_count": 22,
      "metadata": {
        "colab": {
          "base_uri": "https://localhost:8080/",
          "height": 462
        },
        "id": "_XzK3g58-sXf",
        "outputId": "29e53dce-5154-42ca-dbcf-623f00102b98"
      },
      "outputs": [
        {
          "data": {
            "text/html": [
              "<b>Sentence:</b> In Tokyo , Japan , the United Nations announced on Monday that they will hold a global climate summit in December . The event , which will include representatives from over 150 countries , aims to address the urgent issues of climate change and global warming . UN Secretary-General Anthony Gutierres emphasized the need for immediate action to protect the planet .<br><br>"
            ],
            "text/plain": [
              "<IPython.core.display.HTML object>"
            ]
          },
          "metadata": {},
          "output_type": "display_data"
        },
        {
          "data": {
            "text/html": [
              "\n",
              "  <table style=\"border-collapse: separate; border-spacing: 15px; text-align: center;\">\n",
              "    <tr>\n",
              "      <th>Word</th>\n",
              "      <th>Predicted Tag</th>\n",
              "  </tr>\n",
              "        <tr>\n",
              "          <td>Tokyo</td>\n",
              "          <td>B-geo</td>\n",
              "        </tr>\n",
              "        <tr>\n",
              "          <td>Japan</td>\n",
              "          <td>B-geo</td>\n",
              "        </tr>\n",
              "        <tr>\n",
              "          <td>United</td>\n",
              "          <td>B-org</td>\n",
              "        </tr>\n",
              "        <tr>\n",
              "          <td>Nations</td>\n",
              "          <td>I-org</td>\n",
              "        </tr>\n",
              "        <tr>\n",
              "          <td>Monday</td>\n",
              "          <td>B-tim</td>\n",
              "        </tr>\n",
              "        <tr>\n",
              "          <td>December</td>\n",
              "          <td>B-tim</td>\n",
              "        </tr>\n",
              "        <tr>\n",
              "          <td>UN</td>\n",
              "          <td>B-org</td>\n",
              "        </tr>\n",
              "        <tr>\n",
              "          <td>Secretary-General</td>\n",
              "          <td>I-org</td>\n",
              "        </tr>\n",
              "        <tr>\n",
              "          <td>Anthony</td>\n",
              "          <td>B-per</td>\n",
              "        </tr>\n",
              "        <tr>\n",
              "          <td>Gutierres</td>\n",
              "          <td>I-per</td>\n",
              "        </tr></table>"
            ],
            "text/plain": [
              "<IPython.core.display.HTML object>"
            ]
          },
          "metadata": {},
          "output_type": "display_data"
        }
      ],
      "source": [
        "sentence = [\"In Tokyo , Japan , the United Nations announced on Monday that they will hold a global climate summit in December . The event , which will include representatives from over 150 countries , aims to address the urgent issues of climate change and global warming . UN Secretary-General Anthony Gutierres emphasized the need for immediate action to protect the planet .\"]\n",
        "predict_label(sentence)"
      ]
    },
    {
      "cell_type": "code",
      "execution_count": 25,
      "metadata": {
        "colab": {
          "base_uri": "https://localhost:8080/",
          "height": 599
        },
        "id": "PQi8soy9BEeP",
        "outputId": "50c7b750-2479-400d-8f4c-b2d295e1da44"
      },
      "outputs": [
        {
          "data": {
            "text/html": [
              "<b>Sentence:</b> Barack Obama , the former President of the United States , delivered a speech at the United Nations General Assembly in New York City on Tuesday . He discussed global cooperation in addressing challenges such as climate change , terrorism , and economic inequality . Obama urged world leaders to work together for a better future .<br><br>"
            ],
            "text/plain": [
              "<IPython.core.display.HTML object>"
            ]
          },
          "metadata": {},
          "output_type": "display_data"
        },
        {
          "data": {
            "text/html": [
              "\n",
              "  <table style=\"border-collapse: separate; border-spacing: 15px; text-align: center;\">\n",
              "    <tr>\n",
              "      <th>Word</th>\n",
              "      <th>Predicted Tag</th>\n",
              "  </tr>\n",
              "        <tr>\n",
              "          <td>Barack</td>\n",
              "          <td>B-per</td>\n",
              "        </tr>\n",
              "        <tr>\n",
              "          <td>Obama</td>\n",
              "          <td>I-per</td>\n",
              "        </tr>\n",
              "        <tr>\n",
              "          <td>President</td>\n",
              "          <td>B-per</td>\n",
              "        </tr>\n",
              "        <tr>\n",
              "          <td>United</td>\n",
              "          <td>B-geo</td>\n",
              "        </tr>\n",
              "        <tr>\n",
              "          <td>States</td>\n",
              "          <td>I-geo</td>\n",
              "        </tr>\n",
              "        <tr>\n",
              "          <td>United</td>\n",
              "          <td>B-org</td>\n",
              "        </tr>\n",
              "        <tr>\n",
              "          <td>Nations</td>\n",
              "          <td>I-org</td>\n",
              "        </tr>\n",
              "        <tr>\n",
              "          <td>General</td>\n",
              "          <td>I-org</td>\n",
              "        </tr>\n",
              "        <tr>\n",
              "          <td>Assembly</td>\n",
              "          <td>I-org</td>\n",
              "        </tr>\n",
              "        <tr>\n",
              "          <td>New</td>\n",
              "          <td>B-geo</td>\n",
              "        </tr>\n",
              "        <tr>\n",
              "          <td>York</td>\n",
              "          <td>I-geo</td>\n",
              "        </tr>\n",
              "        <tr>\n",
              "          <td>City</td>\n",
              "          <td>I-geo</td>\n",
              "        </tr>\n",
              "        <tr>\n",
              "          <td>Tuesday</td>\n",
              "          <td>B-tim</td>\n",
              "        </tr>\n",
              "        <tr>\n",
              "          <td>Obama</td>\n",
              "          <td>B-per</td>\n",
              "        </tr></table>"
            ],
            "text/plain": [
              "<IPython.core.display.HTML object>"
            ]
          },
          "metadata": {},
          "output_type": "display_data"
        }
      ],
      "source": [
        "sentence = [\"Barack Obama , the former President of the United States , delivered a speech at the United Nations General Assembly in New York City on Tuesday . He discussed global cooperation in addressing challenges such as climate change , terrorism , and economic inequality . Obama urged world leaders to work together for a better future .\"]\n",
        "predict_label(sentence)"
      ]
    },
    {
      "cell_type": "markdown",
      "metadata": {
        "id": "_ufZpqgDAcQR"
      },
      "source": [
        "**Conclusion:** It can be observed that the model performs quite well in accurately detecting named entities in sentences from the test set, as well as in others not belonging to the Kaggle NER Dataset, even if they are long or complex. It is also evident that the model's predictions improved slightly compared to the bidirectional LSTM model. However, due to the imbalance of the dataset regarding minority tags, the model shows deficiencies in tags with lower frequency in sentences, such as ``B-art`` and ``I-art``. Therefore, while the model is excellent, enhancing its performance will require expanding the training dataset with sentences containing the minority tags to balance them with the other tags."
      ]
    }
  ],
  "metadata": {
    "colab": {
      "provenance": []
    },
    "coursera": {
      "schema_names": [
        "NLPC3-4A"
      ]
    },
    "grader_version": "1",
    "kernelspec": {
      "display_name": "Python 3",
      "name": "python3"
    },
    "language_info": {
      "codemirror_mode": {
        "name": "ipython",
        "version": 3
      },
      "file_extension": ".py",
      "mimetype": "text/x-python",
      "name": "python",
      "nbconvert_exporter": "python",
      "pygments_lexer": "ipython3",
      "version": "3.8.10"
    },
    "widgets": {
      "application/vnd.jupyter.widget-state+json": {
        "2f0f798c15dd40b4af92706e20d41dc4": {
          "model_module": "@jupyter-widgets/controls",
          "model_module_version": "1.5.0",
          "model_name": "DescriptionStyleModel",
          "state": {
            "_model_module": "@jupyter-widgets/controls",
            "_model_module_version": "1.5.0",
            "_model_name": "DescriptionStyleModel",
            "_view_count": null,
            "_view_module": "@jupyter-widgets/base",
            "_view_module_version": "1.2.0",
            "_view_name": "StyleView",
            "description_width": ""
          }
        },
        "315242b2f1244ea8bfdef1673dd854b0": {
          "model_module": "@jupyter-widgets/base",
          "model_module_version": "1.2.0",
          "model_name": "LayoutModel",
          "state": {
            "_model_module": "@jupyter-widgets/base",
            "_model_module_version": "1.2.0",
            "_model_name": "LayoutModel",
            "_view_count": null,
            "_view_module": "@jupyter-widgets/base",
            "_view_module_version": "1.2.0",
            "_view_name": "LayoutView",
            "align_content": null,
            "align_items": null,
            "align_self": null,
            "border": null,
            "bottom": null,
            "display": null,
            "flex": null,
            "flex_flow": null,
            "grid_area": null,
            "grid_auto_columns": null,
            "grid_auto_flow": null,
            "grid_auto_rows": null,
            "grid_column": null,
            "grid_gap": null,
            "grid_row": null,
            "grid_template_areas": null,
            "grid_template_columns": null,
            "grid_template_rows": null,
            "height": null,
            "justify_content": null,
            "justify_items": null,
            "left": null,
            "margin": null,
            "max_height": null,
            "max_width": null,
            "min_height": null,
            "min_width": null,
            "object_fit": null,
            "object_position": null,
            "order": null,
            "overflow": null,
            "overflow_x": null,
            "overflow_y": null,
            "padding": null,
            "right": null,
            "top": null,
            "visibility": null,
            "width": null
          }
        },
        "3484a61b93304e71b3aeda9a1d54a473": {
          "model_module": "@jupyter-widgets/controls",
          "model_module_version": "1.5.0",
          "model_name": "HTMLModel",
          "state": {
            "_dom_classes": [],
            "_model_module": "@jupyter-widgets/controls",
            "_model_module_version": "1.5.0",
            "_model_name": "HTMLModel",
            "_view_count": null,
            "_view_module": "@jupyter-widgets/controls",
            "_view_module_version": "1.5.0",
            "_view_name": "HTMLView",
            "description": "",
            "description_tooltip": null,
            "layout": "IPY_MODEL_e0f8a8b5d0714843a6bc209cee36f52d",
            "placeholder": "​",
            "style": "IPY_MODEL_2f0f798c15dd40b4af92706e20d41dc4",
            "value": " 1.34G/1.34G [00:05&lt;00:00, 255MB/s]"
          }
        },
        "5765b91944284a3e829d2be1f803d0b3": {
          "model_module": "@jupyter-widgets/base",
          "model_module_version": "1.2.0",
          "model_name": "LayoutModel",
          "state": {
            "_model_module": "@jupyter-widgets/base",
            "_model_module_version": "1.2.0",
            "_model_name": "LayoutModel",
            "_view_count": null,
            "_view_module": "@jupyter-widgets/base",
            "_view_module_version": "1.2.0",
            "_view_name": "LayoutView",
            "align_content": null,
            "align_items": null,
            "align_self": null,
            "border": null,
            "bottom": null,
            "display": null,
            "flex": null,
            "flex_flow": null,
            "grid_area": null,
            "grid_auto_columns": null,
            "grid_auto_flow": null,
            "grid_auto_rows": null,
            "grid_column": null,
            "grid_gap": null,
            "grid_row": null,
            "grid_template_areas": null,
            "grid_template_columns": null,
            "grid_template_rows": null,
            "height": null,
            "justify_content": null,
            "justify_items": null,
            "left": null,
            "margin": null,
            "max_height": null,
            "max_width": null,
            "min_height": null,
            "min_width": null,
            "object_fit": null,
            "object_position": null,
            "order": null,
            "overflow": null,
            "overflow_x": null,
            "overflow_y": null,
            "padding": null,
            "right": null,
            "top": null,
            "visibility": null,
            "width": null
          }
        },
        "5bce614ce897449cad147e0de41cff36": {
          "model_module": "@jupyter-widgets/controls",
          "model_module_version": "1.5.0",
          "model_name": "ProgressStyleModel",
          "state": {
            "_model_module": "@jupyter-widgets/controls",
            "_model_module_version": "1.5.0",
            "_model_name": "ProgressStyleModel",
            "_view_count": null,
            "_view_module": "@jupyter-widgets/base",
            "_view_module_version": "1.2.0",
            "_view_name": "StyleView",
            "bar_color": null,
            "description_width": ""
          }
        },
        "79ec9ef6c93c4d13ae6fff5b1b99c37e": {
          "model_module": "@jupyter-widgets/controls",
          "model_module_version": "1.5.0",
          "model_name": "HBoxModel",
          "state": {
            "_dom_classes": [],
            "_model_module": "@jupyter-widgets/controls",
            "_model_module_version": "1.5.0",
            "_model_name": "HBoxModel",
            "_view_count": null,
            "_view_module": "@jupyter-widgets/controls",
            "_view_module_version": "1.5.0",
            "_view_name": "HBoxView",
            "box_style": "",
            "children": [
              "IPY_MODEL_f0583344334644db9533cd28dd8ad508",
              "IPY_MODEL_83d8200ff0a04fb388d26771c78eccc3",
              "IPY_MODEL_3484a61b93304e71b3aeda9a1d54a473"
            ],
            "layout": "IPY_MODEL_da9ef0ac068e4ea380385eaefd881ef2"
          }
        },
        "83d8200ff0a04fb388d26771c78eccc3": {
          "model_module": "@jupyter-widgets/controls",
          "model_module_version": "1.5.0",
          "model_name": "FloatProgressModel",
          "state": {
            "_dom_classes": [],
            "_model_module": "@jupyter-widgets/controls",
            "_model_module_version": "1.5.0",
            "_model_name": "FloatProgressModel",
            "_view_count": null,
            "_view_module": "@jupyter-widgets/controls",
            "_view_module_version": "1.5.0",
            "_view_name": "ProgressView",
            "bar_style": "success",
            "description": "",
            "description_tooltip": null,
            "layout": "IPY_MODEL_315242b2f1244ea8bfdef1673dd854b0",
            "max": 1338695354,
            "min": 0,
            "orientation": "horizontal",
            "style": "IPY_MODEL_5bce614ce897449cad147e0de41cff36",
            "value": 1338695354
          }
        },
        "83ef328f4d9a41a18ac6e0df261a4e61": {
          "model_module": "@jupyter-widgets/controls",
          "model_module_version": "1.5.0",
          "model_name": "DescriptionStyleModel",
          "state": {
            "_model_module": "@jupyter-widgets/controls",
            "_model_module_version": "1.5.0",
            "_model_name": "DescriptionStyleModel",
            "_view_count": null,
            "_view_module": "@jupyter-widgets/base",
            "_view_module_version": "1.2.0",
            "_view_name": "StyleView",
            "description_width": ""
          }
        },
        "da9ef0ac068e4ea380385eaefd881ef2": {
          "model_module": "@jupyter-widgets/base",
          "model_module_version": "1.2.0",
          "model_name": "LayoutModel",
          "state": {
            "_model_module": "@jupyter-widgets/base",
            "_model_module_version": "1.2.0",
            "_model_name": "LayoutModel",
            "_view_count": null,
            "_view_module": "@jupyter-widgets/base",
            "_view_module_version": "1.2.0",
            "_view_name": "LayoutView",
            "align_content": null,
            "align_items": null,
            "align_self": null,
            "border": null,
            "bottom": null,
            "display": null,
            "flex": null,
            "flex_flow": null,
            "grid_area": null,
            "grid_auto_columns": null,
            "grid_auto_flow": null,
            "grid_auto_rows": null,
            "grid_column": null,
            "grid_gap": null,
            "grid_row": null,
            "grid_template_areas": null,
            "grid_template_columns": null,
            "grid_template_rows": null,
            "height": null,
            "justify_content": null,
            "justify_items": null,
            "left": null,
            "margin": null,
            "max_height": null,
            "max_width": null,
            "min_height": null,
            "min_width": null,
            "object_fit": null,
            "object_position": null,
            "order": null,
            "overflow": null,
            "overflow_x": null,
            "overflow_y": null,
            "padding": null,
            "right": null,
            "top": null,
            "visibility": null,
            "width": null
          }
        },
        "e0f8a8b5d0714843a6bc209cee36f52d": {
          "model_module": "@jupyter-widgets/base",
          "model_module_version": "1.2.0",
          "model_name": "LayoutModel",
          "state": {
            "_model_module": "@jupyter-widgets/base",
            "_model_module_version": "1.2.0",
            "_model_name": "LayoutModel",
            "_view_count": null,
            "_view_module": "@jupyter-widgets/base",
            "_view_module_version": "1.2.0",
            "_view_name": "LayoutView",
            "align_content": null,
            "align_items": null,
            "align_self": null,
            "border": null,
            "bottom": null,
            "display": null,
            "flex": null,
            "flex_flow": null,
            "grid_area": null,
            "grid_auto_columns": null,
            "grid_auto_flow": null,
            "grid_auto_rows": null,
            "grid_column": null,
            "grid_gap": null,
            "grid_row": null,
            "grid_template_areas": null,
            "grid_template_columns": null,
            "grid_template_rows": null,
            "height": null,
            "justify_content": null,
            "justify_items": null,
            "left": null,
            "margin": null,
            "max_height": null,
            "max_width": null,
            "min_height": null,
            "min_width": null,
            "object_fit": null,
            "object_position": null,
            "order": null,
            "overflow": null,
            "overflow_x": null,
            "overflow_y": null,
            "padding": null,
            "right": null,
            "top": null,
            "visibility": null,
            "width": null
          }
        },
        "f0583344334644db9533cd28dd8ad508": {
          "model_module": "@jupyter-widgets/controls",
          "model_module_version": "1.5.0",
          "model_name": "HTMLModel",
          "state": {
            "_dom_classes": [],
            "_model_module": "@jupyter-widgets/controls",
            "_model_module_version": "1.5.0",
            "_model_name": "HTMLModel",
            "_view_count": null,
            "_view_module": "@jupyter-widgets/controls",
            "_view_module_version": "1.5.0",
            "_view_name": "HTMLView",
            "description": "",
            "description_tooltip": null,
            "layout": "IPY_MODEL_5765b91944284a3e829d2be1f803d0b3",
            "placeholder": "​",
            "style": "IPY_MODEL_83ef328f4d9a41a18ac6e0df261a4e61",
            "value": "model.safetensors: 100%"
          }
        }
      }
    }
  },
  "nbformat": 4,
  "nbformat_minor": 0
}
